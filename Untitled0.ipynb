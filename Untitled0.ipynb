{
 "metadata": {
  "language": "Julia",
  "name": "",
  "signature": "sha256:87e02e53cb0ec06990da60a09eb03dfaa5f3f7884ebc92daf3ccb4145a891aaf"
 },
 "nbformat": 3,
 "nbformat_minor": 0,
 "worksheets": [
  {
   "cells": [
    {
     "cell_type": "code",
     "collapsed": true,
     "input": [
      "using DataFrames\n",
      "include( \"util.jl\" )\n",
      "include( \"NamedMatrix.jl\" )\n",
      "include( \"Bicluster.jl\" )\n",
      "include( \"funcs.jl\" );\n",
      "include( \"scores.jl\" )\n",
      "include( \"init.jl\" )\n",
      "include( \"sequence.jl\" )\n",
      "include( \"floc.jl\" )\n",
      "include( \"meme.jl\" );"
     ],
     "language": "python",
     "metadata": {},
     "outputs": [],
     "prompt_number": 1
    },
    {
     "cell_type": "code",
     "collapsed": false,
     "input": [
      "iter = 1\n",
      "require( \"./params.jl\" )"
     ],
     "language": "python",
     "metadata": {},
     "outputs": [
      {
       "output_type": "stream",
       "stream": "stdout",
       "text": [
        "[-150"
       ]
      },
      {
       "output_type": "stream",
       "stream": "stdout",
       "text": [
        " 10][-250 20][6 24]\n"
       ]
      }
     ],
     "prompt_number": 3
    },
    {
     "cell_type": "code",
     "collapsed": false,
     "input": [
      "ratios = load_ratios( ratios_file );"
     ],
     "language": "python",
     "metadata": {},
     "outputs": [
      {
       "output_type": "stream",
       "stream": "stdout",
       "text": [
        "./Hpy/ratios.tsv\n"
       ]
      },
      {
       "output_type": "stream",
       "stream": "stdout",
       "text": [
        "("
       ]
      },
      {
       "output_type": "stream",
       "stream": "stdout",
       "text": [
        "819,57)\n",
        "("
       ]
      },
      {
       "output_type": "stream",
       "stream": "stdout",
       "text": [
        "819,57)\n"
       ]
      }
     ],
     "prompt_number": 4
    },
    {
     "cell_type": "code",
     "collapsed": false,
     "input": [
      "genome_seqs = load_genome(organism);"
     ],
     "language": "python",
     "metadata": {},
     "outputs": [
      {
       "output_type": "stream",
       "stream": "stdout",
       "text": [
        "(1"
       ]
      },
      {
       "output_type": "stream",
       "stream": "stdout",
       "text": [
        ",3)\n"
       ]
      }
     ],
     "prompt_number": 5
    },
    {
     "cell_type": "code",
     "collapsed": false,
     "input": [
      "anno = load_annos(organism);"
     ],
     "language": "python",
     "metadata": {},
     "outputs": [],
     "prompt_number": 6
    },
    {
     "cell_type": "code",
     "collapsed": false,
     "input": [
      "string_net = load_string_net(organism);"
     ],
     "language": "python",
     "metadata": {},
     "outputs": [
      {
       "output_type": "stream",
       "stream": "stdout",
       "text": [
        "(198156"
       ]
      },
      {
       "output_type": "stream",
       "stream": "stdout",
       "text": [
        ",3)\n"
       ]
      }
     ],
     "prompt_number": 7
    },
    {
     "cell_type": "code",
     "collapsed": false,
     "input": [
      "op_table = load_op_table(organism);"
     ],
     "language": "python",
     "metadata": {},
     "outputs": [],
     "prompt_number": 8
    },
    {
     "cell_type": "code",
     "collapsed": false,
     "input": [
      "all_genes = Dict{ASCIIString,Int64}()\n",
      "for i=keys(ratios.rnames) all_genes[i] = ratios.rnames[i]; end\n",
      "for i=anno[:sysName].data if get( all_genes, i, 0 ) == 0 all_genes[i] = length(all_genes)+1; end; end\n",
      "for i=1:size(string_net,1)\n",
      "    if get( all_genes, string_net[i,1], 0 ) == 0 all_genes[string_net[i,1]] = length(all_genes)+1; end\n",
      "    if get( all_genes, string_net[i,2], 0 ) == 0 all_genes[string_net[i,2]] = length(all_genes)+1; end\n",
      "end\n",
      "if size(op_table,1) > 0\n",
      "    for i=op_table[:SysName1].data if get( all_genes, i, 0 ) == 0 all_genes[i] = length(all_genes)+1; end; end\n",
      "    for i=op_table[:SysName2].data if get( all_genes, i, 0 ) == 0 all_genes[i] = length(all_genes)+1; end; end\n",
      "end\n",
      "println(length(all_genes))"
     ],
     "language": "python",
     "metadata": {},
     "outputs": [
      {
       "output_type": "stream",
       "stream": "stdout",
       "text": [
        "1634\n"
       ]
      }
     ],
     "prompt_number": 9
    },
    {
     "cell_type": "code",
     "collapsed": false,
     "input": [
      "gene_regex = get_regex(collect(keys(all_genes)))"
     ],
     "language": "python",
     "metadata": {},
     "outputs": [
      {
       "metadata": {},
       "output_type": "pyout",
       "prompt_number": 10,
       "text": [
        "\"HP[tr01][6275083149][6725081349][6725083194]m?\""
       ]
      }
     ],
     "prompt_number": 10
    },
    {
     "cell_type": "code",
     "collapsed": false,
     "input": [
      "all_seqs_scan = get_sequences(anno[:sysName].data,anno,genome_seqs,true,op_table,distance_scan,false); \n",
      "all_seqs_scan = all_seqs_scan[ find(all_seqs_scan[:,1].!=\"\"), : ]\n",
      "all_seqs_scan = filter_sequences( all_seqs_scan, distance_scan )\n",
      "\n",
      "allSeqs_fname = \"./$(organism)/allSeqs.fst\"\n",
      "writeFasta( all_seqs_scan, allSeqs_fname ) ## NOTE all_seqs_scan are not used from here on"
     ],
     "language": "python",
     "metadata": {},
     "outputs": [],
     "prompt_number": 11
    },
    {
     "cell_type": "code",
     "collapsed": false,
     "input": [
      "## TODO: remove 'N's from k-mers in counts\n",
      "all_bgCounts = getBgCounts( all_seqs_scan[:seq].data );\n",
      "all_bgFreqs = getBgFreqs( all_bgCounts );  ## TODO: bgFreqs are currently not used in MEME-ing OR MAST-ing."
     ],
     "language": "python",
     "metadata": {},
     "outputs": [
      {
       "metadata": {},
       "output_type": "pyout",
       "prompt_number": 12,
       "text": [
        "Dict{ASCIIString,Float64} with 8900 entries:\n",
        "  \"GGTTTG\" => 0.0004296127941461792\n",
        "  \"TGTTT\"  => 0.002765907997892203\n",
        "  \"GCTGT\"  => 0.0004210991377822572\n",
        "  \"CGATAT\" => 0.00014320426471539307\n",
        "  \"NNNACT\" => 3.580106617884827e-5\n",
        "  \"GGAATT\" => 0.0004145994438131138\n",
        "  \"CACT\"   => 0.0023543921908456096\n",
        "  \"CCGGTT\" => 4.850467030682669e-5\n",
        "  \"RTATA\"  => 2.3010881846024986e-6\n",
        "  \"GAGCAC\" => 4.273030479410922e-5\n",
        "  \"CAGCAG\" => 1.7323096538152387e-5\n",
        "  \"TGACGA\" => 4.273030479410922e-5\n",
        "  \"NATGT\"  => 5.752720461506247e-6\n",
        "  \"ATTTAA\" => 0.0015047996526141708\n",
        "  \"CAACAA\" => 0.00045617487550467955\n",
        "  \"GTTAC\"  => 0.0005257986501816709\n",
        "  \"TAGACT\" => 9.700934061365338e-5\n",
        "  \"ACCCAT\" => 0.00022520025499598103\n",
        "  \"CAAAN\"  => 4.257013141514622e-5\n",
        "  \"GGTCGC\" => 2.771695446104382e-5\n",
        "  \"CCGAC\"  => 7.93875423687862e-5\n",
        "  \"ATTTTT\" => 0.003076581945175864\n",
        "  \"AGCANN\" => 9.23898482034794e-6\n",
        "  \"CCCTTA\" => 0.00047234309894028843\n",
        "  \"NGGTGC\" => 1.1548731025434925e-6\n",
        "  \u22ee        => \u22ee"
       ]
      }
     ],
     "prompt_number": 12
    },
    {
     "cell_type": "code",
     "collapsed": false,
     "input": [
      "reload(\"init.jl\")\n",
      "(ratios, genome_seqs, anno, op_table, string_net, allSeqs_fname, all_bgFreqs, all_genes) = junkey_init(organism, k_clust);"
     ],
     "language": "python",
     "metadata": {},
     "outputs": [
      {
       "output_type": "stream",
       "stream": "stdout",
       "text": [
        "Hpy\n"
       ]
      },
      {
       "output_type": "stream",
       "stream": "stdout",
       "text": [
        "./Hpy/ratios.tsv\n",
        "("
       ]
      },
      {
       "output_type": "stream",
       "stream": "stdout",
       "text": [
        "819,57)\n",
        "("
       ]
      },
      {
       "output_type": "stream",
       "stream": "stdout",
       "text": [
        "819,57)\n"
       ]
      },
      {
       "output_type": "stream",
       "stream": "stdout",
       "text": [
        "(1"
       ]
      },
      {
       "output_type": "stream",
       "stream": "stdout",
       "text": [
        ",3)\n"
       ]
      },
      {
       "output_type": "stream",
       "stream": "stdout",
       "text": [
        "("
       ]
      },
      {
       "output_type": "stream",
       "stream": "stdout",
       "text": [
        "198156,3)\n",
        "1634"
       ]
      },
      {
       "output_type": "stream",
       "stream": "stdout",
       "text": [
        "\n",
        "HP[tr01][6275083149][6725081349][6725083194]m?\n"
       ]
      }
     ],
     "prompt_number": 4
    },
    {
     "cell_type": "code",
     "collapsed": false,
     "input": [
      "junkey_code = load_junkey_code(\".\");"
     ],
     "language": "python",
     "metadata": {},
     "outputs": [],
     "prompt_number": 14
    },
    {
     "cell_type": "code",
     "collapsed": false,
     "input": [
      "using Distributions\n",
      "clusters = init_biclusters( ratios, k_clust, \"random\" );"
     ],
     "language": "python",
     "metadata": {},
     "outputs": [],
     "prompt_number": 5
    },
    {
     "cell_type": "code",
     "collapsed": false,
     "input": [
      "clust=clusters[1]\n",
      "resid = bicluster_residue( clust, ratios )\n",
      "println(resid)\n",
      "x=ratios\n",
      "x.x[ 1:size(x.x,1), clust.cols ]\n",
      "get_cluster_expr_rowcol_scores(clust,ratios)\n",
      "iter=10\n",
      "network=string_net\n",
      "net=sub(network,findin(network[:x1],clust.rows))\n",
      "get_cluster_network_row_scores( clust, string_net )\n",
      "reload(\"./meme.jl\")\n",
      "clust=re_meme_bicluster(clust)\n",
      "clust=fill_cluster_scores(clust,true)\n",
      "clust.scores_m"
     ],
     "language": "python",
     "metadata": {},
     "outputs": [
      {
       "output_type": "stream",
       "stream": "stdout",
       "text": [
        "0.7546729683683483"
       ]
      },
      {
       "output_type": "stream",
       "stream": "stdout",
       "text": [
        "\n"
       ]
      },
      {
       "output_type": "stream",
       "stream": "stdout",
       "text": [
        "IN HERE: MOT 2 1 20\n"
       ]
      },
      {
       "output_type": "stream",
       "stream": "stderr",
       "text": [
        "error at: -stdout\n",
        "\n",
        "USAGE:\n",
        "\tmast\t<motif file> <sequence file> [options] \n",
        "\t[-bfile <bf>]\tread background frequencies from <bf>\n",
        "\t[-dblist]\tthe file specified as database contains a list of databases\n",
        "\t[-o <dir>]\tdirectory to output mast results\n",
        "\t[-oc <dir>]\tdirectory to output mast results with overwriting allowed\n",
        "\t[-hit_list]\tprint only a list of non-overlapping hits to stdout\n",
        "\t[-remcorr]\tremove highly correlated motifs from query\n",
        "\t[-m <m>]+\tuse only motif(s) number <m> (overrides -mev)\n",
        "\t[-c <count>]\tonly use the first <count> motifs or all motifs when <count> is zero (default: 0)\n",
        "\t[-mev <mev>]+\tuse only motifs with E-values less than <mev>\n",
        "\t[-diag <diag>]\tnominal order and spacing of motifs\n",
        "\t[-norc]\t\tdo not score reverse complement DNA strand\n",
        "\t[-sep]\t\tscore reverse complement DNA strand as a separate \n",
        "\t\t\tsequence\n",
        "\t[-dna]\t\ttranslate DNA sequences to protein\n",
        "\t[-comp]\t\tadjust p-values and E-values for sequence composition\n",
        "\t[-ev <ev>]\tprint results for sequences with E-value < <ev>\n",
        "\t\t\t(default: 10)\n",
        "\t[-mt <mt>]\tshow motif matches with p-value < mt (default: 0.0001)\n",
        "\t[-w]\t\tshow weak matches (mt<p-value<mt*10) in angle brackets\n",
        "\t[-best]\t\tinclude only the best motif in diagrams (hit_list mode only)\n"
       ]
      },
      {
       "output_type": "stream",
       "stream": "stdout",
       "text": [
        "ErrorException("
       ]
      },
      {
       "output_type": "stream",
       "stream": "stdout",
       "text": [
        "\"failed process: Process(`./progs/mast /tmp/tmpMmDDeH ./Hpy/allSeqs.fst -nostatus -stdout -text -brief -ev 999999 -mev 999999 -mt 0.99 -seqp -remcorr`, ProcessExited(1)) [1]\")\n"
       ]
      },
      {
       "output_type": "stream",
       "stream": "stderr",
       "text": [
        "\t[-seqp]\t\tuse SEQUENCE p-values for motif thresholds\n",
        "\t\t\t(default: use POSITION p-values)\n",
        "\t[-mf <mf>]\tin results use <mf> as motif file name\n",
        "\t[-df <df>]\tin results use <df> as database name (ignored when -dblist specified)\n",
        "\t[-dl <dl>]\tin results use <dl> as link to search sequence names (ignored when -dblist specified)\n",
        "\t[-minseqs <ms>]\tlower bound on number of sequences in db\n",
        "\t[-nostatus]\tdo not print progress report\n",
        "\t[-notext]\tdo not generate text output\n",
        "\t[-nohtml]\tdo not generate html output\n",
        "\t[-version]\tprint the version and exit\n",
        "\n",
        "WARNING: ERROR RUNNING MAST FOR BICLUSTER 1\n"
       ]
      },
      {
       "metadata": {},
       "output_type": "pyout",
       "prompt_number": 16,
       "text": [
        "819-element Array{Float32,1}:\n",
        " 0.0\n",
        " 0.0\n",
        " 0.0\n",
        " 0.0\n",
        " 0.0\n",
        " 0.0\n",
        " 0.0\n",
        " 0.0\n",
        " 0.0\n",
        " 0.0\n",
        " 0.0\n",
        " 0.0\n",
        " 0.0\n",
        " \u22ee  \n",
        " 0.0\n",
        " 0.0\n",
        " 0.0\n",
        " 0.0\n",
        " 0.0\n",
        " 0.0\n",
        " 0.0\n",
        " 0.0\n",
        " 0.0\n",
        " 0.0\n",
        " 0.0\n",
        " 0.0"
       ]
      }
     ],
     "prompt_number": 16
    },
    {
     "cell_type": "code",
     "collapsed": false,
     "input": [
      "clusters = fill_all_cluster_scores( clusters, true, true );"
     ],
     "language": "python",
     "metadata": {},
     "outputs": [
      {
       "output_type": "stream",
       "stream": "stdout",
       "text": [
        "1 "
       ]
      },
      {
       "output_type": "stream",
       "stream": "stdout",
       "text": [
        "20 28\n",
        "2"
       ]
      },
      {
       "output_type": "stream",
       "stream": "stdout",
       "text": [
        " 20 28\n",
        "3 20 28\n",
        "4 20 28\n",
        "5 20 28\n",
        "6"
       ]
      },
      {
       "output_type": "stream",
       "stream": "stdout",
       "text": [
        " 20 28\n",
        "7 20 28\n",
        "8 20 28\n",
        "9 20 28\n",
        "10"
       ]
      },
      {
       "output_type": "stream",
       "stream": "stdout",
       "text": [
        " 20 28\n",
        "11 20 28\n",
        "12 20 28\n",
        "13 20 28\n",
        "14 20 28\n",
        "15"
       ]
      },
      {
       "output_type": "stream",
       "stream": "stdout",
       "text": [
        " 20 28\n",
        "16 20 28\n",
        "17 20 28\n",
        "18 20 28\n",
        "19 20 28\n",
        "20"
       ]
      },
      {
       "output_type": "stream",
       "stream": "stdout",
       "text": [
        " 20 28\n",
        "21 20 28\n",
        "22 20 28\n",
        "23 20 28\n",
        "24 20 28\n",
        "25"
       ]
      },
      {
       "output_type": "stream",
       "stream": "stdout",
       "text": [
        " 20 28\n",
        "26 20 28\n",
        "27 20 28\n",
        "28 20 28\n",
        "29"
       ]
      },
      {
       "output_type": "stream",
       "stream": "stdout",
       "text": [
        " 20 28\n",
        "30 20 28\n",
        "31 20 28\n",
        "32 20 28\n",
        "33 20 28\n",
        "34"
       ]
      },
      {
       "output_type": "stream",
       "stream": "stdout",
       "text": [
        " 20 28\n",
        "35 20 28\n",
        "36 20 28\n",
        "37 20 28\n",
        "38"
       ]
      },
      {
       "output_type": "stream",
       "stream": "stdout",
       "text": [
        " 20 28\n",
        "39 20 28\n",
        "40 20 28\n",
        "41 20 28\n",
        "42 20 28\n",
        "43"
       ]
      },
      {
       "output_type": "stream",
       "stream": "stdout",
       "text": [
        " 20 28\n",
        "44 20 28\n",
        "45 20 28\n",
        "46 20 28\n",
        "47"
       ]
      },
      {
       "output_type": "stream",
       "stream": "stdout",
       "text": [
        " 20 28\n",
        "48 20 28\n",
        "49 20 28\n",
        "50 20 28\n",
        "51 20 28\n",
        "52"
       ]
      },
      {
       "output_type": "stream",
       "stream": "stdout",
       "text": [
        " 20 28\n",
        "53 20 28\n",
        "54 20 28\n",
        "55 20 28\n",
        "56"
       ]
      },
      {
       "output_type": "stream",
       "stream": "stdout",
       "text": [
        " 20 28\n",
        "57 20 28\n",
        "58 20 28\n",
        "59 20 28\n",
        "60 20 28\n",
        "61"
       ]
      },
      {
       "output_type": "stream",
       "stream": "stdout",
       "text": [
        " 20 28\n",
        "62 20 28\n",
        "63 20 28\n",
        "64 20 28\n",
        "65"
       ]
      },
      {
       "output_type": "stream",
       "stream": "stdout",
       "text": [
        " 20 28\n",
        "66 20 28\n",
        "67 20 28\n",
        "68 20 28\n",
        "69 20 28\n",
        "70"
       ]
      },
      {
       "output_type": "stream",
       "stream": "stdout",
       "text": [
        " 20 28\n",
        "71 20 28\n",
        "72 20 28\n",
        "73 20 28\n",
        "74"
       ]
      },
      {
       "output_type": "stream",
       "stream": "stdout",
       "text": [
        " 20 28\n",
        "75 20 28\n"
       ]
      }
     ],
     "prompt_number": 17
    },
    {
     "cell_type": "code",
     "collapsed": false,
     "input": [],
     "language": "python",
     "metadata": {},
     "outputs": []
    },
    {
     "cell_type": "code",
     "collapsed": false,
     "input": [],
     "language": "python",
     "metadata": {},
     "outputs": []
    }
   ],
   "metadata": {}
  }
 ]
}
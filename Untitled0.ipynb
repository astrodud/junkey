{
 "metadata": {
  "language": "Julia",
  "name": "",
  "signature": "sha256:fce18a6890de0e52d92d1212d6fba7565178856574e484f375d7ddd1f7786240"
 },
 "nbformat": 3,
 "nbformat_minor": 0,
 "worksheets": [
  {
   "cells": [
    {
     "cell_type": "code",
     "collapsed": true,
     "input": [
      "using DataFrames\n",
      "include( \"util.jl\" )\n",
      "include( \"NamedMatrix.jl\" )\n",
      "include( \"Bicluster.jl\" )\n",
      "include( \"ArrayView.jl\" )\n",
      "include( \"funcs.jl\" );"
     ],
     "language": "python",
     "metadata": {},
     "outputs": [
      {
       "output_type": "stream",
       "stream": "stderr",
       "text": [
        "Warning: could not import Base.ref into Main\n"
       ]
      }
     ],
     "prompt_number": 1
    },
    {
     "cell_type": "code",
     "collapsed": false,
     "input": [
      "include( \"scores.jl\" )\n",
      "include( \"init.jl\" )\n",
      "include( \"sequence.jl\" )\n",
      "include( \"floc.jl\" )\n",
      "include( \"meme.jl\" );"
     ],
     "language": "python",
     "metadata": {},
     "outputs": [],
     "prompt_number": 2
    },
    {
     "cell_type": "code",
     "collapsed": false,
     "input": [
      "iter = 1\n",
      "require( \"./params.jl\" )"
     ],
     "language": "python",
     "metadata": {},
     "outputs": [
      {
       "output_type": "stream",
       "stream": "stdout",
       "text": [
        "[-150"
       ]
      },
      {
       "output_type": "stream",
       "stream": "stdout",
       "text": [
        " 10][-250 20][6 24]\n"
       ]
      }
     ],
     "prompt_number": 3
    },
    {
     "cell_type": "code",
     "collapsed": false,
     "input": [
      "ratios = load_ratios( ratios_file );"
     ],
     "language": "python",
     "metadata": {},
     "outputs": [
      {
       "output_type": "stream",
       "stream": "stdout",
       "text": [
        "./Hpy/ratios.tsv\n"
       ]
      },
      {
       "output_type": "stream",
       "stream": "stdout",
       "text": [
        "("
       ]
      },
      {
       "output_type": "stream",
       "stream": "stdout",
       "text": [
        "819,57)\n",
        "("
       ]
      },
      {
       "output_type": "stream",
       "stream": "stdout",
       "text": [
        "819,57)\n"
       ]
      }
     ],
     "prompt_number": 4
    },
    {
     "cell_type": "code",
     "collapsed": false,
     "input": [
      "genome_seqs = load_genome(organism);"
     ],
     "language": "python",
     "metadata": {},
     "outputs": [
      {
       "output_type": "stream",
       "stream": "stdout",
       "text": [
        "(1"
       ]
      },
      {
       "output_type": "stream",
       "stream": "stdout",
       "text": [
        ",3)\n"
       ]
      }
     ],
     "prompt_number": 5
    },
    {
     "cell_type": "code",
     "collapsed": false,
     "input": [
      "anno = load_annos(organism);"
     ],
     "language": "python",
     "metadata": {},
     "outputs": [],
     "prompt_number": 6
    },
    {
     "cell_type": "code",
     "collapsed": false,
     "input": [
      "string_net = load_string_net(organism);"
     ],
     "language": "python",
     "metadata": {},
     "outputs": [
      {
       "output_type": "stream",
       "stream": "stdout",
       "text": [
        "(198156"
       ]
      },
      {
       "output_type": "stream",
       "stream": "stdout",
       "text": [
        ",3)\n"
       ]
      }
     ],
     "prompt_number": 7
    },
    {
     "cell_type": "code",
     "collapsed": false,
     "input": [
      "op_table = load_op_table(organism);"
     ],
     "language": "python",
     "metadata": {},
     "outputs": [],
     "prompt_number": 8
    },
    {
     "cell_type": "code",
     "collapsed": false,
     "input": [
      "all_genes = Dict{ASCIIString,Int64}()\n",
      "for i=keys(ratios.rnames) all_genes[i] = ratios.rnames[i]; end\n",
      "for i=anno[:sysName].data if get( all_genes, i, 0 ) == 0 all_genes[i] = length(all_genes)+1; end; end\n",
      "for i=1:size(string_net,1)\n",
      "    if get( all_genes, string_net[i,1], 0 ) == 0 all_genes[string_net[i,1]] = length(all_genes)+1; end\n",
      "    if get( all_genes, string_net[i,2], 0 ) == 0 all_genes[string_net[i,2]] = length(all_genes)+1; end\n",
      "end\n",
      "if size(op_table,1) > 0\n",
      "    for i=op_table[:SysName1].data if get( all_genes, i, 0 ) == 0 all_genes[i] = length(all_genes)+1; end; end\n",
      "    for i=op_table[:SysName2].data if get( all_genes, i, 0 ) == 0 all_genes[i] = length(all_genes)+1; end; end\n",
      "end\n",
      "println(length(all_genes))"
     ],
     "language": "python",
     "metadata": {},
     "outputs": [
      {
       "output_type": "stream",
       "stream": "stdout",
       "text": [
        "1634\n"
       ]
      }
     ],
     "prompt_number": 9
    },
    {
     "cell_type": "code",
     "collapsed": false,
     "input": [
      "gene_regex = get_regex(collect(keys(all_genes)))"
     ],
     "language": "python",
     "metadata": {},
     "outputs": [
      {
       "metadata": {},
       "output_type": "pyout",
       "prompt_number": 10,
       "text": [
        "\"HP[tr01][6275083149][6725081349][6725083194]m?\""
       ]
      }
     ],
     "prompt_number": 10
    },
    {
     "cell_type": "code",
     "collapsed": false,
     "input": [
      "all_seqs_scan = get_sequences(anno[:sysName].data,anno,genome_seqs,true,op_table,distance_scan,false); \n",
      "all_seqs_scan = all_seqs_scan[ find(all_seqs_scan[:,1].!=\"\"), : ]\n",
      "all_seqs_scan = filter_sequences( all_seqs_scan, distance_scan )\n",
      "\n",
      "allSeqs_fname = \"./$(organism)/allSeqs.fst\"\n",
      "writeFasta( all_seqs_scan, allSeqs_fname ) ## NOTE all_seqs_scan are not used from here on"
     ],
     "language": "python",
     "metadata": {},
     "outputs": [],
     "prompt_number": 11
    },
    {
     "cell_type": "code",
     "collapsed": false,
     "input": [
      "## TODO: remove 'N's from k-mers in counts\n",
      "all_bgCounts = getBgCounts( all_seqs_scan[:seq].data );\n",
      "all_bgFreqs = getBgFreqs( all_bgCounts );  ## TODO: bgFreqs are currently not used in MEME-ing OR MAST-ing."
     ],
     "language": "python",
     "metadata": {},
     "outputs": [
      {
       "metadata": {},
       "output_type": "pyout",
       "prompt_number": 12,
       "text": [
        "Dict{ASCIIString,Float64} with 8900 entries:\n",
        "  \"GGTTTG\" => 0.0004296127941461792\n",
        "  \"TGTTT\"  => 0.002765907997892203\n",
        "  \"GCTGT\"  => 0.0004210991377822572\n",
        "  \"CGATAT\" => 0.00014320426471539307\n",
        "  \"NNNACT\" => 3.580106617884827e-5\n",
        "  \"GGAATT\" => 0.0004145994438131138\n",
        "  \"CACT\"   => 0.0023543921908456096\n",
        "  \"CCGGTT\" => 4.850467030682669e-5\n",
        "  \"RTATA\"  => 2.3010881846024986e-6\n",
        "  \"GAGCAC\" => 4.273030479410922e-5\n",
        "  \"CAGCAG\" => 1.7323096538152387e-5\n",
        "  \"TGACGA\" => 4.273030479410922e-5\n",
        "  \"NATGT\"  => 5.752720461506247e-6\n",
        "  \"ATTTAA\" => 0.0015047996526141708\n",
        "  \"CAACAA\" => 0.00045617487550467955\n",
        "  \"GTTAC\"  => 0.0005257986501816709\n",
        "  \"TAGACT\" => 9.700934061365338e-5\n",
        "  \"ACCCAT\" => 0.00022520025499598103\n",
        "  \"CAAAN\"  => 4.257013141514622e-5\n",
        "  \"GGTCGC\" => 2.771695446104382e-5\n",
        "  \"CCGAC\"  => 7.93875423687862e-5\n",
        "  \"ATTTTT\" => 0.003076581945175864\n",
        "  \"AGCANN\" => 9.23898482034794e-6\n",
        "  \"CCCTTA\" => 0.00047234309894028843\n",
        "  \"NGGTGC\" => 1.1548731025434925e-6\n",
        "  \u22ee        => \u22ee"
       ]
      }
     ],
     "prompt_number": 12
    },
    {
     "cell_type": "code",
     "collapsed": false,
     "input": [
      "reload(\"init.jl\")\n",
      "(ratios, genome_seqs, anno, op_table, string_net, allSeqs_fname, all_bgFreqs, all_genes) = junkey_init(organism, k_clust);"
     ],
     "language": "python",
     "metadata": {},
     "outputs": [
      {
       "output_type": "stream",
       "stream": "stdout",
       "text": [
        "Hpy\n"
       ]
      },
      {
       "output_type": "stream",
       "stream": "stdout",
       "text": [
        "(1,3)\n",
        "("
       ]
      },
      {
       "output_type": "stream",
       "stream": "stdout",
       "text": [
        "198156,3)\n",
        "1634\n",
        "HP[tr01][6275083149][6725081349][6725083194]m?\n"
       ]
      }
     ],
     "prompt_number": 13
    },
    {
     "cell_type": "code",
     "collapsed": false,
     "input": [
      "junkey_code = load_junkey_code(\".\");"
     ],
     "language": "python",
     "metadata": {},
     "outputs": [],
     "prompt_number": 14
    },
    {
     "cell_type": "code",
     "collapsed": false,
     "input": [
      "using Distributions\n",
      "clusters = init_biclusters( ratios, k_clust, \"random\" );"
     ],
     "language": "python",
     "metadata": {},
     "outputs": [],
     "prompt_number": 15
    },
    {
     "cell_type": "code",
     "collapsed": false,
     "input": [
      "clust=clusters[1]\n",
      "resid = bicluster_residue( clust, ratios )\n",
      "println(resid)\n",
      "x=ratios\n",
      "x.x[ 1:size(x.x,1), clust.cols ]\n",
      "get_cluster_expr_rowcol_scores(clust,ratios)"
     ],
     "language": "python",
     "metadata": {},
     "outputs": [
      {
       "output_type": "stream",
       "stream": "stdout",
       "text": [
        "0.7708598143281612"
       ]
      },
      {
       "output_type": "stream",
       "stream": "stdout",
       "text": [
        "\n"
       ]
      },
      {
       "metadata": {},
       "output_type": "pyout",
       "prompt_number": 16,
       "text": [
        "bicluster(1,[153,493,100,494,388,293,348,165,487,349,378,181,19,737,747,368,295,86,278,94],[4,6,8,9,10,12,14,17,18,21  \u2026  39,40,41,45,47,48,49,50,51,54],5.9653115f0,0.77085984f0,Inf32,Inf32,Float32[0.783893,0.829992,0.578677,0.666964,0.768006,0.163622,-0.206011,0.679352,0.701899,0.55148  \u2026  -0.325851,-0.328626,-0.395215,-0.385478,-0.401849,-0.485205,-0.0419462,-0.0147509,-0.240462,0.734562],Float32[0.155635,-0.0115956,0.0523778,0.0544864,-0.155086,0.14693,0.00389247,0.0806865,0.104312,-0.0845433  \u2026  -0.104125,-0.0722999,-0.158759,-0.0112398,-0.167876,0.101528,-0.102972,0.0873423,0.145206,-0.0582234],Float32[],Float32[],ASCIIString[],0x0 DataFrame\n",
        ",Bool[true,true])"
       ]
      }
     ],
     "prompt_number": 16
    },
    {
     "cell_type": "code",
     "collapsed": true,
     "input": [
      "clusters = fill_all_cluster_scores( clusters, true, true );"
     ],
     "language": "python",
     "metadata": {},
     "outputs": [
      {
       "output_type": "stream",
       "stream": "stdout",
       "text": [
        "1 "
       ]
      },
      {
       "output_type": "stream",
       "stream": "stdout",
       "text": [
        "20 28\n",
        "2"
       ]
      },
      {
       "output_type": "stream",
       "stream": "stdout",
       "text": [
        " 20 28\n",
        "3 20 28\n",
        "4 20 28\n",
        "5 20 28\n",
        "6 20 28\n",
        "7"
       ]
      },
      {
       "output_type": "stream",
       "stream": "stdout",
       "text": [
        " 20 28\n",
        "8 20 28\n",
        "9 20 28\n",
        "10 20 28\n",
        "11"
       ]
      },
      {
       "output_type": "stream",
       "stream": "stdout",
       "text": [
        " 20 28\n",
        "12 20 28\n",
        "13 20 28\n",
        "14 20 28\n",
        "15"
       ]
      },
      {
       "output_type": "stream",
       "stream": "stdout",
       "text": [
        " 20 28\n",
        "16 20 28\n",
        "17 20 28\n",
        "18 20 28\n",
        "19"
       ]
      },
      {
       "output_type": "stream",
       "stream": "stdout",
       "text": [
        " 20 28\n",
        "20 20 28\n",
        "21 20 28\n",
        "22 20 28\n",
        "23"
       ]
      },
      {
       "output_type": "stream",
       "stream": "stdout",
       "text": [
        " 20 28\n",
        "24 20 28\n",
        "25 20 28\n",
        "26 20 28\n",
        "27 20 28\n",
        "28"
       ]
      },
      {
       "output_type": "stream",
       "stream": "stdout",
       "text": [
        " 20 28\n",
        "29 20 28\n",
        "30 20 28\n",
        "31 20 28\n",
        "32"
       ]
      },
      {
       "output_type": "stream",
       "stream": "stdout",
       "text": [
        " 20 28\n",
        "33 20 28\n",
        "34 20 28\n",
        "35 20 28\n",
        "36"
       ]
      },
      {
       "output_type": "stream",
       "stream": "stdout",
       "text": [
        " 20 28\n",
        "37 20 28\n",
        "38 20 28\n",
        "39 20 28\n",
        "40"
       ]
      },
      {
       "output_type": "stream",
       "stream": "stdout",
       "text": [
        " 20 28\n",
        "41 20 28\n",
        "42 20 28\n",
        "43 20 28\n",
        "44"
       ]
      },
      {
       "output_type": "stream",
       "stream": "stdout",
       "text": [
        " 20 28\n",
        "45 20 28\n",
        "46 20 28\n",
        "47 20 28\n",
        "48"
       ]
      },
      {
       "output_type": "stream",
       "stream": "stdout",
       "text": [
        " 20 28\n",
        "49 20 28\n",
        "50 20 28\n",
        "51 20 28\n",
        "52 20"
       ]
      },
      {
       "output_type": "stream",
       "stream": "stdout",
       "text": [
        " 28\n",
        "53 20 28\n",
        "54 20 28\n",
        "55 20 28\n",
        "56 20 28\n",
        "57"
       ]
      },
      {
       "output_type": "stream",
       "stream": "stdout",
       "text": [
        " 20 28\n",
        "58 20 28\n",
        "59 20 28\n",
        "60"
       ]
      },
      {
       "output_type": "stream",
       "stream": "stdout",
       "text": [
        " 20 28\n",
        "61 20 28\n",
        "62 20 28\n",
        "63"
       ]
      },
      {
       "output_type": "stream",
       "stream": "stdout",
       "text": [
        " 20 28\n",
        "64 20 28\n",
        "65 20 28\n",
        "66"
       ]
      },
      {
       "output_type": "stream",
       "stream": "stdout",
       "text": [
        " 20 28\n",
        "67 20 28\n",
        "68 20 28\n",
        "69 20 28\n",
        "70"
       ]
      },
      {
       "output_type": "stream",
       "stream": "stdout",
       "text": [
        " 20 28\n",
        "71 20 28\n",
        "72 20 28\n",
        "73 20 28\n",
        "74"
       ]
      },
      {
       "output_type": "stream",
       "stream": "stdout",
       "text": [
        " 20 28\n",
        "75 20 28\n"
       ]
      }
     ],
     "prompt_number": 17
    },
    {
     "cell_type": "code",
     "collapsed": false,
     "input": [],
     "language": "python",
     "metadata": {},
     "outputs": []
    },
    {
     "cell_type": "code",
     "collapsed": false,
     "input": [],
     "language": "python",
     "metadata": {},
     "outputs": []
    }
   ],
   "metadata": {}
  }
 ]
}
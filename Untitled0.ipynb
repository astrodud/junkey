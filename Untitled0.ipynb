{
 "metadata": {
  "language": "Julia",
  "name": "",
  "signature": "sha256:f3902543addec499d267fb7835a0b1c47d82610ad8e7b35bb96224cab075bbdf"
 },
 "nbformat": 3,
 "nbformat_minor": 0,
 "worksheets": [
  {
   "cells": [
    {
     "cell_type": "code",
     "collapsed": true,
     "input": [
      "using DataFrames\n",
      "include( \"util.jl\" )\n",
      "include( \"NamedMatrix.jl\" )\n",
      "include( \"Bicluster.jl\" )\n",
      "include( \"funcs.jl\" );\n",
      "include( \"scores.jl\" )\n",
      "include( \"init.jl\" )\n",
      "include( \"sequence.jl\" )\n",
      "include( \"floc.jl\" )\n",
      "include( \"meme.jl\" );"
     ],
     "language": "python",
     "metadata": {},
     "outputs": [],
     "prompt_number": 1
    },
    {
     "cell_type": "code",
     "collapsed": false,
     "input": [
      "iter = 1\n",
      "require( \"./params.jl\" )"
     ],
     "language": "python",
     "metadata": {},
     "outputs": [
      {
       "output_type": "stream",
       "stream": "stdout",
       "text": [
        "[-150"
       ]
      },
      {
       "output_type": "stream",
       "stream": "stdout",
       "text": [
        " 10][-250 20][6 24]\n"
       ]
      }
     ],
     "prompt_number": 2
    },
    {
     "cell_type": "code",
     "collapsed": false,
     "input": [
      "ratios = load_ratios( ratios_file );"
     ],
     "language": "python",
     "metadata": {},
     "outputs": [
      {
       "output_type": "stream",
       "stream": "stdout",
       "text": [
        "./Hpy/ratios.tsv\n"
       ]
      },
      {
       "output_type": "stream",
       "stream": "stdout",
       "text": [
        "("
       ]
      },
      {
       "output_type": "stream",
       "stream": "stdout",
       "text": [
        "819,57)\n",
        "("
       ]
      },
      {
       "output_type": "stream",
       "stream": "stdout",
       "text": [
        "819,57)\n"
       ]
      }
     ],
     "prompt_number": 4
    },
    {
     "cell_type": "code",
     "collapsed": false,
     "input": [
      "genome_seqs = load_genome(organism);"
     ],
     "language": "python",
     "metadata": {},
     "outputs": [
      {
       "output_type": "stream",
       "stream": "stdout",
       "text": [
        "(1"
       ]
      },
      {
       "output_type": "stream",
       "stream": "stdout",
       "text": [
        ",3)\n"
       ]
      }
     ],
     "prompt_number": 5
    },
    {
     "cell_type": "code",
     "collapsed": false,
     "input": [
      "anno = load_annos(organism);"
     ],
     "language": "python",
     "metadata": {},
     "outputs": [],
     "prompt_number": 6
    },
    {
     "cell_type": "code",
     "collapsed": false,
     "input": [
      "string_net = load_string_net(organism);"
     ],
     "language": "python",
     "metadata": {},
     "outputs": [
      {
       "output_type": "stream",
       "stream": "stdout",
       "text": [
        "(198156"
       ]
      },
      {
       "output_type": "stream",
       "stream": "stdout",
       "text": [
        ",3)\n"
       ]
      }
     ],
     "prompt_number": 7
    },
    {
     "cell_type": "code",
     "collapsed": false,
     "input": [
      "op_table = load_op_table(organism);"
     ],
     "language": "python",
     "metadata": {},
     "outputs": [],
     "prompt_number": 8
    },
    {
     "cell_type": "code",
     "collapsed": false,
     "input": [
      "all_genes = Dict{ASCIIString,Int64}()\n",
      "for i=keys(ratios.rnames) all_genes[i] = ratios.rnames[i]; end\n",
      "for i=anno[:sysName].data if get( all_genes, i, 0 ) == 0 all_genes[i] = length(all_genes)+1; end; end\n",
      "for i=1:size(string_net,1)\n",
      "    if get( all_genes, string_net[i,1], 0 ) == 0 all_genes[string_net[i,1]] = length(all_genes)+1; end\n",
      "    if get( all_genes, string_net[i,2], 0 ) == 0 all_genes[string_net[i,2]] = length(all_genes)+1; end\n",
      "end\n",
      "if size(op_table,1) > 0\n",
      "    for i=op_table[:SysName1].data if get( all_genes, i, 0 ) == 0 all_genes[i] = length(all_genes)+1; end; end\n",
      "    for i=op_table[:SysName2].data if get( all_genes, i, 0 ) == 0 all_genes[i] = length(all_genes)+1; end; end\n",
      "end\n",
      "println(length(all_genes))"
     ],
     "language": "python",
     "metadata": {},
     "outputs": [
      {
       "output_type": "stream",
       "stream": "stdout",
       "text": [
        "1634\n"
       ]
      }
     ],
     "prompt_number": 9
    },
    {
     "cell_type": "code",
     "collapsed": false,
     "input": [
      "gene_regex = get_regex(collect(keys(all_genes)))"
     ],
     "language": "python",
     "metadata": {},
     "outputs": [
      {
       "metadata": {},
       "output_type": "pyout",
       "prompt_number": 10,
       "text": [
        "\"HP[tr01][6275083149][6725081349][6725083194]m?\""
       ]
      }
     ],
     "prompt_number": 10
    },
    {
     "cell_type": "code",
     "collapsed": false,
     "input": [
      "all_seqs_scan = get_sequences(anno[:sysName].data,anno,genome_seqs,true,op_table,distance_scan,false); \n",
      "all_seqs_scan = all_seqs_scan[ find(all_seqs_scan[:,1].!=\"\"), : ]\n",
      "all_seqs_scan = filter_sequences( all_seqs_scan, distance_scan )\n",
      "\n",
      "allSeqs_fname = \"./$(organism)/allSeqs.fst\"\n",
      "writeFasta( all_seqs_scan, allSeqs_fname ) ## NOTE all_seqs_scan are not used from here on"
     ],
     "language": "python",
     "metadata": {},
     "outputs": [],
     "prompt_number": 11
    },
    {
     "cell_type": "code",
     "collapsed": false,
     "input": [
      "## TODO: remove 'N's from k-mers in counts\n",
      "all_bgCounts = getBgCounts( all_seqs_scan[:seq].data );\n",
      "all_bgFreqs = getBgFreqs( all_bgCounts );  ## TODO: bgFreqs are currently not used in MEME-ing OR MAST-ing."
     ],
     "language": "python",
     "metadata": {},
     "outputs": [
      {
       "metadata": {},
       "output_type": "pyout",
       "prompt_number": 12,
       "text": [
        "Dict{ASCIIString,Float64} with 8900 entries:\n",
        "  \"GGTTTG\" => 0.0004296127941461792\n",
        "  \"TGTTT\"  => 0.002765907997892203\n",
        "  \"GCTGT\"  => 0.0004210991377822572\n",
        "  \"CGATAT\" => 0.00014320426471539307\n",
        "  \"NNNACT\" => 3.580106617884827e-5\n",
        "  \"GGAATT\" => 0.0004145994438131138\n",
        "  \"CACT\"   => 0.0023543921908456096\n",
        "  \"CCGGTT\" => 4.850467030682669e-5\n",
        "  \"RTATA\"  => 2.3010881846024986e-6\n",
        "  \"GAGCAC\" => 4.273030479410922e-5\n",
        "  \"CAGCAG\" => 1.7323096538152387e-5\n",
        "  \"TGACGA\" => 4.273030479410922e-5\n",
        "  \"NATGT\"  => 5.752720461506247e-6\n",
        "  \"ATTTAA\" => 0.0015047996526141708\n",
        "  \"CAACAA\" => 0.00045617487550467955\n",
        "  \"GTTAC\"  => 0.0005257986501816709\n",
        "  \"TAGACT\" => 9.700934061365338e-5\n",
        "  \"ACCCAT\" => 0.00022520025499598103\n",
        "  \"CAAAN\"  => 4.257013141514622e-5\n",
        "  \"GGTCGC\" => 2.771695446104382e-5\n",
        "  \"CCGAC\"  => 7.93875423687862e-5\n",
        "  \"ATTTTT\" => 0.003076581945175864\n",
        "  \"AGCANN\" => 9.23898482034794e-6\n",
        "  \"CCCTTA\" => 0.00047234309894028843\n",
        "  \"NGGTGC\" => 1.1548731025434925e-6\n",
        "  \u22ee        => \u22ee"
       ]
      }
     ],
     "prompt_number": 12
    },
    {
     "cell_type": "code",
     "collapsed": false,
     "input": [
      "reload(\"init.jl\")\n",
      "(ratios, genome_seqs, anno, op_table, string_net, allSeqs_fname, all_bgFreqs, all_genes) = junkey_init(organism, k_clust);"
     ],
     "language": "python",
     "metadata": {},
     "outputs": [
      {
       "output_type": "stream",
       "stream": "stdout",
       "text": [
        "Hpy\n"
       ]
      },
      {
       "output_type": "stream",
       "stream": "stdout",
       "text": [
        "./Hpy/ratios.tsv\n",
        "("
       ]
      },
      {
       "output_type": "stream",
       "stream": "stdout",
       "text": [
        "819,57)\n",
        "("
       ]
      },
      {
       "output_type": "stream",
       "stream": "stdout",
       "text": [
        "819,57)\n"
       ]
      },
      {
       "output_type": "stream",
       "stream": "stdout",
       "text": [
        "("
       ]
      },
      {
       "output_type": "stream",
       "stream": "stdout",
       "text": [
        "1,3)\n"
       ]
      },
      {
       "output_type": "stream",
       "stream": "stdout",
       "text": [
        "("
       ]
      },
      {
       "output_type": "stream",
       "stream": "stdout",
       "text": [
        "198156,3)\n",
        "1634"
       ]
      },
      {
       "output_type": "stream",
       "stream": "stdout",
       "text": [
        "\n",
        "HP[tr01][6275083149][6725081349][6725083194]m?\n"
       ]
      }
     ],
     "prompt_number": 3
    },
    {
     "cell_type": "code",
     "collapsed": false,
     "input": [
      "junkey_code = load_junkey_code(\".\");"
     ],
     "language": "python",
     "metadata": {},
     "outputs": [],
     "prompt_number": 14
    },
    {
     "cell_type": "code",
     "collapsed": false,
     "input": [
      "using Distributions\n",
      "clusters = init_biclusters( ratios, k_clust, \"random\" );"
     ],
     "language": "python",
     "metadata": {},
     "outputs": [],
     "prompt_number": 4
    },
    {
     "cell_type": "code",
     "collapsed": true,
     "input": [
      "clust=clusters[1]\n",
      "resid = bicluster_residue( clust, ratios )\n",
      "println(resid)\n",
      "x=ratios\n",
      "x.x[ 1:size(x.x,1), clust.cols ]\n",
      "get_cluster_expr_rowcol_scores(clust,ratios)\n",
      "iter=10\n",
      "network=string_net\n",
      "net=sub(network,findin(network[:x1],clust.rows))\n",
      "get_cluster_network_row_scores( clust, string_net )\n",
      "reload(\"./meme.jl\")\n",
      "b=clust\n",
      "seqs = get_sequences( rownames(ratios)[b.rows] ) \n",
      "seqs = filter_sequences( seqs, distance_search )\n",
      "meme_out = do_meme(seqs,2,true)\n",
      "println(\"HERE1\")\n",
      "mast_out = do_mast(meme_out,allSeqs_fname,false,true)\n",
      "\n",
      "println(\"HEREXXX\")\n",
      "reload(\"./scores.jl\")\n",
      "clust=re_meme_bicluster(clust)\n",
      "println(\"HEREYYY\")\n",
      "clust=fill_cluster_scores(clust,true)\n",
      "clust.scores_m"
     ],
     "language": "python",
     "metadata": {},
     "outputs": [
      {
       "output_type": "stream",
       "stream": "stdout",
       "text": [
        "0.6613406501370903"
       ]
      },
      {
       "output_type": "stream",
       "stream": "stdout",
       "text": [
        "\n"
       ]
      },
      {
       "output_type": "stream",
       "stream": "stdout",
       "text": [
        "`"
       ]
      },
      {
       "output_type": "stream",
       "stream": "stdout",
       "text": [
        "./progs/meme /tmp/tmp9LqsfL -time 600 -dna -revcomp -maxsize 9999999 -nmotifs 2 -evt 999999 -minw 6 -maxw 24 -mod zoops -nostatus -text`\n"
       ]
      },
      {
       "output_type": "stream",
       "stream": "stdout",
       "text": [
        "HERE1\n"
       ]
      },
      {
       "output_type": "stream",
       "stream": "stdout",
       "text": [
        "`"
       ]
      },
      {
       "output_type": "stream",
       "stream": "stdout",
       "text": [
        "./progs/mast /tmp/tmprLtIvZ ./Hpy/allSeqs.fst -nostatus -stdout -text -brief -ev 999999 -mev 999999 -mt 0.99 -seqp -remcorr`\n"
       ]
      },
      {
       "output_type": "stream",
       "stream": "stdout",
       "text": [
        "HEREXXX\n"
       ]
      },
      {
       "output_type": "stream",
       "stream": "stdout",
       "text": [
        "IN HERE: MOT 2 1 19\n"
       ]
      },
      {
       "output_type": "stream",
       "stream": "stdout",
       "text": [
        "HEREYYY\n"
       ]
      },
      {
       "metadata": {},
       "output_type": "pyout",
       "prompt_number": 5,
       "text": [
        "819-element Array{Float32,1}:\n",
        " 0.0804389\n",
        " 0.0804389\n",
        " 0.0804389\n",
        " 0.0761241\n",
        " 0.0761241\n",
        " 0.0782763\n",
        " 0.0791097\n",
        " 0.0802115\n",
        " 0.0802115\n",
        " 0.0802115\n",
        " 0.0802115\n",
        " 0.0464851\n",
        " 0.0464851\n",
        " \u22ee        \n",
        " 0.0605419\n",
        " 0.0634979\n",
        " 0.0634979\n",
        " 0.0634979\n",
        " 0.0638891\n",
        " 0.0638891\n",
        " 0.0805966\n",
        " 0.0805966\n",
        " 0.0806639\n",
        " 0.0806639\n",
        " 0.0813253\n",
        " 0.0770688"
       ]
      }
     ],
     "prompt_number": 5
    },
    {
     "cell_type": "code",
     "collapsed": true,
     "input": [
      "clusters = fill_all_cluster_scores( clusters, true, true );"
     ],
     "language": "python",
     "metadata": {},
     "outputs": [
      {
       "output_type": "stream",
       "stream": "stdout",
       "text": [
        "1 "
       ]
      },
      {
       "output_type": "stream",
       "stream": "stdout",
       "text": [
        "20 28\n",
        "2 20 28\n",
        "3"
       ]
      },
      {
       "output_type": "stream",
       "stream": "stdout",
       "text": [
        " 20 28\n",
        "4 20 28\n",
        "5"
       ]
      },
      {
       "output_type": "stream",
       "stream": "stdout",
       "text": [
        " 20 28\n",
        "6 20 28\n",
        "7"
       ]
      },
      {
       "output_type": "stream",
       "stream": "stdout",
       "text": [
        " 20 28\n",
        "8 20 28\n",
        "9"
       ]
      },
      {
       "output_type": "stream",
       "stream": "stdout",
       "text": [
        " 20 28\n",
        "10 20 28\n",
        "11"
       ]
      },
      {
       "output_type": "stream",
       "stream": "stdout",
       "text": [
        " 20 28\n",
        "12 20 28\n",
        "13"
       ]
      },
      {
       "output_type": "stream",
       "stream": "stdout",
       "text": [
        " 20 28\n",
        "14 20 28\n",
        "15"
       ]
      },
      {
       "output_type": "stream",
       "stream": "stdout",
       "text": [
        " 20 28\n",
        "16 20 28\n",
        "17"
       ]
      },
      {
       "output_type": "stream",
       "stream": "stdout",
       "text": [
        " 20 28\n",
        "18 20 28\n",
        "19"
       ]
      },
      {
       "output_type": "stream",
       "stream": "stdout",
       "text": [
        " 20 28\n",
        "20 20 28\n",
        "21"
       ]
      },
      {
       "output_type": "stream",
       "stream": "stdout",
       "text": [
        " 20 28\n",
        "22 20 28\n",
        "23"
       ]
      },
      {
       "output_type": "stream",
       "stream": "stdout",
       "text": [
        " 20 28\n",
        "24 20 28\n",
        "25"
       ]
      },
      {
       "output_type": "stream",
       "stream": "stdout",
       "text": [
        " 20 28\n",
        "26 20 28\n",
        "27"
       ]
      },
      {
       "output_type": "stream",
       "stream": "stdout",
       "text": [
        " 20 28\n",
        "28 20 28\n",
        "29"
       ]
      },
      {
       "output_type": "stream",
       "stream": "stdout",
       "text": [
        " 20 28\n",
        "30 20 28\n",
        "31"
       ]
      },
      {
       "output_type": "stream",
       "stream": "stdout",
       "text": [
        " 20 28\n",
        "32 20 28\n",
        "33"
       ]
      },
      {
       "output_type": "stream",
       "stream": "stdout",
       "text": [
        " 20 28\n",
        "34 20 28\n",
        "35"
       ]
      },
      {
       "output_type": "stream",
       "stream": "stdout",
       "text": [
        " 20 28\n",
        "36 20 28\n",
        "37"
       ]
      },
      {
       "output_type": "stream",
       "stream": "stdout",
       "text": [
        " 20 28\n",
        "38 20 28\n",
        "39"
       ]
      },
      {
       "output_type": "stream",
       "stream": "stdout",
       "text": [
        " 20 28\n",
        "40 20 28\n",
        "41"
       ]
      },
      {
       "output_type": "stream",
       "stream": "stdout",
       "text": [
        " 20 28\n",
        "42 20 28\n",
        "43"
       ]
      },
      {
       "output_type": "stream",
       "stream": "stdout",
       "text": [
        " 20 28\n",
        "44 20 28\n",
        "45"
       ]
      },
      {
       "output_type": "stream",
       "stream": "stdout",
       "text": [
        " 20 28\n",
        "46 20 28\n",
        "47"
       ]
      },
      {
       "output_type": "stream",
       "stream": "stdout",
       "text": [
        " 20 28\n",
        "48 20 28\n",
        "49"
       ]
      },
      {
       "output_type": "stream",
       "stream": "stdout",
       "text": [
        " 20 28\n",
        "50 20 28\n",
        "51"
       ]
      },
      {
       "output_type": "stream",
       "stream": "stdout",
       "text": [
        " 20 28\n",
        "52 20 28\n",
        "53"
       ]
      },
      {
       "output_type": "stream",
       "stream": "stdout",
       "text": [
        " 20 28\n",
        "54 20 28\n",
        "55"
       ]
      },
      {
       "output_type": "stream",
       "stream": "stdout",
       "text": [
        " 20 28\n",
        "56 20 28\n",
        "57"
       ]
      },
      {
       "output_type": "stream",
       "stream": "stdout",
       "text": [
        " 20 28\n",
        "58 20 28\n",
        "59"
       ]
      },
      {
       "output_type": "stream",
       "stream": "stdout",
       "text": [
        " 20 28\n",
        "60 20 28\n",
        "61"
       ]
      },
      {
       "output_type": "stream",
       "stream": "stdout",
       "text": [
        " 20 28\n",
        "62 20 28\n",
        "63"
       ]
      },
      {
       "output_type": "stream",
       "stream": "stdout",
       "text": [
        " 20 28\n",
        "64 20 28\n",
        "65"
       ]
      },
      {
       "output_type": "stream",
       "stream": "stdout",
       "text": [
        " 20 28\n",
        "66 20 28\n",
        "67"
       ]
      },
      {
       "output_type": "stream",
       "stream": "stdout",
       "text": [
        " 20 28\n",
        "68 20 28\n",
        "69"
       ]
      },
      {
       "output_type": "stream",
       "stream": "stdout",
       "text": [
        " 20 28\n",
        "70 20 28\n",
        "71"
       ]
      },
      {
       "output_type": "stream",
       "stream": "stdout",
       "text": [
        " 20 28\n",
        "72 20 28\n",
        "73"
       ]
      },
      {
       "output_type": "stream",
       "stream": "stdout",
       "text": [
        " 20 28\n",
        "74 20 28\n",
        "75"
       ]
      },
      {
       "output_type": "stream",
       "stream": "stdout",
       "text": [
        " 20 28\n"
       ]
      }
     ],
     "prompt_number": 6
    },
    {
     "cell_type": "code",
     "collapsed": true,
     "input": [
      "reload(\"./floc.jl\")\n",
      "reload(\"./scores.jl\")\n",
      "reload(\"./funcs.jl\")\n",
      "scores=get_floc_scores_all(clusters)\n",
      "#println(head(scores))\n",
      "#dfs_r = sub( scores, scores[:is_row_col] .== 'r' )\n",
      "#tmp = groupby( dfs_r, :row_col_ind ) ## Cool!\n",
      "get_floc_scores_best(scores)"
     ],
     "language": "python",
     "metadata": {},
     "outputs": [
      {
       "html": [
        "<table class=\"data-frame\"><tr><th></th><th>row_col_ind</th><th>is_in</th><th>is_row_col</th><th>k</th><th>score</th><th>score_n</th><th>score_m</th><th>score_v</th><th>score_g</th><th>combined</th></tr><tr><th>1</th><td>1</td><td>false</td><td>r</td><td>70</td><td>-0.6940823</td><td>0.067355365</td><td>0.0</td><td>-0.4</td><td>0.7</td><td>-1.5098655</td></tr><tr><th>2</th><td>1</td><td>false</td><td>r</td><td>30</td><td>-0.5298759</td><td>0.07880445</td><td>0.0</td><td>-0.4</td><td>0.7</td><td>-1.2551677</td></tr><tr><th>3</th><td>1</td><td>false</td><td>r</td><td>51</td><td>-0.49572122</td><td>0.078586146</td><td>0.0</td><td>-0.4</td><td>0.7</td><td>-1.1976019</td></tr><tr><th>4</th><td>2</td><td>false</td><td>r</td><td>70</td><td>-0.611005</td><td>0.023964403</td><td>0.0</td><td>-0.4</td><td>-0.3</td><td>-1.3479407</td></tr><tr><th>5</th><td>2</td><td>false</td><td>r</td><td>12</td><td>-0.580262</td><td>0.027592584</td><td>0.0</td><td>-0.4</td><td>-0.3</td><td>-1.3028765</td></tr><tr><th>6</th><td>2</td><td>false</td><td>r</td><td>30</td><td>-0.43815073</td><td>0.102544256</td><td>0.0</td><td>-0.4</td><td>-0.3</td><td>-1.1972669</td></tr><tr><th>7</th><td>3</td><td>false</td><td>r</td><td>14</td><td>-0.5235981</td><td>0.0042914557</td><td>0.0</td><td>-0.4</td><td>-0.3</td><td>-1.1668799</td></tr><tr><th>8</th><td>3</td><td>false</td><td>r</td><td>10</td><td>-0.41211188</td><td>-0.02118932</td><td>0.0</td><td>-0.4</td><td>-0.3</td><td>-0.9352543</td></tr><tr><th>9</th><td>3</td><td>false</td><td>r</td><td>38</td><td>-0.38988733</td><td>-0.0075563765</td><td>0.0</td><td>-0.4</td><td>-0.3</td><td>-0.9221123</td></tr><tr><th>10</th><td>4</td><td>false</td><td>r</td><td>70</td><td>-0.53381306</td><td>0.0055858153</td><td>0.0</td><td>-0.4</td><td>1.7</td><td>-1.0787553</td></tr><tr><th>11</th><td>4</td><td>false</td><td>r</td><td>54</td><td>-0.51113075</td><td>-0.002441078</td><td>0.0</td><td>-0.4</td><td>1.7</td><td>-1.0266119</td></tr><tr><th>12</th><td>4</td><td>false</td><td>r</td><td>12</td><td>-0.34393305</td><td>0.045227937</td><td>0.0</td><td>-0.4</td><td>1.7</td><td>-0.83084327</td></tr><tr><th>13</th><td>5</td><td>false</td><td>r</td><td>54</td><td>-0.56397074</td><td>-0.006616393</td><td>0.0</td><td>-0.4</td><td>-1.3</td><td>-1.2689708</td></tr><tr><th>14</th><td>5</td><td>false</td><td>r</td><td>22</td><td>-0.3198685</td><td>0.08412038</td><td>0.0</td><td>-0.4</td><td>-1.3</td><td>-1.0204762</td></tr><tr><th>15</th><td>5</td><td>false</td><td>r</td><td>12</td><td>-0.35799208</td><td>0.01619535</td><td>0.0</td><td>-0.4</td><td>-1.3</td><td>-0.9643974</td></tr><tr><th>16</th><td>6</td><td>false</td><td>r</td><td>49</td><td>-0.44009823</td><td>-0.021189272</td><td>0.0</td><td>-0.4</td><td>-0.3</td><td>-0.982108</td></tr><tr><th>17</th><td>6</td><td>false</td><td>r</td><td>63</td><td>-0.29952613</td><td>-0.021189297</td><td>0.0</td><td>-0.4</td><td>-0.3</td><td>-0.7467676</td></tr><tr><th>18</th><td>6</td><td>false</td><td>r</td><td>66</td><td>-0.2871487</td><td>-0.0211893</td><td>0.0</td><td>-0.4</td><td>-0.3</td><td>-0.7260457</td></tr><tr><th>19</th><td>7</td><td>false</td><td>r</td><td>66</td><td>-0.52530396</td><td>-0.0211893</td><td>0.0</td><td>-0.4</td><td>-0.3</td><td>-1.1247562</td></tr><tr><th>20</th><td>7</td><td>false</td><td>r</td><td>25</td><td>-0.48597047</td><td>-0.02118929</td><td>0.0</td><td>-0.4</td><td>-0.3</td><td>-1.0589056</td></tr><tr><th>21</th><td>7</td><td>false</td><td>r</td><td>53</td><td>-0.4747846</td><td>-0.021189287</td><td>0.0</td><td>-0.4</td><td>-0.3</td><td>-1.0401787</td></tr><tr><th>22</th><td>8</td><td>false</td><td>r</td><td>54</td><td>-0.5541848</td><td>0.029284898</td><td>0.0</td><td>-0.4</td><td>1.7</td><td>-1.1546954</td></tr><tr><th>23</th><td>8</td><td>false</td><td>r</td><td>2</td><td>-0.37723482</td><td>0.13417503</td><td>0.0</td><td>-0.4</td><td>1.7</td><td>-1.0436087</td></tr><tr><th>24</th><td>8</td><td>false</td><td>r</td><td>57</td><td>-0.364494</td><td>0.11231976</td><td>0.0</td><td>-0.4</td><td>1.7</td><td>-0.9836986</td></tr><tr><th>25</th><td>9</td><td>false</td><td>r</td><td>12</td><td>-0.43745476</td><td>0.00030748162</td><td>0.0</td><td>-0.4</td><td>1.7</td><td>-0.90811837</td></tr><tr><th>26</th><td>9</td><td>false</td><td>r</td><td>19</td><td>-0.35702768</td><td>0.013420029</td><td>0.0</td><td>-0.4</td><td>1.7</td><td>-0.7966172</td></tr><tr><th>27</th><td>9</td><td>false</td><td>r</td><td>70</td><td>-0.28916776</td><td>0.063585036</td><td>0.0</td><td>-0.4</td><td>1.7</td><td>-0.7715619</td></tr><tr><th>28</th><td>10</td><td>false</td><td>r</td><td>56</td><td>-0.4125387</td><td>0.043604836</td><td>0.0</td><td>-0.4</td><td>2.7</td><td>-0.8890796</td></tr><tr><th>29</th><td>10</td><td>false</td><td>r</td><td>9</td><td>-0.33384606</td><td>0.070771486</td><td>0.0</td><td>-0.4</td><td>2.7</td><td>-0.80529094</td></tr><tr><th>30</th><td>10</td><td>false</td><td>r</td><td>64</td><td>-0.34614804</td><td>0.04752087</td><td>0.0</td><td>-0.4</td><td>2.7</td><td>-0.7848435</td></tr><tr><th>&vellip;</th><td>&vellip;</td><td>&vellip;</td><td>&vellip;</td><td>&vellip;</td><td>&vellip;</td><td>&vellip;</td><td>&vellip;</td><td>&vellip;</td><td>&vellip;</td><td>&vellip;</td></tr></table>"
       ],
       "metadata": {},
       "output_type": "pyout",
       "prompt_number": 25,
       "text": [
        "2628x10 DataFrame\n",
        "| Row  | row_col_ind | is_in | is_row_col | k  | score     | score_n     |\n",
        "|------|-------------|-------|------------|----|-----------|-------------|\n",
        "| 1    | 1           | false | 'r'        | 70 | -0.694082 | 0.0673554   |\n",
        "| 2    | 1           | false | 'r'        | 30 | -0.529876 | 0.0788044   |\n",
        "| 3    | 1           | false | 'r'        | 51 | -0.495721 | 0.0785861   |\n",
        "| 4    | 2           | false | 'r'        | 70 | -0.611005 | 0.0239644   |\n",
        "| 5    | 2           | false | 'r'        | 12 | -0.580262 | 0.0275926   |\n",
        "| 6    | 2           | false | 'r'        | 30 | -0.438151 | 0.102544    |\n",
        "| 7    | 3           | false | 'r'        | 14 | -0.523598 | 0.00429146  |\n",
        "| 8    | 3           | false | 'r'        | 10 | -0.412112 | -0.0211893  |\n",
        "| 9    | 3           | false | 'r'        | 38 | -0.389887 | -0.00755638 |\n",
        "| 10   | 4           | false | 'r'        | 70 | -0.533813 | 0.00558582  |\n",
        "| 11   | 4           | false | 'r'        | 54 | -0.511131 | -0.00244108 |\n",
        "\u22ee\n",
        "| 2617 | 54          | false | 'c'        | 39 | -0.297876 | NaN         |\n",
        "| 2618 | 54          | false | 'c'        | 56 | -0.245361 | NaN         |\n",
        "| 2619 | 54          | false | 'c'        | 48 | -0.209557 | NaN         |\n",
        "| 2620 | 55          | true  | 'c'        | 23 | -0.298735 | NaN         |\n",
        "| 2621 | 55          | true  | 'c'        | 26 | -0.203415 | NaN         |\n",
        "| 2622 | 55          | true  | 'c'        | 64 | -0.165324 | NaN         |\n",
        "| 2623 | 56          | false | 'c'        | 49 | -0.267711 | NaN         |\n",
        "| 2624 | 56          | false | 'c'        | 71 | -0.249203 | NaN         |\n",
        "| 2625 | 56          | false | 'c'        | 39 | -0.221575 | NaN         |\n",
        "| 2626 | 57          | false | 'c'        | 56 | -0.349574 | NaN         |\n",
        "| 2627 | 57          | false | 'c'        | 71 | -0.334673 | NaN         |\n",
        "| 2628 | 57          | false | 'c'        | 12 | -0.307325 | NaN         |\n",
        "\n",
        "| Row  | score_m | score_v    | score_g | combined  |\n",
        "|------|---------|------------|---------|-----------|\n",
        "| 1    | 0.0     | -0.4       | 0.7     | -1.50987  |\n",
        "| 2    | 0.0     | -0.4       | 0.7     | -1.25517  |\n",
        "| 3    | 0.0     | -0.4       | 0.7     | -1.1976   |\n",
        "| 4    | 0.0     | -0.4       | -0.3    | -1.34794  |\n",
        "| 5    | 0.0     | -0.4       | -0.3    | -1.30288  |\n",
        "| 6    | 0.0     | -0.4       | -0.3    | -1.19727  |\n",
        "| 7    | 0.0     | -0.4       | -0.3    | -1.16688  |\n",
        "| 8    | 0.0     | -0.4       | -0.3    | -0.935254 |\n",
        "| 9    | 0.0     | -0.4       | -0.3    | -0.922112 |\n",
        "| 10   | 0.0     | -0.4       | 1.7     | -1.07876  |\n",
        "| 11   | 0.0     | -0.4       | 1.7     | -1.02661  |\n",
        "\u22ee\n",
        "| 2617 | NaN     | 0.0357143  | NaN     | -0.510968 |\n",
        "| 2618 | NaN     | 0.0357143  | NaN     | -0.415548 |\n",
        "| 2619 | NaN     | 0.0357143  | NaN     | -0.35049  |\n",
        "| 2620 | NaN     | -0.0357143 | NaN     | -0.573091 |\n",
        "| 2621 | NaN     | -0.0357143 | NaN     | -0.399893 |\n",
        "| 2622 | NaN     | -0.0357143 | NaN     | -0.330679 |\n",
        "| 2623 | NaN     | 0.0357143  | NaN     | -0.456157 |\n",
        "| 2624 | NaN     | 0.0357143  | NaN     | -0.422528 |\n",
        "| 2625 | NaN     | 0.0357143  | NaN     | -0.372326 |\n",
        "| 2626 | NaN     | 0.0357143  | NaN     | -0.604905 |\n",
        "| 2627 | NaN     | 0.0357143  | NaN     | -0.577829 |\n",
        "| 2628 | NaN     | 0.0357143  | NaN     | -0.528137 |"
       ]
      }
     ],
     "prompt_number": 25
    },
    {
     "cell_type": "code",
     "collapsed": true,
     "input": [
      "reload(\"funcs.jl\")\n",
      "(clusters, n_improvements, stats_tmp) = do_floc( clusters );"
     ],
     "language": "python",
     "metadata": {},
     "outputs": [
      {
       "output_type": "stream",
       "stream": "stdout",
       "text": [
        "1 "
       ]
      },
      {
       "output_type": "stream",
       "stream": "stdout",
       "text": [
        "1279 5256\n",
        "6x10 DataFrame"
       ]
      },
      {
       "output_type": "stream",
       "stream": "stdout",
       "text": [
        "\n",
        "| Row | row_col_ind | is_in | is_row_col | k | score     | score_n    |\n",
        "|-----|-------------|-------|------------|---|-----------|------------|\n",
        "| 1   | 434         | false | 'r'        | 1 | 0.109191  | 0.0941896  |\n",
        "| 2   | 431         | false | 'r'        | 1 | 0.138805  | 0.0188011  |\n",
        "| 3   | 433         | false | 'r'        | 1 | 0.326722  | 0.0292308  |\n",
        "| 4   | 432         | true  | 'r'        | 1 | 0.41921   | -0.0211893 |\n",
        "| 5   | 84          | false | 'r'        | 1 | 0.270588  | -0.0211893 |\n",
        "| 6   | 88          | false | 'r'        | 1 | -0.366464 | 0.0139153  |\n",
        "\n",
        "| Row | score_m    | score_v | score_g | combined |\n",
        "|-----|------------|---------|---------|----------|\n",
        "| 1   | -0.284749  | -0.4    | -1.3    | -27.1286 |\n",
        "| 2   | -0.284749  | -0.4    | 1.7     | -26.7847 |\n",
        "| 3   | -0.284749  | -0.4    | 0.7     | -26.5423 |\n",
        "| 4   | -0.284749  | 0.4     | -2.7    | -25.948  |\n",
        "| 5   | -0.0680329 | -0.4    | 0.7     | -6.14375 |\n",
        "| 6   | -0.0684587 | -0.4    | 2.7     | -7.20482 |\n",
        "6x10 DataFrame\n",
        "| Row | row_col_ind | is_in | is_row_col | k  | score     | score_n    |\n",
        "|-----|-------------|-------|------------|----|-----------|------------|\n",
        "| 1   | 416         | false | 'r'        | 65 | -0.150933 | -0.012635  |\n",
        "| 2   | 153         | false | 'r'        | 46 | -0.491839 | 0.00153907 |\n",
        "| 3   | 16          | true  | 'c'        | 6  | -0.222422 | NaN        |\n",
        "| 4   | 510         | false | 'r'        | 51 | -0.337912 | -0.0211893 |\n",
        "| 5   | 28          | false | 'c'        | 34 | -0.232531 | NaN        |\n",
        "| 6   | 519         | false | 'r'        | 49 | -0.406896 | 0.0119337  |\n",
        "\n",
        "| Row | score_m | score_v    | score_g | combined  |\n",
        "|-----|---------|------------|---------|-----------|\n",
        "| 1   | 0.0     | -0.4       | -0.3    | -0.513099 |\n",
        "| 2   | 0.0     | -0.4       | -0.3    | -1.10885  |\n",
        "| 3   | NaN     | -0.0357143 | NaN     | -0.434428 |\n",
        "| 4   | 0.0     | -0.4       | 0.7     | -0.757277 |\n",
        "| 5   | NaN     | 0.0357143  | NaN     | -0.392234 |\n",
        "| 6   | 0.0     | -0.4       | 0.7     | -0.931236 |\n",
        "1300 0.7589 -1.5262 -1.9113 -0.0002 1 r add 434 0.6632 0.6613 0.0019 1 1 0\n",
        "1294 0.7589 -1.5254 -2.1689 -0.0001 1 r remove 432 0.6638 0.6613 0.0025 4 2 2"
       ]
      },
      {
       "output_type": "stream",
       "stream": "stdout",
       "text": [
        "\n",
        "250 0.7588 -1.5259 -2.2061 -0.0020 1 r add 84 0.6575 0.6613 -0.0038 5 3 0\n",
        "262 0.7587 -1.5259 -2.2404 -0.0032 1 r add 88 0.6482 0.6613 -0.0131 6 4 0\n",
        "259 0.7585 -1.5254 -2.2719 -0.0035 1 r add 87 0.6385 0.6613 -0.0228 7 5 0\n",
        "2167 0.7585 -1.5249 -2.2051 -0.0015 1 r remove 723 0.6346 0.6613 -0.0267 8 6 0\n",
        "253 0.7584 -1.5242 -2.2381 -0.0034 1 r add 85 0.6253 0.6613 -0.0361 9 7 0"
       ]
      },
      {
       "output_type": "stream",
       "stream": "stdout",
       "text": [
        "\n",
        "2421 0.7584 -1.5206 -2.4704 -0.0015 12 r add 807 0.7488 0.7560 -0.0071 25 8 15"
       ]
      },
      {
       "output_type": "stream",
       "stream": "stdout",
       "text": [
        "\n",
        "289 0.7583 -1.5197 -2.4704 -0.0021 14 r add 97 0.7852 0.7902 -0.0051 26 9 0\n",
        "1759 0.7583 -1.5194 -2.4704 -0.0010 71 r add 587 0.7837 0.7861 -0.0024 27 10 0\n",
        "1985 0.7582 -1.5163 -2.4704 -0.0021 66 r add 662 0.7445 0.7471 -0.0027 28 11 0\n",
        "2174 0.7582 -1.5140 -2.4704 -0.0002 18 r add 725 0.8256 0.8238 0.0018 29 12 0\n",
        "1144 0.7582 -1.5140 -2.4590 -0.0008 1 r add 382 0.6608 0.6613 -0.0005 30 13 0"
       ]
      },
      {
       "output_type": "stream",
       "stream": "stdout",
       "text": [
        "\n",
        "1105 0.7582 -1.5128 -2.4590 -0.0017 16 r add 369 0.7520 0.7556 -0.0036 31 14 0\n",
        "1111 0.7581 -1.5118 -2.4590 -0.0012 21 r add 371 0.7893 0.7917 -0.0023 32 15 0\n",
        "79 0.7581 -1.5129 -2.4590 -0.0014 21 r add 27 0.7818 0.7917 -0.0099 34 16 1\n",
        "1366 0.7581 -1.5088 -2.4590 -0.0018 49 r add 456 0.8200 0.8207 -0.0007 35 17 0"
       ]
      },
      {
       "output_type": "stream",
       "stream": "stdout",
       "text": [
        "\n",
        "305 0.7579 -1.5072 -2.4590 -0.0038 30 r add 102 0.7624 0.7714 -0.0090 36 18 0\n",
        "1325 0.7579 -1.5072 -2.4590 -0.0001 68 r add 442 0.7632 0.7635 -0.0003 37 19 0\n",
        "257 0.7578 -1.5065 -2.4590 -0.0031 57 r add 86 0.7335 0.7415 -0.0080 38 20 0\n",
        "787 0.7577 -1.5063 -2.4590 -0.0027 7 r add 263 0.7589 0.7664 -0.0075 39 21 0"
       ]
      },
      {
       "output_type": "stream",
       "stream": "stdout",
       "text": [
        "\n",
        "2293 0.7576 -1.5061 -2.4590 -0.0028 69 r add 765 0.7846 0.7922 -0.0076 40 22 0\n",
        "1873 0.7576 -1.5066 -2.4590 -0.0005 68 r add 625 0.7611 0.7635 -0.0024 41 23 0\n",
        "2017 0.7575 -1.5067 -2.4590 -0.0015 10 r add 673 0.7825 0.7869 -0.0045 42 24 0"
       ]
      },
      {
       "output_type": "stream",
       "stream": "stdout",
       "text": [
        "\n",
        "1765 0.7574 -1.5038 -2.4590 -0.0046 7 r add 589 0.7487 0.7664 -0.0177 44 25 1\n",
        "1817 0.7574 -1.5017 -2.4590 -0.0010 30 r add 606 0.7619 0.7714 -0.0095 45 26 0"
       ]
      },
      {
       "output_type": "stream",
       "stream": "stdout",
       "text": [
        "\n",
        "1434 0.7573 -1.5003 -2.4590 -0.0039 12 r add 478 0.7394 0.7560 -0.0166 46 27 0\n",
        "133 0.7573 -1.4997 -2.4590 -0.0003 2 r add 45 0.8234 0.8236 -0.0001 47 28 0\n",
        "643 0.7572 -1.4991 -2.4590 -0.0031 64 r add 215 0.8288 0.8345 -0.0056 48 29 0\n",
        "1694 0.7571 -1.4977 -2.4590 -0.0016 30 r add 565 0.7564 0.7714 -0.0150 50 30 1"
       ]
      },
      {
       "output_type": "stream",
       "stream": "stdout",
       "text": [
        "\n",
        "1816 0.7571 -1.4963 -2.4590 -0.0017 70 r add 606 0.7799 0.7830 -0.0031 51 31 0\n",
        "1747 0.7570 -1.4963 -2.4590 -0.0014 53 r add 583 0.8408 0.8447 -0.0039 52 32 0\n",
        "1384 0.7570 -1.4968 -2.4590 -0.0005 39 r add 462 0.7987 0.8007 -0.0020 54 33 1\n",
        "1471 0.7569 -1.4973 -2.4590 -0.0038 46 r add 491 0.8020 0.8210 -0.0190 55 34 0\n",
        "1619 0.7568 -1.4968 -2.4462 -0.0006 69 r add 540 0.7801 0.7922 -0.0121 57 35 1"
       ]
      },
      {
       "output_type": "stream",
       "stream": "stdout",
       "text": [
        "\n",
        "2437 0.7567 -1.4970 -2.4462 -0.0032 46 r add 813 0.7930 0.8210 -0.0281 58 36 0\n",
        "871 0.7566 -1.4974 -2.4462 -0.0019 53 r add 291 0.8350 0.8447 -0.0097 59 37 0\n",
        "2165 0.7565 -1.4971 -2.4462 -0.0031 69 r add 722 0.7718 0.7922 -0.0205 60 38 0\n",
        "1651 0.7565 -1.4963 -2.4462 -0.0025 68 r add 551 0.7550 0.7635 -0.0085 61 39 0\n",
        "1421 0.7564 -1.4966 -2.4462 -0.0014 12 r add 474 0.7352 0.7560 -0.0208 62 40 0"
       ]
      },
      {
       "output_type": "stream",
       "stream": "stdout",
       "text": [
        "\n",
        "2220 0.7563 -1.4950 -2.4462 -0.0025 7 r add 740 0.7436 0.7664 -0.0228 63 41 0\n",
        "2074 0.7562 -1.4941 -2.4462 -0.0025 16 r add 692 0.7462 0.7556 -0.0094 64 42 0\n",
        "1638 0.7562 -1.4946 -2.4462 -0.0017 21 r add 546 0.7765 0.7917 -0.0151 65 43 0\n",
        "910 0.7560 -1.4951 -2.4462 -0.0036 21 r add 304 0.7661 0.7917 -0.0256 66 44 0\n",
        "160 0.7559 -1.4956 -2.4462 -0.0035 46 r add 54 0.7829 0.8210 -0.0381 67 45 0\n",
        "1283 0.7559 -1.4951 -2.4462 -0.0008 53 r add 428 0.8333 0.8447 -0.0114 68 46 0"
       ]
      },
      {
       "output_type": "stream",
       "stream": "stdout",
       "text": [
        "\n",
        "1444 0.7558 -1.4940 -2.4462 -0.0038 7 r add 482 0.7342 0.7664 -0.0322 69 47 0\n",
        "1814 0.7556 -1.4945 -2.4462 -0.0032 21 r add 605 0.7568 0.7917 -0.0348 70 48 0\n",
        "69 0.7555 -1.4936 -2.4462 -0.0049 17 r add 23 0.7393 0.7518 -0.0124 71 49 0\n",
        "2035 0.7554 -1.4926 -2.4462 -0.0033 16 r add 679 0.7384 0.7556 -0.0173 72 50 0\n",
        "2292 0.7553 -1.4924 -2.4462 -0.0026 5 r add 764 0.7107 0.7176 -0.0069 73 51 0\n",
        "1476 0.7551 -1.4921 -2.4462 -0.0035 15 r add 492 0.7791 0.7972 -0.0181 74 52 0"
       ]
      },
      {
       "output_type": "stream",
       "stream": "stdout",
       "text": [
        "\n",
        "72 0.7550 -1.4925 -2.4462 -0.0026 7 r add 24 0.7267 0.7664 -0.0397 75 53 0\n",
        "760 0.7550 -1.4931 -2.4462 -0.0009 54 r add 254 0.7538 0.7568 -0.0030 76 54 0\n",
        "1292 0.7549 -1.4936 -2.4462 -0.0020 71 r add 431 0.7777 0.7861 -0.0084 77 55 0\n",
        "2430 0.7548 -1.4939 -2.4462 -0.0023 69 r add 810 0.7651 0.7922 -0.0271 78 56 0\n",
        "594 0.7548 -1.4941 -2.4462 -0.0011 21 r add 198 0.7535 0.7917 -0.0381 79 57 0\n",
        "2454 0.7548 -1.4941 -2.4462 -0.0011 16 r add 818 0.7353 0.7556 -0.0203 80 58 0"
       ]
      },
      {
       "output_type": "stream",
       "stream": "stdout",
       "text": [
        "\n",
        "586 0.7547 -1.4936 -2.4462 -0.0017 69 r add 196 0.7610 0.7922 -0.0313 81 59 0\n",
        "1946 0.7546 -1.4935 -2.4462 -0.0028 15 r add 649 0.7716 0.7972 -0.0256 82 60 0\n",
        "746 0.7545 -1.4935 -2.4462 -0.0037 70 r add 249 0.7696 0.7830 -0.0134 83 61 0\n",
        "2387 0.7544 -1.4934 -2.4462 -0.0018 17 r add 796 0.7344 0.7518 -0.0173 84 62 0\n",
        "2159 0.7543 -1.4932 -2.4462 -0.0025 69 r add 720 0.7543 0.7922 -0.0379 85 63 0"
       ]
      },
      {
       "output_type": "stream",
       "stream": "stdout",
       "text": [
        "\n",
        "1642 0.7542 -1.4934 -2.4462 -0.0024 21 r add 548 0.7468 0.7917 -0.0449 86 64 0\n",
        "2409 0.7541 -1.4936 -2.4462 -0.0023 17 r add 803 0.7277 0.7518 -0.0241 87 65 0\n",
        "1452 0.7541 -1.4930 -2.4462 -0.0011 55 r add 484 0.7956 0.7978 -0.0022 88 66 0\n",
        "1030 0.7540 -1.4927 -2.4462 -0.0025 8 r add 344 0.7408 0.7473 -0.0065 89 67 0\n",
        "1299 0.7539 -1.4928 -2.4462 -0.0025 15 r add 433 0.7646 0.7972 -0.0326 90 68 0\n",
        "1193 0.7538 -1.4926 -2.4462 -0.0046 46 r add 398 0.7707 0.8210 -0.0504 91 69 0"
       ]
      },
      {
       "output_type": "stream",
       "stream": "stdout",
       "text": [
        "\n",
        "2015 0.7537 -1.4929 -2.4462 -0.0016 2 r add 672 0.8188 0.8236 -0.0047 92 70 0\n",
        "1043 0.7536 -1.4934 -2.4462 -0.0012 54 r add 348 0.7498 0.7568 -0.0070 93 71 0\n",
        "1961 0.7535 -1.4939 -2.4462 -0.0032 14 r add 654 0.7758 0.7902 -0.0145 94 72 0\n",
        "1066 0.7534 -1.4942 -2.4462 -0.0024 27 r add 356 0.7166 0.7235 -0.0069 95 73 0\n",
        "826 0.7533 -1.4944 -2.4462 -0.0032 7 r add 276 0.7177 0.7664 -0.0487 96 74 0\n",
        "333 0.7533 -1.4941 -2.4462 -0.0003 16 r add 111 0.7350 0.7556 -0.0206 97 75 0"
       ]
      },
      {
       "output_type": "stream",
       "stream": "stdout",
       "text": [
        "\n",
        "792 0.7533 -1.4934 -2.4462 -0.0002 7 r add 264 0.7178 0.7664 -0.0486 98 76 0\n",
        "1813 0.7532 -1.4939 -2.4462 -0.0031 46 r add 605 0.7618 0.8210 -0.0592 99 77 0\n",
        "1871 0.7531 -1.4930 -2.4462 -0.0026 56 r add 624 0.7563 0.7623 -0.0060 100 78 0\n",
        "2122 0.7530 -1.4927 -2.4462 -0.0019 47 r add 708 0.7729 0.7778 -0.0050 101 79 0\n",
        "843 0.7530 -1.4929 -2.4462 -0.0014 12 r add 281 0.7312 0.7560 -0.0248 102 80 0\n",
        "425 0.7529 -1.4933 -2.4462 -0.0017 49 r add 142 0.8149 0.8207 -0.0058 103 81 0"
       ]
      },
      {
       "output_type": "stream",
       "stream": "stdout",
       "text": [
        "\n",
        "1661 0.7529 -1.4928 -2.4462 -0.0018 49 r add 554 0.8105 0.8207 -0.0102 104 82 0\n",
        "2260 0.7528 -1.4924 -2.4462 -0.0008 39 r add 754 0.7970 0.8007 -0.0037 105 83 0\n",
        "207 0.7526 -1.4929 -2.4462 -0.0051 15 r add 69 0.7503 0.7972 -0.0469 106 84 0\n",
        "162 0.7526 -1.4931 -2.4462 -0.0016 7 r add 54 0.7132 0.7664 -0.0532 107 85 0\n",
        "2225 0.7525 -1.4925 -2.4462 -0.0014 46 r add 742 0.7585 0.8210 -0.0625 108 86 0"
       ]
      },
      {
       "output_type": "stream",
       "stream": "stdout",
       "text": [
        "\n",
        "211 0.7525 -1.4912 -2.4462 -0.0028 49 r add 71 0.8043 0.8207 -0.0164 109 87 0\n",
        "2232 0.7523 -1.4910 -2.4462 -0.0038 38 r add 744 0.8027 0.8126 -0.0099 110 88 0\n",
        "357 0.7523 -1.4901 -2.4462 -0.0019 12 r add 119 0.7269 0.7560 -0.0291 111 89 0\n",
        "506 0.7522 -1.4895 -2.4462 -0.0031 64 r add 169 0.8212 0.8345 -0.0132 112 90 0\n",
        "1068 0.7521 -1.4900 -2.4462 -0.0026 54 r add 356 0.7424 0.7568 -0.0144 113 91 0"
       ]
      },
      {
       "output_type": "stream",
       "stream": "stdout",
       "text": [
        "\n",
        "1396 0.7520 -1.4905 -2.4462 -0.0010 53 r add 466 0.8301 0.8447 -0.0146 114 92 0\n",
        "1458 0.7520 -1.4908 -2.4462 -0.0015 25 r add 486 0.7671 0.7715 -0.0044 115 93 0\n",
        "2328 0.7519 -1.4905 -2.4462 -0.0009 27 r add 776 0.7144 0.7235 -0.0091 116 94 0"
       ]
      },
      {
       "output_type": "stream",
       "stream": "stdout",
       "text": [
        "\n",
        "131 0.7519 -1.4899 -2.4462 -0.0024 53 r add 44 0.8245 0.8447 -0.0202 117 95 0\n",
        "2153 0.7518 -1.4904 -2.4462 -0.0015 70 r add 718 0.7651 0.7830 -0.0179 118 96 0\n",
        "1133 0.7517 -1.4909 -2.4462 -0.0018 38 r add 378 0.7975 0.8126 -0.0152 119 97 0\n",
        "1507 0.7517 -1.4914 -2.4462 -0.0010 54 r add 503 0.7393 0.7568 -0.0175 120 98 0\n",
        "1957 0.7516 -1.4909 -2.4462 -0.0031 53 r add 653 0.8170 0.8447 -0.0277 121 99 0"
       ]
      },
      {
       "output_type": "stream",
       "stream": "stdout",
       "text": [
        "\n",
        "1137 0.7515 -1.4914 -2.4462 -0.0027 31 r add 379 0.7494 0.7565 -0.0071 122 100 0\n",
        "1624 0.7514 -1.4905 -2.4462 -0.0041 33 r add 542 0.7520 0.7680 -0.0161 123 101 0\n",
        "1535 0.7513 -1.4893 -2.4462 -0.0028 66 r add 512 0.7383 0.7471 -0.0088 124 102 0\n",
        "153 0.7512 -1.4886 -2.4462 -0.0027 16 r add 51 0.7287 0.7556 -0.0269 125 103 0\n",
        "381 0.7511 -1.4884 -2.4462 -0.0039 32 r add 127 0.7420 0.7521 -0.0101 126 104 0"
       ]
      },
      {
       "output_type": "stream",
       "stream": "stdout",
       "text": [
        "\n",
        "2 0.7510 -1.4878 -2.4462 -0.0008 30 r add 1 0.7548 0.7714 -0.0165 127 105 0\n",
        "510 0.7508 -1.4863 -2.4462 -0.0066 9 r add 170 0.7929 0.8086 -0.0157 128 106 0\n",
        "424 0.7508 -1.4868 -2.4104 -0.0010 1 r remove 142 0.6612 0.6613 -0.0002 129 107 0\n",
        "218 0.7507 -1.4860 -2.4104 -0.0025 49 r add 73 0.7986 0.8207 -0.0221 130 108 0\n",
        "788 0.7506 -1.4855 -2.4104 -0.0019 69 r add 263 0.7499 0.7922 -0.0424 131 109 0\n",
        "1269 0.7505 -1.4848 -2.4104 -0.0050 15 r add 423 0.7378 0.7972 -0.0594 132 110 0"
       ]
      },
      {
       "output_type": "stream",
       "stream": "stdout",
       "text": [
        "\n",
        "2154 0.7504 -1.4853 -2.4104 -0.0031 12 r add 718 0.7183 0.7560 -0.0377 133 111 0\n",
        "1703 0.7503 -1.4851 -2.4104 -0.0018 51 r add 568 0.7573 0.7618 -0.0045 134 112 0\n",
        "4 0.7502 -1.4846 -2.4104 -0.0040 70 r add 2 0.7550 0.7830 -0.0280 135 113 0\n",
        "583 0.7501 -1.4850 -2.4104 -0.0007 5 r add 195 0.7083 0.7176 -0.0093 136 114 0\n",
        "1675 0.7501 -1.4843 -2.4104 -0.0028 7 r add 559 0.7067 0.7664 -0.0597 137 115 0"
       ]
      },
      {
       "output_type": "stream",
       "stream": "stdout",
       "text": [
        "\n",
        "1966 0.7500 -1.4838 -2.4104 -0.0016 53 r add 656 0.8134 0.8447 -0.0313 138 116 0\n",
        "19 0.7499 -1.4843 -2.4104 -0.0022 66 r add 7 0.7319 0.7471 -0.0152 139 117 0\n",
        "1981 0.7499 -1.4841 -2.4104 -0.0020 3 r add 661 0.8024 0.8073 -0.0050 140 118 0\n",
        "32 0.7498 -1.4842 -2.4104 -0.0022 9 r add 11 0.7871 0.8086 -0.0215 141 119 0\n",
        "1641 0.7497 -1.4846 -2.4104 -0.0025 7 r add 547 0.6997 0.7664 -0.0667 142 120 0\n",
        "1768 0.7496 -1.4805 -2.4104 -0.0033 71 r add 590 0.7720 0.7861 -0.0140 144 121 1"
       ]
      },
      {
       "output_type": "stream",
       "stream": "stdout",
       "text": [
        "\n",
        "1778 0.7495 -1.4801 -2.4104 -0.0026 7 r add 593 0.6932 0.7664 -0.0731 145 122 0\n",
        "573 0.7495 -1.4794 -2.4104 -0.0027 7 r add 191 0.6868 0.7664 -0.0796 146 123 0\n",
        "1815 0.7494 -1.4797 -2.4104 -0.0025 15 r add 605 0.7310 0.7972 -0.0663 147 124 0\n",
        "2451 0.7492 -1.4803 -2.4104 -0.0029 47 r add 817 0.7646 0.7778 -0.0132 148 125 0\n",
        "452 0.7491 -1.4795 -2.4104 -0.0039 17 r add 151 0.7182 0.7518 -0.0336 149 126 0"
       ]
      },
      {
       "output_type": "stream",
       "stream": "stdout",
       "text": [
        "\n",
        "1025 0.7490 -1.4797 -2.4104 -0.0029 7 r add 342 0.6788 0.7664 -0.0875 150 127 0\n",
        "85 0.7489 -1.4798 -2.4104 -0.0023 46 r add 29 0.7524 0.8210 -0.0687 151 128 0\n",
        "2452 0.7489 -1.4800 -2.4104 -0.0017 49 r add 818 0.7938 0.8207 -0.0269 152 129 0\n",
        "1021 0.7488 -1.4806 -2.4104 -0.0013 15 r add 341 0.7240 0.7972 -0.0732 155 130 2"
       ]
      },
      {
       "output_type": "stream",
       "stream": "stdout",
       "text": [
        "\n",
        "430 0.7487 -1.4796 -2.4104 -0.0029 46 r add 144 0.7456 0.8210 -0.0754 156 131 0\n",
        "1799 0.7486 -1.4796 -2.4104 -0.0033 17 r add 600 0.7003 0.7518 -0.0514 157 132 0\n",
        "31 0.7486 -1.4797 -2.4104 -0.0005 56 r add 11 0.7514 0.7623 -0.0109 161 133 3"
       ]
      },
      {
       "output_type": "stream",
       "stream": "stdout",
       "text": [
        "\n",
        "630 0.7485 -1.4808 -2.4104 -0.0033 61 r add 210 0.7336 0.7434 -0.0098 163 134 1\n",
        "1505 0.7484 -1.4813 -2.4104 -0.0014 2 r add 502 0.8145 0.8236 -0.0091 164 135 0\n",
        "1268 0.7483 -1.4815 -2.4104 -0.0041 68 r add 423 0.7439 0.7635 -0.0196 165 136 0\n",
        "923 0.7482 -1.4820 -2.4104 -0.0023 64 r add 308 0.8065 0.8345 -0.0280 166 137 0\n",
        "2043 0.7481 -1.4812 -2.4104 -0.0019 31 r add 681 0.7451 0.7565 -0.0114 167 138 0"
       ]
      },
      {
       "output_type": "stream",
       "stream": "stdout",
       "text": [
        "\n",
        "2373 0.7480 -1.4805 -2.4104 -0.0024 63 r add 791 0.7070 0.7126 -0.0056 168 139 0\n",
        "2335 0.7480 -1.4799 -2.4104 -0.0024 21 r add 779 0.7411 0.7917 -0.0505 169 140 0\n",
        "1349 0.7479 -1.4804 -2.4104 -0.0008 66 r add 450 0.7292 0.7471 -0.0180 170 141 0\n",
        "1913 0.7478 -1.4799 -2.4104 -0.0036 21 r add 638 0.7319 0.7917 -0.0598 171 142 0\n",
        "1083 0.7477 -1.4799 -2.4104 -0.0020 41 r add 361 0.7462 0.7513 -0.0052 172 143 0\n",
        "714 0.7476 -1.4801 -2.4104 -0.0026 15 r add 238 0.7168 0.7972 -0.0804 173 144 0"
       ]
      },
      {
       "output_type": "stream",
       "stream": "stdout",
       "text": [
        "\n",
        "1124 0.7475 -1.4806 -2.4104 -0.0024 64 r add 375 0.7998 0.8345 -0.0347 174 145 0\n",
        "979 0.7474 -1.4809 -2.4104 -0.0030 20 r add 327 0.7912 0.8079 -0.0168 175 146 0\n",
        "1822 0.7474 -1.4815 -2.4104 -0.0013 10 r add 608 0.7738 0.7869 -0.0131 176 147 0\n",
        "2098 0.7473 -1.4819 -2.4104 -0.0016 54 r add 700 0.7347 0.7568 -0.0221 177 148 0\n",
        "2125 0.7473 -1.4819 -2.4104 -0.0021 14 r add 709 0.7704 0.7902 -0.0198 178 149 0\n",
        "1397 0.7472 -1.4822 -2.4104 -0.0009 16 r add 466 0.7259 0.7556 -0.0297 179 150 0"
       ]
      },
      {
       "output_type": "stream",
       "stream": "stdout",
       "text": [
        "\n",
        "851 0.7471 -1.4812 -2.4104 -0.0040 17 r add 284 0.6907 0.7518 -0.0611 180 151 0\n",
        "742 0.7470 -1.4801 -2.4104 -0.0037 3 r add 248 0.7937 0.8073 -0.0136 181 152 0\n",
        "2069 0.7469 -1.4794 -2.4104 -0.0035 16 r add 690 0.7176 0.7556 -0.0380 182 153 0\n",
        "40 0.7468 -1.4798 -2.4104 -0.0013 21 r add 14 0.7280 0.7917 -0.0637 183 154 0\n",
        "2250 0.7467 -1.4796 -2.4104 -0.0037 17 r add 750 0.6811 0.7518 -0.0707 184 155 0"
       ]
      },
      {
       "output_type": "stream",
       "stream": "stdout",
       "text": [
        "\n",
        "2046 0.7466 -1.4787 -2.4104 -0.0018 26 r add 682 0.7313 0.7351 -0.0038 185 156 0\n",
        "2428 0.7465 -1.4789 -2.4104 -0.0041 49 r add 810 0.7828 0.8207 -0.0379 186 157 0\n",
        "1116 0.7464 -1.4774 -2.4104 -0.0030 41 r add 372 0.7398 0.7513 -0.0115 187 158 0\n",
        "828 0.7463 -1.4777 -2.4104 -0.0026 49 r add 276 0.7738 0.8207 -0.0469 189 159 1\n",
        "134 0.7461 -1.4777 -2.4104 -0.0052 3 r add 45 0.7801 0.8073 -0.0272 190 160 0\n",
        "227 0.7460 -1.4780 -2.4104 -0.0020 7 r add 76 0.6732 0.7664 -0.0932 191 161 0"
       ]
      },
      {
       "output_type": "stream",
       "stream": "stdout",
       "text": [
        "\n",
        "411 0.7460 -1.4777 -2.4104 -0.0003 70 r add 137 0.7545 0.7830 -0.0285 192 162 0\n",
        "291 0.7460 -1.4775 -2.4104 -0.0018 69 r add 97 0.7454 0.7922 -0.0469 193 163 0\n",
        "3 0.7460 -1.4759 -2.4104 -0.0013 51 r add 1 0.7556 0.7618 -0.0062 194 164 0\n",
        "2617 0.7458 -1.4759 -2.4104 -0.0042 39 c add 54 0.7859 0.8007 -0.0148 195 165 0\n",
        "2215 0.7457 -1.4768 -2.4104 -0.0012 70 r add 739 0.7493 0.7830 -0.0337 197 166 1"
       ]
      },
      {
       "output_type": "stream",
       "stream": "stdout",
       "text": [
        "\n",
        "732 0.7456 -1.4764 -2.4104 -0.0030 25 r add 244 0.7596 0.7715 -0.0119 198 167 0\n",
        "1102 0.7456 -1.4769 -2.4104 -0.0020 2 r add 368 0.8087 0.8236 -0.0149 199 168 0\n",
        "1616 0.7455 -1.4765 -2.4104 -0.0017 30 r add 539 0.7508 0.7714 -0.0206 200 169 0\n",
        "1860 0.7454 -1.4768 -2.4104 -0.0023 39 r add 620 0.7797 0.8007 -0.0210 201 170 0\n",
        "2459 0.7454 -1.4768 -2.4104 -0.0005 19 c add 1 0.7783 0.7796 -0.0013 202 171 0\n",
        "1953 0.7454 -1.4769 -2.4104 -0.0011 20 r add 651 0.7881 0.8079 -0.0198 203 172 0"
       ]
      },
      {
       "output_type": "stream",
       "stream": "stdout",
       "text": [
        "\n",
        "1830 0.7453 -1.4756 -2.4104 -0.0024 34 r add 610 0.7353 0.7403 -0.0050 204 173 0\n",
        "433 0.7452 -1.4752 -2.4104 -0.0042 46 r add 145 0.7351 0.8210 -0.0860 205 174 0\n",
        "1585 0.7451 -1.4756 -2.4104 -0.0022 49 r add 529 0.7677 0.8207 -0.0530 206 175 0\n",
        "1445 0.7450 -1.4753 -2.4104 -0.0031 15 r add 482 0.7092 0.7972 -0.0880 207 176 0\n",
        "206 0.7449 -1.4755 -2.4104 -0.0031 49 r add 69 0.7596 0.8207 -0.0612 208 177 0"
       ]
      },
      {
       "output_type": "stream",
       "stream": "stdout",
       "text": [
        "\n",
        "2070 0.7448 -1.4741 -2.4104 -0.0037 71 r add 690 0.7759 0.7861 -0.0102 209 178 0\n",
        "633 0.7447 -1.4731 -2.4104 -0.0018 71 r add 211 0.7723 0.7861 -0.0138 210 179 0\n",
        "1153 0.7447 -1.4735 -2.4104 -0.0002 12 r add 385 0.7172 0.7560 -0.0388 211 180 0\n",
        "52 0.7447 -1.4741 -2.4104 -0.0015 19 r add 18 0.7739 0.7796 -0.0056 212 181 0\n",
        "1206 0.7446 -1.4746 -2.4104 -0.0024 51 r add 402 0.7490 0.7618 -0.0128 213 182 0\n",
        "386 0.7444 -1.4750 -2.4104 -0.0038 20 r add 129 0.7779 0.8079 -0.0301 214 183 0"
       ]
      },
      {
       "output_type": "stream",
       "stream": "stdout",
       "text": [
        "\n",
        "405 0.7444 -1.4753 -2.3990 -0.0014 72 r add 135 0.7841 0.7901 -0.0061 216 184 1\n",
        "2427 0.7443 -1.4744 -2.3990 -0.0021 49 r add 809 0.7551 0.8207 -0.0656 217 185 0\n",
        "499 0.7443 -1.4744 -2.3832 -0.0003 1 r add 167 0.6625 0.6613 0.0011 218 186 0\n",
        "486 0.7442 -1.4744 -2.3832 -0.0021 7 r add 162 0.6679 0.7664 -0.0985 219 187 0"
       ]
      },
      {
       "output_type": "stream",
       "stream": "stdout",
       "text": [
        "\n",
        "2184 0.7441 -1.4741 -2.3832 -0.0040 68 r add 728 0.7340 0.7635 -0.0295 220 188 0\n",
        "1478 0.7440 -1.4744 -2.3832 -0.0015 71 r add 493 0.7682 0.7861 -0.0179 221 189 0\n",
        "1298 0.7439 -1.4745 -2.3832 -0.0028 7 r add 433 0.6605 0.7664 -0.1058 222 190 0\n",
        "1373 0.7439 -1.4728 -2.3832 -0.0025 38 r add 458 0.7929 0.8126 -0.0198 223 191 0\n",
        "689 0.7438 -1.4730 -2.3832 -0.0018 2 r add 230 0.8038 0.8236 -0.0198 224 192 0"
       ]
      },
      {
       "output_type": "stream",
       "stream": "stdout",
       "text": [
        "\n",
        "2120 0.7438 -1.4709 -2.3832 -0.0005 34 r add 707 0.7323 0.7403 -0.0080 231 193 6"
       ]
      },
      {
       "output_type": "stream",
       "stream": "stdout",
       "text": [
        "\n",
        "2119 0.7438 -1.4700 -2.3832 -0.0008 12 r add 707 0.7162 0.7560 -0.0398 232 194 0\n",
        "1810 0.7437 -1.4702 -2.3832 -0.0025 46 r add 604 0.7284 0.8210 -0.0927 233 195 0\n",
        "375 0.7437 -1.4679 -2.3832 -0.0009 39 r add 125 0.7782 0.8007 -0.0226 237 196 3"
       ]
      },
      {
       "output_type": "stream",
       "stream": "stdout",
       "text": [
        "\n",
        "1261 0.7437 -1.4685 -2.3832 -0.0020 54 r add 421 0.7339 0.7568 -0.0229 240 197 2\n",
        "2322 0.7436 -1.4679 -2.3832 -0.0028 9 r add 774 0.7816 0.8086 -0.0270 241 198 0\n",
        "1993 0.7435 -1.4683 -2.3832 -0.0019 49 r add 665 0.7498 0.8207 -0.0710 242 199 0"
       ]
      },
      {
       "output_type": "stream",
       "stream": "stdout",
       "text": [
        "\n",
        "1960 0.7434 -1.4688 -2.3832 -0.0012 47 r add 654 0.7610 0.7778 -0.0168 243 200 0\n",
        "1047 0.7434 -1.4683 -2.3832 -0.0018 21 r add 349 0.7238 0.7917 -0.0679 244 201 0\n",
        "1530 0.7433 -1.4687 -2.3832 -0.0020 70 r add 510 0.7443 0.7830 -0.0387 245 202 0\n",
        "81 0.7432 -1.4691 -2.3832 -0.0022 7 r add 27 0.6546 0.7664 -0.1118 246 203 0\n",
        "2625 0.7431 -1.4691 -2.3832 -0.0043 39 c add 56 0.7672 0.8007 -0.0335 247 204 0\n",
        "2217 0.7430 -1.4692 -2.3832 -0.0025 12 r add 739 0.7095 0.7560 -0.0464 248 205 0"
       ]
      },
      {
       "output_type": "stream",
       "stream": "stdout",
       "text": [
        "\n",
        "566 0.7429 -1.4679 -2.3832 -0.0032 3 r add 189 0.7708 0.8073 -0.0365 249 206 0\n",
        "2010 0.7429 -1.4670 -2.3832 -0.0021 68 r add 670 0.7297 0.7635 -0.0338 250 207 0\n",
        "2347 0.7428 -1.4673 -2.3832 -0.0010 21 r add 783 0.7209 0.7917 -0.0707 251 208 0\n",
        "313 0.7427 -1.4670 -2.3832 -0.0026 3 r add 105 0.7645 0.8073 -0.0429 252 209 0\n",
        "2187 0.7427 -1.4667 -2.3832 -0.0015 7 r add 729 0.6511 0.7664 -0.1153 253 210 0"
       ]
      },
      {
       "output_type": "stream",
       "stream": "stdout",
       "text": [
        "\n",
        "640 0.7426 -1.4662 -2.3832 -0.0026 30 r add 214 0.7447 0.7714 -0.0267 254 211 0\n",
        "837 0.7425 -1.4665 -2.3832 -0.0022 68 r add 279 0.7236 0.7635 -0.0398 255 212 0\n",
        "2535 0.7423 -1.4665 -2.3832 -0.0055 49 c add 26 0.7355 0.8207 -0.0852 256 213 0\n",
        "1046 0.7423 -1.4658 -2.3832 -0.0009 46 r add 349 0.7279 0.8210 -0.0932 257 214 0\n",
        "1411 0.7422 -1.4655 -2.3832 -0.0020 70 r add 471 0.7394 0.7830 -0.0436 258 215 0\n",
        "1351 0.7422 -1.4659 -2.3832 -0.0013 53 r add 451 0.8072 0.8447 -0.0375 259 216 0"
       ]
      },
      {
       "output_type": "stream",
       "stream": "stdout",
       "text": [
        "\n",
        "2040 0.7421 -1.4648 -2.3832 -0.0035 14 r add 680 0.7759 0.7902 -0.0143 260 217 0\n",
        "509 0.7420 -1.4645 -2.3832 -0.0025 53 r add 170 0.8011 0.8447 -0.0436 261 218 0\n",
        "703 0.7419 -1.4648 -2.3832 -0.0022 49 r add 235 0.7296 0.8207 -0.0911 262 219 0"
       ]
      },
      {
       "output_type": "stream",
       "stream": "stdout",
       "text": [
        "\n",
        "2066 0.7418 -1.4634 -2.3832 -0.0043 66 r add 689 0.7196 0.7471 -0.0275 263 220 0\n",
        "1820 0.7417 -1.4635 -2.3832 -0.0019 28 r add 607 0.7276 0.7292 -0.0016 264 221 0\n",
        "538 0.7416 -1.4636 -2.3832 -0.0043 39 r add 180 0.7561 0.8007 -0.0446 265 222 0\n",
        "1278 0.7415 -1.4626 -2.3832 -0.0036 15 r add 426 0.7010 0.7972 -0.0962 266 223 0\n",
        "2476 0.7415 -1.4626 -2.3832 -0.0004 5 c add 7 0.7072 0.7176 -0.0104 267 224 0\n",
        "21 0.7414 -1.4629 -2.3832 -0.0014 53 r add 7 0.7972 0.8447 -0.0475 268 225 0"
       ]
      },
      {
       "output_type": "stream",
       "stream": "stdout",
       "text": [
        "\n",
        "2443 0.7413 -1.4629 -2.3832 -0.0025 15 r add 815 0.6946 0.7972 -0.1026 269 226 0\n",
        "1457 0.7413 -1.4631 -2.3832 -0.0013 53 r add 486 0.7937 0.8447 -0.0510 270 227 0\n",
        "1038 0.7412 -1.4635 -2.3832 -0.0023 12 r add 346 0.7032 0.7560 -0.0528 271 228 0\n",
        "340 0.7411 -1.4633 -2.3832 -0.0022 69 r add 114 0.7399 0.7922 -0.0523 272 229 0"
       ]
      },
      {
       "output_type": "stream",
       "stream": "stdout",
       "text": [
        "\n",
        "2374 0.7411 -1.4637 -2.3832 -0.0011 16 r add 792 0.7123 0.7556 -0.0433 273 230 0\n",
        "192 0.7410 -1.4623 -2.3832 -0.0018 19 r add 64 0.7707 0.7796 -0.0088 274 231 0\n",
        "763 0.7410 -1.4627 -2.3832 -0.0022 71 r add 255 0.7588 0.7861 -0.0273 275 232 0\n",
        "1559 0.7409 -1.4633 -2.3832 -0.0012 65 r add 520 0.7677 0.7713 -0.0036 276 233 0\n",
        "2068 0.7409 -1.4620 -2.3832 -0.0019 10 r add 690 0.7686 0.7869 -0.0183 277 234 0\n",
        "2029 0.7408 -1.4617 -2.3832 -0.0023 69 r add 677 0.7345 0.7922 -0.0578 278 235 0"
       ]
      },
      {
       "output_type": "stream",
       "stream": "stdout",
       "text": [
        "\n",
        "461 0.7407 -1.4612 -2.3832 -0.0023 39 r add 154 0.7507 0.8007 -0.0501 279 236 0\n",
        "1781 0.7407 -1.4615 -2.3832 -0.0010 19 r add 594 0.7678 0.7796 -0.0118 280 237 0\n",
        "1537 0.7406 -1.4617 -2.3832 -0.0013 16 r add 513 0.7086 0.7556 -0.0470 281 238 0\n",
        "1546 0.7406 -1.4622 -2.3832 -0.0017 54 r add 516 0.7292 0.7568 -0.0276 282 239 0\n",
        "1879 0.7404 -1.4626 -2.3832 -0.0037 12 r add 627 0.6933 0.7560 -0.0627 283 240 0"
       ]
      },
      {
       "output_type": "stream",
       "stream": "stdout",
       "text": [
        "\n",
        "361 0.7404 -1.4628 -2.3832 -0.0009 16 r add 121 0.7062 0.7556 -0.0494 284 241 0\n",
        "77 0.7404 -1.4633 -2.3832 -0.0008 41 r add 26 0.7371 0.7513 -0.0142 285 242 0\n",
        "1996 0.7402 -1.4626 -2.3832 -0.0038 49 r add 666 0.7206 0.8207 -0.1001 286 243 0\n",
        "29 0.7402 -1.4612 -2.3832 -0.0014 9 r add 10 0.7795 0.8086 -0.0292 287 244 0\n",
        "2025 0.7401 -1.4617 -2.3832 -0.0027 51 r add 675 0.7415 0.7618 -0.0203 288 245 0"
       ]
      },
      {
       "output_type": "stream",
       "stream": "stdout",
       "text": [
        "\n",
        "579 0.7401 -1.4619 -2.3832 -0.0009 53 r add 193 0.7911 0.8447 -0.0536 289 246 0\n",
        "334 0.7400 -1.4620 -2.3832 -0.0024 55 r add 112 0.7894 0.7978 -0.0085 291 247 1\n",
        "2366 0.7400 -1.4623 -2.3832 -0.0008 46 r add 789 0.7255 0.8210 -0.0955 292 248 0"
       ]
      },
      {
       "output_type": "stream",
       "stream": "stdout",
       "text": [
        "\n",
        "1219 0.7399 -1.4617 -2.3832 -0.0027 27 r add 407 0.7245 0.7235 0.0010 293 249 0\n",
        "219 0.7398 -1.4607 -2.3832 -0.0021 66 r add 73 0.7153 0.7471 -0.0318 294 250 0\n",
        "205 0.7398 -1.4608 -2.3832 -0.0017 68 r add 69 0.7192 0.7635 -0.0443 295 251 0\n",
        "1884 0.7397 -1.4604 -2.3832 -0.0035 25 r add 628 0.7505 0.7715 -0.0210 297 252 1"
       ]
      },
      {
       "output_type": "stream",
       "stream": "stdout",
       "text": [
        "\n",
        "1544 0.7396 -1.4604 -2.3832 -0.0011 12 r add 515 0.6906 0.7560 -0.0654 298 253 0\n",
        "1332 0.7395 -1.4608 -2.3832 -0.0028 17 r add 444 0.6735 0.7518 -0.0783 299 254 0\n",
        "222 0.7395 -1.4613 -2.3832 -0.0013 33 r add 74 0.7482 0.7680 -0.0198 300 255 0\n",
        "1604 0.7394 -1.4616 -2.3832 -0.0016 49 r add 535 0.7162 0.8207 -0.1045 301 256 0\n",
        "1829 0.7394 -1.4616 -2.3832 -0.0014 14 r add 610 0.7723 0.7902 -0.0179 302 257 0"
       ]
      },
      {
       "output_type": "stream",
       "stream": "stdout",
       "text": [
        "\n",
        "1554 0.7393 -1.4613 -2.3832 -0.0034 38 r add 518 0.7846 0.8126 -0.0280 303 258 0\n",
        "83 0.7392 -1.4613 -2.3832 -0.0020 46 r add 28 0.7201 0.8210 -0.1009 305 259 1\n",
        "1900 0.7391 -1.4606 -2.3832 -0.0024 16 r add 634 0.7008 0.7556 -0.0548 306 260 0\n",
        "1459 0.7390 -1.4611 -2.3832 -0.0029 72 r add 487 0.7761 0.7901 -0.0141 307 261 0"
       ]
      },
      {
       "output_type": "stream",
       "stream": "stdout",
       "text": [
        "\n",
        "2337 0.7390 -1.4615 -2.3832 -0.0006 9 r add 779 0.7777 0.8086 -0.0310 308 262 0\n",
        "1848 0.7389 -1.4621 -2.3832 -0.0011 72 r add 616 0.7722 0.7901 -0.0180 310 263 1\n",
        "2218 0.7388 -1.4619 -2.3832 -0.0027 21 r add 740 0.7106 0.7917 -0.0811 312 264 1"
       ]
      },
      {
       "output_type": "stream",
       "stream": "stdout",
       "text": [
        "\n",
        "1584 0.7388 -1.4618 -2.3832 -0.0020 9 r add 528 0.7727 0.8086 -0.0359 313 265 0\n",
        "303 0.7387 -1.4620 -2.3832 -0.0020 51 r add 101 0.7362 0.7618 -0.0256 314 266 0\n",
        "1036 0.7387 -1.4620 -2.3734 -0.0013 1 r add 346 0.6590 0.6613 -0.0023 315 267 0\n",
        "267 0.7386 -1.4625 -2.3734 -0.0013 54 r add 89 0.7255 0.7568 -0.0313 316 268 0\n",
        "1404 0.7386 -1.4630 -2.3734 -0.0007 61 r add 468 0.7313 0.7434 -0.0121 317 269 0"
       ]
      },
      {
       "output_type": "stream",
       "stream": "stdout",
       "text": [
        "\n",
        "320 0.7385 -1.4634 -2.3734 -0.0007 54 r add 107 0.7232 0.7568 -0.0336 318 270 0\n",
        "808 0.7385 -1.4635 -2.3734 -0.0017 68 r add 270 0.7112 0.7635 -0.0523 320 271 1\n",
        "944 0.7384 -1.4630 -2.3734 -0.0032 66 r add 315 0.7075 0.7471 -0.0396 321 272 0\n",
        "2321 0.7383 -1.4624 -2.3734 -0.0032 21 r add 774 0.7029 0.7917 -0.0887 322 273 0"
       ]
      },
      {
       "output_type": "stream",
       "stream": "stdout",
       "text": [
        "\n",
        "1483 0.7382 -1.4620 -2.3734 -0.0026 21 r add 495 0.6966 0.7917 -0.0951 323 274 0\n",
        "889 0.7381 -1.4615 -2.3734 -0.0026 46 r add 297 0.7175 0.8210 -0.1035 324 275 0\n",
        "1608 0.7381 -1.4610 -2.3734 -0.0006 38 r add 536 0.7833 0.8126 -0.0293 326 276 1\n",
        "1015 0.7380 -1.4613 -2.3734 -0.0021 49 r add 339 0.7103 0.8207 -0.1104 327 277 0"
       ]
      },
      {
       "output_type": "stream",
       "stream": "stdout",
       "text": [
        "\n",
        "1170 0.7379 -1.4612 -2.3734 -0.0028 49 r add 390 0.7031 0.8207 -0.1176 328 278 0\n",
        "93 0.7379 -1.4613 -2.3734 -0.0020 7 r add 31 0.6459 0.7664 -0.1205 329 279 0\n",
        "1360 0.7377 -1.4618 -2.3734 -0.0033 54 r add 454 0.7141 0.7568 -0.0427 330 280 0\n",
        "1711 0.7377 -1.4617 -2.3734 -0.0024 53 r add 571 0.7885 0.8447 -0.0562 331 281 0"
       ]
      },
      {
       "output_type": "stream",
       "stream": "stdout",
       "text": [
        "\n",
        "34 0.7376 -1.4621 -2.3734 -0.0020 64 r add 12 0.7940 0.8345 -0.0405 332 282 0\n",
        "1589 0.7376 -1.4618 -2.3734 -0.0008 63 r add 530 0.7057 0.7126 -0.0068 333 283 0\n",
        "1456 0.7375 -1.4617 -2.3734 -0.0028 72 r add 486 0.7649 0.7901 -0.0253 334 284 0\n",
        "634 0.7374 -1.4616 -2.3734 -0.0019 39 r add 212 0.7460 0.8007 -0.0547 335 285 0\n",
        "290 0.7374 -1.4611 -2.3734 -0.0007 9 r add 97 0.7652 0.8086 -0.0435 337 286 1"
       ]
      },
      {
       "output_type": "stream",
       "stream": "stdout",
       "text": [
        "\n",
        "1320 0.7372 -1.4613 -2.3734 -0.0047 2 r add 440 0.7916 0.8236 -0.0319 338 287 0\n",
        "155 0.7372 -1.4616 -2.3734 -0.0015 69 r add 52 0.7303 0.7922 -0.0619 339 288 0\n",
        "1512 0.7372 -1.4619 -2.3734 -0.0001 51 r add 504 0.7357 0.7618 -0.0261 340 289 0\n",
        "1910 0.7370 -1.4618 -2.3734 -0.0043 57 r add 637 0.7226 0.7415 -0.0190 341 290 0\n",
        "754 0.7369 -1.4621 -2.3734 -0.0028 21 r add 252 0.6890 0.7917 -0.1027 342 291 0"
       ]
      },
      {
       "output_type": "stream",
       "stream": "stdout",
       "text": [
        "\n",
        "1474 0.7368 -1.4620 -2.3734 -0.0021 7 r add 492 0.6406 0.7664 -0.1258 343 292 0\n",
        "296 0.7367 -1.4622 -2.3734 -0.0025 71 r add 99 0.7522 0.7861 -0.0339 344 293 0\n",
        "2132 0.7367 -1.4624 -2.3734 -0.0019 12 r add 711 0.6855 0.7560 -0.0705 345 294 0\n",
        "214 0.7366 -1.4622 -2.3734 -0.0030 69 r add 72 0.7228 0.7922 -0.0695 346 295 0"
       ]
      },
      {
       "output_type": "stream",
       "stream": "stdout",
       "text": [
        "\n",
        "1174 0.7365 -1.4624 -2.3734 -0.0018 9 r add 392 0.7604 0.8086 -0.0482 347 296 0\n",
        "1787 0.7364 -1.4621 -2.3734 -0.0029 21 r add 596 0.6817 0.7917 -0.1100 348 297 0\n",
        "743 0.7363 -1.4616 -2.3734 -0.0032 61 r add 248 0.7235 0.7434 -0.0199 349 298 0\n",
        "715 0.7363 -1.4616 -2.3734 -0.0003 27 r add 239 0.7240 0.7235 0.0005 350 299 0\n",
        "450 0.7363 -1.4617 -2.3734 -0.0010 69 r add 150 0.7199 0.7922 -0.0724 351 300 0"
       ]
      },
      {
       "output_type": "stream",
       "stream": "stdout",
       "text": [
        "\n",
        "276 0.7362 -1.4602 -2.3734 -0.0030 70 r add 92 0.7332 0.7830 -0.0498 352 301 0\n",
        "2062 0.7361 -1.4592 -2.3734 -0.0023 10 r add 688 0.7636 0.7869 -0.0233 353 302 0\n",
        "549 0.7361 -1.4597 -2.3734 -0.0005 64 r add 183 0.7922 0.8345 -0.0423 354 303 0\n",
        "127 0.7360 -1.4583 -2.3734 -0.0038 31 r add 43 0.7366 0.7565 -0.0199 355 304 0\n",
        "938 0.7359 -1.4574 -2.3734 -0.0040 20 r add 313 0.7684 0.8079 -0.0396 356 305 0"
       ]
      },
      {
       "output_type": "stream",
       "stream": "stdout",
       "text": [
        "\n",
        "1893 0.7357 -1.4563 -2.3734 -0.0036 10 r add 631 0.7553 0.7869 -0.0316 357 306 0\n",
        "1190 0.7356 -1.4566 -2.3734 -0.0038 17 r add 397 0.6632 0.7518 -0.0886 358 307 0\n",
        "2336 0.7355 -1.4567 -2.3734 -0.0028 46 r add 779 0.7101 0.8210 -0.1109 359 308 0\n",
        "1001 0.7354 -1.4562 -2.3734 -0.0026 40 r add 334 0.7944 0.8006 -0.0061 360 309 0\n",
        "2113 0.7353 -1.4566 -2.3734 -0.0035 54 r add 705 0.7046 0.7568 -0.0522 361 310 0"
       ]
      },
      {
       "output_type": "stream",
       "stream": "stdout",
       "text": [
        "\n",
        "918 0.7353 -1.4561 -2.3734 -0.0005 64 r add 306 0.7912 0.8345 -0.0432 362 311 0\n",
        "2310 0.7352 -1.4559 -2.3734 -0.0028 46 r add 770 0.7032 0.8210 -0.1179 363 312 0\n",
        "1215 0.7351 -1.4555 -2.3734 -0.0019 41 r add 405 0.7325 0.7513 -0.0188 364 313 0\n",
        "534 0.7350 -1.4554 -2.3734 -0.0025 21 r add 178 0.6752 0.7917 -0.1164 365 314 0\n",
        "136 0.7350 -1.4550 -2.3734 -0.0021 49 r add 46 0.6979 0.8207 -0.1228 366 315 0"
       ]
      },
      {
       "output_type": "stream",
       "stream": "stdout",
       "text": [
        "\n",
        "914 0.7349 -1.4552 -2.3734 -0.0017 54 r add 305 0.6999 0.7568 -0.0569 367 316 0\n",
        "447 0.7348 -1.4554 -2.3734 -0.0027 72 r add 149 0.7576 0.7901 -0.0325 368 317 0\n",
        "2172 0.7348 -1.4558 -2.3734 -0.0014 70 r add 724 0.7292 0.7830 -0.0538 369 318 0\n",
        "2502 0.7347 -1.4558 -2.3734 -0.0007 6 c remove 15 0.7321 0.7339 -0.0018 370 319 0\n",
        "1003 0.7346 -1.4557 -2.3734 -0.0036 72 r add 335 0.7482 0.7901 -0.0419 371 320 0\n",
        "744 0.7345 -1.4559 -2.3734 -0.0025 16 r add 248 0.6939 0.7556 -0.0617 372 321 0"
       ]
      },
      {
       "output_type": "stream",
       "stream": "stdout",
       "text": [
        "\n",
        "1007 0.7345 -1.4560 -2.3734 -0.0020 12 r add 336 0.6779 0.7560 -0.0780 374 322 1\n",
        "731 0.7344 -1.4559 -2.3734 -0.0018 16 r add 244 0.6893 0.7556 -0.0664 375 323 0\n",
        "1587 0.7343 -1.4561 -2.3734 -0.0015 63 r add 529 0.7016 0.7126 -0.0110 376 324 0\n",
        "2434 0.7343 -1.4564 -2.3734 -0.0021 21 r add 812 0.6693 0.7917 -0.1224 377 325 0"
       ]
      },
      {
       "output_type": "stream",
       "stream": "stdout",
       "text": [
        "\n",
        "1892 0.7342 -1.4560 -2.3734 -0.0026 69 r add 631 0.7132 0.7922 -0.0791 378 326 0\n",
        "1672 0.7341 -1.4565 -2.3734 -0.0014 27 r add 558 0.7199 0.7235 -0.0036 379 327 0\n",
        "1611 0.7341 -1.4560 -2.3734 -0.0015 9 r add 537 0.7568 0.8086 -0.0519 380 328 0\n",
        "1438 0.7340 -1.4564 -2.3734 -0.0003 54 r add 480 0.6986 0.7568 -0.0582 381 329 0"
       ]
      },
      {
       "output_type": "stream",
       "stream": "stdout",
       "text": [
        "\n",
        "459 0.7340 -1.4567 -2.3734 -0.0023 41 r add 153 0.7260 0.7513 -0.0253 382 330 0\n",
        "1742 0.7339 -1.4568 -2.3734 -0.0014 49 r add 581 0.6942 0.8207 -0.1265 383 331 0\n",
        "525 0.7339 -1.4570 -2.3734 -0.0002 17 r add 175 0.6624 0.7518 -0.0893 384 332 0\n",
        "1389 0.7338 -1.4573 -2.3734 -0.0026 2 r add 463 0.7845 0.8236 -0.0390 385 333 0\n",
        "1253 0.7338 -1.4572 -2.3734 -0.0009 58 r add 418 0.7552 0.7575 -0.0023 386 334 0"
       ]
      },
      {
       "output_type": "stream",
       "stream": "stdout",
       "text": [
        "\n",
        "1552 0.7337 -1.4569 -2.3734 -0.0019 10 r add 518 0.7505 0.7869 -0.0365 387 335 0\n",
        "932 0.7337 -1.4572 -2.3734 -0.0014 21 r add 311 0.6652 0.7917 -0.1265 388 336 0\n",
        "108 0.7336 -1.4579 -2.3734 -0.0012 16 r add 36 0.6847 0.7556 -0.0709 390 337 1\n",
        "974 0.7336 -1.4569 -2.3734 -0.0009 22 r add 325 0.7056 0.7106 -0.0050 391 338 0"
       ]
      },
      {
       "output_type": "stream",
       "stream": "stdout",
       "text": [
        "\n",
        "1132 0.7335 -1.4572 -2.3734 -0.0009 16 r add 378 0.6819 0.7556 -0.0737 392 339 0\n",
        "1263 0.7334 -1.4577 -2.3734 -0.0033 22 r add 421 0.6963 0.7106 -0.0144 393 340 0\n",
        "1304 0.7334 -1.4571 -2.3734 -0.0014 51 r add 435 0.7325 0.7618 -0.0293 394 341 0"
       ]
      },
      {
       "output_type": "stream",
       "stream": "stdout",
       "text": [
        "\n",
        "2371 0.7333 -1.4569 -2.3734 -0.0015 21 r add 791 0.6612 0.7917 -0.1304 395 342 0\n",
        "1916 0.7333 -1.4575 -2.3734 -0.0013 32 r add 639 0.7395 0.7521 -0.0125 396 343 0\n",
        "1938 0.7332 -1.4573 -2.3734 -0.0022 7 r add 646 0.6349 0.7664 -0.1315 397 344 0\n",
        "1508 0.7332 -1.4573 -2.3734 -0.0009 12 r add 503 0.6755 0.7560 -0.0805 398 345 0"
       ]
      },
      {
       "output_type": "stream",
       "stream": "stdout",
       "text": [
        "\n",
        "2133 0.7331 -1.4576 -2.3734 -0.0008 53 r add 711 0.7861 0.8447 -0.0586 399 346 0\n",
        "1687 0.7331 -1.4580 -2.3738 -0.0003 1 r add 563 0.6579 0.6613 -0.0034 400 347 0\n",
        "166 0.7331 -1.4567 -2.3738 -0.0005 54 r add 56 0.6955 0.7568 -0.0613 404 348 3"
       ]
      },
      {
       "output_type": "stream",
       "stream": "stdout",
       "text": [
        "\n",
        "2175 0.7330 -1.4564 -2.3738 -0.0019 69 r add 725 0.7084 0.7922 -0.0838 405 349 0\n",
        "517 0.7330 -1.4568 -2.3738 -0.0023 30 r add 173 0.7379 0.7714 -0.0335 406 350 0\n",
        "278 0.7329 -1.4561 -2.3738 -0.0025 53 r add 93 0.7799 0.8447 -0.0648 407 351 0\n",
        "741 0.7328 -1.4564 -2.3738 -0.0010 49 r add 247 0.6912 0.8207 -0.1296 408 352 0\n",
        "2049 0.7328 -1.4549 -2.3738 -0.0010 10 r add 683 0.7451 0.7869 -0.0418 410 353 1"
       ]
      },
      {
       "output_type": "stream",
       "stream": "stdout",
       "text": [
        "\n",
        "1722 0.7328 -1.4546 -2.3738 -0.0017 54 r add 574 0.6911 0.7568 -0.0657 411 354 0\n",
        "1958 0.7327 -1.4527 -2.3738 -0.0019 27 r add 653 0.7166 0.7235 -0.0068 412 355 0\n",
        "1092 0.7326 -1.4531 -2.3738 -0.0029 64 r add 364 0.7829 0.8345 -0.0515 413 356 0\n",
        "1103 0.7325 -1.4534 -2.3738 -0.0023 54 r add 368 0.6845 0.7568 -0.0723 414 357 0"
       ]
      },
      {
       "output_type": "stream",
       "stream": "stdout",
       "text": [
        "\n",
        "167 0.7325 -1.4535 -2.3738 -0.0015 72 r add 56 0.7442 0.7901 -0.0459 415 358 0\n",
        "2316 0.7324 -1.4537 -2.3738 -0.0014 49 r add 772 0.6873 0.8207 -0.1334 416 359 0\n",
        "1714 0.7323 -1.4528 -2.3738 -0.0024 54 r add 572 0.6787 0.7568 -0.0781 417 360 0\n",
        "2233 0.7323 -1.4531 -2.3738 -0.0005 46 r add 745 0.6967 0.8210 -0.1243 419 361 1"
       ]
      },
      {
       "output_type": "stream",
       "stream": "stdout",
       "text": [
        "\n",
        "74 0.7322 -1.4530 -2.3738 -0.0033 46 r add 25 0.6877 0.8210 -0.1333 420 362 0\n",
        "1379 0.7322 -1.4533 -2.3738 -0.0007 54 r add 460 0.6765 0.7568 -0.0803 421 363 0\n",
        "426 0.7320 -1.4536 -2.3738 -0.0034 71 r add 142 0.7426 0.7861 -0.0434 422 364 0\n",
        "1126 0.7320 -1.4537 -2.3738 -0.0014 39 r add 376 0.7459 0.8007 -0.0548 423 365 0"
       ]
      },
      {
       "output_type": "stream",
       "stream": "stdout",
       "text": [
        "\n",
        "1337 0.7319 -1.4534 -2.3738 -0.0015 68 r add 446 0.7137 0.7635 -0.0497 424 366 0\n",
        "1727 0.7319 -1.4538 -2.3738 -0.0016 39 r add 576 0.7413 0.8007 -0.0594 425 367 0\n",
        "1354 0.7319 -1.4531 -2.3738 -0.0004 54 r add 452 0.6714 0.7568 -0.0854 428 368 2\n",
        "1480 0.7318 -1.4533 -2.3738 -0.0009 7 r add 494 0.6323 0.7664 -0.1341 429 369 0"
       ]
      },
      {
       "output_type": "stream",
       "stream": "stdout",
       "text": [
        "\n",
        "1877 0.7317 -1.4535 -2.3738 -0.0024 15 r add 626 0.6877 0.7972 -0.1096 430 370 0\n",
        "772 0.7317 -1.4533 -2.3738 -0.0021 49 r add 258 0.6817 0.8207 -0.1390 431 371 0\n",
        "785 0.7317 -1.4527 -2.3738 -0.0003 70 r add 262 0.7332 0.7830 -0.0498 432 372 0\n",
        "1922 0.7316 -1.4532 -2.3738 -0.0023 28 r add 641 0.7211 0.7292 -0.0081 433 373 0"
       ]
      },
      {
       "output_type": "stream",
       "stream": "stdout",
       "text": [
        "\n",
        "524 0.7315 -1.4534 -2.3738 -0.0014 64 r add 175 0.7789 0.8345 -0.0556 434 374 0\n",
        "223 0.7314 -1.4538 -2.3738 -0.0021 31 r add 75 0.7303 0.7565 -0.0262 435 375 0\n",
        "1767 0.7314 -1.4532 -2.3738 -0.0014 49 r add 589 0.6785 0.8207 -0.1422 436 376 0\n",
        "1428 0.7313 -1.4531 -2.3738 -0.0030 31 r add 476 0.7222 0.7565 -0.0343 437 377 0\n",
        "1863 0.7312 -1.4533 -2.3738 -0.0032 15 r add 621 0.6785 0.7972 -0.1188 438 378 0"
       ]
      },
      {
       "output_type": "stream",
       "stream": "stdout",
       "text": [
        "\n",
        "1793 0.7311 -1.4530 -2.3738 -0.0023 3 r add 598 0.7585 0.8073 -0.0489 439 379 0\n",
        "2377 0.7310 -1.4531 -2.3738 -0.0018 53 r add 793 0.7749 0.8447 -0.0698 440 380 0\n",
        "1262 0.7310 -1.4516 -2.3738 -0.0011 57 r add 421 0.7211 0.7415 -0.0205 441 381 0\n",
        "941 0.7309 -1.4518 -2.3738 -0.0015 21 r add 314 0.6568 0.7917 -0.1349 442 382 0\n",
        "1181 0.7308 -1.4519 -2.3738 -0.0030 21 r add 394 0.6482 0.7917 -0.1434 443 383 0"
       ]
      },
      {
       "output_type": "stream",
       "stream": "stdout",
       "text": [
        "\n",
        "170 0.7308 -1.4522 -2.3738 -0.0014 70 r add 57 0.7289 0.7830 -0.0541 444 384 0\n",
        "1837 0.7307 -1.4525 -2.3738 -0.0010 64 r add 613 0.7759 0.8345 -0.0585 445 385 0\n",
        "1866 0.7306 -1.4526 -2.3738 -0.0022 7 r add 622 0.6260 0.7664 -0.1404 446 386 0\n",
        "306 0.7306 -1.4521 -2.3738 -0.0002 53 r add 102 0.7750 0.8447 -0.0697 447 387 0\n",
        "659 0.7306 -1.4520 -2.3738 -0.0000 49 r add 220 0.6785 0.8207 -0.1422 448 388 0"
       ]
      },
      {
       "output_type": "stream",
       "stream": "stdout",
       "text": [
        "\n",
        "1932 0.7306 -1.4523 -2.3738 -0.0009 2 r add 644 0.7816 0.8236 -0.0419 449 389 0\n",
        "2516 0.7305 -1.4523 -2.3738 -0.0017 2 c add 20 0.7770 0.8236 -0.0466 450 390 0\n",
        "2212 0.7304 -1.4525 -2.3738 -0.0025 15 r add 738 0.6711 0.7972 -0.1261 451 391 0\n",
        "2287 0.7304 -1.4526 -2.3738 -0.0007 49 r add 763 0.6766 0.8207 -0.1441 452 392 0\n",
        "1423 0.7304 -1.4529 -2.3738 -0.0010 30 r add 475 0.7346 0.7714 -0.0368 454 393 1"
       ]
      },
      {
       "output_type": "stream",
       "stream": "stdout",
       "text": [
        "\n",
        "1059 0.7303 -1.4528 -2.3738 -0.0014 39 r add 353 0.7374 0.8007 -0.0633 455 394 0\n",
        "2257 0.7303 -1.4525 -2.3738 -0.0012 39 r add 753 0.7345 0.8007 -0.0662 456 395 0\n",
        "2196 0.7302 -1.4528 -2.3738 -0.0013 64 r add 732 0.7720 0.8345 -0.0624 457 396 0\n",
        "1406 0.7301 -1.4529 -2.3738 -0.0024 53 r add 469 0.7677 0.8447 -0.0770 459 397 1"
       ]
      },
      {
       "output_type": "stream",
       "stream": "stdout",
       "text": [
        "\n",
        "2060 0.7301 -1.4523 -2.3738 -0.0012 10 r add 687 0.7426 0.7869 -0.0443 460 398 0\n",
        "1857 0.7300 -1.4526 -2.3738 -0.0016 38 r add 619 0.7784 0.8126 -0.0342 461 399 0\n",
        "464 0.7300 -1.4523 -2.3738 -0.0014 33 r add 155 0.7450 0.7680 -0.0230 462 400 0\n",
        "96 0.7299 -1.4525 -2.3738 -0.0012 12 r add 32 0.6720 0.7560 -0.0840 463 401 0\n",
        "617 0.7298 -1.4527 -2.3738 -0.0037 20 r add 206 0.7569 0.8079 -0.0511 466 402 2"
       ]
      },
      {
       "output_type": "stream",
       "stream": "stdout",
       "text": [
        "\n",
        "2333 0.7297 -1.4518 -2.3738 -0.0024 46 r add 778 0.6810 0.8210 -0.1400 468 403 1\n",
        "1775 0.7297 -1.4517 -2.3738 -0.0010 49 r add 592 0.6751 0.8207 -0.1456 469 404 0\n",
        "1336 0.7295 -1.4513 -2.3738 -0.0045 14 r add 446 0.7602 0.7902 -0.0300 470 405 0\n",
        "1648 0.7295 -1.4506 -2.3738 -0.0011 68 r add 550 0.7114 0.7635 -0.0520 471 406 0"
       ]
      },
      {
       "output_type": "stream",
       "stream": "stdout",
       "text": [
        "\n",
        "1906 0.7294 -1.4503 -2.3738 -0.0017 46 r add 636 0.6767 0.8210 -0.1443 472 407 0\n",
        "2447 0.7293 -1.4497 -2.3738 -0.0036 47 r add 816 0.7517 0.7778 -0.0261 473 408 0\n",
        "543 0.7292 -1.4490 -2.3738 -0.0033 15 r add 181 0.6619 0.7972 -0.1353 476 409 2"
       ]
      },
      {
       "output_type": "stream",
       "stream": "stdout",
       "text": [
        "\n",
        "1119 0.7292 -1.4490 -2.3738 -0.0012 14 r add 373 0.7570 0.7902 -0.0332 477 410 0\n",
        "2177 0.7290 -1.4494 -2.3738 -0.0031 30 r add 726 0.7256 0.7714 -0.0457 478 411 0\n",
        "1825 0.7290 -1.4496 -2.3738 -0.0015 10 r add 609 0.7383 0.7869 -0.0486 479 412 0\n",
        "463 0.7289 -1.4497 -2.3738 -0.0017 47 r add 155 0.7457 0.7778 -0.0321 481 413 1"
       ]
      },
      {
       "output_type": "stream",
       "stream": "stdout",
       "text": [
        "\n",
        "2431 0.7288 -1.4497 -2.3738 -0.0026 68 r add 811 0.7041 0.7635 -0.0594 482 414 0\n",
        "2393 0.7288 -1.4498 -2.3738 -0.0017 21 r add 798 0.6434 0.7917 -0.1482 483 415 0\n",
        "2092 0.7287 -1.4492 -2.3738 -0.0014 16 r add 698 0.6786 0.7556 -0.0770 484 416 0\n",
        "23 0.7286 -1.4470 -2.3738 -0.0036 2 r add 8 0.7695 0.8236 -0.0541 485 417 0\n",
        "2236 0.7286 -1.4470 -2.3738 -0.0011 49 r add 746 0.6733 0.8207 -0.1474 486 418 0"
       ]
      },
      {
       "output_type": "stream",
       "stream": "stdout",
       "text": [
        "\n",
        "1129 0.7285 -1.4473 -2.3738 -0.0008 53 r add 377 0.7652 0.8447 -0.0795 487 419 0\n",
        "1824 0.7285 -1.4464 -2.3738 -0.0025 34 r add 608 0.7264 0.7403 -0.0139 488 420 0\n",
        "860 0.7284 -1.4468 -2.3738 -0.0003 9 r add 287 0.7555 0.8086 -0.0531 489 421 0\n",
        "87 0.7284 -1.4469 -2.3738 -0.0013 7 r add 29 0.6222 0.7664 -0.1441 490 422 0\n",
        "112 0.7284 -1.4472 -2.3738 -0.0008 10 r add 38 0.7358 0.7869 -0.0512 491 423 0"
       ]
      },
      {
       "output_type": "stream",
       "stream": "stdout",
       "text": [
        "\n",
        "1940 0.7283 -1.4472 -2.3738 -0.0018 7 r add 647 0.6173 0.7664 -0.1491 492 424 0\n",
        "435 0.7282 -1.4473 -2.3738 -0.0017 15 r add 145 0.6558 0.7972 -0.1415 494 425 1\n",
        "1804 0.7281 -1.4476 -2.3738 -0.0025 15 r add 602 0.6482 0.7972 -0.1491 495 426 0"
       ]
      },
      {
       "output_type": "stream",
       "stream": "stdout",
       "text": [
        "\n",
        "2372 0.7281 -1.4475 -2.3738 -0.0010 7 r add 791 0.6138 0.7664 -0.1526 497 427 1\n",
        "359 0.7280 -1.4479 -2.3738 -0.0014 64 r add 120 0.7675 0.8345 -0.0670 498 428 0\n",
        "455 0.7279 -1.4473 -2.3738 -0.0028 17 r add 152 0.6550 0.7518 -0.0968 499 429 0"
       ]
      },
      {
       "output_type": "stream",
       "stream": "stdout",
       "text": [
        "\n",
        "1125 0.7279 -1.4476 -2.3738 -0.0009 58 r add 375 0.7511 0.7575 -0.0064 501 430 1\n",
        "1335 0.7278 -1.4476 -2.3738 -0.0015 71 r add 445 0.7383 0.7861 -0.0478 502 431 0\n",
        "59 0.7278 -1.4476 -2.3738 -0.0007 51 r add 20 0.7260 0.7618 -0.0357 504 432 1"
       ]
      },
      {
       "output_type": "stream",
       "stream": "stdout",
       "text": [
        "\n",
        "414 0.7277 -1.4479 -2.3738 -0.0022 69 r add 138 0.7017 0.7922 -0.0905 505 433 0\n",
        "1629 0.7277 -1.4481 -2.3738 -0.0006 15 r add 543 0.6461 0.7972 -0.1512 506 434 0\n",
        "1721 0.7276 -1.4483 -2.3738 -0.0031 20 r add 574 0.7478 0.8079 -0.0602 507 435 0\n",
        "604 0.7276 -1.4477 -2.3738 -0.0009 70 r add 202 0.7228 0.7830 -0.0602 508 436 0"
       ]
      },
      {
       "output_type": "stream",
       "stream": "stdout",
       "text": [
        "\n",
        "1582 0.7275 -1.4475 -2.3738 -0.0016 49 r add 528 0.6690 0.8207 -0.1517 509 437 0\n",
        "532 0.7275 -1.4473 -2.3738 -0.0009 7 r add 178 0.6113 0.7664 -0.1551 510 438 0\n",
        "1832 0.7273 -1.4470 -2.3738 -0.0031 38 r add 611 0.7699 0.8126 -0.0428 511 439 0"
       ]
      },
      {
       "output_type": "stream",
       "stream": "stdout",
       "text": [
        "\n",
        "1204 0.7273 -1.4473 -2.3738 -0.0003 70 r add 402 0.7216 0.7830 -0.0614 512 440 0\n",
        "2216 0.7273 -1.4470 -2.3738 -0.0014 19 r add 739 0.7640 0.7796 -0.0155 513 441 0\n",
        "2315 0.7272 -1.4474 -2.3738 -0.0013 71 r add 772 0.7343 0.7861 -0.0518 514 442 0\n",
        "553 0.7272 -1.4477 -2.3738 -0.0012 21 r add 185 0.6397 0.7917 -0.1520 515 443 0\n",
        "2275 0.7271 -1.4475 -2.3626 -0.0010 1 r add 759 0.6554 0.6613 -0.0060 516 444 0"
       ]
      },
      {
       "output_type": "stream",
       "stream": "stdout",
       "text": [
        "\n",
        "132 0.7271 -1.4472 -2.3626 -0.0008 16 r add 44 0.6766 0.7556 -0.0790 517 445 0\n",
        "1142 0.7271 -1.4476 -2.3626 -0.0014 28 r add 381 0.7164 0.7292 -0.0128 518 446 0\n",
        "2102 0.7270 -1.4474 -2.3626 -0.0017 16 r add 701 0.6720 0.7556 -0.0836 519 447 0\n",
        "2037 0.7269 -1.4462 -2.3626 -0.0040 50 r add 679 0.7355 0.7457 -0.0102 520 448 0"
       ]
      },
      {
       "output_type": "stream",
       "stream": "stdout",
       "text": [
        "\n",
        "326 0.7268 -1.4460 -2.3626 -0.0005 49 r add 109 0.6629 0.8207 -0.1578 525 449 4\n",
        "841 0.7268 -1.4454 -2.3626 -0.0008 54 r add 281 0.6755 0.7568 -0.0813 528 450 2\n",
        "90 0.7268 -1.4453 -2.3626 -0.0002 12 r add 30 0.6700 0.7560 -0.0860 530 451 1"
       ]
      },
      {
       "output_type": "stream",
       "stream": "stdout",
       "text": [
        "\n",
        "1226 0.7268 -1.4455 -2.3626 -0.0006 21 r add 409 0.6378 0.7917 -0.1539 531 452 0\n",
        "1610 0.7267 -1.4449 -2.3626 -0.0028 63 r add 537 0.6942 0.7126 -0.0184 532 453 0\n",
        "504 0.7266 -1.4442 -2.3626 -0.0021 74 r add 168 0.7504 0.7564 -0.0059 534 454 1\n",
        "2142 0.7266 -1.4443 -2.3626 -0.0005 49 r add 714 0.6621 0.8207 -0.1586 535 455 0"
       ]
      },
      {
       "output_type": "stream",
       "stream": "stdout",
       "text": [
        "\n",
        "1752 0.7265 -1.4442 -2.3626 -0.0014 7 r add 584 0.6111 0.7664 -0.1553 536 456 0\n",
        "970 0.7265 -1.4442 -2.3626 -0.0007 53 r add 324 0.7638 0.8447 -0.0809 537 457 0\n",
        "2108 0.7265 -1.4445 -2.3626 -0.0014 12 r add 703 0.6656 0.7560 -0.0904 538 458 0\n",
        "330 0.7265 -1.4443 -2.3626 -0.0002 16 r add 110 0.6715 0.7556 -0.0841 539 459 0"
       ]
      },
      {
       "output_type": "stream",
       "stream": "stdout",
       "text": [
        "\n",
        "2112 0.7264 -1.4443 -2.3626 -0.0011 10 r add 704 0.7338 0.7869 -0.0531 543 460 3\n",
        "437 0.7264 -1.4441 -2.3626 -0.0016 54 r add 146 0.6710 0.7568 -0.0858 544 461 0\n",
        "2055 0.7263 -1.4435 -2.3626 -0.0007 10 r add 685 0.7326 0.7869 -0.0544 545 462 0"
       ]
      },
      {
       "output_type": "stream",
       "stream": "stdout",
       "text": [
        "\n",
        "143 0.7263 -1.4438 -2.3626 -0.0006 70 r add 48 0.7210 0.7830 -0.0620 546 463 0\n",
        "1918 0.7262 -1.4443 -2.3512 -0.0015 1 r add 640 0.6498 0.6613 -0.0116 548 464 1\n",
        "1844 0.7262 -1.4446 -2.3512 -0.0012 27 r add 615 0.7128 0.7235 -0.0106 549 465 0\n",
        "1519 0.7262 -1.4448 -2.3512 -0.0003 54 r add 507 0.6698 0.7568 -0.0869 550 466 0"
       ]
      },
      {
       "output_type": "stream",
       "stream": "stdout",
       "text": [
        "\n",
        "2143 0.7261 -1.4446 -2.3512 -0.0020 14 r add 715 0.7515 0.7902 -0.0387 551 467 0\n",
        "1896 0.7260 -1.4440 -2.3512 -0.0031 14 r add 632 0.7432 0.7902 -0.0471 552 468 0\n",
        "1250 0.7260 -1.4441 -2.3512 -0.0009 33 r add 417 0.7424 0.7680 -0.0256 553 469 0\n",
        "80 0.7259 -1.4445 -2.3512 -0.0017 41 r add 27 0.7205 0.7513 -0.0308 554 470 0\n",
        "318 0.7258 -1.4443 -2.3512 -0.0012 16 r add 106 0.6682 0.7556 -0.0874 555 471 0"
       ]
      },
      {
       "output_type": "stream",
       "stream": "stdout",
       "text": [
        "\n",
        "1659 0.7258 -1.4441 -2.3512 -0.0021 7 r add 553 0.6053 0.7664 -0.1611 556 472 0\n",
        "1643 0.7257 -1.4440 -2.3512 -0.0021 17 r add 548 0.6497 0.7518 -0.1020 557 473 0\n",
        "1570 0.7256 -1.4443 -2.3512 -0.0018 15 r add 524 0.6406 0.7972 -0.1567 558 474 0\n",
        "1952 0.7256 -1.4444 -2.3512 -0.0005 54 r add 651 0.6681 0.7568 -0.0886 559 475 0\n",
        "908 0.7255 -1.4447 -2.3512 -0.0013 70 r add 303 0.7170 0.7830 -0.0661 560 476 0"
       ]
      },
      {
       "output_type": "stream",
       "stream": "stdout",
       "text": [
        "\n",
        "1809 0.7255 -1.4448 -2.3512 -0.0016 53 r add 603 0.7591 0.8447 -0.0856 561 477 0\n",
        "2191 0.7254 -1.4442 -2.3512 -0.0025 64 r add 731 0.7674 0.8345 -0.0670 562 478 0\n",
        "1345 0.7253 -1.4445 -2.3512 -0.0025 58 r add 449 0.7434 0.7575 -0.0141 563 479 0\n",
        "78 0.7252 -1.4450 -2.3512 -0.0011 58 r add 26 0.7395 0.7575 -0.0180 564 480 0"
       ]
      },
      {
       "output_type": "stream",
       "stream": "stdout",
       "text": [
        "\n",
        "1790 0.7251 -1.4438 -2.3512 -0.0025 68 r add 597 0.6980 0.7635 -0.0654 567 481 2\n",
        "1151 0.7251 -1.4440 -2.3512 -0.0015 21 r add 384 0.6338 0.7917 -0.1579 568 482 0\n",
        "810 0.7250 -1.4442 -2.3512 -0.0012 21 r add 270 0.6299 0.7917 -0.1618 569 483 0\n",
        "2135 0.7250 -1.4436 -2.3512 -0.0015 70 r add 712 0.7132 0.7830 -0.0698 570 484 0"
       ]
      },
      {
       "output_type": "stream",
       "stream": "stdout",
       "text": [
        "\n",
        "575 0.7249 -1.4440 -2.3512 -0.0011 70 r add 192 0.7084 0.7830 -0.0746 572 485 1\n",
        "1289 0.7249 -1.4441 -2.3512 -0.0004 12 r add 430 0.6642 0.7560 -0.0918 573 486 0\n",
        "1091 0.7249 -1.4443 -2.3512 -0.0006 46 r add 364 0.6748 0.8210 -0.1463 574 487 0\n",
        "1685 0.7248 -1.4446 -2.3512 -0.0010 70 r add 562 0.7050 0.7830 -0.0780 575 488 0"
       ]
      },
      {
       "output_type": "stream",
       "stream": "stdout",
       "text": [
        "\n",
        "1052 0.7248 -1.4449 -2.3512 -0.0014 2 r add 351 0.7626 0.8236 -0.0610 577 489 1\n",
        "2435 0.7247 -1.4449 -2.3512 -0.0016 46 r add 812 0.6701 0.8210 -0.1509 578 490 0\n",
        "125 0.7247 -1.4450 -2.3512 -0.0016 53 r add 42 0.7544 0.8447 -0.0903 579 491 0\n",
        "1693 0.7246 -1.4436 -2.3512 -0.0021 51 r add 565 0.7239 0.7618 -0.0379 580 492 0\n",
        "1732 0.7245 -1.4438 -2.3512 -0.0022 15 r add 578 0.6337 0.7972 -0.1635 581 493 0"
       ]
      },
      {
       "output_type": "stream",
       "stream": "stdout",
       "text": [
        "\n",
        "1240 0.7244 -1.4441 -2.3512 -0.0014 15 r add 414 0.6293 0.7972 -0.1680 582 494 0\n",
        "1439 0.7244 -1.4447 -2.3512 -0.0014 48 r add 480 0.7404 0.7454 -0.0050 583 495 0\n",
        "1586 0.7243 -1.4450 -2.3512 -0.0021 69 r add 529 0.6952 0.7922 -0.0970 584 496 0\n",
        "1716 0.7242 -1.4447 -2.3512 -0.0020 72 r add 572 0.7387 0.7901 -0.0515 585 497 0"
       ]
      },
      {
       "output_type": "stream",
       "stream": "stdout",
       "text": [
        "\n",
        "1925 0.7242 -1.4450 -2.3512 -0.0011 34 r add 642 0.7227 0.7403 -0.0175 586 498 0\n",
        "2497 0.7241 -1.4450 -2.3512 -0.0010 32 c remove 14 0.7365 0.7521 -0.0155 587 499 0\n",
        "1191 0.7241 -1.4452 -2.3512 -0.0012 68 r add 397 0.6926 0.7635 -0.0708 590 500 2\n",
        "1010 0.7240 -1.4452 -2.3512 -0.0015 7 r add 337 0.6009 0.7664 -0.1655 591 501 0"
       ]
      },
      {
       "output_type": "stream",
       "stream": "stdout",
       "text": [
        "\n",
        "1432 0.7240 -1.4445 -2.3512 -0.0009 70 r add 478 0.7037 0.7830 -0.0793 592 502 0\n",
        "2514 0.7239 -1.4445 -2.3512 -0.0013 4 c remove 19 0.7400 0.7440 -0.0040 593 503 0\n",
        "389 0.7239 -1.4450 -2.3512 -0.0018 25 r add 130 0.7446 0.7715 -0.0269 594 504 0\n",
        "1763 0.7238 -1.4451 -2.3512 -0.0004 69 r add 588 0.6939 0.7922 -0.0984 595 505 0\n",
        "2195 0.7238 -1.4454 -2.3512 -0.0000 7 r add 732 0.6006 0.7664 -0.1658 596 506 0\n",
        "244 0.7238 -1.4458 -2.3512 -0.0004 61 r add 82 0.7263 0.7434 -0.0171 597 507 0\n",
        "1233 0.7238 -1.4461 -2.3512 -0.0012 15 r add 411 0.6255 0.7972 -0.1718 598 508 0"
       ]
      },
      {
       "output_type": "stream",
       "stream": "stdout",
       "text": [
        "\n",
        "1259 0.7238 -1.4467 -2.3512 -0.0001 65 r add 420 0.7666 0.7713 -0.0047 599 509 0\n",
        "939 0.7237 -1.4462 -2.3512 -0.0009 53 r add 313 0.7523 0.8447 -0.0924 600 510 0\n",
        "1112 0.7237 -1.4462 -2.3512 -0.0010 46 r add 371 0.6671 0.8210 -0.1540 601 511 0\n",
        "1513 0.7236 -1.4463 -2.3512 -0.0023 54 r add 505 0.6611 0.7568 -0.0957 602 512 0\n",
        "456 0.7235 -1.4467 -2.3512 -0.0026 68 r add 152 0.6844 0.7635 -0.0790 603 513 0\n",
        "117 0.7234 -1.4470 -2.3512 -0.0008 71 r add 39 0.7262 0.7861 -0.0599 604 514 0"
       ]
      },
      {
       "output_type": "stream",
       "stream": "stdout",
       "text": [
        "\n",
        "710 0.7233 -1.4471 -2.3512 -0.0022 51 r add 237 0.7171 0.7618 -0.0447 605 515 0\n",
        "1356 0.7233 -1.4471 -2.3512 -0.0010 70 r add 452 0.7008 0.7830 -0.0822 606 516 0\n",
        "2626 0.7233 -1.4471 -2.3512 -0.0009 56 c add 57 0.7486 0.7623 -0.0137 607 517 0\n",
        "1037 0.7232 -1.4470 -2.3512 -0.0018 54 r add 346 0.6556 0.7568 -0.1012 608 518 0\n",
        "2362 0.7231 -1.4468 -2.3512 -0.0023 46 r add 788 0.6603 0.8210 -0.1608 611 519 2\n",
        "2014 0.7231 -1.4473 -2.3512 -0.0005 19 r add 672 0.7619 0.7796 -0.0176 612 520 0"
       ]
      },
      {
       "output_type": "stream",
       "stream": "stdout",
       "text": [
        "\n",
        "953 0.7229 -1.4477 -2.3512 -0.0040 22 r add 318 0.6838 0.7106 -0.0268 613 521 0\n",
        "20 0.7228 -1.4481 -2.3512 -0.0017 25 r add 7 0.7388 0.7715 -0.0328 614 522 0\n",
        "1175 0.7228 -1.4483 -2.3512 -0.0015 46 r add 392 0.6556 0.8210 -0.1654 615 523 0\n",
        "173 0.7227 -1.4484 -2.3512 -0.0015 16 r add 58 0.6634 0.7556 -0.0922 616 524 0\n",
        "2246 0.7226 -1.4475 -2.3512 -0.0037 17 r add 749 0.6394 0.7518 -0.1123 617 525 0"
       ]
      },
      {
       "output_type": "stream",
       "stream": "stdout",
       "text": [
        "\n",
        "462 0.7226 -1.4478 -2.3512 -0.0002 31 r add 154 0.7214 0.7565 -0.0351 618 526 0\n",
        "1818 0.7226 -1.4475 -2.3512 -0.0002 12 r add 606 0.6649 0.7560 -0.0911 619 527 0\n",
        "336 0.7225 -1.4475 -2.3512 -0.0018 19 r add 112 0.7562 0.7796 -0.0234 620 528 0\n",
        "1760 0.7224 -1.4475 -2.3512 -0.0014 49 r add 587 0.6637 0.8207 -0.1570 621 529 0\n",
        "2223 0.7223 -1.4474 -2.3512 -0.0020 46 r add 741 0.6495 0.8210 -0.1716 622 530 0"
       ]
      },
      {
       "output_type": "stream",
       "stream": "stdout",
       "text": [
        "\n",
        "1237 0.7223 -1.4477 -2.3512 -0.0009 54 r add 413 0.6527 0.7568 -0.1041 623 531 0\n",
        "1874 0.7222 -1.4478 -2.3512 -0.0013 17 r add 625 0.6353 0.7518 -0.1165 624 532 0\n",
        "254 0.7222 -1.4478 -2.3512 -0.0013 53 r add 85 0.7482 0.8447 -0.0965 625 533 0\n",
        "440 0.7221 -1.4474 -2.3512 -0.0031 72 r add 147 0.7294 0.7901 -0.0607 626 534 0\n",
        "1496 0.7220 -1.4477 -2.3512 -0.0018 2 r add 499 0.7565 0.8236 -0.0670 627 535 0"
       ]
      },
      {
       "output_type": "stream",
       "stream": "stdout",
       "text": [
        "\n",
        "1915 0.7220 -1.4481 -2.3512 -0.0004 14 r add 639 0.7425 0.7902 -0.0477 628 536 0\n",
        "2210 0.7219 -1.4479 -2.3512 -0.0010 15 r add 737 0.6226 0.7972 -0.1747 629 537 0\n",
        "2063 0.7219 -1.4478 -2.3512 -0.0007 16 r add 688 0.6592 0.7556 -0.0964 632 538 2\n",
        "730 0.7218 -1.4477 -2.3512 -0.0017 53 r add 244 0.7430 0.8447 -0.1017 633 539 0\n",
        "2041 0.7218 -1.4476 -2.3512 -0.0010 70 r add 681 0.6937 0.7830 -0.0893 634 540 0"
       ]
      },
      {
       "output_type": "stream",
       "stream": "stdout",
       "text": [
        "\n",
        "982 0.7217 -1.4480 -2.3512 -0.0023 72 r add 328 0.7219 0.7901 -0.0682 635 541 0\n",
        "1070 0.7216 -1.4473 -2.3512 -0.0021 39 r add 357 0.7338 0.8007 -0.0669 636 542 0\n",
        "432 0.7216 -1.4468 -2.3512 -0.0018 15 r add 144 0.6177 0.7972 -0.1796 637 543 0\n",
        "181 0.7215 -1.4466 -2.3512 -0.0010 30 r add 61 0.7229 0.7714 -0.0485 638 544 0\n",
        "1734 0.7215 -1.4465 -2.3512 -0.0011 49 r add 578 0.6604 0.8207 -0.1603 639 545 0"
       ]
      },
      {
       "output_type": "stream",
       "stream": "stdout",
       "text": [
        "\n",
        "128 0.7215 -1.4464 -2.3512 -0.0002 70 r add 43 0.6932 0.7830 -0.0898 640 546 0\n",
        "371 0.7214 -1.4466 -2.3512 -0.0004 39 r add 124 0.7325 0.8007 -0.0682 641 547 0\n",
        "2438 0.7214 -1.4465 -2.3512 -0.0006 36 r add 813 0.7106 0.7125 -0.0019 642 548 0\n",
        "511 0.7213 -1.4468 -2.3512 -0.0022 14 r add 171 0.7354 0.7902 -0.0548 643 549 0\n",
        "2124 0.7212 -1.4468 -2.3512 -0.0027 9 r add 708 0.7467 0.8086 -0.0620 645 550 1"
       ]
      },
      {
       "output_type": "stream",
       "stream": "stdout",
       "text": [
        "\n",
        "2623 0.7211 -1.4468 -2.3512 -0.0022 49 c add 56 0.6536 0.8207 -0.1671 646 551 0\n",
        "1098 0.7210 -1.4470 -2.3512 -0.0021 23 r add 366 0.7489 0.7490 -0.0001 647 552 0\n",
        "790 0.7210 -1.4466 -2.3512 -0.0018 15 r add 264 0.6125 0.7972 -0.1847 648 553 0\n",
        "485 0.7209 -1.4467 -2.3512 -0.0017 15 r add 162 0.6071 0.7972 -0.1901 649 554 0\n",
        "393 0.7208 -1.4467 -2.3512 -0.0022 68 r add 131 0.6775 0.7635 -0.0859 650 555 0\n",
        "2489 0.7208 -1.4467 -2.3512 -0.0008 43 c remove 11 0.7195 0.7220 -0.0025 651 556 0\n",
        "2141 0.7207 -1.4470 -2.3512 -0.0010 71 r add 714 0.7227 0.7861 -0.0634 652 557 0"
       ]
      },
      {
       "output_type": "stream",
       "stream": "stdout",
       "text": [
        "\n",
        "25 0.7207 -1.4468 -2.3512 -0.0014 12 r add 9 0.6605 0.7560 -0.0954 653 558 0\n",
        "161 0.7206 -1.4470 -2.3512 -0.0003 15 r add 54 0.6058 0.7972 -0.1914 654 559 0\n",
        "1329 0.7206 -1.4471 -2.3512 -0.0009 21 r add 443 0.6268 0.7917 -0.1648 655 560 0\n",
        "862 0.7206 -1.4469 -2.3512 -0.0013 49 r add 288 0.6497 0.8207 -0.1710 656 561 0\n",
        "1414 0.7205 -1.4470 -2.3512 -0.0015 68 r add 472 0.6725 0.7635 -0.0910 657 562 0"
       ]
      },
      {
       "output_type": "stream",
       "stream": "stdout",
       "text": [
        "\n",
        "451 0.7204 -1.4470 -2.3512 -0.0020 15 r add 151 0.5994 0.7972 -0.1979 658 563 0\n",
        "2591 0.7202 -1.4470 -2.3512 -0.0042 64 c add 45 0.7540 0.8345 -0.0804 659 564 0\n",
        "2028 0.7202 -1.4475 -2.3512 -0.0002 40 r add 676 0.7932 0.8006 -0.0074 660 565 0\n",
        "496 0.7202 -1.4473 -2.3386 -0.0003 1 r add 166 0.6490 0.6613 -0.0123 661 566 0\n",
        "961 0.7201 -1.4473 -2.3386 -0.0013 9 r add 321 0.7428 0.8086 -0.0659 662 567 0\n",
        "2303 0.7200 -1.4451 -2.3386 -0.0032 61 r add 768 0.7189 0.7434 -0.0245 663 568 0"
       ]
      },
      {
       "output_type": "stream",
       "stream": "stdout",
       "text": [
        "\n",
        "1841 0.7200 -1.4452 -2.3386 -0.0013 54 r add 614 0.6483 0.7568 -0.1085 664 569 0\n",
        "883 0.7199 -1.4446 -2.3386 -0.0029 38 r add 295 0.7613 0.8126 -0.0513 665 570 0\n",
        "469 0.7198 -1.4448 -2.3273 -0.0015 69 r add 157 0.6907 0.7922 -0.1016 667 571 1"
       ]
      },
      {
       "output_type": "stream",
       "stream": "stdout",
       "text": [
        "\n",
        "960 0.7197 -1.4448 -2.3273 -0.0014 17 r add 320 0.6310 0.7518 -0.1208 668 572 0\n",
        "627 0.7197 -1.4444 -2.3273 -0.0016 68 r add 209 0.6678 0.7635 -0.0956 669 573 0\n",
        "1482 0.7196 -1.4449 -2.3273 -0.0009 58 r add 494 0.7361 0.7575 -0.0214 670 574 0\n",
        "379 0.7195 -1.4448 -2.3273 -0.0022 68 r add 127 0.6608 0.7635 -0.1027 671 575 0"
       ]
      },
      {
       "output_type": "stream",
       "stream": "stdout",
       "text": [
        "\n",
        "735 0.7195 -1.4452 -2.3273 -0.0005 25 r add 245 0.7366 0.7715 -0.0349 672 576 0\n",
        "1180 0.7195 -1.4451 -2.3273 -0.0016 68 r add 394 0.6559 0.7635 -0.1076 673 577 0\n",
        "1128 0.7194 -1.4453 -2.3273 -0.0013 30 r add 376 0.7185 0.7714 -0.0529 674 578 0\n",
        "1377 0.7194 -1.4454 -2.3273 -0.0002 70 r add 459 0.6923 0.7830 -0.0907 675 579 0\n",
        "2341 0.7193 -1.4457 -2.3273 -0.0010 39 r add 781 0.7291 0.8007 -0.0716 676 580 0"
       ]
      },
      {
       "output_type": "stream",
       "stream": "stdout",
       "text": [
        "\n",
        "1950 0.7193 -1.4459 -2.3273 -0.0008 15 r add 650 0.5964 0.7972 -0.2008 677 581 0\n",
        "937 0.7193 -1.4455 -2.3273 -0.0001 70 r add 313 0.6923 0.7830 -0.0907 679 582 1\n",
        "931 0.7192 -1.4457 -2.3273 -0.0012 46 r add 311 0.6453 0.8210 -0.1757 680 583 0\n",
        "1853 0.7192 -1.4459 -2.3273 -0.0014 27 r add 618 0.7080 0.7235 -0.0155 681 584 0\n",
        "2425 0.7192 -1.4452 -2.3273 -0.0003 68 r add 809 0.6498 0.7635 -0.1137 683 585 1"
       ]
      },
      {
       "output_type": "stream",
       "stream": "stdout",
       "text": [
        "\n",
        "1658 0.7191 -1.4450 -2.3273 -0.0011 49 r add 553 0.6462 0.8207 -0.1745 684 586 0\n",
        "2385 0.7191 -1.4452 -2.3273 -0.0005 7 r add 795 0.5965 0.7664 -0.1698 686 587 1\n",
        "395 0.7191 -1.4445 -2.3160 -0.0009 49 r add 132 0.6433 0.8207 -0.1774 688 588 1\n",
        "1071 0.7191 -1.4445 -2.3160 -0.0002 53 r add 357 0.7428 0.8447 -0.1019 689 589 0\n",
        "252 0.7190 -1.4448 -2.3160 -0.0016 64 r add 84 0.7484 0.8345 -0.0861 690 590 0"
       ]
      },
      {
       "output_type": "stream",
       "stream": "stdout",
       "text": [
        "\n",
        "1027 0.7189 -1.4444 -2.3160 -0.0020 17 r add 343 0.6250 0.7518 -0.1267 691 591 0\n",
        "2413 0.7189 -1.4445 -2.3160 -0.0009 51 r add 805 0.7139 0.7618 -0.0479 692 592 0\n",
        "2518 0.7188 -1.4445 -2.3160 -0.0012 68 c remove 21 0.6458 0.7635 -0.1176 693 593 0\n",
        "1096 0.7188 -1.4447 -2.3160 -0.0006 7 r add 366 0.5944 0.7664 -0.1720 694 594 0\n",
        "1063 0.7187 -1.4450 -2.3160 -0.0009 51 r add 355 0.7061 0.7618 -0.0556 696 595 1\n",
        "1236 0.7187 -1.4449 -2.3160 -0.0004 15 r add 412 0.5954 0.7972 -0.2018 697 596 0"
       ]
      },
      {
       "output_type": "stream",
       "stream": "stdout",
       "text": [
        "\n",
        "2415 0.7187 -1.4454 -2.3160 -0.0007 30 r add 805 0.7143 0.7714 -0.0571 699 597 1\n",
        "2009 0.7187 -1.4453 -2.3160 -0.0006 49 r add 670 0.6415 0.8207 -0.1792 700 598 0\n",
        "1319 0.7186 -1.4455 -2.3160 -0.0017 54 r add 440 0.6423 0.7568 -0.1145 701 599 0\n",
        "1772 0.7185 -1.4453 -2.3160 -0.0014 67 r add 591 0.7181 0.7233 -0.0052 703 600 1"
       ]
      },
      {
       "output_type": "stream",
       "stream": "stdout",
       "text": [
        "\n",
        "2302 0.7185 -1.4447 -2.3160 -0.0011 7 r add 768 0.5916 0.7664 -0.1748 704 601 0\n",
        "881 0.7184 -1.4446 -2.3160 -0.0022 51 r add 294 0.6988 0.7618 -0.0629 705 602 0\n",
        "203 0.7183 -1.4446 -2.3160 -0.0012 15 r add 68 0.5914 0.7972 -0.2058 706 603 0\n",
        "1561 0.7183 -1.4444 -2.3160 -0.0010 51 r add 521 0.6958 0.7618 -0.0660 707 604 0\n",
        "2180 0.7183 -1.4444 -2.3160 -0.0012 21 r add 727 0.6231 0.7917 -0.1686 708 605 0\n"
       ]
      },
      {
       "output_type": "stream",
       "stream": "stdout",
       "text": [
        "825 0.7182 -1.4444 -2.3160 -0.0015 17 r add 275 0.6200 0.7518 -0.1318 709 606 0\n",
        "1062 0.7181 -1.4438 -2.3160 -0.0019 38 r add 354 0.7548 0.8126 -0.0579 711 607 1\n",
        "2106 0.7180 -1.4436 -2.3160 -0.0019 30 r add 702 0.7082 0.7714 -0.0632 712 608 0\n",
        "1591 0.7180 -1.4432 -2.3160 -0.0011 17 r add 531 0.6149 0.7518 -0.1369 714 609 1"
       ]
      },
      {
       "output_type": "stream",
       "stream": "stdout",
       "text": [
        "\n",
        "1369 0.7180 -1.4433 -2.3160 -0.0008 12 r add 457 0.6601 0.7560 -0.0959 715 610 0\n",
        "1466 0.7179 -1.4434 -2.3160 -0.0011 15 r add 489 0.5875 0.7972 -0.2097 716 611 0\n",
        "316 0.7179 -1.4430 -2.3047 -0.0001 49 r add 106 0.6396 0.8207 -0.1811 718 612 1\n",
        "557 0.7179 -1.4432 -2.3047 -0.0002 2 r add 186 0.7557 0.8236 -0.0679 719 613 0\n",
        "1695 0.7178 -1.4420 -2.3047 -0.0015 27 r add 565 0.7025 0.7235 -0.0210 721 614 1"
       ]
      },
      {
       "output_type": "stream",
       "stream": "stdout",
       "text": [
        "\n",
        "1618 0.7178 -1.4413 -2.3047 -0.0015 14 r add 540 0.7311 0.7902 -0.0591 722 615 0\n",
        "500 0.7177 -1.4412 -2.3047 -0.0014 64 r add 167 0.7439 0.8345 -0.0906 723 616 0\n",
        "1774 0.7177 -1.4411 -2.3047 -0.0007 7 r add 592 0.5894 0.7664 -0.1770 724 617 0\n",
        "178 0.7177 -1.4407 -2.3047 -0.0012 30 r add 60 0.7047 0.7714 -0.0667 725 618 0"
       ]
      },
      {
       "output_type": "stream",
       "stream": "stdout",
       "text": [
        "\n",
        "646 0.7176 -1.4407 -2.3047 -0.0005 27 r add 216 0.7006 0.7235 -0.0229 726 619 0\n",
        "1472 0.7176 -1.4407 -2.3047 -0.0010 7 r add 491 0.5860 0.7664 -0.1804 727 620 0\n",
        "768 0.7175 -1.4409 -2.3047 -0.0013 17 r add 256 0.6102 0.7518 -0.1415 728 621 0\n",
        "92 0.7175 -1.4401 -2.3047 -0.0019 41 r add 31 0.7151 0.7513 -0.0363 729 622 0"
       ]
      },
      {
       "output_type": "stream",
       "stream": "stdout",
       "text": [
        "\n",
        "1333 0.7174 -1.4402 -2.3047 -0.0012 49 r add 445 0.6375 0.8207 -0.1832 730 623 0\n",
        "2096 0.7174 -1.4396 -2.3047 -0.0006 10 r add 699 0.7314 0.7869 -0.0555 731 624 0\n",
        "209 0.7173 -1.4399 -2.3047 -0.0009 68 r add 70 0.6424 0.7635 -0.1211 732 625 0"
       ]
      },
      {
       "output_type": "stream",
       "stream": "stdout",
       "text": [
        "\n",
        "172 0.7172 -1.4400 -2.3047 -0.0024 10 r add 58 0.7231 0.7869 -0.0638 733 626 0\n",
        "1612 0.7172 -1.4400 -2.3047 -0.0011 21 r add 538 0.6192 0.7917 -0.1724 734 627 0\n",
        "146 0.7172 -1.4403 -2.3047 -0.0001 12 r add 49 0.6594 0.7560 -0.0966 735 628 0\n",
        "2575 0.7172 -1.4406 -2.3047 -0.0001 48 c remove 40 0.7345 0.7454 -0.0108 738 629 2\n",
        "186 0.7170 -1.4410 -2.3047 -0.0022 19 r add 62 0.7483 0.7796 -0.0312 739 630 0\n",
        "739 0.7170 -1.4413 -2.3047 -0.0017 71 r add 247 0.7166 0.7861 -0.0695 740 631 0"
       ]
      },
      {
       "output_type": "stream",
       "stream": "stdout",
       "text": [
        "\n",
        "1678 0.7169 -1.4416 -2.3047 -0.0012 39 r add 560 0.7264 0.8007 -0.0743 741 632 0\n",
        "1108 0.7168 -1.4417 -2.3047 -0.0013 21 r add 370 0.6145 0.7917 -0.1771 742 633 0\n",
        "904 0.7168 -1.4417 -2.3047 -0.0011 53 r add 302 0.7389 0.8447 -0.1058 743 634 0\n",
        "210 0.7168 -1.4422 -2.3047 -0.0000 40 r add 70 0.7924 0.8006 -0.0082 744 635 0\n",
        "208 0.7167 -1.4424 -2.3047 -0.0007 63 r add 70 0.6916 0.7126 -0.0210 745 636 0"
       ]
      },
      {
       "output_type": "stream",
       "stream": "stdout",
       "text": [
        "\n",
        "628 0.7167 -1.4423 -2.3047 -0.0009 49 r add 210 0.6344 0.8207 -0.1863 746 637 0\n",
        "2168 0.7167 -1.4423 -2.3047 -0.0011 7 r add 723 0.5821 0.7664 -0.1843 748 638 1\n",
        "1691 0.7166 -1.4416 -2.3047 -0.0022 27 r add 564 0.6940 0.7235 -0.0295 749 639 0\n",
        "2002 0.7165 -1.4418 -2.3047 -0.0008 54 r add 668 0.6393 0.7568 -0.1175 750 640 0\n",
        "1256 0.7165 -1.4420 -2.3047 -0.0003 30 r add 419 0.7032 0.7714 -0.0682 751 641 0"
       ]
      },
      {
       "output_type": "stream",
       "stream": "stdout",
       "text": [
        "\n",
        "658 0.7164 -1.4415 -2.3047 -0.0019 40 r add 220 0.7867 0.8006 -0.0139 752 642 0\n",
        "2254 0.7164 -1.4416 -2.3047 -0.0009 54 r add 752 0.6360 0.7568 -0.1208 753 643 0\n",
        "1599 0.7163 -1.4414 -2.3047 -0.0023 57 r add 533 0.7102 0.7415 -0.0313 754 644 0\n",
        "428 0.7162 -1.4416 -2.3047 -0.0015 15 r add 143 0.5823 0.7972 -0.2150 755 645 0\n",
        "1327 0.7162 -1.4415 -2.3047 -0.0008 15 r add 443 0.5794 0.7972 -0.2178 756 646 0\n",
        "1081 0.7162 -1.4416 -2.3047 -0.0004 46 r add 361 0.6485 0.8210 -0.1726 757 647 0\n",
        "2420 0.7161 -1.4410 -2.3047 -0.0016 30 r add 807 0.6985 0.7714 -0.0729 758 648 0"
       ]
      },
      {
       "output_type": "stream",
       "stream": "stdout",
       "text": [
        "\n",
        "1662 0.7160 -1.4409 -2.3047 -0.0016 68 r add 554 0.6370 0.7635 -0.1264 759 649 0\n",
        "1220 0.7160 -1.4407 -2.3047 -0.0008 12 r add 407 0.6552 0.7560 -0.1007 760 650 0\n",
        "1955 0.7159 -1.4410 -2.3047 -0.0026 22 r add 652 0.6814 0.7106 -0.0293 761 651 0\n",
        "1495 0.7158 -1.4410 -2.3047 -0.0013 54 r add 499 0.6314 0.7568 -0.1254 762 652 0\n",
        "819 0.7157 -1.4414 -2.3047 -0.0025 19 r add 273 0.7392 0.7796 -0.0404 763 653 0"
       ]
      },
      {
       "output_type": "stream",
       "stream": "stdout",
       "text": [
        "\n",
        "1017 0.7156 -1.4415 -2.3047 -0.0016 71 r add 339 0.7098 0.7861 -0.0763 767 654 3\n",
        "948 0.7156 -1.4417 -2.3047 -0.0008 15 r add 316 0.5764 0.7972 -0.2209 768 655 0\n",
        "2083 0.7155 -1.4406 -2.3047 -0.0015 66 r add 695 0.7038 0.7471 -0.0433 769 656 0"
       ]
      },
      {
       "output_type": "stream",
       "stream": "stdout",
       "text": [
        "\n",
        "721 0.7155 -1.4403 -2.3047 -0.0008 70 r add 241 0.6899 0.7830 -0.0931 770 657 0\n",
        "2610 0.7154 -1.4403 -2.3047 -0.0014 23 c add 51 0.7440 0.7490 -0.0050 771 658 0\n",
        "1728 0.7154 -1.4405 -2.3047 -0.0004 25 r add 576 0.7347 0.7715 -0.0368 772 659 0\n",
        "1054 0.7152 -1.4404 -2.3047 -0.0044 73 r add 352 0.7099 0.7238 -0.0139 773 660 0\n",
        "2173 0.7151 -1.4398 -2.3047 -0.0020 9 r add 725 0.7366 0.8086 -0.0721 774 661 0\n",
        "2586 0.7150 -1.4398 -2.3047 -0.0016 18 c add 43 0.8119 0.8238 -0.0119 775 662 0\n",
        "1195 0.7150 -1.4394 -2.3047 -0.0002 39 r add 399 0.7262 0.8007 -0.0745 776 663 0"
       ]
      },
      {
       "output_type": "stream",
       "stream": "stdout",
       "text": [
        "\n",
        "2554 0.7149 -1.4396 -2.3047 -0.0024 68 c add 33 0.6280 0.7635 -0.1355 778 664 1\n",
        "2242 0.7149 -1.4396 -2.3047 -0.0010 7 r add 748 0.5787 0.7664 -0.1877 779 665 0\n",
        "1118 0.7148 -1.4400 -2.3047 -0.0025 47 r add 373 0.7443 0.7778 -0.0335 780 666 0\n",
        "1522 0.7147 -1.4402 -2.3047 -0.0007 54 r add 508 0.6287 0.7568 -0.1281 781 667 0\n",
        "1150 0.7147 -1.4403 -2.3047 -0.0010 15 r add 384 0.5727 0.7972 -0.2245 782 668 0\n",
        "1179 0.7146 -1.4403 -2.3047 -0.0006 15 r add 393 0.5704 0.7972 -0.2269 784 669 1"
       ]
      },
      {
       "output_type": "stream",
       "stream": "stdout",
       "text": [
        "\n",
        "1230 0.7146 -1.4406 -2.3047 -0.0004 9 r add 410 0.7347 0.8086 -0.0740 785 670 0\n",
        "2324 0.7145 -1.4398 -2.3047 -0.0026 48 r add 775 0.7266 0.7454 -0.0187 786 671 0\n",
        "679 0.7145 -1.4400 -2.3047 -0.0002 54 r add 227 0.6279 0.7568 -0.1289 787 672 0\n",
        "1115 0.7145 -1.4401 -2.3047 -0.0011 46 r add 372 0.6410 0.8210 -0.1801 788 673 0\n",
        "654 0.7143 -1.4405 -2.3047 -0.0023 19 r add 218 0.7305 0.7796 -0.0491 789 674 0\n",
        "1127 0.7143 -1.4406 -2.3047 -0.0018 65 r add 376 0.7601 0.7713 -0.0112 790 675 0"
       ]
      },
      {
       "output_type": "stream",
       "stream": "stdout",
       "text": [
        "\n",
        "1172 0.7142 -1.4410 -2.3047 -0.0003 53 r add 391 0.7366 0.8447 -0.1081 792 676 1\n",
        "2231 0.7141 -1.4416 -2.3047 -0.0015 31 r add 744 0.7153 0.7565 -0.0412 794 677 1\n",
        "2483 0.7141 -1.4412 -2.3047 -0.0010 31 c remove 9 0.7088 0.7565 -0.0477 801 678 6"
       ]
      },
      {
       "output_type": "stream",
       "stream": "stdout",
       "text": [
        "\n",
        "2183 0.7141 -1.4410 -2.3047 -0.0010 7 r add 728 0.5756 0.7664 -0.1908 802 679 0\n",
        "2248 0.7140 -1.4411 -2.3047 -0.0010 15 r add 750 0.5668 0.7972 -0.2305 803 680 0\n",
        "2001 0.7140 -1.4413 -2.3047 -0.0012 66 r add 667 0.6994 0.7471 -0.0478 804 681 0\n",
        "387 0.7139 -1.4415 -2.3047 -0.0008 70 r add 129 0.6875 0.7830 -0.0955 805 682 0\n",
        "151 0.7139 -1.4409 -2.3047 -0.0010 10 r add 51 0.7205 0.7869 -0.0664 806 683 0"
       ]
      },
      {
       "output_type": "stream",
       "stream": "stdout",
       "text": [
        "\n",
        "2170 0.7138 -1.4409 -2.3047 -0.0012 54 r add 724 0.6237 0.7568 -0.1331 807 684 0\n",
        "1149 0.7138 -1.4412 -2.3047 -0.0011 51 r add 383 0.6913 0.7618 -0.0705 808 685 0\n",
        "973 0.7136 -1.4415 -2.2890 -0.0024 20 r add 325 0.7382 0.8079 -0.0697 818 686 9"
       ]
      },
      {
       "output_type": "stream",
       "stream": "stdout",
       "text": [
        "\n",
        "2499 0.7136 -1.4415 -2.2890 -0.0008 65 c remove 14 0.7571 0.7713 -0.0142 819 687 0\n",
        "975 0.7135 -1.4415 -2.2890 -0.0017 72 r add 325 0.7157 0.7901 -0.0744 820 688 0\n",
        "474 0.7135 -1.4413 -2.2890 -0.0004 21 r add 158 0.6136 0.7917 -0.1781 821 689 0\n",
        "2080 0.7134 -1.4404 -2.2890 -0.0018 66 r add 694 0.6924 0.7471 -0.0548 822 690 0\n",
        "2265 0.7134 -1.4407 -2.2890 -0.0017 20 r add 755 0.7317 0.8079 -0.0763 823 691 0\n",
        "1012 0.7133 -1.4408 -2.2890 -0.0009 15 r add 338 0.5605 0.7972 -0.2367 824 692 0"
       ]
      },
      {
       "output_type": "stream",
       "stream": "stdout",
       "text": [
        "\n",
        "899 0.7133 -1.4400 -2.2890 -0.0009 54 r add 300 0.6217 0.7568 -0.1351 825 693 0\n",
        "1965 0.7132 -1.4403 -2.2890 -0.0013 30 r add 655 0.6879 0.7714 -0.0835 826 694 0\n",
        "766 0.7132 -1.4403 -2.2890 -0.0006 49 r add 256 0.6421 0.8207 -0.1786 827 695 0\n",
        "1656 0.7131 -1.4399 -2.2890 -0.0015 9 r add 552 0.7299 0.8086 -0.0788 828 696 0\n",
        "1302 0.7131 -1.4389 -2.2890 -0.0016 74 r add 434 0.7461 0.7564 -0.0103 829 697 0"
       ]
      },
      {
       "output_type": "stream",
       "stream": "stdout",
       "text": [
        "\n",
        "2185 0.7130 -1.4386 -2.2890 -0.0016 9 r add 729 0.7247 0.8086 -0.0839 830 698 0\n",
        "216 0.7130 -1.4370 -2.2890 -0.0005 5 r add 72 0.7080 0.7176 -0.0096 832 699 1\n",
        "602 0.7130 -1.4373 -2.2890 -0.0010 51 r add 201 0.6873 0.7618 -0.0745 833 700 0\n",
        "1437 0.7129 -1.4374 -2.2890 -0.0004 17 r add 479 0.6085 0.7518 -0.1432 834 701 0"
       ]
      },
      {
       "output_type": "stream",
       "stream": "stdout",
       "text": [
        "\n",
        "1160 0.7129 -1.4374 -2.2890 -0.0008 17 r add 387 0.6055 0.7518 -0.1462 835 702 0\n",
        "849 0.7128 -1.4368 -2.2890 -0.0020 71 r add 283 0.7035 0.7861 -0.0825 836 703 0\n",
        "2245 0.7128 -1.4366 -2.2890 -0.0011 7 r add 749 0.5721 0.7664 -0.1943 837 704 0\n",
        "2048 0.7127 -1.4363 -2.2890 -0.0014 69 r add 683 0.6874 0.7922 -0.1048 838 705 0"
       ]
      },
      {
       "output_type": "stream",
       "stream": "stdout",
       "text": [
        "\n",
        "919 0.7127 -1.4365 -2.2890 -0.0002 15 r add 307 0.5596 0.7972 -0.2376 839 706 0\n",
        "940 0.7126 -1.4375 -2.2890 -0.0007 69 r add 314 0.6813 0.7922 -0.1110 844 707 4"
       ]
      },
      {
       "output_type": "stream",
       "stream": "stdout",
       "text": [
        "\n",
        "1500 0.7126 -1.4377 -2.2890 -0.0004 70 r add 500 0.6872 0.7830 -0.0958 849 708 4\n",
        "1243 0.7126 -1.4379 -2.2890 -0.0009 10 r add 415 0.7170 0.7869 -0.0699 850 709 0"
       ]
      },
      {
       "output_type": "stream",
       "stream": "stdout",
       "text": [
        "\n",
        "911 0.7125 -1.4381 -2.2890 -0.0005 46 r add 304 0.6379 0.8210 -0.1831 851 710 0\n",
        "1575 0.7125 -1.4382 -2.2890 -0.0008 68 r add 525 0.6196 0.7635 -0.1438 852 711 0\n",
        "443 0.7124 -1.4383 -2.2890 -0.0015 2 r add 148 0.7465 0.8236 -0.0771 853 712 0\n",
        "1843 0.7124 -1.4387 -2.2890 -0.0010 28 r add 615 0.7123 0.7292 -0.0169 854 713 0\n",
        "71 0.7123 -1.4389 -2.2890 -0.0004 15 r add 24 0.5579 0.7972 -0.2393 855 714 0"
       ]
      },
      {
       "output_type": "stream",
       "stream": "stdout",
       "text": [
        "\n",
        "1358 0.7122 -1.4393 -2.2890 -0.0023 47 r add 453 0.7353 0.7778 -0.0425 856 715 0\n",
        "873 0.7122 -1.4395 -2.2890 -0.0012 12 r add 291 0.6505 0.7560 -0.1055 857 716 0\n",
        "516 0.7121 -1.4393 -2.2890 -0.0009 64 r add 172 0.7375 0.8345 -0.0969 858 717 0\n",
        "377 0.7120 -1.4397 -2.2890 -0.0014 38 r add 126 0.7493 0.8126 -0.0634 859 718 0\n",
        "521 0.7120 -1.4399 -2.2890 -0.0009 39 r add 174 0.7264 0.8007 -0.0743 860 719 0"
       ]
      },
      {
       "output_type": "stream",
       "stream": "stdout",
       "text": [
        "\n",
        "1395 0.7119 -1.4404 -2.2890 -0.0017 40 r add 465 0.7947 0.8006 -0.0059 863 720 2\n",
        "623 0.7119 -1.4403 -2.2890 -0.0009 2 r add 208 0.7435 0.8236 -0.0800 864 721 0\n",
        "705 0.7119 -1.4407 -2.2890 -0.0002 66 r add 235 0.6902 0.7471 -0.0569 865 722 0"
       ]
      },
      {
       "output_type": "stream",
       "stream": "stdout",
       "text": [
        "\n",
        "513 0.7118 -1.4408 -2.2890 -0.0007 17 r add 171 0.6027 0.7518 -0.1491 866 723 0\n",
        "1419 0.7118 -1.4406 -2.2890 -0.0005 7 r add 473 0.5703 0.7664 -0.1961 867 724 0\n",
        "2268 0.7118 -1.4406 -2.2890 -0.0002 65 r add 756 0.7565 0.7713 -0.0148 868 725 0\n",
        "880 0.7118 -1.4396 -2.2890 -0.0008 30 r add 294 0.6842 0.7714 -0.0872 871 726 2"
       ]
      },
      {
       "output_type": "stream",
       "stream": "stdout",
       "text": [
        "\n",
        "1959 0.7117 -1.4383 -2.2890 -0.0017 28 r add 653 0.7081 0.7292 -0.0212 872 727 0\n",
        "120 0.7116 -1.4384 -2.2890 -0.0016 16 r add 40 0.6534 0.7556 -0.1022 873 728 0\n",
        "687 0.7116 -1.4389 -2.2890 -0.0013 22 r add 229 0.6760 0.7106 -0.0347 874 729 0\n",
        "839 0.7115 -1.4390 -2.2890 -0.0006 70 r add 280 0.6849 0.7830 -0.0981 875 730 0\n",
        "1314 0.7114 -1.4384 -2.2890 -0.0031 57 r add 438 0.6996 0.7415 -0.0419 876 731 0\n",
        "1109 0.7113 -1.4387 -2.2890 -0.0007 69 r add 370 0.6785 0.7922 -0.1138 877 732 0"
       ]
      },
      {
       "output_type": "stream",
       "stream": "stdout",
       "text": [
        "\n",
        "995 0.7113 -1.4385 -2.2890 -0.0011 30 r add 332 0.6806 0.7714 -0.0908 878 733 0\n",
        "1310 0.7113 -1.4379 -2.2890 -0.0004 2 r add 437 0.7430 0.8236 -0.0806 879 734 0\n",
        "1670 0.7112 -1.4378 -2.2890 -0.0012 17 r add 557 0.5984 0.7518 -0.1534 880 735 0\n",
        "1547 0.7112 -1.4383 -2.2890 -0.0002 48 r add 516 0.7253 0.7454 -0.0200 881 736 0\n",
        "545 0.7112 -1.4382 -2.2890 -0.0011 69 r add 182 0.6744 0.7922 -0.1179 882 737 0"
       ]
      },
      {
       "output_type": "stream",
       "stream": "stdout",
       "text": [
        "\n",
        "148 0.7111 -1.4378 -2.2890 -0.0007 70 r add 50 0.6829 0.7830 -0.1001 883 738 0\n",
        "2449 0.7111 -1.4379 -2.2890 -0.0008 14 r add 817 0.7359 0.7902 -0.0543 884 739 0\n",
        "734 0.7110 -1.4383 -2.2890 -0.0022 20 r add 245 0.7230 0.8079 -0.0850 885 740 0\n",
        "1502 0.7109 -1.4384 -2.2890 -0.0005 12 r add 501 0.6474 0.7560 -0.1085 886 741 0\n",
        "660 0.7109 -1.4384 -2.2890 -0.0007 71 r add 220 0.7006 0.7861 -0.0855 887 742 0"
       ]
      },
      {
       "output_type": "stream",
       "stream": "stdout",
       "text": [
        "\n",
        "1646 0.7109 -1.4386 -2.2890 -0.0007 15 r add 549 0.5552 0.7972 -0.2420 888 743 0\n",
        "1014 0.7108 -1.4382 -2.2890 -0.0014 17 r add 338 0.5932 0.7518 -0.1585 892 744 3"
       ]
      },
      {
       "output_type": "stream",
       "stream": "stdout",
       "text": [
        "\n",
        "236 0.7108 -1.4384 -2.2890 -0.0008 39 r add 79 0.7232 0.8007 -0.0775 893 745 0\n",
        "2465 0.7107 -1.4384 -2.2890 -0.0006 33 c add 3 0.7368 0.7680 -0.0313 894 746 0\n",
        "317 0.7106 -1.4378 -2.2890 -0.0024 3 r add 106 0.7490 0.8073 -0.0584 895 747 0\n",
        "2169 0.7106 -1.4376 -2.2890 -0.0003 15 r add 723 0.5526 0.7972 -0.2446 897 748 1\n",
        "2148 0.7106 -1.4378 -2.2890 -0.0006 70 r add 716 0.6804 0.7830 -0.1026 898 749 0"
       ]
      },
      {
       "output_type": "stream",
       "stream": "stdout",
       "text": [
        "\n",
        "564 0.7106 -1.4374 -2.2890 -0.0004 2 r add 188 0.7419 0.8236 -0.0817 899 750 0\n",
        "472 0.7105 -1.4373 -2.2890 -0.0013 9 r add 158 0.7201 0.8086 -0.0886 900 751 0\n",
        "2492 0.7105 -1.4373 -2.2890 -0.0004 32 c remove 12 0.7352 0.7521 -0.0169 901 752 0\n",
        "1095 0.7104 -1.4373 -2.2890 -0.0009 64 r add 365 0.7374 0.8345 -0.0971 902 753 0\n",
        "2007 0.7104 -1.4373 -2.2890 -0.0003 10 r add 669 0.7161 0.7869 -0.0708 903 754 0"
       ]
      },
      {
       "output_type": "stream",
       "stream": "stdout",
       "text": [
        "\n",
        "188 0.7104 -1.4363 -2.2890 -0.0019 2 r add 63 0.7365 0.8236 -0.0871 904 755 0\n",
        "1197 0.7103 -1.4361 -2.2890 -0.0021 8 r add 399 0.7336 0.7473 -0.0137 905 756 0\n",
        "1701 0.7102 -1.4361 -2.2890 -0.0011 2 r add 567 0.7325 0.8236 -0.0910 906 757 0\n",
        "1094 0.7102 -1.4362 -2.2890 -0.0002 40 r add 365 0.7937 0.8006 -0.0069 907 758 0\n",
        "471 0.7102 -1.4364 -2.2890 -0.0001 15 r add 157 0.5516 0.7972 -0.2456 911 759 3"
       ]
      },
      {
       "output_type": "stream",
       "stream": "stdout",
       "text": [
        "\n",
        "343 0.7101 -1.4365 -2.2890 -0.0012 9 r add 115 0.7156 0.8086 -0.0931 912 760 0\n",
        "2361 0.7101 -1.4370 -2.2890 -0.0006 69 r add 787 0.6714 0.7922 -0.1208 914 761 1\n",
        "1947 0.7100 -1.4368 -2.2890 -0.0011 7 r add 649 0.5698 0.7664 -0.1966 915 762 0\n",
        "736 0.7100 -1.4370 -2.2890 -0.0009 7 r add 246 0.5663 0.7664 -0.2001 916 763 0\n",
        "1198 0.7100 -1.4372 -2.2890 -0.0000 12 r add 400 0.6470 0.7560 -0.1090 917 764 0"
       ]
      },
      {
       "output_type": "stream",
       "stream": "stdout",
       "text": [
        "\n",
        "2304 0.7100 -1.4371 -2.2890 -0.0006 49 r add 768 0.6359 0.8207 -0.1848 918 765 0\n",
        "1677 0.7099 -1.4369 -2.2890 -0.0007 49 r add 559 0.6334 0.8207 -0.1873 919 766 0\n",
        "145 0.7099 -1.4370 -2.2890 -0.0007 70 r add 49 0.6777 0.7830 -0.1053 920 767 0\n",
        "2239 0.7098 -1.4366 -2.2890 -0.0012 21 r add 747 0.6035 0.7917 -0.1881 921 768 0\n",
        "269 0.7098 -1.4371 -2.2917 -0.0005 64 r add 90 0.7342 0.8345 -0.1002 926 769 4"
       ]
      },
      {
       "output_type": "stream",
       "stream": "stdout",
       "text": [
        "\n",
        "896 0.7098 -1.4370 -2.2917 -0.0003 2 r add 299 0.7309 0.8236 -0.0926 927 770 0\n",
        "1894 0.7097 -1.4368 -2.2917 -0.0027 50 r add 632 0.7260 0.7457 -0.0197 929 771 1\n",
        "762 0.7096 -1.4369 -2.2917 -0.0007 70 r add 254 0.6751 0.7830 -0.1079 930 772 0\n",
        "2429 0.7096 -1.4372 -2.2917 -0.0004 17 r add 810 0.5913 0.7518 -0.1604 931 773 0\n",
        "870 0.7096 -1.4373 -2.2917 -0.0006 72 r add 290 0.7134 0.7901 -0.0767 932 774 0"
       ]
      },
      {
       "output_type": "stream",
       "stream": "stdout",
       "text": [
        "\n",
        "1542 0.7096 -1.4368 -2.2917 -0.0003 3 r add 514 0.7432 0.8073 -0.0641 936 775 3"
       ]
      },
      {
       "output_type": "stream",
       "stream": "stdout",
       "text": [
        "\n",
        "1954 0.7095 -1.4366 -2.2917 -0.0006 54 r add 652 0.6196 0.7568 -0.1372 937 776 0\n",
        "2305 0.7095 -1.4368 -2.2917 -0.0008 21 r add 769 0.6004 0.7917 -0.1912 938 777 0\n",
        "342 0.7094 -1.4367 -2.2917 -0.0015 14 r add 114 0.7288 0.7902 -0.0615 940 778 1\n",
        "2274 0.7094 -1.4364 -2.2917 -0.0002 53 r add 758 0.7336 0.8447 -0.1111 941 779 0"
       ]
      },
      {
       "output_type": "stream",
       "stream": "stdout",
       "text": [
        "\n",
        "1911 0.7094 -1.4362 -2.2917 -0.0011 19 r add 637 0.7268 0.7796 -0.0528 942 780 0\n",
        "2032 0.7093 -1.4358 -2.2917 -0.0011 69 r add 678 0.6677 0.7922 -0.1246 944 781 1\n",
        "711 0.7093 -1.4358 -2.2917 -0.0004 70 r add 237 0.6737 0.7830 -0.1093 945 782 0\n",
        "1493 0.7093 -1.4360 -2.2917 -0.0003 12 r add 498 0.6446 0.7560 -0.1114 946 783 0\n",
        "1706 0.7093 -1.4360 -2.2917 -0.0003 53 r add 569 0.7326 0.8447 -0.1121 947 784 0"
       ]
      },
      {
       "output_type": "stream",
       "stream": "stdout",
       "text": [
        "\n",
        "1158 0.7092 -1.4361 -2.2917 -0.0010 69 r add 386 0.6636 0.7922 -0.1286 948 785 0\n",
        "1326 0.7092 -1.4359 -2.2917 -0.0006 15 r add 442 0.5496 0.7972 -0.2477 949 786 0\n",
        "1982 0.7091 -1.4362 -2.2917 -0.0011 10 r add 661 0.7115 0.7869 -0.0754 950 787 0\n",
        "1192 0.7091 -1.4362 -2.2917 -0.0008 15 r add 398 0.5467 0.7972 -0.2505 951 788 0"
       ]
      },
      {
       "output_type": "stream",
       "stream": "stdout",
       "text": [
        "\n",
        "1597 0.7091 -1.4360 -2.2917 -0.0004 70 r add 533 0.6711 0.7830 -0.1119 960 789 8"
       ]
      },
      {
       "output_type": "stream",
       "stream": "stdout",
       "text": [
        "\n",
        "636 0.7091 -1.4361 -2.2917 -0.0003 10 r add 212 0.7102 0.7869 -0.0767 961 790 0\n",
        "271 0.7090 -1.4365 -2.2917 -0.0008 40 r add 91 0.7946 0.8006 -0.0060 962 791 0\n",
        "137 0.7090 -1.4364 -2.2917 -0.0009 21 r add 46 0.5973 0.7917 -0.1943 963 792 0\n",
        "508 0.7089 -1.4359 -2.2917 -0.0008 38 r add 170 0.7470 0.8126 -0.0656 964 793 0\n",
        "1951 0.7088 -1.4357 -2.2917 -0.0020 39 r add 651 0.7159 0.8007 -0.0848 965 794 0"
       ]
      },
      {
       "output_type": "stream",
       "stream": "stdout",
       "text": [
        "\n",
        "824 0.7088 -1.4359 -2.2917 -0.0006 21 r add 275 0.5947 0.7917 -0.1970 966 795 0\n",
        "152 0.7088 -1.4354 -2.2917 -0.0000 70 r add 51 0.6719 0.7830 -0.1111 967 796 0\n",
        "1058 0.7088 -1.4355 -2.2917 -0.0002 53 r add 353 0.7276 0.8447 -0.1171 968 797 0\n",
        "1540 0.7088 -1.4350 -2.2917 -0.0011 17 r add 514 0.5881 0.7518 -0.1637 969 798 0\n",
        "2422 0.7088 -1.4351 -2.2917 -0.0001 14 r add 808 0.7282 0.7902 -0.0620 970 799 0"
       ]
      },
      {
       "output_type": "stream",
       "stream": "stdout",
       "text": [
        "\n",
        "1664 0.7087 -1.4352 -2.2917 -0.0011 21 r add 555 0.5904 0.7917 -0.2013 971 800 0\n",
        "996 0.7087 -1.4355 -2.2917 -0.0006 58 r add 332 0.7343 0.7575 -0.0231 972 801 0\n",
        "1338 0.7085 -1.4351 -2.2917 -0.0034 73 r add 446 0.6974 0.7238 -0.0264 973 802 0\n",
        "2270 0.7084 -1.4351 -2.2917 -0.0022 27 r add 757 0.6886 0.7235 -0.0348 974 803 0\n",
        "1287 0.7083 -1.4345 -2.2917 -0.0011 51 r add 429 0.6855 0.7618 -0.0763 975 804 0"
       ]
      },
      {
       "output_type": "stream",
       "stream": "stdout",
       "text": [
        "\n",
        "619 0.7083 -1.4344 -2.2917 -0.0011 70 r add 207 0.6678 0.7830 -0.1152 976 805 0\n",
        "929 0.7083 -1.4346 -2.2917 -0.0000 12 r add 310 0.6440 0.7560 -0.1119 977 806 0\n",
        "327 0.7083 -1.4348 -2.2917 -0.0002 15 r add 109 0.5431 0.7972 -0.2541 978 807 0\n",
        "2300 0.7082 -1.4344 -2.2917 -0.0020 14 r add 767 0.7212 0.7902 -0.0690 979 808 0\n",
        "778 0.7081 -1.4346 -2.2917 -0.0005 12 r add 260 0.6418 0.7560 -0.1142 980 809 0"
       ]
      },
      {
       "output_type": "stream",
       "stream": "stdout",
       "text": [
        "\n",
        "907 0.7081 -1.4348 -2.2917 -0.0004 12 r add 303 0.6399 0.7560 -0.1161 981 810 0\n",
        "1883 0.7081 -1.4348 -2.2917 -0.0013 53 r add 628 0.7227 0.8447 -0.1220 982 811 0\n",
        "1541 0.7080 -1.4344 -2.2917 -0.0006 49 r add 514 0.6303 0.8207 -0.1904 985 812 2\n",
        "520 0.7080 -1.4348 -2.3028 -0.0006 30 r add 174 0.6773 0.7714 -0.0941 987 813 1"
       ]
      },
      {
       "output_type": "stream",
       "stream": "stdout",
       "text": [
        "\n",
        "1265 0.7079 -1.4344 -2.3028 -0.0017 63 r add 422 0.6857 0.7126 -0.0268 988 814 0\n",
        "1213 0.7079 -1.4345 -2.3028 -0.0005 46 r add 405 0.6397 0.8210 -0.1814 989 815 0\n",
        "104 0.7078 -1.4347 -2.3028 -0.0010 12 r add 35 0.6358 0.7560 -0.1201 990 816 0\n",
        "344 0.7078 -1.4345 -2.3028 -0.0013 21 r add 115 0.5857 0.7917 -0.2060 991 817 0\n",
        "2441 0.7077 -1.4340 -2.3028 -0.0018 41 r add 814 0.7091 0.7513 -0.0423 992 818 0\n",
        "2406 0.7077 -1.4341 -2.3028 -0.0006 30 r add 802 0.6746 0.7714 -0.0967 993 819 0"
       ]
      },
      {
       "output_type": "stream",
       "stream": "stdout",
       "text": [
        "\n",
        "2299 0.7076 -1.4336 -2.3028 -0.0017 68 r add 767 0.6139 0.7635 -0.1496 994 820 0\n",
        "2020 0.7075 -1.4338 -2.3028 -0.0009 30 r add 674 0.6708 0.7714 -0.1006 995 821 0\n",
        "2008 0.7074 -1.4336 -2.3028 -0.0017 14 r add 670 0.7152 0.7902 -0.0751 996 822 0\n",
        "1465 0.7074 -1.4338 -2.3028 -0.0013 17 r add 489 0.5828 0.7518 -0.1690 997 823 0\n",
        "1681 0.7073 -1.4334 -2.3028 -0.0011 31 r add 561 0.7050 0.7565 -0.0515 998 824 0"
       ]
      },
      {
       "output_type": "stream",
       "stream": "stdout",
       "text": [
        "\n",
        "786 0.7072 -1.4329 -2.3028 -0.0022 55 r add 262 0.7813 0.7978 -0.0166 999 825 0\n",
        "562 0.7072 -1.4319 -2.3028 -0.0012 3 r add 188 0.7341 0.8073 -0.0732 1002 826 2\n",
        "797 0.7071 -1.4322 -2.3028 -0.0008 30 r add 266 0.6675 0.7714 -0.1039 1003 827 0\n",
        "2311 0.7071 -1.4324 -2.3028 -0.0005 15 r add 771 0.5410 0.7972 -0.2563 1005 828 1"
       ]
      },
      {
       "output_type": "stream",
       "stream": "stdout",
       "text": [
        "\n",
        "1746 0.7071 -1.4326 -2.3028 -0.0003 16 r add 582 0.6522 0.7556 -0.1034 1006 829 0\n",
        "720 0.7071 -1.4327 -2.3028 -0.0003 70 r add 240 0.6664 0.7830 -0.1166 1007 830 0\n",
        "2103 0.7071 -1.4291 -2.3028 -0.0004 29 r add 701 0.7332 0.7292 0.0040 1016 831 8"
       ]
      },
      {
       "output_type": "stream",
       "stream": "stdout",
       "text": [
        "\n",
        "555 0.7071 -1.4291 -2.3028 -0.0004 7 r add 185 0.5572 0.7664 -0.2092 1017 832 0\n",
        "726 0.7071 -1.4293 -2.3028 -0.0000 17 r add 242 0.5813 0.7518 -0.1705 1018 833 0\n",
        "8 0.7070 -1.4295 -2.3028 -0.0010 10 r add 3 0.7060 0.7869 -0.0809 1019 834 0\n",
        "1200 0.7069 -1.4300 -2.3028 -0.0031 19 r add 400 0.7123 0.7796 -0.0673 1022 835 2"
       ]
      },
      {
       "output_type": "stream",
       "stream": "stdout",
       "text": [
        "\n",
        "1935 0.7068 -1.4301 -2.3028 -0.0006 69 r add 645 0.6612 0.7922 -0.1311 1023 836 0\n",
        "712 0.7068 -1.4301 -2.3028 -0.0011 46 r add 238 0.6353 0.8210 -0.1858 1024 837 0\n",
        "2179 0.7068 -1.4302 -2.3028 -0.0006 46 r add 727 0.6328 0.8210 -0.1882 1026 838 1"
       ]
      },
      {
       "output_type": "stream",
       "stream": "stdout",
       "text": [
        "\n",
        "1506 0.7067 -1.4303 -2.3028 -0.0013 19 r add 502 0.7074 0.7796 -0.0722 1027 839 0\n",
        "823 0.7066 -1.4305 -2.3028 -0.0012 68 r add 275 0.6088 0.7635 -0.1546 1028 840 0\n",
        "965 0.7066 -1.4305 -2.3028 -0.0009 51 r add 322 0.6819 0.7618 -0.0799 1029 841 0\n",
        "815 0.7065 -1.4309 -2.3028 -0.0016 40 r add 272 0.7878 0.8006 -0.0128 1030 842 0\n",
        "1067 0.7065 -1.4312 -2.3028 -0.0006 40 r add 356 0.7852 0.8006 -0.0154 1031 843 0"
       ]
      },
      {
       "output_type": "stream",
       "stream": "stdout",
       "text": [
        "\n",
        "2401 0.7064 -1.4310 -2.3028 -0.0005 21 r add 801 0.5839 0.7917 -0.2077 1032 844 0\n",
        "644 0.7063 -1.4313 -2.3028 -0.0033 18 r add 215 0.7986 0.8238 -0.0252 1033 845 0\n",
        "2400 0.7062 -1.4309 -2.3028 -0.0003 16 r add 800 0.6487 0.7556 -0.1069 1034 846 0\n",
        "9 0.7062 -1.4305 -2.3028 -0.0009 38 r add 3 0.7480 0.8126 -0.0647 1038 847 3"
       ]
      },
      {
       "output_type": "stream",
       "stream": "stdout",
       "text": [
        "\n",
        "495 0.7062 -1.4290 -2.3028 -0.0015 28 r add 165 0.7049 0.7292 -0.0244 1039 848 0\n",
        "2521 0.7061 -1.4290 -2.3028 -0.0005 22 c remove 22 0.6742 0.7106 -0.0364 1040 849 0\n",
        "2234 0.7061 -1.4290 -2.3028 -0.0007 21 r add 745 0.5807 0.7917 -0.2109 1042 850 1\n",
        "2364 0.7061 -1.4289 -2.3028 -0.0007 15 r add 788 0.5383 0.7972 -0.2590 1043 851 0\n",
        "2326 0.7060 -1.4289 -2.3028 -0.0010 51 r add 776 0.6779 0.7618 -0.0839 1044 852 0\n",
        "2107 0.7060 -1.4291 -2.3028 -0.0003 70 r add 703 0.6634 0.7830 -0.1196 1045 853 0"
       ]
      },
      {
       "output_type": "stream",
       "stream": "stdout",
       "text": [
        "\n",
        "1306 0.7060 -1.4292 -2.3028 -0.0002 54 r add 436 0.6201 0.7568 -0.1367 1046 854 0\n",
        "893 0.7060 -1.4293 -2.3028 -0.0004 7 r add 298 0.5557 0.7664 -0.2107 1047 855 0\n",
        "1490 0.7059 -1.4290 -2.3028 -0.0007 54 r add 497 0.6177 0.7568 -0.1391 1048 856 0\n",
        "618 0.7059 -1.4284 -2.3028 -0.0002 12 r add 206 0.6314 0.7560 -0.1246 1050 857 1\n",
        "713 0.7059 -1.4285 -2.3028 -0.0004 7 r add 238 0.5539 0.7664 -0.2125 1051 858 0"
       ]
      },
      {
       "output_type": "stream",
       "stream": "stdout",
       "text": [
        "\n",
        "1828 0.7059 -1.4286 -2.3028 -0.0007 3 r add 610 0.7301 0.8073 -0.0773 1052 859 0\n",
        "501 0.7059 -1.4275 -2.3028 -0.0002 28 r add 167 0.7045 0.7292 -0.0247 1058 860 5"
       ]
      },
      {
       "output_type": "stream",
       "stream": "stdout",
       "text": [
        "\n",
        "1890 0.7058 -1.4271 -2.3028 -0.0019 14 r add 630 0.7086 0.7902 -0.0816 1059 861 0\n",
        "2276 0.7057 -1.4266 -2.3028 -0.0026 20 r add 759 0.7194 0.8079 -0.0885 1063 862 3"
       ]
      },
      {
       "output_type": "stream",
       "stream": "stdout",
       "text": [
        "\n",
        "302 0.7056 -1.4268 -2.3028 -0.0022 31 r add 101 0.6913 0.7565 -0.0652 1064 863 0\n",
        "2345 0.7055 -1.4272 -2.3028 -0.0003 28 r add 782 0.7027 0.7292 -0.0265 1065 864 0\n",
        "966 0.7055 -1.4271 -2.3028 -0.0008 20 r add 322 0.7165 0.8079 -0.0914 1066 865 0\n",
        "2498 0.7055 -1.4271 -2.3028 -0.0003 21 c add 14 0.5797 0.7917 -0.2119 1067 866 0\n",
        "542 0.7054 -1.4270 -2.3028 -0.0009 49 r add 181 0.6287 0.8207 -0.1920 1068 867 0\n",
        "1101 0.7054 -1.4270 -2.3028 -0.0006 67 r add 367 0.7160 0.7233 -0.0073 1069 868 0"
       ]
      },
      {
       "output_type": "stream",
       "stream": "stdout",
       "text": [
        "\n",
        "2024 0.7054 -1.4274 -2.3028 -0.0002 65 r add 675 0.7549 0.7713 -0.0164 1070 869 0\n",
        "56 0.7053 -1.4275 -2.3028 -0.0009 19 r add 19 0.7040 0.7796 -0.0756 1071 870 0\n",
        "657 0.7053 -1.4276 -2.3028 -0.0003 30 r add 219 0.6676 0.7714 -0.1038 1072 871 0\n",
        "2384 0.7053 -1.4276 -2.3028 -0.0011 17 r add 795 0.5809 0.7518 -0.1708 1073 872 0\n",
        "2286 0.7051 -1.4276 -2.3028 -0.0021 5 r add 762 0.6977 0.7176 -0.0199 1076 873 2"
       ]
      },
      {
       "output_type": "stream",
       "stream": "stdout",
       "text": [
        "\n",
        "1143 0.7051 -1.4277 -2.3028 -0.0003 27 r add 381 0.6871 0.7235 -0.0363 1077 874 0\n",
        "2262 0.7051 -1.4279 -2.3028 -0.0002 70 r add 754 0.6621 0.7830 -0.1209 1078 875 0\n",
        "285 0.7051 -1.4280 -2.3028 -0.0005 15 r add 95 0.5347 0.7972 -0.2625 1079 876 0\n",
        "1782 0.7051 -1.4282 -2.3028 -0.0002 54 r add 594 0.6223 0.7568 -0.1345 1080 877 0\n",
        "1939 0.7050 -1.4282 -2.3028 -0.0007 15 r add 647 0.5320 0.7972 -0.2652 1081 878 0"
       ]
      },
      {
       "output_type": "stream",
       "stream": "stdout",
       "text": [
        "\n",
        "322 0.7050 -1.4283 -2.3028 -0.0003 70 r add 108 0.6609 0.7830 -0.1221 1082 879 0\n",
        "46 0.7050 -1.4285 -2.3028 -0.0002 51 r add 16 0.6766 0.7618 -0.0851 1083 880 0\n",
        "119 0.7048 -1.4292 -2.3028 -0.0026 38 r add 40 0.7374 0.8126 -0.0753 1086 881 2"
       ]
      },
      {
       "output_type": "stream",
       "stream": "stdout",
       "text": [
        "\n",
        "1655 0.7048 -1.4291 -2.3028 -0.0003 21 r add 552 0.5786 0.7917 -0.2131 1087 882 0\n",
        "1279 0.7048 -1.4288 -2.3028 -0.0008 53 r add 427 0.7208 0.8447 -0.1239 1088 883 0\n",
        "420 0.7048 -1.4279 -2.3028 -0.0007 40 r add 140 0.7839 0.8006 -0.0167 1089 884 0\n",
        "1168 0.7047 -1.4277 -2.3028 -0.0015 17 r add 390 0.5753 0.7518 -0.1765 1090 885 0\n",
        "1290 0.7047 -1.4275 -2.3028 -0.0009 2 r add 430 0.7307 0.8236 -0.0929 1091 886 0\n",
        "2561 0.7046 -1.4275 -2.3028 -0.0004 3 c remove 35 0.7319 0.8073 -0.0754 1092 887 0\n",
        "1621 0.7046 -1.4276 -2.3028 -0.0014 14 r add 541 0.7029 0.7902 -0.0874 1093 888 0"
       ]
      },
      {
       "output_type": "stream",
       "stream": "stdout",
       "text": [
        "\n",
        "2272 0.7045 -1.4274 -2.2942 -0.0007 1 r add 758 0.6496 0.6613 -0.0117 1094 889 0\n",
        "2453 0.7045 -1.4276 -2.2942 -0.0005 71 r add 818 0.7140 0.7861 -0.0721 1095 890 0\n",
        "1889 0.7045 -1.4271 -2.2942 -0.0012 16 r add 630 0.6448 0.7556 -0.1108 1096 891 0\n",
        "231 0.7044 -1.4274 -2.2942 -0.0002 64 r add 77 0.7283 0.8345 -0.1061 1097 892 0\n",
        "958 0.7044 -1.4274 -2.2942 -0.0005 7 r add 320 0.5520 0.7664 -0.2143 1098 893 0"
       ]
      },
      {
       "output_type": "stream",
       "stream": "stdout",
       "text": [
        "\n",
        "413 0.7044 -1.4274 -2.2942 -0.0003 49 r add 138 0.6274 0.8207 -0.1933 1099 894 0\n",
        "2339 0.7044 -1.4276 -2.2942 -0.0006 64 r add 780 0.7254 0.8345 -0.1090 1100 895 0\n",
        "124 0.7044 -1.4276 -2.2942 -0.0001 70 r add 42 0.6607 0.7830 -0.1223 1101 896 0\n",
        "2296 0.7043 -1.4276 -2.2942 -0.0011 51 r add 766 0.6725 0.7618 -0.0893 1102 897 0\n",
        "490 0.7043 -1.4272 -2.2942 -0.0008 16 r add 164 0.6424 0.7556 -0.1132 1103 898 0\n",
        "1679 0.7042 -1.4274 -2.2942 -0.0006 30 r add 560 0.6650 0.7714 -0.1064 1104 899 0"
       ]
      },
      {
       "output_type": "stream",
       "stream": "stdout",
       "text": [
        "\n",
        "2204 0.7042 -1.4275 -2.2942 -0.0005 70 r add 735 0.6585 0.7830 -0.1245 1105 900 0\n",
        "572 0.7041 -1.4273 -2.2942 -0.0013 69 r add 191 0.6565 0.7922 -0.1357 1106 901 0\n",
        "1280 0.7040 -1.4265 -2.2942 -0.0035 55 r add 427 0.7688 0.7978 -0.0290 1107 902 0\n",
        "777 0.7039 -1.4264 -2.2942 -0.0006 66 r add 259 0.6881 0.7471 -0.0591 1108 903 0"
       ]
      },
      {
       "output_type": "stream",
       "stream": "stdout",
       "text": [
        "\n",
        "498 0.7039 -1.4260 -2.2942 -0.0008 64 r add 166 0.7231 0.8345 -0.1114 1109 904 0\n",
        "53 0.7039 -1.4263 -2.2942 -0.0010 20 r add 18 0.7120 0.8079 -0.0960 1110 905 0\n",
        "1281 0.7038 -1.4256 -2.2942 -0.0004 39 r add 427 0.7155 0.8007 -0.0852 1111 906 0\n",
        "2051 0.7038 -1.4251 -2.2942 -0.0008 38 r add 684 0.7350 0.8126 -0.0777 1112 907 0\n",
        "2249 0.7038 -1.4251 -2.2942 -0.0007 7 r add 750 0.5495 0.7664 -0.2169 1113 908 0"
       ]
      },
      {
       "output_type": "stream",
       "stream": "stdout",
       "text": [
        "\n",
        "2567 0.7038 -1.4251 -2.2942 -0.0003 49 c add 37 0.6264 0.8207 -0.1943 1114 909 0\n",
        "374 0.7037 -1.4252 -2.2942 -0.0005 10 r add 125 0.7040 0.7869 -0.0829 1115 910 0\n",
        "798 0.7037 -1.4254 -2.2882 -0.0003 54 r add 266 0.6203 0.7568 -0.1365 1121 911 5"
       ]
      },
      {
       "output_type": "stream",
       "stream": "stdout",
       "text": [
        "\n",
        "2255 0.7036 -1.4254 -2.2882 -0.0019 22 r add 752 0.6667 0.7106 -0.0439 1122 912 0\n",
        "1601 0.7036 -1.4253 -2.2882 -0.0006 70 r add 534 0.6562 0.7830 -0.1268 1123 913 0\n",
        "2263 0.7036 -1.4255 -2.2882 -0.0006 30 r add 755 0.6621 0.7714 -0.1093 1124 914 0\n",
        "1538 0.7035 -1.4254 -2.2882 -0.0019 3 r add 513 0.7246 0.8073 -0.0828 1125 915 0\n",
        "2082 0.7034 -1.4249 -2.2882 -0.0004 71 r add 694 0.7134 0.7861 -0.0727 1126 916 0"
       ]
      },
      {
       "output_type": "stream",
       "stream": "stdout",
       "text": [
        "\n",
        "2281 0.7034 -1.4252 -2.2882 -0.0015 71 r add 761 0.7070 0.7861 -0.0791 1127 917 0\n",
        "2284 0.7033 -1.4254 -2.2882 -0.0003 49 r add 762 0.6227 0.8207 -0.1980 1129 918 1\n",
        "1032 0.7032 -1.4256 -2.2882 -0.0024 18 r add 344 0.7890 0.8238 -0.0348 1130 919 0\n",
        "1770 0.7032 -1.4253 -2.2882 -0.0006 69 r add 590 0.6546 0.7922 -0.1376 1131 920 0\n",
        "2057 0.7032 -1.4250 -2.2882 -0.0007 16 r add 686 0.6400 0.7556 -0.1156 1132 921 0"
       ]
      },
      {
       "output_type": "stream",
       "stream": "stdout",
       "text": [
        "\n",
        "26 0.7031 -1.4253 -2.2882 -0.0015 19 r add 9 0.6967 0.7796 -0.0829 1135 922 2\n",
        "97 0.7030 -1.4256 -2.2882 -0.0014 19 r add 33 0.6906 0.7796 -0.0890 1136 923 0\n",
        "2404 0.7029 -1.4260 -2.2882 -0.0017 65 r add 802 0.7476 0.7713 -0.0237 1137 924 0\n",
        "2003 0.7028 -1.4262 -2.2882 -0.0007 22 r add 668 0.6583 0.7106 -0.0523 1142 925 4"
       ]
      },
      {
       "output_type": "stream",
       "stream": "stdout",
       "text": [
        "\n",
        "157 0.7028 -1.4257 -2.2882 -0.0020 40 r add 53 0.7767 0.8006 -0.0239 1143 926 0\n",
        "1995 0.7026 -1.4258 -2.2882 -0.0022 66 r add 665 0.6793 0.7471 -0.0678 1144 927 0\n",
        "1019 0.7026 -1.4259 -2.2882 -0.0008 69 r add 340 0.6494 0.7922 -0.1429 1148 928 3"
       ]
      },
      {
       "output_type": "stream",
       "stream": "stdout",
       "text": [
        "\n",
        "1303 0.7025 -1.4257 -2.2882 -0.0011 70 r add 435 0.6501 0.7830 -0.1329 1149 929 0\n",
        "398 0.7025 -1.4257 -2.2882 -0.0013 73 r add 133 0.6922 0.7238 -0.0315 1150 930 0\n",
        "1581 0.7024 -1.4256 -2.2882 -0.0007 49 r add 527 0.6200 0.8207 -0.2007 1151 931 0\n",
        "1122 0.7024 -1.4259 -2.2882 -0.0010 28 r add 374 0.6960 0.7292 -0.0332 1154 932 2"
       ]
      },
      {
       "output_type": "stream",
       "stream": "stdout",
       "text": [
        "\n",
        "2128 0.7023 -1.4259 -2.2882 -0.0009 14 r add 710 0.6992 0.7902 -0.0910 1155 933 0\n",
        "2309 0.7023 -1.4257 -2.2882 -0.0009 21 r add 770 0.5756 0.7917 -0.2160 1156 934 0\n",
        "639 0.7022 -1.4256 -2.2882 -0.0013 31 r add 213 0.6862 0.7565 -0.0703 1157 935 0\n",
        "895 0.7022 -1.4250 -2.2882 -0.0002 54 r add 299 0.6193 0.7568 -0.1375 1158 936 0"
       ]
      },
      {
       "output_type": "stream",
       "stream": "stdout",
       "text": [
        "\n",
        "367 0.7022 -1.4249 -2.2882 -0.0007 69 r add 123 0.6468 0.7922 -0.1455 1159 937 0\n",
        "1117 0.7022 -1.4247 -2.2882 -0.0007 56 r add 373 0.7463 0.7623 -0.0160 1160 938 0\n",
        "1 0.7021 -1.4246 -2.2882 -0.0003 70 r add 1 0.6482 0.7830 -0.1348 1161 939 0\n",
        "1738 0.7021 -1.4247 -2.2882 -0.0009 40 r add 580 0.7730 0.8006 -0.0275 1162 940 0\n",
        "959 0.7021 -1.4246 -2.2882 -0.0004 15 r add 320 0.5304 0.7972 -0.2668 1163 941 0\n",
        "1060 0.7021 -1.4246 -2.2882 -0.0003 53 r add 354 0.7182 0.8447 -0.1265 1164 942 0"
       ]
      },
      {
       "output_type": "stream",
       "stream": "stdout",
       "text": [
        "\n",
        "1113 0.7020 -1.4245 -2.2882 -0.0008 14 r add 371 0.6959 0.7902 -0.0943 1165 943 0\n",
        "1750 0.7019 -1.4244 -2.2882 -0.0015 71 r add 584 0.7062 0.7861 -0.0798 1166 944 0\n",
        "708 0.7019 -1.4245 -2.2882 -0.0010 27 r add 236 0.6815 0.7235 -0.0419 1169 945 2"
       ]
      },
      {
       "output_type": "stream",
       "stream": "stdout",
       "text": [
        "\n",
        "2306 0.7019 -1.4245 -2.2882 -0.0003 15 r add 769 0.5293 0.7972 -0.2679 1170 946 0\n",
        "1972 0.7018 -1.4247 -2.2882 -0.0007 68 r add 658 0.6059 0.7635 -0.1575 1171 947 0\n",
        "300 0.7018 -1.4246 -2.2882 -0.0000 49 r add 100 0.6200 0.8207 -0.2007 1172 948 0\n",
        "548 0.7018 -1.4246 -2.2882 -0.0000 15 r add 183 0.5292 0.7972 -0.2681 1173 949 0\n",
        "886 0.7018 -1.4246 -2.2882 -0.0003 46 r add 296 0.6263 0.8210 -0.1948 1177 950 3"
       ]
      },
      {
       "output_type": "stream",
       "stream": "stdout",
       "text": [
        "\n",
        "1973 0.7017 -1.4248 -2.2882 -0.0014 9 r add 658 0.7057 0.8086 -0.1030 1178 951 0\n",
        "1413 0.7017 -1.4247 -2.2882 -0.0005 54 r add 471 0.6194 0.7568 -0.1374 1179 952 0\n",
        "1805 0.7017 -1.4247 -2.2882 -0.0006 7 r add 602 0.5468 0.7664 -0.2196 1180 953 0\n",
        "794 0.7016 -1.4249 -2.2882 -0.0009 68 r add 265 0.6021 0.7635 -0.1613 1181 954 0\n",
        "27 0.7016 -1.4248 -2.2882 -0.0007 70 r add 9 0.6455 0.7830 -0.1375 1182 955 0"
       ]
      },
      {
       "output_type": "stream",
       "stream": "stdout",
       "text": [
        "\n",
        "2176 0.7015 -1.4252 -2.2882 -0.0018 65 r add 726 0.7395 0.7713 -0.0318 1183 956 0\n",
        "2327 0.7014 -1.4251 -2.2882 -0.0010 28 r add 776 0.6921 0.7292 -0.0371 1184 957 0\n",
        "1189 0.7014 -1.4251 -2.2882 -0.0005 46 r add 397 0.6241 0.8210 -0.1969 1185 958 0\n",
        "2330 0.7013 -1.4254 -2.2882 -0.0016 72 r add 777 0.7104 0.7901 -0.0797 1186 959 0\n",
        "921 0.7013 -1.4256 -2.2882 -0.0006 17 r add 307 0.5689 0.7518 -0.1828 1187 960 0"
       ]
      },
      {
       "output_type": "stream",
       "stream": "stdout",
       "text": [
        "\n",
        "2059 0.7012 -1.4253 -2.2882 -0.0011 16 r add 687 0.6361 0.7556 -0.1195 1188 961 0\n",
        "1626 0.7012 -1.4252 -2.2882 -0.0006 14 r add 542 0.6937 0.7902 -0.0966 1189 962 0\n",
        "1412 0.7011 -1.4253 -2.2882 -0.0012 12 r add 471 0.6265 0.7560 -0.1295 1190 963 0\n",
        "1868 0.7011 -1.4256 -2.2882 -0.0011 34 r add 623 0.7177 0.7403 -0.0226 1191 964 0\n",
        "1114 0.7010 -1.4263 -2.2882 -0.0004 21 r add 372 0.5733 0.7917 -0.2184 1196 965 4"
       ]
      },
      {
       "output_type": "stream",
       "stream": "stdout",
       "text": [
        "\n",
        "1147 0.7010 -1.4265 -2.2882 -0.0001 54 r add 383 0.6194 0.7568 -0.1374 1200 966 3\n",
        "63 0.7010 -1.4258 -2.2882 -0.0011 2 r add 21 0.7324 0.8236 -0.0912 1201 967 0\n",
        "1840 0.7009 -1.4255 -2.2882 -0.0013 51 r add 614 0.6667 0.7618 -0.0951 1202 968 0"
       ]
      },
      {
       "output_type": "stream",
       "stream": "stdout",
       "text": [
        "\n",
        "1712 0.7009 -1.4252 -2.2882 -0.0004 54 r add 571 0.6184 0.7568 -0.1384 1203 969 0\n",
        "1000 0.7009 -1.4251 -2.2882 -0.0006 72 r add 334 0.7079 0.7901 -0.0822 1204 970 0\n",
        "894 0.7008 -1.4250 -2.2882 -0.0014 73 r add 298 0.6867 0.7238 -0.0371 1205 971 0\n",
        "2076 0.7008 -1.4244 -2.2882 -0.0007 71 r add 692 0.7045 0.7861 -0.0816 1206 972 0\n",
        "2329 0.7007 -1.4244 -2.2882 -0.0007 54 r add 777 0.6155 0.7568 -0.1413 1207 973 0\n",
        "1318 0.7007 -1.4244 -2.2882 -0.0006 12 r add 440 0.6289 0.7560 -0.1271 1208 974 0"
       ]
      },
      {
       "output_type": "stream",
       "stream": "stdout",
       "text": [
        "\n",
        "1650 0.7007 -1.4240 -2.2882 -0.0009 17 r add 550 0.5658 0.7518 -0.1859 1209 975 0\n",
        "601 0.7006 -1.4241 -2.2882 -0.0004 64 r add 201 0.7264 0.8345 -0.1080 1210 976 0\n",
        "1033 0.7006 -1.4240 -2.2882 -0.0008 64 r add 345 0.7234 0.8345 -0.1111 1211 977 0\n",
        "1850 0.7006 -1.4238 -2.2882 -0.0008 27 r add 617 0.6814 0.7235 -0.0421 1212 978 0\n",
        "1578 0.7005 -1.4237 -2.2882 -0.0006 15 r add 526 0.5260 0.7972 -0.2712 1213 979 0\n",
        "978 0.7004 -1.4235 -2.2882 -0.0020 72 r add 326 0.7003 0.7901 -0.0899 1214 980 0"
       ]
      },
      {
       "output_type": "stream",
       "stream": "stdout",
       "text": [
        "\n",
        "942 0.7003 -1.4238 -2.2882 -0.0017 73 r add 314 0.6792 0.7238 -0.0446 1215 981 0\n",
        "349 0.7003 -1.4239 -2.2882 -0.0002 2 r add 117 0.7308 0.8236 -0.0928 1217 982 1\n",
        "1949 0.7002 -1.4245 -2.2882 -0.0015 5 r add 650 0.6830 0.7176 -0.0346 1219 983 1\n",
        "1004 0.7002 -1.4241 -2.2882 -0.0006 54 r add 335 0.6138 0.7568 -0.1430 1220 984 0"
       ]
      },
      {
       "output_type": "stream",
       "stream": "stdout",
       "text": [
        "\n",
        "1531 0.7002 -1.4236 -2.2882 -0.0010 39 r add 511 0.7122 0.8007 -0.0885 1221 985 0\n",
        "780 0.7001 -1.4240 -2.2882 -0.0003 19 r add 260 0.6887 0.7796 -0.0908 1222 986 0\n",
        "109 0.7001 -1.4241 -2.2882 -0.0003 54 r add 37 0.6124 0.7568 -0.1444 1223 987 0\n",
        "745 0.7001 -1.4243 -2.2882 -0.0011 53 r add 249 0.7134 0.8447 -0.1313 1224 988 0\n",
        "238 0.7000 -1.4244 -2.2882 -0.0007 53 r add 80 0.7103 0.8447 -0.1344 1225 989 0\n",
        "1089 0.6999 -1.4242 -2.2882 -0.0013 64 r add 363 0.7184 0.8345 -0.1161 1226 990 0"
       ]
      },
      {
       "output_type": "stream",
       "stream": "stdout",
       "text": [
        "\n",
        "672 0.6998 -1.4245 -2.2882 -0.0017 19 r add 224 0.6814 0.7796 -0.0981 1227 991 0\n",
        "1387 0.6998 -1.4247 -2.2882 -0.0005 53 r add 463 0.7082 0.8447 -0.1365 1228 992 0\n",
        "1969 0.6998 -1.4244 -2.2882 -0.0003 53 r add 657 0.7074 0.8447 -0.1373 1229 993 0\n",
        "540 0.6998 -1.4242 -2.2882 -0.0002 2 r add 180 0.7304 0.8236 -0.0932 1230 994 0\n",
        "7 0.6998 -1.4243 -2.2882 -0.0005 14 r add 3 0.6914 0.7902 -0.0988 1231 995 0\n",
        "164 0.6997 -1.4246 -2.2882 -0.0019 58 r add 55 0.7260 0.7575 -0.0314 1232 996 0"
       ]
      },
      {
       "output_type": "stream",
       "stream": "stdout",
       "text": [
        "\n",
        "725 0.6996 -1.4249 -2.2882 -0.0011 40 r add 242 0.7683 0.8006 -0.0323 1233 997 0\n",
        "2440 0.6996 -1.4250 -2.2882 -0.0001 64 r add 814 0.7179 0.8345 -0.1166 1234 998 0\n",
        "304 0.6995 -1.4245 -2.2882 -0.0018 31 r add 102 0.6817 0.7565 -0.0748 1235 999 0\n",
        "1239 0.6995 -1.4248 -2.2882 -0.0005 19 r add 413 0.6788 0.7796 -0.1007 1236 1000 0\n",
        "620 0.6994 -1.4245 -2.2882 -0.0012 12 r add 207 0.6246 0.7560 -0.1314 1237 1001 0"
       ]
      },
      {
       "output_type": "stream",
       "stream": "stdout",
       "text": [
        "\n",
        "198 0.6994 -1.4247 -2.2882 -0.0009 68 r add 66 0.5979 0.7635 -0.1655 1238 1002 0\n",
        "1543 0.6994 -1.4247 -2.2882 -0.0000 70 r add 515 0.6454 0.7830 -0.1376 1239 1003 0\n",
        "487 0.6993 -1.4244 -2.2882 -0.0011 10 r add 163 0.6990 0.7869 -0.0880 1240 1004 0\n",
        "2282 0.6993 -1.4245 -2.2882 -0.0005 49 r add 761 0.6163 0.8207 -0.2044 1241 1005 0\n",
        "1769 0.6992 -1.4240 -2.2882 -0.0017 66 r add 590 0.6731 0.7471 -0.0740 1242 1006 0"
       ]
      },
      {
       "output_type": "stream",
       "stream": "stdout",
       "text": [
        "\n",
        "1849 0.6992 -1.4237 -2.2882 -0.0004 54 r add 617 0.6098 0.7568 -0.1470 1244 1007 1\n",
        "1798 0.6991 -1.4237 -2.2882 -0.0007 15 r add 600 0.5232 0.7972 -0.2740 1245 1008 0\n",
        "2392 0.6991 -1.4237 -2.2882 -0.0008 46 r add 798 0.6207 0.8210 -0.2004 1246 1009 0\n",
        "1005 0.6990 -1.4238 -2.2882 -0.0018 20 r add 335 0.7045 0.8079 -0.1035 1247 1010 0"
       ]
      },
      {
       "output_type": "stream",
       "stream": "stdout",
       "text": [
        "\n",
        "57 0.6990 -1.4240 -2.2882 -0.0005 2 r add 19 0.7279 0.8236 -0.0956 1248 1011 0\n",
        "2149 0.6989 -1.4242 -2.2882 -0.0006 12 r add 717 0.6218 0.7560 -0.1342 1249 1012 0\n",
        "1945 0.6989 -1.4241 -2.2882 -0.0007 46 r add 649 0.6181 0.8210 -0.2030 1250 1013 0\n",
        "2078 0.6988 -1.4233 -2.2882 -0.0018 66 r add 693 0.6672 0.7471 -0.0799 1251 1014 0\n",
        "1617 0.6987 -1.4226 -2.2882 -0.0015 28 r add 539 0.6873 0.7292 -0.0419 1252 1015 0"
       ]
      },
      {
       "output_type": "stream",
       "stream": "stdout",
       "text": [
        "\n",
        "292 0.6987 -1.4227 -2.2882 -0.0008 38 r add 98 0.7310 0.8126 -0.0817 1254 1016 1\n",
        "751 0.6987 -1.4228 -2.2882 -0.0004 7 r add 251 0.5451 0.7664 -0.2212 1255 1017 0\n",
        "473 0.6987 -1.4211 -2.2882 -0.0009 18 r add 158 0.7855 0.8238 -0.0384 1257 1018 1\n",
        "2121 0.6987 -1.4213 -2.2882 -0.0001 10 r add 707 0.6982 0.7869 -0.0888 1258 1019 0"
       ]
      },
      {
       "output_type": "stream",
       "stream": "stdout",
       "text": [
        "\n",
        "2505 0.6985 -1.4214 -2.2882 -0.0030 50 c remove 16 0.7128 0.7457 -0.0329 1262 1020 3\n",
        "852 0.6984 -1.4212 -2.2882 -0.0013 71 r add 284 0.6995 0.7861 -0.0866 1263 1021 0\n",
        "1489 0.6983 -1.4212 -2.2882 -0.0015 20 r add 497 0.6983 0.8079 -0.1096 1264 1022 0"
       ]
      },
      {
       "output_type": "stream",
       "stream": "stdout",
       "text": [
        "\n",
        "266 0.6983 -1.4215 -2.2882 -0.0004 2 r add 89 0.7258 0.8236 -0.0978 1265 1023 0\n",
        "1943 0.6983 -1.4215 -2.2882 -0.0008 7 r add 648 0.5417 0.7664 -0.2247 1266 1024 0\n",
        "1603 0.6982 -1.4218 -2.2882 -0.0004 3 r add 535 0.7223 0.8073 -0.0850 1267 1025 0\n",
        "765 0.6982 -1.4218 -2.2882 -0.0004 7 r add 255 0.5401 0.7664 -0.2263 1268 1026 0\n",
        "1895 0.6982 -1.4216 -2.2882 -0.0012 16 r add 632 0.6334 0.7556 -0.1222 1269 1027 0\n",
        "2150 0.6981 -1.4217 -2.2882 -0.0005 70 r add 717 0.6431 0.7830 -0.1399 1270 1028 0"
       ]
      },
      {
       "output_type": "stream",
       "stream": "stdout",
       "text": [
        "\n",
        "2269 0.6981 -1.4216 -2.2805 -0.0003 1 r add 757 0.6501 0.6613 -0.0113 1271 1029 0\n",
        "531 0.6981 -1.4217 -2.2805 -0.0001 12 r add 177 0.6210 0.7560 -0.1349 1272 1030 0\n",
        "2144 0.6981 -1.4216 -2.2805 -0.0004 49 r add 715 0.6148 0.8207 -0.2059 1273 1031 0\n",
        "2399 0.6980 -1.4213 -2.2805 -0.0008 49 r add 800 0.6121 0.8207 -0.2087 1274 1032 0\n",
        "73 0.6980 -1.4213 -2.2805 -0.0002 7 r add 25 0.5376 0.7664 -0.2288 1277 1033 2"
       ]
      },
      {
       "output_type": "stream",
       "stream": "stdout",
       "text": [
        "\n",
        "2064 0.6979 -1.4207 -2.2805 -0.0018 66 r add 688 0.6607 0.7471 -0.0865 1278 1034 0\n",
        "1429 0.6979 -1.4208 -2.2805 -0.0004 30 r add 477 0.6612 0.7714 -0.1102 1279 1035 0\n",
        "2312 0.6979 -1.4210 -2.2805 -0.0009 17 r add 771 0.5618 0.7518 -0.1900 1280 1036 0\n",
        "1448 0.6978 -1.4209 -2.2805 -0.0006 15 r add 483 0.5206 0.7972 -0.2766 1281 1037 0\n",
        "1717 0.6978 -1.4208 -2.2805 -0.0009 53 r add 573 0.7041 0.8447 -0.1406 1282 1038 0"
       ]
      },
      {
       "output_type": "stream",
       "stream": "stdout",
       "text": [
        "\n",
        "676 0.6978 -1.4208 -2.2805 -0.0002 54 r add 226 0.6081 0.7568 -0.1487 1283 1039 0\n",
        "82 0.6978 -1.4210 -2.2805 -0.0002 21 r add 28 0.5726 0.7917 -0.2191 1285 1040 1\n",
        "588 0.6977 -1.4207 -2.2805 -0.0011 9 r add 196 0.7016 0.8086 -0.1071 1286 1041 0\n",
        "1255 0.6977 -1.4209 -2.2805 -0.0004 65 r add 419 0.7373 0.7713 -0.0340 1288 1042 1"
       ]
      },
      {
       "output_type": "stream",
       "stream": "stdout",
       "text": [
        "\n",
        "2130 0.6976 -1.4207 -2.2805 -0.0005 9 r add 710 0.6995 0.8086 -0.1091 1289 1043 0\n",
        "1671 0.6976 -1.4209 -2.2805 -0.0013 73 r add 557 0.6733 0.7238 -0.0504 1290 1044 0\n",
        "951 0.6975 -1.4205 -2.2805 -0.0015 31 r add 317 0.6793 0.7565 -0.0772 1291 1045 0\n",
        "1515 0.6975 -1.4206 -2.2805 -0.0007 2 r add 505 0.7225 0.8236 -0.1010 1292 1046 0\n",
        "656 0.6975 -1.4196 -2.2805 -0.0003 12 r add 219 0.6194 0.7560 -0.1365 1294 1047 1"
       ]
      },
      {
       "output_type": "stream",
       "stream": "stdout",
       "text": [
        "\n",
        "17 0.6974 -1.4197 -2.2805 -0.0006 63 r add 6 0.6991 0.7126 -0.0135 1296 1048 1\n",
        "2189 0.6974 -1.4201 -2.2805 -0.0006 20 r add 730 0.6952 0.8079 -0.1127 1297 1049 0\n",
        "1135 0.6973 -1.4202 -2.2805 -0.0019 38 r add 379 0.7230 0.8126 -0.0896 1298 1050 0\n",
        "2407 0.6972 -1.4203 -2.2805 -0.0004 15 r add 803 0.5177 0.7972 -0.2796 1303 1051 4"
       ]
      },
      {
       "output_type": "stream",
       "stream": "stdout",
       "text": [
        "\n",
        "1620 0.6972 -1.4185 -2.2805 -0.0022 26 r add 540 0.7283 0.7351 -0.0069 1304 1052 0\n",
        "1878 0.6972 -1.4185 -2.2805 -0.0001 17 r add 626 0.5613 0.7518 -0.1904 1305 1053 0\n",
        "2235 0.6971 -1.4186 -2.2805 -0.0016 73 r add 745 0.6666 0.7238 -0.0572 1306 1054 0\n",
        "1967 0.6971 -1.4187 -2.2805 -0.0002 16 r add 656 0.6324 0.7556 -0.1232 1307 1055 0\n",
        "608 0.6970 -1.4187 -2.2805 -0.0004 12 r add 203 0.6176 0.7560 -0.1384 1308 1056 0\n",
        "1665 0.6970 -1.4186 -2.2805 -0.0012 9 r add 555 0.6948 0.8086 -0.1139 1309 1057 0"
       ]
      },
      {
       "output_type": "stream",
       "stream": "stdout",
       "text": [
        "\n",
        "1308 0.6970 -1.4187 -2.2805 -0.0003 12 r add 436 0.6165 0.7560 -0.1395 1310 1058 0\n",
        "1442 0.6970 -1.4188 -2.2805 -0.0000 30 r add 481 0.6608 0.7714 -0.1106 1311 1059 0\n",
        "1251 0.6969 -1.4189 -2.2805 -0.0009 38 r add 417 0.7191 0.8126 -0.0935 1312 1060 0\n",
        "1492 0.6969 -1.4190 -2.2805 -0.0000 54 r add 498 0.6084 0.7568 -0.1484 1313 1061 0\n",
        "526 0.6969 -1.4191 -2.2805 -0.0003 70 r add 176 0.6447 0.7830 -0.1383 1314 1062 0\n",
        "2556 0.6968 -1.4191 -2.2805 -0.0012 58 c remove 33 0.7210 0.7575 -0.0365 1315 1063 0\n",
        "1461 0.6967 -1.4187 -2.2805 -0.0014 25 r add 487 0.7295 0.7715 -0.0420 1316 1064 0"
       ]
      },
      {
       "output_type": "stream",
       "stream": "stdout",
       "text": [
        "\n",
        "466 0.6967 -1.4188 -2.2805 -0.0003 21 r add 156 0.5712 0.7917 -0.2205 1317 1065 0\n",
        "2114 0.6967 -1.4190 -2.2805 -0.0007 2 r add 705 0.7192 0.8236 -0.1044 1318 1066 0\n",
        "2383 0.6967 -1.4191 -2.2805 -0.0004 15 r add 795 0.5158 0.7972 -0.2814 1319 1067 0\n",
        "1053 0.6966 -1.4194 -2.2805 -0.0003 12 r add 351 0.6147 0.7560 -0.1412 1322 1068 2"
       ]
      },
      {
       "output_type": "stream",
       "stream": "stdout",
       "text": [
        "\n",
        "1676 0.6966 -1.4193 -2.2805 -0.0008 15 r add 559 0.5128 0.7972 -0.2844 1323 1069 0\n",
        "722 0.6966 -1.4193 -2.2805 -0.0005 54 r add 241 0.6062 0.7568 -0.1506 1324 1070 0\n",
        "332 0.6965 -1.4192 -2.2805 -0.0006 66 r add 111 0.6570 0.7471 -0.0902 1326 1071 1\n",
        "2137 0.6965 -1.4191 -2.2805 -0.0004 53 r add 713 0.7055 0.8447 -0.1392 1327 1072 0"
       ]
      },
      {
       "output_type": "stream",
       "stream": "stdout",
       "text": [
        "\n",
        "372 0.6965 -1.4195 -2.2805 -0.0002 34 r add 124 0.7160 0.7403 -0.0243 1328 1073 0\n",
        "858 0.6965 -1.4195 -2.2805 -0.0002 5 r add 286 0.6806 0.7176 -0.0370 1331 1074 2\n",
        "872 0.6964 -1.4197 -2.2805 -0.0005 70 r add 291 0.6432 0.7830 -0.1398 1332 1075 0"
       ]
      },
      {
       "output_type": "stream",
       "stream": "stdout",
       "text": [
        "\n",
        "2403 0.6964 -1.4197 -2.2805 -0.0010 9 r add 801 0.6905 0.8086 -0.1181 1333 1076 0\n",
        "142 0.6964 -1.4199 -2.2805 -0.0004 39 r add 48 0.7101 0.8007 -0.0906 1334 1077 0\n",
        "2214 0.6963 -1.4199 -2.2805 -0.0003 7 r add 738 0.5355 0.7664 -0.2309 1335 1078 0\n",
        "638 0.6963 -1.4198 -2.2805 -0.0002 53 r add 213 0.7070 0.8447 -0.1377 1336 1079 0\n",
        "912 0.6963 -1.4202 -2.2805 -0.0011 41 r add 304 0.6986 0.7513 -0.0528 1337 1080 0\n",
        "1305 0.6962 -1.4199 -2.2805 -0.0011 19 r add 435 0.6727 0.7796 -0.1069 1338 1081 0"
       ]
      },
      {
       "output_type": "stream",
       "stream": "stdout",
       "text": [
        "\n",
        "431 0.6962 -1.4197 -2.2805 -0.0005 21 r add 144 0.5693 0.7917 -0.2224 1339 1082 0\n",
        "2291 0.6961 -1.4198 -2.2805 -0.0010 14 r add 764 0.6873 0.7902 -0.1029 1340 1083 0\n",
        "2023 0.6961 -1.4200 -2.2805 -0.0009 30 r add 675 0.6568 0.7714 -0.1146 1341 1084 0\n",
        "281 0.6961 -1.4202 -2.2805 -0.0004 46 r add 94 0.6161 0.8210 -0.2050 1342 1085 0\n",
        "1697 0.6960 -1.4200 -2.2805 -0.0006 70 r add 566 0.6410 0.7830 -0.1420 1343 1086 0\n",
        "226 0.6960 -1.4202 -2.2805 -0.0004 64 r add 76 0.7158 0.8345 -0.1186 1344 1087 0"
       ]
      },
      {
       "output_type": "stream",
       "stream": "stdout",
       "text": [
        "\n",
        "1494 0.6960 -1.4203 -2.2805 -0.0001 70 r add 498 0.6403 0.7830 -0.1427 1345 1088 0\n",
        "1785 0.6960 -1.4205 -2.2805 -0.0003 7 r add 595 0.5339 0.7664 -0.2325 1346 1089 0\n",
        "1275 0.6960 -1.4203 -2.2805 -0.0002 15 r add 425 0.5121 0.7972 -0.2851 1347 1090 0\n",
        "697 0.6959 -1.4205 -2.2805 -0.0001 12 r add 233 0.6139 0.7560 -0.1420 1348 1091 0\n",
        "106 0.6959 -1.4206 -2.2805 -0.0006 53 r add 36 0.7041 0.8447 -0.1406 1349 1092 0"
       ]
      },
      {
       "output_type": "stream",
       "stream": "stdout",
       "text": [
        "\n",
        "897 0.6959 -1.4205 -2.2805 -0.0003 53 r add 299 0.7030 0.8447 -0.1417 1350 1093 0\n",
        "439 0.6959 -1.4205 -2.2805 -0.0006 20 r add 147 0.6887 0.8079 -0.1193 1352 1094 1\n",
        "1689 0.6958 -1.4206 -2.2805 -0.0002 70 r add 563 0.6394 0.7830 -0.1436 1353 1095 0"
       ]
      },
      {
       "output_type": "stream",
       "stream": "stdout",
       "text": [
        "\n",
        "191 0.6958 -1.4202 -2.2805 -0.0012 2 r add 64 0.7146 0.8236 -0.1089 1354 1096 0\n",
        "2354 0.6957 -1.4205 -2.2805 -0.0006 2 r add 785 0.7119 0.8236 -0.1116 1355 1097 0\n",
        "1524 0.6957 -1.4207 -2.2805 -0.0003 51 r add 508 0.6649 0.7618 -0.0968 1356 1098 0\n",
        "2259 0.6957 -1.4208 -2.2805 -0.0000 30 r add 753 0.6565 0.7714 -0.1149 1357 1099 0\n",
        "1835 0.6957 -1.4210 -2.2805 -0.0007 10 r add 612 0.6934 0.7869 -0.0935 1358 1100 0\n",
        "1600 0.6956 -1.4209 -2.2805 -0.0007 12 r add 534 0.6113 0.7560 -0.1447 1359 1101 0"
       ]
      },
      {
       "output_type": "stream",
       "stream": "stdout",
       "text": [
        "\n",
        "882 0.6956 -1.4207 -2.2805 -0.0000 39 r add 294 0.7102 0.8007 -0.0905 1360 1102 0\n",
        "391 0.6956 -1.4205 -2.2805 -0.0008 17 r add 131 0.5569 0.7518 -0.1948 1361 1103 0\n",
        "1245 0.6956 -1.4217 -2.2805 -0.0001 3 r add 415 0.7202 0.8073 -0.0872 1366 1104 4"
       ]
      },
      {
       "output_type": "stream",
       "stream": "stdout",
       "text": [
        "\n",
        "475 0.6955 -1.4218 -2.2805 -0.0012 9 r add 159 0.6840 0.8086 -0.1246 1369 1105 2\n",
        "1498 0.6955 -1.4222 -2.2805 -0.0001 2 r add 500 0.7099 0.8236 -0.1136 1371 1106 1\n",
        "470 0.6955 -1.4223 -2.2805 -0.0004 49 r add 157 0.6101 0.8207 -0.2106 1372 1107 0"
       ]
      },
      {
       "output_type": "stream",
       "stream": "stdout",
       "text": [
        "\n",
        "600 0.6954 -1.4226 -2.2805 -0.0004 34 r add 200 0.7136 0.7403 -0.0266 1373 1108 0\n",
        "1446 0.6954 -1.4226 -2.2805 -0.0005 46 r add 482 0.6131 0.8210 -0.2080 1375 1109 1\n",
        "857 0.6954 -1.4227 -2.2805 -0.0004 7 r add 286 0.5312 0.7664 -0.2351 1377 1110 1\n",
        "1984 0.6953 -1.4220 -2.2805 -0.0009 3 r add 662 0.7176 0.8073 -0.0898 1378 1111 0"
       ]
      },
      {
       "output_type": "stream",
       "stream": "stdout",
       "text": [
        "\n",
        "1842 0.6953 -1.4217 -2.2805 -0.0009 27 r add 614 0.6770 0.7235 -0.0465 1380 1112 1\n",
        "855 0.6953 -1.4215 -2.2805 -0.0003 17 r add 285 0.5532 0.7518 -0.1986 1383 1113 2"
       ]
      },
      {
       "output_type": "stream",
       "stream": "stdout",
       "text": [
        "\n",
        "1176 0.6952 -1.4216 -2.2805 -0.0018 41 r add 392 0.6904 0.7513 -0.0609 1389 1114 5"
       ]
      },
      {
       "output_type": "stream",
       "stream": "stdout",
       "text": [
        "\n",
        "1361 0.6952 -1.4218 -2.2805 -0.0000 12 r add 454 0.6093 0.7560 -0.1466 1390 1115 0\n",
        "1978 0.6951 -1.4218 -2.2805 -0.0004 54 r add 660 0.6088 0.7568 -0.1480 1391 1116 0\n",
        "1881 0.6951 -1.4220 -2.2805 -0.0002 70 r add 627 0.6387 0.7830 -0.1443 1393 1117 1\n",
        "1447 0.6951 -1.4224 -2.2805 -0.0003 7 r add 483 0.5297 0.7664 -0.2367 1401 1118 7"
       ]
      },
      {
       "output_type": "stream",
       "stream": "stdout",
       "text": [
        "\n",
        "341 0.6950 -1.4222 -2.2805 -0.0010 9 r add 114 0.6803 0.8086 -0.1283 1402 1119 0\n",
        "1854 0.6950 -1.4225 -2.2805 -0.0003 40 r add 618 0.7696 0.8006 -0.0309 1403 1120 0\n",
        "920 0.6950 -1.4226 -2.2805 -0.0009 22 r add 307 0.6541 0.7106 -0.0566 1404 1121 0\n",
        "55 0.6949 -1.4228 -2.2805 -0.0005 54 r add 19 0.6066 0.7568 -0.1502 1405 1122 0\n",
        "1055 0.6949 -1.4227 -2.2805 -0.0002 46 r add 352 0.6110 0.8210 -0.2100 1406 1123 0\n",
        "397 0.6949 -1.4225 -2.2805 -0.0002 21 r add 133 0.5679 0.7917 -0.2238 1407 1124 0"
       ]
      },
      {
       "output_type": "stream",
       "stream": "stdout",
       "text": [
        "\n",
        "1407 0.6948 -1.4226 -2.2805 -0.0021 29 r add 469 0.7242 0.7292 -0.0051 1408 1125 0\n",
        "2365 0.6947 -1.4228 -2.2805 -0.0009 64 r add 789 0.7127 0.8345 -0.1218 1409 1126 0\n",
        "1846 0.6947 -1.4228 -2.2805 -0.0003 54 r add 616 0.6049 0.7568 -0.1519 1412 1127 2\n",
        "537 0.6947 -1.4227 -2.2805 -0.0000 70 r add 179 0.6396 0.7830 -0.1434 1416 1128 3"
       ]
      },
      {
       "output_type": "stream",
       "stream": "stdout",
       "text": [
        "\n",
        "1050 0.6946 -1.4229 -2.2805 -0.0016 40 r add 350 0.7626 0.8006 -0.0380 1417 1129 0\n",
        "1826 0.6946 -1.4227 -2.2805 -0.0006 38 r add 609 0.7167 0.8126 -0.0960 1418 1130 0\n",
        "1713 0.6946 -1.4227 -2.2805 -0.0005 2 r add 571 0.7098 0.8236 -0.1137 1419 1131 0\n",
        "279 0.6946 -1.4223 -2.2805 -0.0002 70 r add 93 0.6395 0.7830 -0.1435 1420 1132 0\n",
        "1276 0.6945 -1.4221 -2.2805 -0.0008 46 r add 426 0.6081 0.8210 -0.2130 1421 1133 0"
       ]
      },
      {
       "output_type": "stream",
       "stream": "stdout",
       "text": [
        "\n",
        "43 0.6945 -1.4223 -2.2805 -0.0007 9 r add 15 0.6768 0.8086 -0.1318 1422 1134 0\n",
        "416 0.6944 -1.4218 -2.2805 -0.0010 25 r add 139 0.7263 0.7715 -0.0452 1423 1135 0\n",
        "1403 0.6944 -1.4220 -2.2805 -0.0006 69 r add 468 0.6437 0.7922 -0.1486 1424 1136 0\n",
        "2391 0.6944 -1.4217 -2.2805 -0.0008 26 r add 797 0.7246 0.7351 -0.0106 1426 1137 1"
       ]
      },
      {
       "output_type": "stream",
       "stream": "stdout",
       "text": [
        "\n",
        "1870 0.6943 -1.4218 -2.2805 -0.0005 58 r add 624 0.7186 0.7575 -0.0389 1427 1138 0\n",
        "1998 0.6943 -1.4215 -2.2805 -0.0005 66 r add 666 0.6552 0.7471 -0.0919 1431 1139 3"
       ]
      },
      {
       "output_type": "stream",
       "stream": "stdout",
       "text": [
        "\n",
        "1041 0.6942 -1.4219 -2.2805 -0.0010 72 r add 347 0.6956 0.7901 -0.0946 1433 1140 1\n",
        "45 0.6942 -1.4216 -2.2805 -0.0012 65 r add 15 0.7374 0.7713 -0.0339 1434 1141 0\n",
        "2569 0.6941 -1.4216 -2.2805 -0.0019 43 c remove 38 0.7114 0.7220 -0.0106 1435 1142 0\n",
        "774 0.6940 -1.4216 -2.2805 -0.0004 15 r add 258 0.5065 0.7972 -0.2908 1436 1143 0\n",
        "2039 0.6939 -1.4201 -2.2805 -0.0024 26 r add 680 0.7171 0.7351 -0.0180 1437 1144 0"
       ]
      },
      {
       "output_type": "stream",
       "stream": "stdout",
       "text": [
        "\n",
        "764 0.6939 -1.4201 -2.2805 -0.0005 49 r add 255 0.6105 0.8207 -0.2102 1438 1145 0\n",
        "901 0.6939 -1.4200 -2.2805 -0.0006 53 r add 301 0.7012 0.8447 -0.1435 1439 1146 0\n",
        "446 0.6938 -1.4201 -2.2805 -0.0012 20 r add 149 0.6829 0.8079 -0.1251 1441 1147 1\n",
        "1241 0.6938 -1.4202 -2.2805 -0.0001 64 r add 414 0.7121 0.8345 -0.1224 1442 1148 0"
       ]
      },
      {
       "output_type": "stream",
       "stream": "stdout",
       "text": [
        "\n",
        "1518 0.6938 -1.4204 -2.2805 -0.0007 2 r add 506 0.7067 0.8236 -0.1169 1443 1149 0\n",
        "1409 0.6937 -1.4206 -2.2805 -0.0002 2 r add 470 0.7053 0.8236 -0.1182 1444 1150 0\n",
        "2209 0.6937 -1.4205 -2.2805 -0.0003 7 r add 737 0.5291 0.7664 -0.2373 1445 1151 0\n",
        "2000 0.6937 -1.4207 -2.2805 -0.0011 71 r add 667 0.6946 0.7861 -0.0915 1446 1152 0\n",
        "738 0.6936 -1.4209 -2.2805 -0.0009 17 r add 246 0.5491 0.7518 -0.2027 1447 1153 0\n",
        "2478 0.6935 -1.4209 -2.2805 -0.0018 53 c add 7 0.6934 0.8447 -0.1513 1448 1154 0\n",
        "1654 0.6935 -1.4210 -2.2805 -0.0008 69 r add 552 0.6401 0.7922 -0.1522 1449 1155 0"
       ]
      },
      {
       "output_type": "stream",
       "stream": "stdout",
       "text": [
        "\n",
        "489 0.6934 -1.4210 -2.2805 -0.0007 3 r add 163 0.7146 0.8073 -0.0927 1450 1156 0\n",
        "1999 0.6934 -1.4210 -2.2805 -0.0005 49 r add 667 0.6084 0.8207 -0.2123 1451 1157 0\n",
        "684 0.6934 -1.4209 -2.2805 -0.0003 51 r add 228 0.6645 0.7618 -0.0972 1452 1158 0\n",
        "1696 0.6934 -1.4201 -2.2805 -0.0008 51 r add 566 0.6605 0.7618 -0.1012 1454 1159 1"
       ]
      },
      {
       "output_type": "stream",
       "stream": "stdout",
       "text": [
        "\n",
        "130 0.6933 -1.4197 -2.2805 -0.0010 38 r add 44 0.7133 0.8126 -0.0994 1455 1160 0\n",
        "595 0.6933 -1.4199 -2.2805 -0.0001 40 r add 199 0.7619 0.8006 -0.0386 1456 1161 0\n",
        "2360 0.6932 -1.4201 -2.2805 -0.0013 68 r add 787 0.5926 0.7635 -0.1709 1457 1162 0\n",
        "2545 0.6931 -1.4201 -2.2805 -0.0021 49 c add 30 0.5994 0.8207 -0.2213 1458 1163 0\n",
        "2426 0.6931 -1.4200 -2.2805 -0.0000 15 r add 809 0.5065 0.7972 -0.2907 1459 1164 0\n",
        "1588 0.6931 -1.4199 -2.2805 -0.0006 68 r add 530 0.5898 0.7635 -0.1737 1461 1165 1"
       ]
      },
      {
       "output_type": "stream",
       "stream": "stdout",
       "text": [
        "\n",
        "390 0.6930 -1.4202 -2.2805 -0.0007 20 r add 130 0.6793 0.8079 -0.1286 1462 1166 0\n",
        "1737 0.6930 -1.4203 -2.2805 -0.0007 46 r add 579 0.6068 0.8210 -0.2142 1463 1167 0\n",
        "409 0.6929 -1.4203 -2.2805 -0.0013 20 r add 137 0.6740 0.8079 -0.1340 1464 1168 0\n",
        "835 0.6929 -1.4204 -2.2805 -0.0007 49 r add 279 0.5963 0.8207 -0.2244 1465 1169 0"
       ]
      },
      {
       "output_type": "stream",
       "stream": "stdout",
       "text": [
        "\n",
        "2208 0.6928 -1.4202 -2.2805 -0.0013 63 r add 736 0.6937 0.7126 -0.0188 1466 1170 0\n",
        "1741 0.6927 -1.4202 -2.2805 -0.0009 9 r add 581 0.6732 0.8086 -0.1354 1467 1171 0\n",
        "1723 0.6927 -1.4201 -2.2805 -0.0005 71 r add 575 0.6924 0.7861 -0.0937 1468 1172 0\n",
        "637 0.6927 -1.4197 -2.2805 -0.0011 39 r add 213 0.7058 0.8007 -0.0950 1469 1173 0\n",
        "723 0.6927 -1.4196 -2.2805 -0.0002 12 r add 241 0.6088 0.7560 -0.1472 1470 1174 0\n",
        "1330 0.6926 -1.4197 -2.2805 -0.0007 49 r add 444 0.5933 0.8207 -0.2274 1471 1175 0"
       ]
      },
      {
       "output_type": "stream",
       "stream": "stdout",
       "text": [
        "\n",
        "1035 0.6925 -1.4197 -2.2805 -0.0012 9 r add 345 0.6681 0.8086 -0.1405 1472 1176 0\n",
        "1155 0.6925 -1.4195 -2.2805 -0.0009 56 r remove 385 0.7450 0.7623 -0.0174 1473 1177 0\n",
        "688 0.6925 -1.4196 -2.2805 -0.0004 54 r add 230 0.6066 0.7568 -0.1502 1474 1178 0\n",
        "65 0.6924 -1.4198 -2.2805 -0.0004 70 r add 22 0.6378 0.7830 -0.1452 1476 1179 1\n",
        "950 0.6924 -1.4198 -2.2805 -0.0011 10 r add 317 0.6889 0.7869 -0.0981 1477 1180 0"
       ]
      },
      {
       "output_type": "stream",
       "stream": "stdout",
       "text": [
        "\n",
        "2206 0.6923 -1.4189 -2.2805 -0.0020 67 r add 736 0.7040 0.7233 -0.0194 1482 1181 4\n",
        "1296 0.6923 -1.4190 -2.2805 -0.0004 15 r add 432 0.5049 0.7972 -0.2923 1483 1182 0"
       ]
      },
      {
       "output_type": "stream",
       "stream": "stdout",
       "text": [
        "\n",
        "453 0.6922 -1.4189 -2.2805 -0.0005 7 r add 151 0.5258 0.7664 -0.2406 1487 1183 3\n",
        "649 0.6922 -1.4182 -2.2805 -0.0012 40 r add 217 0.7571 0.8006 -0.0435 1489 1184 1"
       ]
      },
      {
       "output_type": "stream",
       "stream": "stdout",
       "text": [
        "\n",
        "2598 0.6921 -1.4181 -2.2805 -0.0008 30 c add 47 0.6522 0.7714 -0.1192 1492 1185 2\n",
        "1463 0.6921 -1.4182 -2.2805 -0.0005 25 r add 488 0.7229 0.7715 -0.0487 1498 1186 5"
       ]
      },
      {
       "output_type": "stream",
       "stream": "stdout",
       "text": [
        "\n",
        "1645 0.6921 -1.4182 -2.2805 -0.0005 17 r add 549 0.5469 0.7518 -0.2049 1499 1187 0\n",
        "2126 0.6920 -1.4176 -2.2805 -0.0020 47 r add 709 0.7290 0.7778 -0.0488 1500 1188 0\n",
        "1572 0.6919 -1.4178 -2.2805 -0.0004 21 r add 524 0.5690 0.7917 -0.2226 1501 1189 0\n",
        "1834 0.6919 -1.4178 -2.2805 -0.0014 38 r add 612 0.7072 0.8126 -0.1055 1502 1190 0\n",
        "683 0.6918 -1.4179 -2.2805 -0.0004 2 r add 228 0.7035 0.8236 -0.1201 1503 1191 0"
       ]
      },
      {
       "output_type": "stream",
       "stream": "stdout",
       "text": [
        "\n",
        "866 0.6918 -1.4178 -2.2805 -0.0002 2 r add 289 0.7028 0.8236 -0.1207 1504 1192 0\n",
        "845 0.6918 -1.4177 -2.2805 -0.0007 64 r add 282 0.7094 0.8345 -0.1251 1505 1193 0\n",
        "1090 0.6917 -1.4181 -2.2805 -0.0015 58 r add 364 0.7116 0.7575 -0.0459 1506 1194 0"
       ]
      },
      {
       "output_type": "stream",
       "stream": "stdout",
       "text": [
        "\n",
        "1891 0.6916 -1.4176 -2.2805 -0.0015 14 r add 631 0.6818 0.7902 -0.1084 1507 1195 0\n",
        "2079 0.6916 -1.4172 -2.2805 -0.0003 10 r add 693 0.6867 0.7869 -0.1002 1508 1196 0\n",
        "2344 0.6916 -1.4171 -2.2805 -0.0008 51 r add 782 0.6573 0.7618 -0.1044 1509 1197 0\n",
        "103 0.6915 -1.4172 -2.2805 -0.0004 70 r add 35 0.6358 0.7830 -0.1472 1510 1198 0\n",
        "709 0.6915 -1.4170 -2.2805 -0.0013 20 r add 237 0.6685 0.8079 -0.1394 1511 1199 0"
       ]
      },
      {
       "output_type": "stream",
       "stream": "stdout",
       "text": [
        "\n",
        "284 0.6914 -1.4171 -2.2805 -0.0008 46 r add 95 0.6032 0.8210 -0.2178 1512 1200 0\n",
        "248 0.6913 -1.4169 -2.2805 -0.0016 41 r add 83 0.6840 0.7513 -0.0674 1513 1201 0\n",
        "993 0.6913 -1.4171 -2.2805 -0.0006 38 r add 331 0.7036 0.8126 -0.1091 1515 1202 1"
       ]
      },
      {
       "output_type": "stream",
       "stream": "stdout",
       "text": [
        "\n",
        "1944 0.6913 -1.4172 -2.2805 -0.0004 21 r add 648 0.5672 0.7917 -0.2244 1516 1203 0\n",
        "2357 0.6913 -1.4175 -2.2805 -0.0002 40 r add 786 0.7558 0.8006 -0.0448 1517 1204 0\n",
        "653 0.6912 -1.4177 -2.2805 -0.0004 12 r add 218 0.6068 0.7560 -0.1491 1518 1205 0\n",
        "232 0.6912 -1.4177 -2.2805 -0.0005 30 r add 78 0.6491 0.7714 -0.1223 1519 1206 0\n",
        "1249 0.6912 -1.4178 -2.2805 -0.0008 10 r add 417 0.6832 0.7869 -0.1037 1520 1207 0"
       ]
      },
      {
       "output_type": "stream",
       "stream": "stdout",
       "text": [
        "\n",
        "1221 0.6911 -1.4178 -2.2805 -0.0003 54 r add 407 0.6061 0.7568 -0.1507 1521 1208 0\n",
        "947 0.6911 -1.4180 -2.2805 -0.0006 71 r add 316 0.6864 0.7861 -0.0997 1522 1209 0\n",
        "2178 0.6909 -1.4182 -2.2805 -0.0026 56 r add 726 0.7334 0.7623 -0.0289 1523 1210 0\n",
        "1173 0.6909 -1.4183 -2.2805 -0.0004 12 r add 391 0.6050 0.7560 -0.1509 1524 1211 0\n",
        "783 0.6909 -1.4182 -2.2805 -0.0001 12 r add 261 0.6049 0.7560 -0.1511 1525 1212 0\n",
        "963 0.6909 -1.4174 -2.2805 -0.0013 18 r add 321 0.7844 0.8238 -0.0394 1526 1213 0"
       ]
      },
      {
       "output_type": "stream",
       "stream": "stdout",
       "text": [
        "\n",
        "518 0.6908 -1.4176 -2.2805 -0.0005 51 r add 173 0.6549 0.7618 -0.1069 1527 1214 0\n",
        "924 0.6908 -1.4178 -2.2805 -0.0006 55 r add 308 0.7727 0.7978 -0.0251 1528 1215 0\n",
        "98 0.6908 -1.4179 -2.2805 -0.0002 70 r add 33 0.6348 0.7830 -0.1482 1529 1216 0\n",
        "308 0.6908 -1.4177 -2.2805 -0.0003 16 r add 103 0.6316 0.7556 -0.1240 1530 1217 0\n",
        "2266 0.6908 -1.4178 -2.2805 -0.0001 39 r add 756 0.7052 0.8007 -0.0955 1531 1218 0\n",
        "2597 0.6907 -1.4178 -2.2805 -0.0011 14 c add 47 0.6770 0.7902 -0.1132 1532 1219 0\n",
        "1252 0.6906 -1.4177 -2.2805 -0.0007 30 r add 418 0.6462 0.7714 -0.1252 1533 1220 0"
       ]
      },
      {
       "output_type": "stream",
       "stream": "stdout",
       "text": [
        "\n",
        "1138 0.6906 -1.4176 -2.2805 -0.0017 31 r add 380 0.6712 0.7565 -0.0853 1535 1221 1\n",
        "550 0.6905 -1.4177 -2.2805 -0.0001 15 r add 184 0.5048 0.7972 -0.2925 1540 1222 4"
       ]
      },
      {
       "output_type": "stream",
       "stream": "stdout",
       "text": [
        "\n",
        "519 0.6905 -1.4175 -2.2805 -0.0011 28 r add 173 0.6829 0.7292 -0.0463 1541 1223 0\n",
        "2532 0.6904 -1.4175 -2.2805 -0.0007 10 c remove 25 0.6801 0.7869 -0.1069 1542 1224 0\n",
        "1006 0.6904 -1.4176 -2.2805 -0.0003 53 r add 336 0.6922 0.8447 -0.1525 1543 1225 0\n",
        "1313 0.6904 -1.4175 -2.2805 -0.0003 70 r add 438 0.6337 0.7830 -0.1493 1544 1226 0\n",
        "356 0.6904 -1.4175 -2.2805 -0.0010 30 r add 119 0.6418 0.7714 -0.1295 1545 1227 0\n",
        "1719 0.6904 -1.4173 -2.2805 -0.0001 12 r add 573 0.6034 0.7560 -0.1526 1546 1228 0"
       ]
      },
      {
       "output_type": "stream",
       "stream": "stdout",
       "text": [
        "\n",
        "2152 0.6903 -1.4175 -2.2805 -0.0004 54 r add 718 0.6043 0.7568 -0.1525 1547 1229 0\n",
        "484 0.6903 -1.4173 -2.2805 -0.0007 17 r add 162 0.5440 0.7518 -0.2078 1548 1230 0\n",
        "2280 0.6902 -1.4176 -2.2805 -0.0013 72 r add 760 0.6897 0.7901 -0.1004 1549 1231 0\n",
        "2166 0.6902 -1.4175 -2.2805 -0.0005 49 r add 722 0.5921 0.8207 -0.2286 1550 1232 0\n",
        "1424 0.6902 -1.4176 -2.2805 -0.0005 39 r add 475 0.7030 0.8007 -0.0977 1551 1233 0"
       ]
      },
      {
       "output_type": "stream",
       "stream": "stdout",
       "text": [
        "\n",
        "1718 0.6901 -1.4176 -2.2805 -0.0002 70 r add 573 0.6328 0.7830 -0.1502 1552 1234 0\n",
        "1867 0.6901 -1.4178 -2.2805 -0.0004 10 r add 623 0.6780 0.7869 -0.1090 1553 1235 0\n",
        "946 0.6901 -1.4179 -2.2805 -0.0002 49 r add 316 0.5909 0.8207 -0.2298 1554 1236 0\n",
        "204 0.6900 -1.4175 -2.2805 -0.0012 41 r add 68 0.6795 0.7513 -0.0719 1555 1237 0\n",
        "1405 0.6900 -1.4177 -2.2805 -0.0004 16 r add 469 0.6297 0.7556 -0.1259 1556 1238 0"
       ]
      },
      {
       "output_type": "stream",
       "stream": "stdout",
       "text": [
        "\n",
        "793 0.6900 -1.4178 -2.2805 -0.0006 15 r add 265 0.5020 0.7972 -0.2953 1557 1239 0\n",
        "1352 0.6900 -1.4180 -2.2805 -0.0001 66 r add 451 0.6545 0.7471 -0.0927 1558 1240 0\n",
        "1657 0.6899 -1.4180 -2.2805 -0.0010 69 r add 553 0.6319 0.7922 -0.1604 1560 1241 1\n",
        "1743 0.6899 -1.4181 -2.2805 -0.0006 69 r add 581 0.6292 0.7922 -0.1630 1561 1242 0\n",
        "898 0.6898 -1.4180 -2.2805 -0.0006 53 r add 300 0.6898 0.8447 -0.1549 1562 1243 0"
       ]
      },
      {
       "output_type": "stream",
       "stream": "stdout",
       "text": [
        "\n",
        "168 0.6898 -1.4182 -2.2805 -0.0001 25 r add 56 0.7162 0.7715 -0.0553 1568 1244 5\n",
        "193 0.6898 -1.4182 -2.2805 -0.0004 54 r add 65 0.6024 0.7568 -0.1544 1569 1245 0"
       ]
      },
      {
       "output_type": "stream",
       "stream": "stdout",
       "text": [
        "\n",
        "458 0.6898 -1.4182 -2.2805 -0.0001 64 r add 153 0.7090 0.8345 -0.1255 1570 1246 0\n",
        "902 0.6898 -1.4178 -2.2805 -0.0007 54 r add 301 0.5999 0.7568 -0.1569 1571 1247 0\n",
        "1162 0.6898 -1.4177 -2.2805 -0.0004 49 r add 388 0.5895 0.8207 -0.2312 1572 1248 0\n",
        "441 0.6897 -1.4178 -2.2805 -0.0000 53 r add 147 0.6886 0.8447 -0.1561 1575 1249 2"
       ]
      },
      {
       "output_type": "stream",
       "stream": "stdout",
       "text": [
        "\n",
        "66 0.6897 -1.4180 -2.2805 -0.0007 19 r add 22 0.6694 0.7796 -0.1102 1576 1250 0\n",
        "1936 0.6897 -1.4180 -2.2805 -0.0005 49 r add 646 0.5874 0.8207 -0.2333 1578 1251 1\n",
        "629 0.6896 -1.4181 -2.2805 -0.0008 66 r add 210 0.6508 0.7471 -0.0963 1579 1252 0"
       ]
      },
      {
       "output_type": "stream",
       "stream": "stdout",
       "text": [
        "\n",
        "406 0.6896 -1.4181 -2.2805 -0.0007 20 r add 136 0.6668 0.8079 -0.1412 1580 1253 0\n",
        "945 0.6896 -1.4180 -2.2805 -0.0003 16 r add 315 0.6285 0.7556 -0.1271 1581 1254 0\n",
        "818 0.6895 -1.4181 -2.2805 -0.0003 70 r add 273 0.6323 0.7830 -0.1507 1582 1255 0\n",
        "1847 0.6895 -1.4181 -2.2805 -0.0006 2 r add 616 0.6999 0.8236 -0.1236 1583 1256 0\n",
        "2538 0.6895 -1.4181 -2.2805 -0.0003 34 c remove 27 0.7125 0.7403 -0.0278 1584 1257 0\n",
        "2587 0.6894 -1.4181 -2.2805 -0.0014 47 c add 44 0.7227 0.7778 -0.0551 1585 1258 0\n",
        "1630 0.6894 -1.4182 -2.2777 -0.0001 1 r add 544 0.6494 0.6613 -0.0119 1586 1259 0\n",
        "2444 0.6894 -1.4183 -2.2777 -0.0005 69 r add 815 0.6269 0.7922 -0.1654 1587 1260 0"
       ]
      },
      {
       "output_type": "stream",
       "stream": "stdout",
       "text": [
        "\n",
        "1639 0.6893 -1.4183 -2.2777 -0.0004 21 r add 547 0.5633 0.7917 -0.2283 1588 1261 0\n",
        "1715 0.6893 -1.4183 -2.2777 -0.0002 70 r add 572 0.6314 0.7830 -0.1516 1589 1262 0\n",
        "493 0.6893 -1.4181 -2.2684 -0.0007 1 r add 165 0.6465 0.6613 -0.0148 1591 1263 1\n",
        "1177 0.6893 -1.4178 -2.2684 -0.0007 40 r add 393 0.7639 0.8006 -0.0367 1592 1264 0"
       ]
      },
      {
       "output_type": "stream",
       "stream": "stdout",
       "text": [
        "\n",
        "213 0.6892 -1.4176 -2.2684 -0.0005 7 r add 71 0.5239 0.7664 -0.2424 1593 1265 0\n",
        "2411 0.6892 -1.4175 -2.2684 -0.0003 15 r add 804 0.5007 0.7972 -0.2966 1594 1266 0\n",
        "1178 0.6892 -1.4177 -2.2684 -0.0003 36 r add 393 0.7087 0.7125 -0.0038 1595 1267 0\n",
        "247 0.6892 -1.4177 -2.2684 -0.0003 15 r add 83 0.4992 0.7972 -0.2980 1596 1268 0\n",
        "270 0.6891 -1.4181 -2.2684 -0.0018 18 r add 90 0.7756 0.8238 -0.0482 1597 1269 0"
       ]
      },
      {
       "output_type": "stream",
       "stream": "stdout",
       "text": [
        "\n",
        "1550 0.6890 -1.4181 -2.2684 -0.0002 53 r add 517 0.6877 0.8447 -0.1571 1598 1270 0\n",
        "1161 0.6890 -1.4180 -2.2684 -0.0002 15 r add 387 0.4984 0.7972 -0.2989 1599 1271 0\n",
        "1762 0.6890 -1.4180 -2.2684 -0.0000 7 r add 588 0.5239 0.7664 -0.2424 1600 1272 0\n",
        "2105 0.6890 -1.4180 -2.2684 -0.0001 53 r add 702 0.6861 0.8447 -0.1586 1602 1273 1"
       ]
      },
      {
       "output_type": "stream",
       "stream": "stdout",
       "text": [
        "\n",
        "900 0.6890 -1.4179 -2.2684 -0.0004 48 r add 300 0.7227 0.7454 -0.0227 1604 1274 1\n",
        "1690 0.6890 -1.4175 -2.2684 -0.0008 51 r add 564 0.6489 0.7618 -0.1128 1605 1275 0\n",
        "230 0.6889 -1.4176 -2.2684 -0.0006 39 r add 77 0.7000 0.8007 -0.1007 1606 1276 0\n",
        "282 0.6889 -1.4177 -2.2684 -0.0002 21 r add 94 0.5623 0.7917 -0.2293 1607 1277 0\n",
        "905 0.6889 -1.4172 -2.2684 -0.0010 25 r add 302 0.7126 0.7715 -0.0589 1608 1278 0"
       ]
      },
      {
       "output_type": "stream",
       "stream": "stdout",
       "text": [
        "\n",
        "255 0.6888 -1.4170 -2.2684 -0.0007 25 r add 85 0.7098 0.7715 -0.0617 1609 1279 0\n",
        "1574 0.6888 -1.4165 -2.2684 -0.0005 71 r add 525 0.6839 0.7861 -0.1022 1615 1280 5"
       ]
      },
      {
       "output_type": "stream",
       "stream": "stdout",
       "text": [
        "\n",
        "836 0.6887 -1.4167 -2.2684 -0.0011 69 r add 279 0.6218 0.7922 -0.1705 1616 1281 0\n",
        "1422 0.6887 -1.4170 -2.2684 -0.0008 19 r add 474 0.6655 0.7796 -0.1140 1617 1282 0\n",
        "2087 0.6886 -1.4172 -2.2684 -0.0006 2 r add 696 0.6968 0.8236 -0.1268 1618 1283 0\n",
        "2034 0.6885 -1.4158 -2.2684 -0.0029 50 r add 678 0.7023 0.7457 -0.0434 1619 1284 0\n",
        "868 0.6885 -1.4158 -2.2684 -0.0002 54 r add 290 0.5992 0.7568 -0.1576 1620 1285 0"
       ]
      },
      {
       "output_type": "stream",
       "stream": "stdout",
       "text": [
        "\n",
        "632 0.6884 -1.4156 -2.2684 -0.0009 69 r add 211 0.6180 0.7922 -0.1742 1621 1286 0\n",
        "1207 0.6884 -1.4157 -2.2684 -0.0007 68 r add 403 0.5908 0.7635 -0.1727 1622 1287 0\n",
        "492 0.6884 -1.4155 -2.2684 -0.0009 10 r add 164 0.6770 0.7869 -0.1100 1623 1288 0\n",
        "1898 0.6883 -1.4147 -2.2684 -0.0013 26 r add 633 0.7124 0.7351 -0.0227 1624 1289 0\n",
        "1644 0.6882 -1.4148 -2.2684 -0.0007 46 r add 548 0.5999 0.8210 -0.2211 1625 1290 0\n",
        "624 0.6882 -1.4149 -2.2684 -0.0009 20 r add 208 0.6627 0.8079 -0.1452 1626 1291 0"
       ]
      },
      {
       "output_type": "stream",
       "stream": "stdout",
       "text": [
        "\n",
        "1885 0.6881 -1.4146 -2.2684 -0.0010 16 r add 629 0.6245 0.7556 -0.1311 1627 1292 0\n",
        "187 0.6881 -1.4143 -2.2684 -0.0005 54 r add 63 0.5977 0.7568 -0.1591 1628 1293 0\n",
        "669 0.6880 -1.4149 -2.2684 -0.0010 67 r add 223 0.6957 0.7233 -0.0277 1634 1294 5"
       ]
      },
      {
       "output_type": "stream",
       "stream": "stdout",
       "text": [
        "\n",
        "1692 0.6880 -1.4147 -2.2684 -0.0002 30 r add 564 0.6415 0.7714 -0.1298 1635 1295 0\n",
        "2156 0.6880 -1.4148 -2.2684 -0.0005 68 r add 719 0.5883 0.7635 -0.1751 1636 1296 0\n",
        "14 0.6880 -1.4139 -2.2684 -0.0012 22 r add 5 0.6507 0.7106 -0.0599 1638 1297 1\n",
        "1134 0.6879 -1.4138 -2.2684 -0.0006 31 r add 378 0.6686 0.7565 -0.0880 1639 1298 0"
       ]
      },
      {
       "output_type": "stream",
       "stream": "stdout",
       "text": [
        "\n",
        "243 0.6879 -1.4139 -2.2684 -0.0005 39 r add 81 0.6976 0.8007 -0.1031 1640 1299 0\n",
        "1469 0.6878 -1.4140 -2.2684 -0.0008 68 r add 490 0.5845 0.7635 -0.1790 1641 1300 0\n",
        "2065 0.6878 -1.4138 -2.2684 -0.0009 16 r add 689 0.6208 0.7556 -0.1348 1642 1301 0\n",
        "1702 0.6878 -1.4138 -2.2684 -0.0003 54 r add 568 0.5965 0.7568 -0.1603 1643 1302 0\n",
        "1779 0.6878 -1.4139 -2.2684 -0.0002 21 r add 593 0.5620 0.7917 -0.2296 1644 1303 0"
       ]
      },
      {
       "output_type": "stream",
       "stream": "stdout",
       "text": [
        "\n",
        "701 0.6877 -1.4139 -2.2684 -0.0012 71 r add 234 0.6784 0.7861 -0.1077 1645 1304 0\n",
        "301 0.6877 -1.4139 -2.2684 -0.0004 30 r add 101 0.6397 0.7714 -0.1317 1646 1305 0\n",
        "556 0.6877 -1.4139 -2.2684 -0.0001 70 r add 186 0.6327 0.7830 -0.1503 1647 1306 0\n",
        "2621 0.6875 -1.4139 -2.2684 -0.0024 26 c remove 55 0.7017 0.7351 -0.0335 1648 1307 0\n",
        "561 0.6875 -1.4142 -2.2684 -0.0001 66 r add 187 0.6497 0.7471 -0.0975 1649 1308 0\n",
        "1882 0.6875 -1.4143 -2.2684 -0.0007 51 r add 628 0.6493 0.7618 -0.1124 1650 1309 0"
       ]
      },
      {
       "output_type": "stream",
       "stream": "stdout",
       "text": [
        "\n",
        "1433 0.6874 -1.4141 -2.2684 -0.0009 51 r add 478 0.6458 0.7618 -0.1160 1651 1310 0\n",
        "183 0.6874 -1.4139 -2.2684 -0.0007 39 r add 61 0.6943 0.8007 -0.1064 1653 1311 1"
       ]
      },
      {
       "output_type": "stream",
       "stream": "stdout",
       "text": [
        "\n",
        "795 0.6873 -1.4141 -2.2684 -0.0008 17 r add 265 0.5402 0.7518 -0.2116 1654 1312 0\n",
        "1307 0.6873 -1.4141 -2.2684 -0.0006 51 r add 436 0.6431 0.7618 -0.1186 1655 1313 0\n",
        "180 0.6872 -1.4138 -2.2684 -0.0009 47 r add 60 0.7189 0.7778 -0.0589 1657 1314 1\n",
        "115 0.6872 -1.4140 -2.2684 -0.0003 10 r add 39 0.6755 0.7869 -0.1114 1658 1315 0"
       ]
      },
      {
       "output_type": "stream",
       "stream": "stdout",
       "text": [
        "\n",
        "217 0.6872 -1.4136 -2.2684 -0.0012 71 r add 73 0.6738 0.7861 -0.1122 1659 1316 0\n",
        "989 0.6871 -1.4138 -2.2684 -0.0004 10 r add 330 0.6734 0.7869 -0.1135 1660 1317 0\n",
        "241 0.6871 -1.4137 -2.2684 -0.0011 31 r add 81 0.6638 0.7565 -0.0928 1661 1318 0\n",
        "1487 0.6871 -1.4138 -2.2684 -0.0000 15 r add 496 0.4965 0.7972 -0.3007 1662 1319 0\n",
        "2307 0.6870 -1.4138 -2.2684 -0.0009 32 r add 769 0.7316 0.7521 -0.0205 1665 1320 2"
       ]
      },
      {
       "output_type": "stream",
       "stream": "stdout",
       "text": [
        "\n",
        "2188 0.6870 -1.4140 -2.2684 -0.0006 51 r add 730 0.6400 0.7618 -0.1218 1666 1321 0\n",
        "2042 0.6870 -1.4143 -2.2684 -0.0001 12 r add 681 0.6027 0.7560 -0.1532 1670 1322 3\n",
        "110 0.6869 -1.4145 -2.2684 -0.0003 51 r add 37 0.6381 0.7618 -0.1237 1671 1323 0"
       ]
      },
      {
       "output_type": "stream",
       "stream": "stdout",
       "text": [
        "\n",
        "2011 0.6869 -1.4144 -2.2684 -0.0006 14 r add 671 0.6748 0.7902 -0.1154 1672 1324 0\n",
        "1970 0.6869 -1.4142 -2.2684 -0.0007 31 r add 657 0.6609 0.7565 -0.0956 1673 1325 0\n",
        "176 0.6869 -1.4141 -2.2684 -0.0000 70 r add 59 0.6335 0.7830 -0.1495 1674 1326 0\n",
        "2288 0.6868 -1.4142 -2.2684 -0.0011 3 r add 763 0.7075 0.8073 -0.0999 1675 1327 0"
       ]
      },
      {
       "output_type": "stream",
       "stream": "stdout",
       "text": [
        "\n",
        "364 0.6868 -1.4140 -2.2684 -0.0006 64 r add 122 0.7064 0.8345 -0.1281 1677 1328 1\n",
        "812 0.6867 -1.4141 -2.2684 -0.0006 7 r add 271 0.5191 0.7664 -0.2473 1678 1329 0\n",
        "1632 0.6867 -1.4141 -2.2684 -0.0005 40 r add 544 0.7616 0.8006 -0.0390 1679 1330 0\n",
        "987 0.6866 -1.4147 -2.2684 -0.0007 23 r add 329 0.7390 0.7490 -0.0100 1681 1331 1"
       ]
      },
      {
       "output_type": "stream",
       "stream": "stdout",
       "text": [
        "\n",
        "1864 0.6866 -1.4147 -2.2684 -0.0004 15 r add 622 0.4946 0.7972 -0.3026 1682 1332 0\n",
        "1165 0.6866 -1.4148 -2.2684 -0.0004 21 r add 389 0.5600 0.7917 -0.2316 1683 1333 0\n",
        "662 0.6866 -1.4148 -2.2684 -0.0001 15 r add 221 0.4941 0.7972 -0.3032 1684 1334 0\n",
        "2334 0.6865 -1.4148 -2.2684 -0.0007 41 r add 778 0.6724 0.7513 -0.0789 1688 1335 3"
       ]
      },
      {
       "output_type": "stream",
       "stream": "stdout",
       "text": [
        "\n",
        "775 0.6865 -1.4145 -2.2684 -0.0003 49 r add 259 0.5898 0.8207 -0.2309 1690 1336 1\n",
        "1593 0.6865 -1.4144 -2.2684 -0.0006 15 r add 531 0.4918 0.7972 -0.3054 1691 1337 0\n",
        "533 0.6865 -1.4142 -2.2684 -0.0008 9 r add 178 0.6650 0.8086 -0.1436 1692 1338 0\n",
        "1791 0.6864 -1.4140 -2.2684 -0.0004 15 r add 597 0.4903 0.7972 -0.3069 1693 1339 0"
       ]
      },
      {
       "output_type": "stream",
       "stream": "stdout",
       "text": [
        "\n",
        "1912 0.6864 -1.4130 -2.2684 -0.0009 61 r add 638 0.7169 0.7434 -0.0265 1694 1340 0\n",
        "261 0.6864 -1.4115 -2.2684 -0.0015 57 r add 87 0.6953 0.7415 -0.0462 1695 1341 0\n",
        "1532 0.6863 -1.4115 -2.2684 -0.0003 30 r add 511 0.6385 0.7714 -0.1329 1696 1342 0\n",
        "1340 0.6863 -1.4115 -2.2684 -0.0005 7 r add 447 0.5168 0.7664 -0.2496 1697 1343 0\n",
        "497 0.6863 -1.4107 -2.2684 -0.0008 28 r add 166 0.6807 0.7292 -0.0485 1698 1344 0"
       ]
      },
      {
       "output_type": "stream",
       "stream": "stdout",
       "text": [
        "\n",
        "2261 0.6862 -1.4107 -2.2684 -0.0005 30 r add 754 0.6361 0.7714 -0.1352 1699 1345 0\n",
        "2036 0.6862 -1.4105 -2.2684 -0.0007 69 r add 679 0.6152 0.7922 -0.1770 1700 1346 0\n",
        "2323 0.6862 -1.4104 -2.2684 -0.0003 53 r add 775 0.6838 0.8447 -0.1609 1703 1347 2\n",
        "641 0.6862 -1.4103 -2.2684 -0.0007 51 r add 214 0.6349 0.7618 -0.1269 1705 1348 1"
       ]
      },
      {
       "output_type": "stream",
       "stream": "stdout",
       "text": [
        "\n",
        "1205 0.6861 -1.4104 -2.2684 -0.0004 12 r add 402 0.6008 0.7560 -0.1551 1706 1349 0\n",
        "1686 0.6861 -1.4104 -2.2684 -0.0004 54 r add 562 0.5948 0.7568 -0.1620 1707 1350 0\n",
        "1350 0.6861 -1.4106 -2.2684 -0.0002 71 r add 450 0.6736 0.7861 -0.1125 1708 1351 0\n",
        "806 0.6861 -1.4108 -2.2684 -0.0004 69 r add 269 0.6131 0.7922 -0.1792 1709 1352 0\n",
        "215 0.6860 -1.4107 -2.2684 -0.0003 49 r add 72 0.5885 0.8207 -0.2322 1710 1353 0\n",
        "2226 0.6860 -1.4104 -2.2684 -0.0006 9 r add 742 0.6626 0.8086 -0.1460 1711 1354 0"
       ]
      },
      {
       "output_type": "stream",
       "stream": "stdout",
       "text": [
        "\n",
        "1441 0.6860 -1.4104 -2.2684 -0.0001 70 r add 481 0.6341 0.7830 -0.1489 1712 1355 0\n",
        "840 0.6860 -1.4106 -2.2684 -0.0008 30 r add 280 0.6322 0.7714 -0.1392 1713 1356 0\n",
        "1082 0.6859 -1.4103 -2.2684 -0.0011 58 r add 361 0.7073 0.7575 -0.0502 1714 1357 0\n",
        "1140 0.6859 -1.4100 -2.2634 -0.0001 38 r add 380 0.6976 0.8126 -0.1151 1721 1358 6"
       ]
      },
      {
       "output_type": "stream",
       "stream": "stdout",
       "text": [
        "\n",
        "1080 0.6859 -1.4101 -2.2634 -0.0001 70 r add 360 0.6334 0.7830 -0.1496 1722 1359 0\n",
        "2109 0.6859 -1.4104 -2.2634 -0.0001 25 r add 703 0.7089 0.7715 -0.0626 1723 1360 0\n",
        "1194 0.6858 -1.4103 -2.2634 -0.0007 17 r add 398 0.5363 0.7518 -0.2154 1724 1361 0\n",
        "719 0.6858 -1.4105 -2.2634 -0.0001 54 r add 240 0.5940 0.7568 -0.1628 1726 1362 1"
       ]
      },
      {
       "output_type": "stream",
       "stream": "stdout",
       "text": [
        "\n",
        "58 0.6858 -1.4103 -2.2634 -0.0001 70 r add 20 0.6335 0.7830 -0.1495 1727 1363 0\n",
        "1284 0.6857 -1.4086 -2.2634 -0.0021 8 r add 428 0.7275 0.7473 -0.0197 1728 1364 0\n",
        "154 0.6857 -1.4086 -2.2634 -0.0000 49 r add 52 0.5867 0.8207 -0.2340 1729 1365 0\n",
        "706 0.6857 -1.4086 -2.2634 -0.0003 54 r add 236 0.5929 0.7568 -0.1639 1730 1366 0\n",
        "621 0.6856 -1.4087 -2.2634 -0.0014 19 r add 207 0.6589 0.7796 -0.1207 1731 1367 0"
       ]
      },
      {
       "output_type": "stream",
       "stream": "stdout",
       "text": [
        "\n",
        "692 0.6856 -1.4088 -2.2634 -0.0004 12 r add 231 0.5988 0.7560 -0.1572 1732 1368 0\n",
        "410 0.6856 -1.4086 -2.2634 -0.0001 12 r add 137 0.5986 0.7560 -0.1574 1733 1369 0\n",
        "102 0.6856 -1.4087 -2.2634 -0.0006 12 r add 34 0.5956 0.7560 -0.1604 1734 1370 0\n",
        "101 0.6855 -1.4089 -2.2634 -0.0002 2 r add 34 0.6955 0.8236 -0.1281 1735 1371 0\n",
        "913 0.6855 -1.4090 -2.2634 -0.0010 20 r add 305 0.6593 0.8079 -0.1486 1736 1372 0"
       ]
      },
      {
       "output_type": "stream",
       "stream": "stdout",
       "text": [
        "\n",
        "1527 0.6855 -1.4095 -2.2634 -0.0003 19 r add 509 0.6545 0.7796 -0.1250 1738 1373 1\n",
        "770 0.6854 -1.4096 -2.2634 -0.0008 69 r add 257 0.6092 0.7922 -0.1831 1739 1374 0\n",
        "1914 0.6854 -1.4094 -2.2634 -0.0002 46 r add 638 0.6010 0.8210 -0.2200 1740 1375 0\n",
        "422 0.6853 -1.4092 -2.2634 -0.0012 71 r add 141 0.6682 0.7861 -0.1179 1741 1376 0"
       ]
      },
      {
       "output_type": "stream",
       "stream": "stdout",
       "text": [
        "\n",
        "1990 0.6853 -1.4088 -2.2634 -0.0002 2 r add 664 0.6952 0.8236 -0.1283 1742 1377 0\n",
        "1753 0.6853 -1.4089 -2.2634 -0.0002 49 r add 585 0.5858 0.8207 -0.2349 1743 1378 0\n",
        "767 0.6852 -1.4093 -2.2634 -0.0014 63 r add 256 0.6865 0.7126 -0.0261 1744 1379 0\n",
        "2100 0.6852 -1.4094 -2.2634 -0.0002 2 r add 700 0.6941 0.8236 -0.1295 1745 1380 0\n",
        "156 0.6852 -1.4098 -2.2634 -0.0002 9 r add 52 0.6608 0.8086 -0.1479 1749 1381 3"
       ]
      },
      {
       "output_type": "stream",
       "stream": "stdout",
       "text": [
        "\n",
        "1248 0.6852 -1.4100 -2.2634 -0.0002 47 r add 416 0.7200 0.7778 -0.0578 1750 1382 0\n",
        "1390 0.6851 -1.4102 -2.2549 -0.0007 1 r add 464 0.6460 0.6613 -0.0153 1751 1383 0\n",
        "700 0.6851 -1.4103 -2.2549 -0.0004 49 r add 234 0.5837 0.8207 -0.2370 1753 1384 1\n",
        "388 0.6850 -1.4105 -2.2549 -0.0007 27 r add 130 0.6711 0.7235 -0.0523 1754 1385 0"
       ]
      },
      {
       "output_type": "stream",
       "stream": "stdout",
       "text": [
        "\n",
        "1504 0.6850 -1.4107 -2.2549 -0.0002 54 r add 502 0.5910 0.7568 -0.1658 1756 1386 1\n",
        "988 0.6850 -1.4109 -2.2549 -0.0002 39 r add 330 0.6932 0.8007 -0.1075 1757 1387 0\n",
        "319 0.6850 -1.4111 -2.2549 -0.0002 2 r add 107 0.6929 0.8236 -0.1306 1758 1388 0\n",
        "850 0.6850 -1.4111 -2.2549 -0.0004 49 r add 284 0.5812 0.8207 -0.2395 1760 1389 1"
       ]
      },
      {
       "output_type": "stream",
       "stream": "stdout",
       "text": [
        "\n",
        "2527 0.6850 -1.4111 -2.2549 -0.0001 59 c remove 24 0.6650 0.6656 -0.0006 1761 1390 0\n",
        "1093 0.6849 -1.4112 -2.2549 -0.0010 28 r add 365 0.6760 0.7292 -0.0532 1762 1391 0\n",
        "299 0.6849 -1.4110 -2.2549 -0.0008 3 r add 100 0.7061 0.8073 -0.1012 1763 1392 0\n",
        "757 0.6848 -1.4112 -2.2549 -0.0006 46 r add 253 0.5979 0.8210 -0.2232 1764 1393 0\n",
        "239 0.6848 -1.4111 -2.2549 -0.0009 39 r add 80 0.6895 0.8007 -0.1113 1765 1394 0\n",
        "1523 0.6847 -1.4114 -2.2549 -0.0001 2 r add 508 0.6907 0.8236 -0.1328 1768 1395 2"
       ]
      },
      {
       "output_type": "stream",
       "stream": "stdout",
       "text": [
        "\n",
        "264 0.6847 -1.4114 -2.2549 -0.0003 53 r add 88 0.6822 0.8447 -0.1625 1769 1396 0\n",
        "661 0.6847 -1.4114 -2.2549 -0.0003 7 r add 221 0.5163 0.7664 -0.2501 1770 1397 0\n",
        "237 0.6846 -1.4117 -2.2549 -0.0015 48 r add 79 0.7153 0.7454 -0.0301 1771 1398 0\n",
        "454 0.6846 -1.4117 -2.2549 -0.0003 15 r add 152 0.4890 0.7972 -0.3082 1772 1399 0\n",
        "2021 0.6846 -1.4119 -2.2549 -0.0002 39 r add 674 0.6881 0.8007 -0.1126 1773 1400 0\n",
        "2095 0.6845 -1.4116 -2.2549 -0.0006 16 r add 699 0.6215 0.7556 -0.1341 1774 1401 0"
       ]
      },
      {
       "output_type": "stream",
       "stream": "stdout",
       "text": [
        "\n",
        "587 0.6845 -1.4114 -2.2549 -0.0005 7 r add 196 0.5144 0.7664 -0.2520 1775 1402 0\n",
        "2549 0.6845 -1.4114 -2.2549 -0.0011 40 c add 31 0.7589 0.8006 -0.0417 1776 1403 0\n",
        "2381 0.6844 -1.4115 -2.2549 -0.0006 16 r add 794 0.6188 0.7556 -0.1368 1777 1404 0\n",
        "2045 0.6844 -1.4112 -2.2549 -0.0004 10 r add 682 0.6746 0.7869 -0.1124 1778 1405 0\n",
        "1370 0.6844 -1.4114 -2.2549 -0.0003 28 r add 457 0.6744 0.7292 -0.0548 1779 1406 0\n",
        "2136 0.6844 -1.4112 -2.2549 -0.0003 12 r add 712 0.5954 0.7560 -0.1605 1780 1407 0"
       ]
      },
      {
       "output_type": "stream",
       "stream": "stdout",
       "text": [
        "\n",
        "177 0.6844 -1.4111 -2.2549 -0.0001 39 r add 59 0.6877 0.8007 -0.1130 1781 1408 0\n",
        "1234 0.6843 -1.4110 -2.2549 -0.0003 46 r add 412 0.5967 0.8210 -0.2243 1782 1409 0\n",
        "528 0.6843 -1.4112 -2.2549 -0.0008 20 r add 176 0.6549 0.8079 -0.1530 1783 1410 0\n",
        "1536 0.6843 -1.4110 -2.2549 -0.0002 71 r add 512 0.6679 0.7861 -0.1182 1784 1411 0"
       ]
      },
      {
       "output_type": "stream",
       "stream": "stdout",
       "text": [
        "\n",
        "1614 0.6843 -1.4110 -2.2549 -0.0001 15 r add 538 0.4887 0.7972 -0.3086 1785 1412 0\n",
        "693 0.6843 -1.4112 -2.2549 -0.0003 2 r add 231 0.6892 0.8236 -0.1344 1786 1413 0\n",
        "863 0.6842 -1.4110 -2.2549 -0.0008 71 r add 288 0.6643 0.7861 -0.1217 1787 1414 0\n",
        "592 0.6842 -1.4110 -2.2549 -0.0006 46 r add 198 0.5941 0.8210 -0.2269 1788 1415 0\n",
        "1188 0.6841 -1.4109 -2.2549 -0.0006 21 r add 396 0.5578 0.7917 -0.2338 1789 1416 0"
       ]
      },
      {
       "output_type": "stream",
       "stream": "stdout",
       "text": [
        "\n",
        "955 0.6841 -1.4108 -2.2549 -0.0005 7 r add 319 0.5122 0.7664 -0.2541 1790 1417 0\n",
        "2026 0.6841 -1.4109 -2.2549 -0.0006 51 r add 676 0.6318 0.7618 -0.1300 1791 1418 0\n",
        "2331 0.6840 -1.4111 -2.2549 -0.0004 2 r add 777 0.6870 0.8236 -0.1365 1792 1419 0\n",
        "465 0.6840 -1.4111 -2.2549 -0.0006 38 r add 155 0.6949 0.8126 -0.1177 1793 1420 0\n",
        "2398 0.6840 -1.4109 -2.2549 -0.0002 7 r add 800 0.5114 0.7664 -0.2550 1797 1421 3"
       ]
      },
      {
       "output_type": "stream",
       "stream": "stdout",
       "text": [
        "\n",
        "2573 0.6838 -1.4109 -2.2549 -0.0031 75 c remove 39 0.6844 0.6988 -0.0143 1798 1422 0\n",
        "1272 0.6838 -1.4109 -2.2549 -0.0005 28 r add 424 0.6721 0.7292 -0.0571 1799 1423 0\n",
        "1104 0.6838 -1.4111 -2.2549 -0.0001 19 r add 368 0.6535 0.7796 -0.1261 1800 1424 0\n",
        "75 0.6837 -1.4111 -2.2549 -0.0005 21 r add 25 0.5556 0.7917 -0.2361 1801 1425 0\n",
        "1699 0.6837 -1.4110 -2.2549 -0.0003 54 r add 567 0.5900 0.7568 -0.1668 1802 1426 0\n",
        "1510 0.6837 -1.4113 -2.2533 -0.0002 54 r add 504 0.5887 0.7568 -0.1681 1805 1427 2"
       ]
      },
      {
       "output_type": "stream",
       "stream": "stdout",
       "text": [
        "\n",
        "2084 0.6837 -1.4111 -2.2533 -0.0001 16 r add 695 0.6189 0.7556 -0.1367 1806 1428 0\n",
        "1163 0.6837 -1.4111 -2.2533 -0.0006 69 r add 388 0.6065 0.7922 -0.1858 1807 1429 0\n",
        "1410 0.6836 -1.4112 -2.2533 -0.0003 53 r add 470 0.6807 0.8447 -0.1640 1808 1430 0\n",
        "1942 0.6836 -1.4112 -2.2533 -0.0004 15 r add 648 0.4856 0.7972 -0.3116 1809 1431 0\n",
        "233 0.6836 -1.4112 -2.2533 -0.0001 70 r add 78 0.6332 0.7830 -0.1498 1810 1432 0"
       ]
      },
      {
       "output_type": "stream",
       "stream": "stdout",
       "text": [
        "\n",
        "1788 0.6836 -1.4111 -2.2533 -0.0008 9 r add 596 0.6572 0.8086 -0.1514 1811 1433 0\n",
        "275 0.6835 -1.4109 -2.2533 -0.0008 53 r add 92 0.6773 0.8447 -0.1674 1812 1434 0\n",
        "977 0.6835 -1.4102 -2.2533 -0.0008 22 r add 326 0.6439 0.7106 -0.0667 1813 1435 0\n",
        "2490 0.6835 -1.4098 -2.2533 -0.0001 25 c remove 11 0.7066 0.7715 -0.0649 1833 1436 19"
       ]
      },
      {
       "output_type": "stream",
       "stream": "stdout",
       "text": [
        "\n",
        "1941 0.6834 -1.4098 -2.2533 -0.0007 17 r add 647 0.5331 0.7518 -0.2187 1834 1437 0\n",
        "789 0.6834 -1.4096 -2.2533 -0.0001 15 r add 263 0.4852 0.7972 -0.3121 1835 1438 0\n",
        "1196 0.6833 -1.4090 -2.2533 -0.0028 55 r add 399 0.7605 0.7978 -0.0373 1836 1439 0\n",
        "99 0.6832 -1.4090 -2.2533 -0.0006 12 r add 33 0.5928 0.7560 -0.1632 1837 1440 0"
       ]
      },
      {
       "output_type": "stream",
       "stream": "stdout",
       "text": [
        "\n",
        "1583 0.6832 -1.4088 -2.2533 -0.0007 68 r add 528 0.5817 0.7635 -0.1818 1838 1441 0\n",
        "1339 0.6832 -1.4087 -2.2533 -0.0005 17 r add 447 0.5307 0.7518 -0.2211 1844 1442 5"
       ]
      },
      {
       "output_type": "stream",
       "stream": "stdout",
       "text": [
        "\n",
        "138 0.6832 -1.4086 -2.2533 -0.0002 7 r add 46 0.5095 0.7664 -0.2569 1845 1443 0\n",
        "756 0.6831 -1.4087 -2.2533 -0.0004 46 r add 252 0.5921 0.8210 -0.2290 1846 1444 0\n",
        "1334 0.6831 -1.4088 -2.2533 -0.0010 69 r add 445 0.6015 0.7922 -0.1908 1847 1445 0\n",
        "570 0.6830 -1.4088 -2.2533 -0.0008 63 r add 190 0.6830 0.7126 -0.0296 1848 1446 0\n",
        "571 0.6830 -1.4086 -2.2533 -0.0007 49 r add 191 0.5784 0.8207 -0.2423 1849 1447 0"
       ]
      },
      {
       "output_type": "stream",
       "stream": "stdout",
       "text": [
        "\n",
        "1806 0.6830 -1.4088 -2.2533 -0.0006 17 r add 602 0.5275 0.7518 -0.2243 1850 1448 0\n",
        "114 0.6829 -1.4090 -2.2533 -0.0007 71 r add 38 0.6662 0.7861 -0.1199 1853 1449 2"
       ]
      },
      {
       "output_type": "stream",
       "stream": "stdout",
       "text": [
        "\n",
        "1660 0.6829 -1.4089 -2.2533 -0.0005 17 r add 554 0.5255 0.7518 -0.2263 1854 1450 0\n",
        "2579 0.6829 -1.4093 -2.2533 -0.0003 2 c add 41 0.6856 0.8236 -0.1380 1856 1451 1\n",
        "740 0.6828 -1.4095 -2.2533 -0.0001 16 r add 247 0.6181 0.7556 -0.1375 1857 1452 0\n",
        "535 0.6828 -1.4096 -2.2533 -0.0002 53 r add 179 0.6763 0.8447 -0.1684 1858 1453 0\n",
        "2563 0.6827 -1.4096 -2.2533 -0.0013 48 c remove 36 0.7094 0.7454 -0.0360 1859 1454 0\n",
        "983 0.6827 -1.4096 -2.2533 -0.0001 53 r add 328 0.6757 0.8447 -0.1690 1860 1455 0"
       ]
      },
      {
       "output_type": "stream",
       "stream": "stdout",
       "text": [
        "\n",
        "1745 0.6827 -1.4097 -2.2533 -0.0007 71 r add 582 0.6626 0.7861 -0.1235 1861 1456 0\n",
        "494 0.6827 -1.4093 -2.2533 -0.0001 64 r add 165 0.7099 0.8345 -0.1246 1863 1457 1\n",
        "622 0.6826 -1.4085 -2.2533 -0.0016 57 r add 208 0.6887 0.7415 -0.0529 1864 1458 0\n",
        "1228 0.6826 -1.4090 -2.2533 -0.0005 65 r add 410 0.7329 0.7713 -0.0384 1866 1459 1\n",
        "251 0.6826 -1.4093 -2.2533 -0.0002 46 r add 84 0.5918 0.8210 -0.2293 1868 1460 1"
       ]
      },
      {
       "output_type": "stream",
       "stream": "stdout",
       "text": [
        "\n",
        "985 0.6825 -1.4095 -2.2533 -0.0009 40 r add 329 0.7468 0.8006 -0.0538 1869 1461 0\n",
        "2548 0.6825 -1.4095 -2.2533 -0.0006 18 c add 31 0.7729 0.8238 -0.0509 1870 1462 0\n",
        "1020 0.6824 -1.4095 -2.2533 -0.0003 49 r add 340 0.5770 0.8207 -0.2437 1871 1463 0\n",
        "467 0.6823 -1.4095 -2.2533 -0.0018 63 r add 156 0.6746 0.7126 -0.0379 1872 1464 0\n",
        "2094 0.6823 -1.4092 -2.2533 -0.0010 38 r add 698 0.6910 0.8126 -0.1217 1873 1465 0\n",
        "309 0.6822 -1.4089 -2.2533 -0.0005 38 r add 103 0.6874 0.8126 -0.1252 1878 1466 4"
       ]
      },
      {
       "output_type": "stream",
       "stream": "stdout",
       "text": [
        "\n",
        "878 0.6822 -1.4090 -2.2533 -0.0003 46 r add 293 0.5900 0.8210 -0.2310 1879 1467 0\n",
        "1146 0.6822 -1.4090 -2.2533 -0.0002 51 r add 382 0.6295 0.7618 -0.1323 1881 1468 1\n",
        "220 0.6822 -1.4091 -2.2533 -0.0002 46 r add 74 0.5891 0.8210 -0.2319 1882 1469 0\n",
        "354 0.6822 -1.4093 -2.2533 -0.0000 10 r add 118 0.6740 0.7869 -0.1130 1883 1470 0\n",
        "2343 0.6822 -1.4093 -2.2533 -0.0002 47 r add 781 0.7123 0.7778 -0.0655 1885 1471 1"
       ]
      },
      {
       "output_type": "stream",
       "stream": "stdout",
       "text": [
        "\n",
        "1902 0.6821 -1.4079 -2.2533 -0.0017 18 r add 634 0.7676 0.8238 -0.0562 1886 1472 0\n",
        "64 0.6821 -1.4081 -2.2533 -0.0007 53 r add 22 0.6740 0.8447 -0.1707 1887 1473 0\n",
        "981 0.6820 -1.4073 -2.2533 -0.0015 22 r add 327 0.6383 0.7106 -0.0723 1888 1474 0\n",
        "2237 0.6819 -1.4072 -2.2533 -0.0010 68 r add 746 0.5773 0.7635 -0.1862 1889 1475 0\n",
        "1908 0.6819 -1.4071 -2.2533 -0.0003 21 r add 636 0.5542 0.7917 -0.2375 1890 1476 0"
       ]
      },
      {
       "output_type": "stream",
       "stream": "stdout",
       "text": [
        "\n",
        "1273 0.6819 -1.4069 -2.2533 -0.0005 21 r add 425 0.5521 0.7917 -0.2396 1891 1477 0\n",
        "91 0.6819 -1.4069 -2.2533 -0.0002 15 r add 31 0.4841 0.7972 -0.3131 1892 1478 0\n",
        "1997 0.6818 -1.4069 -2.2533 -0.0009 71 r add 666 0.6586 0.7861 -0.1275 1894 1479 1"
       ]
      },
      {
       "output_type": "stream",
       "stream": "stdout",
       "text": [
        "\n",
        "854 0.6818 -1.4068 -2.2533 -0.0003 49 r add 285 0.5756 0.8207 -0.2451 1895 1480 0\n",
        "1244 0.6818 -1.4069 -2.2533 -0.0005 26 r add 415 0.6995 0.7351 -0.0356 1899 1481 3"
       ]
      },
      {
       "output_type": "stream",
       "stream": "stdout",
       "text": [
        "\n",
        "185 0.6817 -1.4074 -2.2533 -0.0006 57 r add 62 0.6847 0.7415 -0.0568 1903 1482 3\n",
        "2456 0.6817 -1.4076 -2.2533 -0.0002 12 r add 819 0.5908 0.7560 -0.1652 1906 1483 2"
       ]
      },
      {
       "output_type": "stream",
       "stream": "stdout",
       "text": [
        "\n",
        "884 0.6817 -1.4076 -2.2533 -0.0005 31 r add 295 0.6583 0.7565 -0.0982 1907 1484 0\n",
        "2202 0.6817 -1.4076 -2.2533 -0.0001 12 r add 734 0.5906 0.7560 -0.1654 1908 1485 0\n",
        "2363 0.6816 -1.4075 -2.2533 -0.0003 7 r add 788 0.5115 0.7664 -0.2549 1909 1486 0\n",
        "2408 0.6816 -1.4075 -2.2533 -0.0002 49 r add 803 0.5774 0.8207 -0.2433 1910 1487 0"
       ]
      },
      {
       "output_type": "stream",
       "stream": "stdout",
       "text": [
        "\n",
        "1514 0.6816 -1.4077 -2.2533 -0.0009 19 r add 505 0.6488 0.7796 -0.1307 1911 1488 0\n",
        "476 0.6815 -1.4078 -2.2533 -0.0005 68 r add 159 0.5748 0.7635 -0.1887 1912 1489 0\n",
        "698 0.6815 -1.4083 -2.2533 -0.0005 48 r add 233 0.7062 0.7454 -0.0391 1913 1490 0\n",
        "1948 0.6815 -1.4082 -2.2533 -0.0002 17 r add 650 0.5254 0.7518 -0.2264 1914 1491 0\n",
        "611 0.6815 -1.4083 -2.2533 -0.0003 2 r add 204 0.6840 0.8236 -0.1395 1917 1492 2"
       ]
      },
      {
       "output_type": "stream",
       "stream": "stdout",
       "text": [
        "\n",
        "1367 0.6814 -1.4081 -2.2533 -0.0008 71 r add 456 0.6553 0.7861 -0.1308 1918 1493 0\n",
        "1688 0.6814 -1.4083 -2.2533 -0.0004 25 r add 563 0.6995 0.7715 -0.0720 1919 1494 0\n",
        "1576 0.6813 -1.4084 -2.2533 -0.0009 69 r add 526 0.5955 0.7922 -0.1968 1920 1495 0"
       ]
      },
      {
       "output_type": "stream",
       "stream": "stdout",
       "text": [
        "\n",
        "2596 0.6813 -1.4089 -2.2533 -0.0005 18 c add 47 0.7630 0.8238 -0.0608 1926 1496 5"
       ]
      },
      {
       "output_type": "stream",
       "stream": "stdout",
       "text": [
        "\n",
        "1730 0.6813 -1.4090 -2.2533 -0.0003 47 r add 577 0.7104 0.7778 -0.0674 1927 1497 0\n",
        "1145 0.6813 -1.4089 -2.2533 -0.0000 54 r add 382 0.5882 0.7568 -0.1686 1928 1498 0\n",
        "1802 0.6813 -1.4088 -2.2533 -0.0003 49 r add 601 0.5754 0.8207 -0.2453 1929 1499 0\n",
        "2455 0.6812 -1.4089 -2.2533 -0.0002 54 r add 819 0.5870 0.7568 -0.1698 1930 1500 0"
       ]
      },
      {
       "output_type": "stream",
       "stream": "stdout",
       "text": [
        "\n",
        "1347 0.6812 -1.4096 -2.2533 -0.0009 56 r add 449 0.7270 0.7623 -0.0353 1934 1501 3\n",
        "551 0.6811 -1.4095 -2.2533 -0.0003 7 r add 184 0.5101 0.7664 -0.2562 1935 1502 0"
       ]
      },
      {
       "output_type": "stream",
       "stream": "stdout",
       "text": [
        "\n",
        "2022 0.6811 -1.4095 -2.2533 -0.0001 70 r add 674 0.6327 0.7830 -0.1503 1936 1503 0\n",
        "1470 0.6811 -1.4096 -2.2533 -0.0006 17 r add 490 0.5366 0.7518 -0.2151 1937 1504 0\n",
        "2052 0.6810 -1.4091 -2.2533 -0.0012 66 r add 684 0.6431 0.7471 -0.1040 1938 1505 0\n",
        "565 0.6810 -1.4094 -2.2533 -0.0000 49 r add 189 0.5741 0.8207 -0.2466 1940 1506 1"
       ]
      },
      {
       "output_type": "stream",
       "stream": "stdout",
       "text": [
        "\n",
        "438 0.6810 -1.4091 -2.2533 -0.0002 12 r add 146 0.5871 0.7560 -0.1688 1942 1507 1\n",
        "434 0.6810 -1.4091 -2.2533 -0.0006 17 r add 145 0.5337 0.7518 -0.2180 1943 1508 0\n",
        "60 0.6809 -1.4087 -2.2533 -0.0006 39 r add 20 0.6867 0.8007 -0.1140 1944 1509 0\n",
        "1736 0.6809 -1.4087 -2.2533 -0.0005 17 r add 579 0.5313 0.7518 -0.2205 1945 1510 0\n",
        "37 0.6809 -1.4088 -2.2533 -0.0002 46 r add 13 0.5915 0.8210 -0.2295 1946 1511 0"
       ]
      },
      {
       "output_type": "stream",
       "stream": "stdout",
       "text": [
        "\n",
        "1346 0.6809 -1.4090 -2.2533 -0.0006 64 r add 449 0.7038 0.8345 -0.1307 1947 1512 0\n",
        "2221 0.6808 -1.4091 -2.2533 -0.0003 21 r add 741 0.5512 0.7917 -0.2404 1949 1513 1\n",
        "1637 0.6808 -1.4091 -2.2533 -0.0004 15 r add 546 0.4820 0.7972 -0.3152 1950 1514 0"
       ]
      },
      {
       "output_type": "stream",
       "stream": "stdout",
       "text": [
        "\n",
        "2054 0.6807 -1.4087 -2.2533 -0.0013 66 r add 685 0.6380 0.7471 -0.1092 1951 1515 0\n",
        "408 0.6807 -1.4088 -2.2533 -0.0002 72 r add 136 0.6845 0.7901 -0.1056 1952 1516 0\n",
        "2448 0.6807 -1.4085 -2.2533 -0.0010 58 r add 816 0.6912 0.7575 -0.0663 1954 1517 1"
       ]
      },
      {
       "output_type": "stream",
       "stream": "stdout",
       "text": [
        "\n",
        "1186 0.6806 -1.4085 -2.2533 -0.0006 68 r add 396 0.5715 0.7635 -0.1920 1957 1518 2"
       ]
      },
      {
       "output_type": "stream",
       "stream": "stdout",
       "text": [
        "\n",
        "514 0.6806 -1.4082 -2.2533 -0.0010 74 r add 172 0.7419 0.7564 -0.0144 1958 1519 0\n",
        "2158 0.6805 -1.4073 -2.2533 -0.0015 61 r add 720 0.7115 0.7434 -0.0319 1959 1520 0\n",
        "2075 0.6805 -1.4070 -2.2533 -0.0003 10 r add 692 0.6730 0.7869 -0.1139 1960 1521 0"
       ]
      },
      {
       "output_type": "stream",
       "stream": "stdout",
       "text": [
        "\n",
        "1049 0.6805 -1.4069 -2.2533 -0.0002 12 r add 350 0.5860 0.7560 -0.1699 1961 1522 0\n",
        "2077 0.6804 -1.4067 -2.2533 -0.0008 16 r add 693 0.6148 0.7556 -0.1408 1962 1523 0\n",
        "2101 0.6804 -1.4065 -2.2533 -0.0004 53 r add 701 0.6721 0.8447 -0.1726 1964 1524 1"
       ]
      },
      {
       "output_type": "stream",
       "stream": "stdout",
       "text": [
        "\n",
        "1909 0.6804 -1.4067 -2.2533 -0.0005 20 r add 637 0.6522 0.8079 -0.1557 1965 1525 0\n",
        "2201 0.6803 -1.4066 -2.2533 -0.0008 39 r add 734 0.6831 0.8007 -0.1176 1966 1526 0\n",
        "584 0.6803 -1.4072 -2.2533 -0.0002 47 r add 195 0.7079 0.7778 -0.0699 1971 1527 4"
       ]
      },
      {
       "output_type": "stream",
       "stream": "stdout",
       "text": [
        "\n",
        "2198 0.6802 -1.4075 -2.2533 -0.0008 31 r add 733 0.6539 0.7565 -0.1026 1972 1528 0\n",
        "1663 0.6802 -1.4074 -2.2533 -0.0006 17 r add 555 0.5285 0.7518 -0.2233 1973 1529 0\n",
        "1141 0.6802 -1.4076 -2.2533 -0.0006 51 r add 381 0.6263 0.7618 -0.1354 1975 1530 1"
       ]
      },
      {
       "output_type": "stream",
       "stream": "stdout",
       "text": [
        "\n",
        "1555 0.6801 -1.4078 -2.2533 -0.0007 10 r add 519 0.6697 0.7869 -0.1172 1976 1531 0\n",
        "1385 0.6801 -1.4076 -2.2533 -0.0002 12 r add 462 0.5856 0.7560 -0.1704 1977 1532 0\n",
        "1897 0.6800 -1.4068 -2.2533 -0.0027 50 r add 633 0.6910 0.7457 -0.0547 1978 1533 0\n",
        "2439 0.6800 -1.4068 -2.2533 -0.0003 68 r add 813 0.5698 0.7635 -0.1937 1983 1534 4"
       ]
      },
      {
       "output_type": "stream",
       "stream": "stdout",
       "text": [
        "\n",
        "984 0.6799 -1.4071 -2.2533 -0.0001 25 r add 328 0.6952 0.7715 -0.0763 1984 1535 0\n",
        "1801 0.6799 -1.4070 -2.2533 -0.0004 15 r add 601 0.4817 0.7972 -0.3155 1985 1536 0\n",
        "2134 0.6798 -1.4066 -2.2533 -0.0013 20 r add 712 0.6426 0.8079 -0.1654 1986 1537 0\n",
        "1766 0.6798 -1.4062 -2.2533 -0.0007 71 r add 589 0.6524 0.7861 -0.1337 1988 1538 1"
       ]
      },
      {
       "output_type": "stream",
       "stream": "stdout",
       "text": [
        "\n",
        "591 0.6798 -1.4063 -2.2533 -0.0000 2 r add 197 0.6837 0.8236 -0.1399 1989 1539 0\n",
        "1807 0.6798 -1.4064 -2.2533 -0.0001 2 r add 603 0.6833 0.8236 -0.1402 1990 1540 0\n",
        "1087 0.6798 -1.4063 -2.2533 -0.0007 58 r add 363 0.6836 0.7575 -0.0739 1999 1541 8"
       ]
      },
      {
       "output_type": "stream",
       "stream": "stdout",
       "text": [
        "\n",
        "1026 0.6798 -1.4058 -2.2533 -0.0002 17 r add 342 0.5245 0.7518 -0.2273 2009 1542 9"
       ]
      },
      {
       "output_type": "stream",
       "stream": "stdout",
       "text": [
        "\n",
        "2419 0.6797 -1.4056 -2.2533 -0.0003 70 r add 807 0.6345 0.7830 -0.1485 2010 1543 0\n",
        "2376 0.6797 -1.4057 -2.2533 -0.0000 10 r add 792 0.6686 0.7869 -0.1183 2012 1544 1\n",
        "100 0.6797 -1.4058 -2.2533 -0.0000 54 r add 34 0.5838 0.7568 -0.1730 2013 1545 0"
       ]
      },
      {
       "output_type": "stream",
       "stream": "stdout",
       "text": [
        "\n",
        "2186 0.6797 -1.4056 -2.2533 -0.0004 21 r add 729 0.5472 0.7917 -0.2444 2014 1546 0\n",
        "577 0.6797 -1.4056 -2.2533 -0.0004 20 r add 193 0.6410 0.8079 -0.1670 2015 1547 0\n",
        "799 0.6797 -1.4056 -2.2533 -0.0005 71 r add 267 0.6497 0.7861 -0.1363 2016 1548 0\n",
        "1288 0.6796 -1.4056 -2.2533 -0.0003 70 r add 430 0.6336 0.7830 -0.1494 2017 1549 0\n",
        "2151 0.6796 -1.4059 -2.2533 -0.0004 48 r add 717 0.7035 0.7454 -0.0418 2018 1550 0"
       ]
      },
      {
       "output_type": "stream",
       "stream": "stdout",
       "text": [
        "\n",
        "2359 0.6796 -1.4060 -2.2533 -0.0000 21 r add 787 0.5468 0.7917 -0.2448 2019 1551 0\n",
        "1609 0.6795 -1.4061 -2.2533 -0.0009 69 r add 537 0.5932 0.7922 -0.1991 2020 1552 0\n",
        "1023 0.6795 -1.4062 -2.2533 -0.0001 7 r add 341 0.5081 0.7664 -0.2583 2022 1553 1\n",
        "1453 0.6794 -1.4061 -2.2533 -0.0012 72 r add 485 0.6789 0.7901 -0.1112 2023 1554 0"
       ]
      },
      {
       "output_type": "stream",
       "stream": "stdout",
       "text": [
        "\n",
        "749 0.6794 -1.4060 -2.2533 -0.0003 71 r add 250 0.6478 0.7861 -0.1383 2025 1555 1\n",
        "369 0.6794 -1.4058 -2.2533 -0.0002 7 r add 123 0.5075 0.7664 -0.2589 2026 1556 0\n",
        "1971 0.6794 -1.4054 -2.2533 -0.0006 38 r add 657 0.6851 0.8126 -0.1275 2027 1557 0\n",
        "86 0.6794 -1.4054 -2.2533 -0.0003 21 r add 29 0.5454 0.7917 -0.2463 2028 1558 0"
       ]
      },
      {
       "output_type": "stream",
       "stream": "stdout",
       "text": [
        "\n",
        "2382 0.6794 -1.4048 -2.2533 -0.0000 25 r add 794 0.6962 0.7715 -0.0753 2029 1559 0\n",
        "1598 0.6793 -1.4048 -2.2533 -0.0012 20 r add 533 0.6351 0.8079 -0.1728 2030 1560 0\n",
        "1152 0.6793 -1.4049 -2.2533 -0.0002 46 r add 384 0.5904 0.8210 -0.2306 2031 1561 0\n",
        "141 0.6793 -1.4050 -2.2533 -0.0001 39 r add 47 0.6842 0.8007 -0.1166 2032 1562 0\n",
        "329 0.6792 -1.4044 -2.2533 -0.0014 25 r add 110 0.6908 0.7715 -0.0808 2033 1563 0"
       ]
      },
      {
       "output_type": "stream",
       "stream": "stdout",
       "text": [
        "\n",
        "1836 0.6792 -1.4046 -2.2533 -0.0007 31 r add 612 0.6501 0.7565 -0.1064 2034 1564 0\n",
        "2627 0.6791 -1.4046 -2.2533 -0.0011 71 c add 57 0.6426 0.7861 -0.1435 2035 1565 0\n",
        "195 0.6791 -1.4046 -2.2533 -0.0007 2 r add 65 0.6779 0.8236 -0.1457 2036 1566 0\n",
        "2513 0.6790 -1.4046 -2.2533 -0.0004 59 c add 19 0.6570 0.6656 -0.0086 2038 1567 1"
       ]
      },
      {
       "output_type": "stream",
       "stream": "stdout",
       "text": [
        "\n",
        "129 0.6790 -1.4046 -2.2533 -0.0001 53 r add 43 0.6714 0.8447 -0.1733 2039 1568 0\n",
        "1903 0.6790 -1.4042 -2.2533 -0.0012 31 r add 635 0.6452 0.7565 -0.1113 2040 1569 0\n",
        "1274 0.6789 -1.4040 -2.2533 -0.0005 46 r add 425 0.5921 0.8210 -0.2290 2041 1570 0\n",
        "1203 0.6789 -1.4032 -2.2533 -0.0003 65 r add 401 0.7297 0.7713 -0.0416 2052 1571 10"
       ]
      },
      {
       "output_type": "stream",
       "stream": "stdout",
       "text": [
        "\n",
        "1556 0.6789 -1.4035 -2.2533 -0.0004 34 r add 519 0.7098 0.7403 -0.0305 2053 1572 0\n",
        "523 0.6788 -1.4037 -2.2533 -0.0011 18 r add 175 0.7541 0.8238 -0.0698 2054 1573 0\n",
        "651 0.6788 -1.4035 -2.2533 -0.0003 64 r add 217 0.7049 0.8345 -0.1295 2055 1574 0\n",
        "1485 0.6788 -1.4028 -2.2533 -0.0006 41 r add 495 0.6653 0.7513 -0.0860 2056 1575 0\n",
        "1468 0.6788 -1.4028 -2.2533 -0.0003 15 r add 490 0.4803 0.7972 -0.3170 2057 1576 0"
       ]
      },
      {
       "output_type": "stream",
       "stream": "stdout",
       "text": [
        "\n",
        "419 0.6788 -1.4029 -2.2533 -0.0000 21 r add 140 0.5451 0.7917 -0.2466 2058 1577 0\n",
        "2313 0.6787 -1.4030 -2.2533 -0.0006 68 r add 771 0.5666 0.7635 -0.1969 2059 1578 0\n",
        "2529 0.6787 -1.4032 -2.2533 -0.0011 28 c remove 24 0.6657 0.7292 -0.0635 2061 1579 1\n",
        "2543 0.6786 -1.4032 -2.2533 -0.0007 66 c remove 29 0.6327 0.7471 -0.1144 2062 1580 0\n",
        "479 0.6786 -1.4030 -2.2533 -0.0009 9 r add 160 0.6702 0.8086 -0.1384 2064 1581 1"
       ]
      },
      {
       "output_type": "stream",
       "stream": "stdout",
       "text": [
        "\n",
        "2379 0.6785 -1.4030 -2.2533 -0.0002 16 r add 793 0.6121 0.7556 -0.1435 2065 1582 0\n",
        "1282 0.6785 -1.4028 -2.2533 -0.0012 55 r add 428 0.7540 0.7978 -0.0438 2068 1583 2\n",
        "980 0.6784 -1.4025 -2.2533 -0.0014 72 r add 327 0.6718 0.7901 -0.1184 2070 1584 1"
       ]
      },
      {
       "output_type": "stream",
       "stream": "stdout",
       "text": [
        "\n",
        "338 0.6784 -1.4024 -2.2533 -0.0001 16 r add 113 0.6118 0.7556 -0.1438 2071 1585 0\n",
        "1920 0.6784 -1.4025 -2.2533 -0.0004 46 r add 640 0.5902 0.8210 -0.2309 2072 1586 0\n",
        "2355 0.6783 -1.4026 -2.2533 -0.0002 12 r add 785 0.5836 0.7560 -0.1724 2073 1587 0\n",
        "998 0.6783 -1.4029 -2.2533 -0.0006 5 r add 333 0.6779 0.7176 -0.0397 2074 1588 0\n",
        "2203 0.6782 -1.4033 -2.2533 -0.0005 2 r add 735 0.6749 0.8236 -0.1487 2077 1589 2"
       ]
      },
      {
       "output_type": "stream",
       "stream": "stdout",
       "text": [
        "\n",
        "1120 0.6782 -1.4034 -2.2533 -0.0010 58 r add 374 0.6784 0.7575 -0.0791 2078 1590 0\n",
        "848 0.6782 -1.4033 -2.2533 -0.0002 7 r add 283 0.5066 0.7664 -0.2598 2079 1591 0\n",
        "1649 0.6781 -1.4032 -2.2533 -0.0004 46 r add 550 0.5900 0.8210 -0.2310 2080 1592 0"
       ]
      },
      {
       "output_type": "stream",
       "stream": "stdout",
       "text": [
        "\n",
        "949 0.6781 -1.4032 -2.2533 -0.0004 16 r add 317 0.6101 0.7556 -0.1455 2081 1593 0\n",
        "856 0.6781 -1.4033 -2.2533 -0.0007 68 r add 286 0.5633 0.7635 -0.2002 2082 1594 0\n",
        "2525 0.6780 -1.4033 -2.2533 -0.0007 44 c remove 23 0.7663 0.7666 -0.0003 2086 1595 3"
       ]
      },
      {
       "output_type": "stream",
       "stream": "stdout",
       "text": [
        "\n",
        "2197 0.6780 -1.4037 -2.2533 -0.0002 16 r add 733 0.6086 0.7556 -0.1470 2091 1596 4"
       ]
      },
      {
       "output_type": "stream",
       "stream": "stdout",
       "text": [
        "\n",
        "179 0.6780 -1.4031 -2.2533 -0.0005 39 r add 60 0.6812 0.8007 -0.1195 2093 1597 1\n",
        "2067 0.6780 -1.4024 -2.2533 -0.0002 42 r add 689 0.6970 0.6991 -0.0021 2094 1598 0\n",
        "997 0.6780 -1.4026 -2.2533 -0.0001 14 r add 333 0.6795 0.7902 -0.1107 2096 1599 1"
       ]
      },
      {
       "output_type": "stream",
       "stream": "stdout",
       "text": [
        "\n",
        "283 0.6780 -1.4027 -2.2533 -0.0004 21 r add 95 0.5430 0.7917 -0.2487 2097 1600 0\n",
        "1182 0.6780 -1.4027 -2.2533 -0.0001 49 r add 394 0.5792 0.8207 -0.2415 2098 1601 0\n",
        "2213 0.6778 -1.4025 -2.2533 -0.0017 67 r add 738 0.6877 0.7233 -0.0356 2099 1602 0\n",
        "2332 0.6778 -1.4022 -2.2533 -0.0014 18 r add 778 0.7477 0.8238 -0.0761 2101 1603 1"
       ]
      },
      {
       "output_type": "stream",
       "stream": "stdout",
       "text": [
        "\n",
        "2368 0.6778 -1.4023 -2.2533 -0.0001 70 r add 790 0.6342 0.7830 -0.1488 2102 1604 0\n",
        "891 0.6777 -1.4021 -2.2533 -0.0003 15 r add 297 0.4783 0.7972 -0.3189 2103 1605 0\n",
        "171 0.6777 -1.4022 -2.2533 -0.0002 2 r add 57 0.6745 0.8236 -0.1490 2104 1606 0"
       ]
      },
      {
       "output_type": "stream",
       "stream": "stdout",
       "text": [
        "\n",
        "189 0.6777 -1.4017 -2.2533 -0.0008 57 r add 63 0.6799 0.7415 -0.0616 2106 1607 1\n",
        "2230 0.6777 -1.4017 -2.2533 -0.0000 53 r add 744 0.6709 0.8447 -0.1738 2107 1608 0\n",
        "1839 0.6776 -1.4020 -2.2533 -0.0013 58 r add 613 0.6716 0.7575 -0.0859 2108 1609 0\n",
        "1986 0.6776 -1.4017 -2.2533 -0.0007 10 r add 662 0.6659 0.7869 -0.1210 2109 1610 0"
       ]
      },
      {
       "output_type": "stream",
       "stream": "stdout",
       "text": [
        "\n",
        "663 0.6776 -1.4016 -2.2533 -0.0000 17 r add 221 0.5245 0.7518 -0.2272 2110 1611 0\n",
        "650 0.6775 -1.3999 -2.2489 -0.0021 23 r add 217 0.7321 0.7490 -0.0169 2117 1612 6"
       ]
      },
      {
       "output_type": "stream",
       "stream": "stdout",
       "text": [
        "\n",
        "38 0.6774 -1.4000 -2.2489 -0.0003 64 r add 13 0.7027 0.8345 -0.1318 2119 1613 1\n",
        "1130 0.6774 -1.3999 -2.2489 -0.0001 70 r add 377 0.6333 0.7830 -0.1497 2122 1614 2"
       ]
      },
      {
       "output_type": "stream",
       "stream": "stdout",
       "text": [
        "\n",
        "1378 0.6774 -1.4002 -2.2489 -0.0006 19 r add 460 0.6455 0.7796 -0.1341 2123 1615 0\n",
        "2285 0.6774 -1.4003 -2.2489 -0.0006 71 r add 762 0.6395 0.7861 -0.1466 2124 1616 0\n",
        "11 0.6774 -1.4002 -2.2489 -0.0001 54 r add 4 0.5843 0.7568 -0.1725 2125 1617 0\n",
        "1477 0.6773 -1.4003 -2.2489 -0.0002 49 r add 493 0.5767 0.8207 -0.2440 2126 1618 0\n",
        "2526 0.6773 -1.4003 -2.2489 -0.0009 28 c remove 23 0.6612 0.7292 -0.0680 2127 1619 0\n",
        "791 0.6773 -1.4002 -2.2489 -0.0002 49 r add 264 0.5761 0.8207 -0.2446 2128 1620 0"
       ]
      },
      {
       "output_type": "stream",
       "stream": "stdout",
       "text": [
        "\n",
        "909 0.6772 -1.4005 -2.2489 -0.0012 29 r add 303 0.7178 0.7292 -0.0114 2129 1621 0\n",
        "1342 0.6772 -1.4004 -2.2489 -0.0003 15 r add 448 0.4771 0.7972 -0.3201 2130 1622 0\n",
        "805 0.6772 -1.4004 -2.2489 -0.0000 15 r add 269 0.4770 0.7972 -0.3202 2131 1623 0\n",
        "2619 0.6770 -1.4004 -2.2489 -0.0019 48 c add 54 0.6944 0.7454 -0.0510 2132 1624 0\n",
        "2388 0.6770 -1.4003 -2.2489 -0.0004 7 r add 796 0.5049 0.7664 -0.2614 2133 1625 0"
       ]
      },
      {
       "output_type": "stream",
       "stream": "stdout",
       "text": [
        "\n",
        "748 0.6770 -1.4005 -2.2489 -0.0006 66 r add 250 0.6294 0.7471 -0.1177 2134 1626 0\n",
        "2056 0.6770 -1.4000 -2.2489 -0.0005 10 r add 686 0.6638 0.7869 -0.1231 2137 1627 2\n",
        "1899 0.6769 -1.3996 -2.2489 -0.0016 61 r add 633 0.7042 0.7434 -0.0392 2138 1628 0\n",
        "829 0.6768 -1.4000 -2.2489 -0.0003 18 r add 277 0.7454 0.8238 -0.0784 2139 1629 0"
       ]
      },
      {
       "output_type": "stream",
       "stream": "stdout",
       "text": [
        "\n",
        "1545 0.6768 -1.4000 -2.2489 -0.0002 39 r add 515 0.6775 0.8007 -0.1232 2140 1630 0\n",
        "1963 0.6768 -1.4003 -2.2489 -0.0001 51 r add 655 0.6265 0.7618 -0.1353 2143 1631 2\n",
        "781 0.6768 -1.4002 -2.2489 -0.0002 70 r add 261 0.6327 0.7830 -0.1503 2144 1632 0"
       ]
      },
      {
       "output_type": "stream",
       "stream": "stdout",
       "text": [
        "\n",
        "1511 0.6768 -1.4003 -2.2489 -0.0003 2 r add 504 0.6717 0.8236 -0.1518 2145 1633 0\n",
        "2460 0.6768 -1.4003 -2.2489 -0.0000 26 c remove 1 0.6993 0.7351 -0.0358 2147 1634 1\n",
        "1271 0.6768 -1.4001 -2.2489 -0.0004 55 r add 424 0.7528 0.7978 -0.0451 2149 1635 1\n",
        "2375 0.6767 -1.4004 -2.2489 -0.0004 31 r add 792 0.6411 0.7565 -0.1154 2154 1636 4"
       ]
      },
      {
       "output_type": "stream",
       "stream": "stdout",
       "text": [
        "\n",
        "272 0.6767 -1.4004 -2.2489 -0.0009 63 r add 91 0.6664 0.7126 -0.0462 2155 1637 0\n",
        "2253 0.6767 -1.4003 -2.2489 -0.0003 46 r add 751 0.5872 0.8210 -0.2338 2156 1638 0\n",
        "1097 0.6766 -1.4002 -2.2489 -0.0003 40 r add 366 0.7467 0.8006 -0.0539 2157 1639 0\n",
        "971 0.6766 -1.4004 -2.2489 -0.0007 31 r add 324 0.6374 0.7565 -0.1191 2158 1640 0\n",
        "915 0.6766 -1.4003 -2.2489 -0.0004 2 r add 305 0.6707 0.8236 -0.1529 2159 1641 0"
       ]
      },
      {
       "output_type": "stream",
       "stream": "stdout",
       "text": [
        "\n",
        "1075 0.6766 -1.4002 -2.2489 -0.0000 12 r add 359 0.5836 0.7560 -0.1723 2160 1642 0\n",
        "1977 0.6765 -1.4002 -2.2489 -0.0005 10 r remove 659 0.6612 0.7869 -0.1257 2161 1643 0\n",
        "1534 0.6765 -1.3997 -2.2489 -0.0013 3 r add 512 0.7011 0.8073 -0.1063 2162 1644 0\n",
        "1028 0.6764 -1.3996 -2.2489 -0.0004 46 r add 343 0.5856 0.8210 -0.2354 2163 1645 0\n",
        "295 0.6764 -1.3996 -2.2489 -0.0004 49 r add 99 0.5744 0.8207 -0.2463 2164 1646 0"
       ]
      },
      {
       "output_type": "stream",
       "stream": "stdout",
       "text": [
        "\n",
        "536 0.6764 -1.3998 -2.2489 -0.0008 20 r add 179 0.6311 0.8079 -0.1768 2165 1647 0\n",
        "831 0.6763 -1.4003 -2.2489 -0.0011 8 r add 277 0.7216 0.7473 -0.0257 2166 1648 0\n",
        "2129 0.6762 -1.4002 -2.2489 -0.0008 33 r add 710 0.7332 0.7680 -0.0348 2167 1649 0"
       ]
      },
      {
       "output_type": "stream",
       "stream": "stdout",
       "text": [
        "\n",
        "1316 0.6762 -1.4000 -2.2489 -0.0000 40 r add 439 0.7471 0.8006 -0.0535 2168 1650 0\n",
        "22 0.6762 -1.3998 -2.2489 -0.0004 54 r add 8 0.5828 0.7568 -0.1740 2169 1651 0\n",
        "373 0.6762 -1.3996 -2.2489 -0.0007 38 r add 125 0.6790 0.8126 -0.1337 2170 1652 0\n",
        "2117 0.6762 -1.3994 -2.2489 -0.0002 39 r add 706 0.6768 0.8007 -0.1239 2171 1653 0\n",
        "568 0.6762 -1.3996 -2.2489 -0.0001 69 r add 190 0.5915 0.7922 -0.2007 2174 1654 2"
       ]
      },
      {
       "output_type": "stream",
       "stream": "stdout",
       "text": [
        "\n",
        "879 0.6761 -1.3996 -2.2489 -0.0017 73 r add 293 0.6584 0.7238 -0.0654 2175 1655 0\n",
        "2369 0.6760 -1.3999 -2.2489 -0.0009 19 r add 790 0.6408 0.7796 -0.1388 2176 1656 0\n",
        "2577 0.6759 -1.4002 -2.2489 -0.0018 1 c remove 40 0.6376 0.6613 -0.0237 2181 1657 4"
       ]
      },
      {
       "output_type": "stream",
       "stream": "stdout",
       "text": [
        "\n",
        "429 0.6758 -1.4003 -2.2489 -0.0004 21 r add 143 0.5415 0.7917 -0.2501 2182 1658 0\n",
        "580 0.6758 -1.4005 -2.2489 -0.0001 40 r add 194 0.7460 0.8006 -0.0546 2183 1659 0\n",
        "2115 0.6758 -1.4006 -2.2489 -0.0004 12 r add 705 0.5814 0.7560 -0.1745 2184 1660 0\n",
        "1667 0.6758 -1.4009 -2.2489 -0.0004 31 r add 556 0.6349 0.7565 -0.1216 2185 1661 0\n",
        "2171 0.6757 -1.4012 -2.2489 -0.0012 22 r add 724 0.6321 0.7106 -0.0786 2186 1662 0\n",
        "36 0.6756 -1.4015 -2.2489 -0.0009 58 r add 12 0.6668 0.7575 -0.0907 2187 1663 0"
       ]
      },
      {
       "output_type": "stream",
       "stream": "stdout",
       "text": [
        "\n",
        "314 0.6756 -1.4015 -2.2489 -0.0006 63 r add 105 0.6623 0.7126 -0.0502 2191 1664 3\n",
        "2418 0.6755 -1.4017 -2.2489 -0.0008 28 r add 806 0.6570 0.7292 -0.0722 2192 1665 0"
       ]
      },
      {
       "output_type": "stream",
       "stream": "stdout",
       "text": [
        "\n",
        "2031 0.6755 -1.4015 -2.2489 -0.0004 16 r add 677 0.6092 0.7556 -0.1464 2193 1666 0\n",
        "1579 0.6754 -1.4014 -2.2489 -0.0009 69 r add 527 0.5870 0.7922 -0.2052 2194 1667 0\n",
        "1078 0.6754 -1.4015 -2.2489 -0.0005 30 r add 360 0.6325 0.7714 -0.1388 2195 1668 0\n",
        "2047 0.6754 -1.4014 -2.2489 -0.0003 16 r add 683 0.6079 0.7556 -0.1477 2196 1669 0\n",
        "260 0.6754 -1.4012 -2.2489 -0.0004 54 r add 87 0.5814 0.7568 -0.1753 2197 1670 0\n",
        "5 0.6754 -1.4010 -2.2489 -0.0001 12 r add 2 0.5813 0.7560 -0.1747 2198 1671 0"
       ]
      },
      {
       "output_type": "stream",
       "stream": "stdout",
       "text": [
        "\n",
        "607 0.6754 -1.4012 -2.2489 -0.0000 53 r add 203 0.6713 0.8447 -0.1734 2200 1672 1\n",
        "1484 0.6754 -1.4011 -2.2489 -0.0001 46 r add 495 0.5851 0.8210 -0.2360 2201 1673 0\n",
        "2562 0.6752 -1.4011 -2.2489 -0.0029 1 c remove 35 0.6236 0.6613 -0.0377 2202 1674 0\n",
        "605 0.6751 -1.4009 -2.2489 -0.0004 30 r add 202 0.6309 0.7714 -0.1405 2203 1675 0\n",
        "2416 0.6751 -1.4010 -2.2489 -0.0005 51 r add 806 0.6246 0.7618 -0.1372 2204 1676 0"
       ]
      },
      {
       "output_type": "stream",
       "stream": "stdout",
       "text": [
        "\n",
        "2244 0.6751 -1.4010 -2.2489 -0.0003 21 r add 748 0.5398 0.7917 -0.2519 2205 1677 0\n",
        "1051 0.6751 -1.4011 -2.2489 -0.0001 54 r add 351 0.5809 0.7568 -0.1759 2206 1678 0\n",
        "737 0.6751 -1.4012 -2.2489 -0.0003 21 r add 246 0.5383 0.7917 -0.2533 2207 1679 0\n",
        "394 0.6750 -1.4010 -2.2489 -0.0005 17 r add 132 0.5213 0.7518 -0.2305 2209 1680 1"
       ]
      },
      {
       "output_type": "stream",
       "stream": "stdout",
       "text": [
        "\n",
        "2277 0.6750 -1.4008 -2.2489 -0.0005 39 r add 759 0.6750 0.8007 -0.1257 2210 1681 0\n",
        "887 0.6750 -1.4009 -2.2489 -0.0001 15 r add 296 0.4753 0.7972 -0.3219 2211 1682 0\n",
        "442 0.6750 -1.4008 -2.2489 -0.0001 54 r add 148 0.5807 0.7568 -0.1761 2212 1683 0\n",
        "2308 0.6750 -1.4007 -2.2489 -0.0003 7 r add 770 0.5059 0.7664 -0.2604 2213 1684 0\n",
        "1927 0.6749 -1.4003 -2.2489 -0.0006 65 r add 643 0.7276 0.7713 -0.0437 2214 1685 0"
       ]
      },
      {
       "output_type": "stream",
       "stream": "stdout",
       "text": [
        "\n",
        "1876 0.6749 -1.4004 -2.2489 -0.0003 68 r add 626 0.5616 0.7635 -0.2019 2215 1686 0\n",
        "258 0.6749 -1.4003 -2.2489 -0.0003 2 r add 86 0.6694 0.8236 -0.1541 2216 1687 0\n",
        "2395 0.6748 -1.3999 -2.2489 -0.0011 71 r add 799 0.6348 0.7861 -0.1513 2217 1688 0\n",
        "928 0.6748 -1.4000 -2.2489 -0.0001 30 r add 310 0.6303 0.7714 -0.1411 2218 1689 0\n",
        "1901 0.6748 -1.4001 -2.2489 -0.0008 47 r add 634 0.7041 0.7778 -0.0737 2219 1690 0\n",
        "2161 0.6748 -1.4000 -2.2489 -0.0000 49 r add 721 0.5735 0.8207 -0.2472 2221 1691 1"
       ]
      },
      {
       "output_type": "stream",
       "stream": "stdout",
       "text": [
        "\n",
        "1224 0.6748 -1.4004 -2.2489 -0.0004 51 r add 408 0.6212 0.7618 -0.1406 2225 1692 3\n",
        "1937 0.6747 -1.4005 -2.2489 -0.0003 71 r add 646 0.6359 0.7861 -0.1502 2228 1693 2"
       ]
      },
      {
       "output_type": "stream",
       "stream": "stdout",
       "text": [
        "\n",
        "2618 0.6746 -1.4003 -2.2489 -0.0015 56 c add 54 0.7226 0.7623 -0.0397 2233 1694 4\n",
        "1218 0.6746 -1.4001 -2.2489 -0.0002 16 r add 406 0.6070 0.7556 -0.1486 2235 1695 1"
       ]
      },
      {
       "output_type": "stream",
       "stream": "stdout",
       "text": [
        "\n",
        "2093 0.6746 -1.3997 -2.2489 -0.0012 31 r add 698 0.6301 0.7565 -0.1264 2236 1696 0\n",
        "2038 0.6745 -1.3995 -2.2489 -0.0008 16 r add 680 0.6036 0.7556 -0.1520 2237 1697 0\n",
        "673 0.6745 -1.3996 -2.2489 -0.0000 2 r add 225 0.6690 0.8236 -0.1546 2238 1698 0\n",
        "1029 0.6745 -1.3995 -2.2489 -0.0001 15 r add 343 0.4790 0.7972 -0.3182 2239 1699 0\n",
        "1682 0.6745 -1.3996 -2.2489 -0.0006 38 r add 561 0.6758 0.8126 -0.1368 2240 1700 0"
       ]
      },
      {
       "output_type": "stream",
       "stream": "stdout",
       "text": [
        "\n",
        "328 0.6745 -1.3995 -2.2489 -0.0002 53 r add 110 0.6711 0.8447 -0.1736 2241 1701 0\n",
        "1079 0.6744 -1.3997 -2.2489 -0.0001 39 r add 360 0.6738 0.8007 -0.1270 2242 1702 0\n",
        "150 0.6745 -1.3994 -2.2489 -0.0000 54 r add 50 0.5812 0.7568 -0.1756 2243 1703 0\n",
        "2487 0.6744 -1.3994 -2.2489 -0.0007 41 c add 10 0.6618 0.7513 -0.0895 2244 1704 0\n",
        "126 0.6744 -1.3992 -2.2489 -0.0006 31 r add 42 0.6278 0.7565 -0.1288 2245 1705 0"
       ]
      },
      {
       "output_type": "stream",
       "stream": "stdout",
       "text": [
        "\n",
        "609 0.6744 -1.3992 -2.2489 -0.0003 54 r add 203 0.5797 0.7568 -0.1771 2246 1706 0\n",
        "2267 0.6744 -1.3992 -2.2489 -0.0000 30 r add 756 0.6301 0.7714 -0.1413 2247 1707 0\n",
        "41 0.6742 -1.3992 -2.2489 -0.0021 32 r add 14 0.7214 0.7521 -0.0307 2248 1708 0\n",
        "355 0.6742 -1.3991 -2.2489 -0.0002 70 r add 119 0.6326 0.7830 -0.1505 2249 1709 0"
       ]
      },
      {
       "output_type": "stream",
       "stream": "stdout",
       "text": [
        "\n",
        "2325 0.6742 -1.3991 -2.2489 -0.0003 31 r add 775 0.6237 0.7565 -0.1328 2252 1710 2\n",
        "2289 0.6742 -1.3992 -2.2489 -0.0002 16 r add 763 0.6024 0.7556 -0.1533 2253 1711 0\n",
        "1486 0.6742 -1.3993 -2.2489 -0.0002 21 r add 496 0.5372 0.7917 -0.2545 2254 1712 0"
       ]
      },
      {
       "output_type": "stream",
       "stream": "stdout",
       "text": [
        "\n",
        "121 0.6742 -1.3993 -2.2489 -0.0001 70 r add 41 0.6323 0.7830 -0.1507 2255 1713 0\n",
        "480 0.6741 -1.3989 -2.2489 -0.0007 65 r add 160 0.7250 0.7713 -0.0463 2256 1714 0\n",
        "776 0.6741 -1.3987 -2.2489 -0.0000 71 r add 259 0.6361 0.7861 -0.1500 2257 1715 0\n",
        "337 0.6741 -1.3981 -2.2489 -0.0005 38 r add 113 0.6742 0.8126 -0.1384 2258 1716 0\n",
        "1312 0.6741 -1.3981 -2.2489 -0.0002 53 r add 438 0.6702 0.8447 -0.1745 2259 1717 0"
       ]
      },
      {
       "output_type": "stream",
       "stream": "stdout",
       "text": [
        "\n",
        "1548 0.6741 -1.3984 -2.2489 -0.0003 19 r add 516 0.6390 0.7796 -0.1406 2260 1718 0\n",
        "1376 0.6740 -1.3982 -2.2489 -0.0005 72 r add 459 0.6667 0.7901 -0.1234 2270 1719 9"
       ]
      },
      {
       "output_type": "stream",
       "stream": "stdout",
       "text": [
        "\n",
        "1018 0.6740 -1.3981 -2.2489 -0.0002 15 r add 340 0.4783 0.7972 -0.3189 2271 1720 0\n",
        "240 0.6739 -1.3977 -2.2489 -0.0021 48 r add 80 0.6849 0.7454 -0.0604 2273 1721 1\n",
        "42 0.6739 -1.3976 -2.2489 -0.0006 56 r add 14 0.7201 0.7623 -0.0423 2274 1722 0\n",
        "2367 0.6738 -1.3978 -2.2489 -0.0013 58 r add 789 0.6603 0.7575 -0.0972 2275 1723 0"
       ]
      },
      {
       "output_type": "stream",
       "stream": "stdout",
       "text": [
        "\n",
        "1580 0.6737 -1.3978 -2.2489 -0.0009 9 r add 527 0.6661 0.8086 -0.1425 2276 1724 0\n",
        "54 0.6737 -1.3979 -2.2489 -0.0002 12 r add 18 0.5827 0.7560 -0.1733 2277 1725 0\n",
        "1592 0.6737 -1.3979 -2.2489 -0.0003 7 r add 531 0.5024 0.7664 -0.2640 2278 1726 0\n",
        "967 0.6736 -1.3981 -2.2489 -0.0010 18 r add 323 0.7355 0.8238 -0.0884 2280 1727 1"
       ]
      },
      {
       "output_type": "stream",
       "stream": "stdout",
       "text": [
        "\n",
        "1968 0.6736 -1.3982 -2.2489 -0.0005 47 r add 656 0.7005 0.7778 -0.0773 2286 1728 5"
       ]
      },
      {
       "output_type": "stream",
       "stream": "stdout",
       "text": [
        "\n",
        "1260 0.6735 -1.3985 -2.2489 -0.0011 47 r add 420 0.6946 0.7778 -0.0832 2287 1729 0\n",
        "2494 0.6734 -1.3985 -2.2489 -0.0014 32 c remove 13 0.7145 0.7521 -0.0376 2288 1730 0\n",
        "1653 0.6734 -1.3984 -2.2489 -0.0004 21 r add 551 0.5338 0.7917 -0.2579 2289 1731 0\n",
        "1525 0.6734 -1.3985 -2.2489 -0.0004 12 r add 509 0.5807 0.7560 -0.1752 2290 1732 0\n",
        "1392 0.6734 -1.3986 -2.2489 -0.0000 70 r add 464 0.6320 0.7830 -0.1510 2291 1733 0"
       ]
      },
      {
       "output_type": "stream",
       "stream": "stdout",
       "text": [
        "\n",
        "834 0.6733 -1.3987 -2.2489 -0.0004 20 r add 278 0.6289 0.8079 -0.1791 2292 1734 0\n",
        "396 0.6733 -1.3985 -2.2489 -0.0008 68 r add 132 0.5581 0.7635 -0.2054 2294 1735 1\n",
        "491 0.6732 -1.3982 -2.2489 -0.0009 38 r add 164 0.6707 0.8126 -0.1420 2295 1736 0\n",
        "1386 0.6732 -1.3981 -2.2489 -0.0002 70 r add 462 0.6310 0.7830 -0.1520 2296 1737 0"
       ]
      },
      {
       "output_type": "stream",
       "stream": "stdout",
       "text": [
        "\n",
        "2104 0.6732 -1.3980 -2.2489 -0.0002 70 r add 702 0.6303 0.7830 -0.1527 2297 1738 0\n",
        "2509 0.6732 -1.3981 -2.2489 -0.0008 73 c remove 18 0.6541 0.7238 -0.0696 2299 1739 1\n",
        "625 0.6731 -1.3981 -2.2489 -0.0009 14 r add 209 0.6768 0.7902 -0.1135 2300 1740 0\n",
        "1344 0.6730 -1.3977 -2.2489 -0.0012 41 r add 448 0.6570 0.7513 -0.0943 2301 1741 0"
       ]
      },
      {
       "output_type": "stream",
       "stream": "stdout",
       "text": [
        "\n",
        "1577 0.6730 -1.3976 -2.2489 -0.0006 9 r add 526 0.6633 0.8086 -0.1453 2302 1742 0\n",
        "212 0.6729 -1.3959 -2.2489 -0.0015 5 r add 71 0.6811 0.7176 -0.0366 2303 1743 0\n",
        "1110 0.6729 -1.3960 -2.2489 -0.0003 46 r add 370 0.5887 0.8210 -0.2324 2304 1744 0\n",
        "1139 0.6729 -1.3961 -2.2489 -0.0001 16 r add 380 0.6011 0.7556 -0.1545 2305 1745 0\n",
        "175 0.6729 -1.3962 -2.2489 -0.0001 30 r add 59 0.6297 0.7714 -0.1417 2307 1746 1"
       ]
      },
      {
       "output_type": "stream",
       "stream": "stdout",
       "text": [
        "\n",
        "1013 0.6729 -1.3961 -2.2489 -0.0002 7 r add 338 0.5023 0.7664 -0.2641 2308 1747 0\n",
        "769 0.6729 -1.3962 -2.2489 -0.0003 49 r add 257 0.5746 0.8207 -0.2461 2309 1748 0\n",
        "44 0.6729 -1.3964 -2.2489 -0.0001 14 r add 15 0.6773 0.7902 -0.1130 2310 1749 0\n",
        "1398 0.6728 -1.3966 -2.2424 -0.0004 25 r add 466 0.6872 0.7715 -0.0843 2312 1750 1"
       ]
      },
      {
       "output_type": "stream",
       "stream": "stdout",
       "text": [
        "\n",
        "1934 0.6728 -1.3966 -2.2424 -0.0003 49 r add 645 0.5731 0.8207 -0.2476 2313 1751 0\n",
        "2053 0.6728 -1.3964 -2.2424 -0.0004 16 r add 685 0.5994 0.7556 -0.1562 2314 1752 0\n",
        "324 0.6728 -1.3966 -2.2424 -0.0003 10 r add 108 0.6594 0.7869 -0.1275 2315 1753 0\n",
        "2501 0.6727 -1.3966 -2.2424 -0.0015 20 c remove 15 0.6215 0.8079 -0.1865 2316 1754 0\n",
        "2091 0.6726 -1.3961 -2.2424 -0.0014 31 r add 697 0.6177 0.7565 -0.1388 2317 1755 0\n",
        "1210 0.6725 -1.3956 -2.2424 -0.0013 73 r add 404 0.6487 0.7238 -0.0751 2318 1756 0"
       ]
      },
      {
       "output_type": "stream",
       "stream": "stdout",
       "text": [
        "\n",
        "733 0.6725 -1.3958 -2.2424 -0.0005 27 r add 245 0.6612 0.7235 -0.0623 2319 1757 0\n",
        "2552 0.6724 -1.3958 -2.2424 -0.0006 31 c add 32 0.6149 0.7565 -0.1416 2320 1758 0\n",
        "1277 0.6724 -1.3957 -2.2424 -0.0004 7 r add 426 0.5006 0.7664 -0.2658 2321 1759 0\n",
        "2485 0.6724 -1.3958 -2.2424 -0.0006 8 c add 10 0.7137 0.7473 -0.0336 2323 1760 1\n",
        "753 0.6723 -1.3962 -2.2424 -0.0008 67 r add 251 0.6828 0.7233 -0.0405 2324 1761 0\n",
        "2353 0.6723 -1.3963 -2.2424 -0.0002 54 r add 785 0.5785 0.7568 -0.1783 2325 1762 0"
       ]
      },
      {
       "output_type": "stream",
       "stream": "stdout",
       "text": [
        "\n",
        "1983 0.6723 -1.3966 -2.2424 -0.0004 38 r add 661 0.6669 0.8126 -0.1457 2329 1763 3\n",
        "2200 0.6722 -1.3967 -2.2424 -0.0001 70 r add 734 0.6295 0.7830 -0.1535 2331 1764 1"
       ]
      },
      {
       "output_type": "stream",
       "stream": "stdout",
       "text": [
        "\n",
        "1488 0.6722 -1.3968 -2.2424 -0.0004 68 r add 496 0.5559 0.7635 -0.2075 2332 1765 0\n",
        "144 0.6722 -1.3972 -2.2424 -0.0005 33 r add 48 0.7304 0.7680 -0.0376 2333 1766 0\n",
        "853 0.6722 -1.3972 -2.2424 -0.0003 15 r add 285 0.4760 0.7972 -0.3213 2335 1767 1\n",
        "612 0.6722 -1.3973 -2.2424 -0.0001 12 r add 204 0.5803 0.7560 -0.1757 2336 1768 0"
       ]
      },
      {
       "output_type": "stream",
       "stream": "stdout",
       "text": [
        "\n",
        "1571 0.6721 -1.3974 -2.2424 -0.0003 17 r add 524 0.5198 0.7518 -0.2319 2337 1769 0\n",
        "1803 0.6721 -1.3974 -2.2424 -0.0002 17 r add 601 0.5178 0.7518 -0.2340 2339 1770 1"
       ]
      },
      {
       "output_type": "stream",
       "stream": "stdout",
       "text": [
        "\n",
        "436 0.6721 -1.3972 -2.2424 -0.0009 27 r add 146 0.6571 0.7235 -0.0664 2340 1771 0\n",
        "1402 0.6721 -1.3972 -2.2424 -0.0000 21 r add 468 0.5331 0.7917 -0.2585 2342 1772 1\n",
        "1391 0.6720 -1.3973 -2.2424 -0.0003 54 r add 464 0.5769 0.7568 -0.1799 2343 1773 0\n",
        "670 0.6720 -1.3973 -2.2424 -0.0001 70 r add 224 0.6290 0.7830 -0.1540 2344 1774 0"
       ]
      },
      {
       "output_type": "stream",
       "stream": "stdout",
       "text": [
        "\n",
        "1886 0.6720 -1.3971 -2.2424 -0.0001 69 r add 629 0.5855 0.7922 -0.2067 2347 1775 2\n",
        "1171 0.6720 -1.3973 -2.2424 -0.0005 39 r add 391 0.6711 0.8007 -0.1296 2348 1776 0\n",
        "1443 0.6720 -1.3976 -2.2424 -0.0005 47 r add 481 0.6916 0.7778 -0.0863 2349 1777 0"
       ]
      },
      {
       "output_type": "stream",
       "stream": "stdout",
       "text": [
        "\n",
        "111 0.6719 -1.3978 -2.2424 -0.0001 64 r add 37 0.6999 0.8345 -0.1345 2350 1778 0\n",
        "1323 0.6719 -1.3978 -2.2424 -0.0006 69 r add 441 0.5826 0.7922 -0.2096 2351 1779 0\n",
        "507 0.6719 -1.3964 -2.2424 -0.0008 74 r add 169 0.7407 0.7564 -0.0157 2352 1780 0\n",
        "1674 0.6719 -1.3967 -2.2424 -0.0001 40 r add 558 0.7452 0.8006 -0.0554 2353 1781 0\n",
        "2061 0.6719 -1.3964 -2.2424 -0.0002 71 r add 687 0.6355 0.7861 -0.1506 2354 1782 0\n",
        "190 0.6719 -1.3961 -2.2424 -0.0003 54 r add 64 0.5759 0.7568 -0.1808 2355 1783 0"
       ]
      },
      {
       "output_type": "stream",
       "stream": "stdout",
       "text": [
        "\n",
        "2473 0.6719 -1.3961 -2.2424 -0.0001 14 c add 6 0.6766 0.7902 -0.1136 2356 1784 0\n",
        "771 0.6718 -1.3962 -2.2424 -0.0001 7 r add 257 0.5020 0.7664 -0.2644 2357 1785 0\n",
        "541 0.6718 -1.3961 -2.2424 -0.0003 7 r add 181 0.5006 0.7664 -0.2658 2358 1786 0\n",
        "1888 0.6718 -1.3959 -2.2424 -0.0004 69 r add 630 0.5812 0.7922 -0.2110 2359 1787 0\n",
        "1315 0.6718 -1.3961 -2.2424 -0.0002 39 r add 439 0.6699 0.8007 -0.1308 2360 1788 0\n",
        "1324 0.6718 -1.3961 -2.2424 -0.0000 49 r add 442 0.5727 0.8207 -0.2480 2361 1789 0"
       ]
      },
      {
       "output_type": "stream",
       "stream": "stdout",
       "text": [
        "\n",
        "877 0.6718 -1.3961 -2.2424 -0.0004 17 r add 293 0.5165 0.7518 -0.2352 2362 1790 0\n",
        "1364 0.6718 -1.3964 -2.2424 -0.0001 10 r add 455 0.6582 0.7869 -0.1288 2364 1791 1\n",
        "221 0.6717 -1.3968 -2.2424 -0.0001 47 r add 74 0.6905 0.7778 -0.0873 2366 1792 1"
       ]
      },
      {
       "output_type": "stream",
       "stream": "stdout",
       "text": [
        "\n",
        "817 0.6717 -1.3969 -2.2424 -0.0002 12 r add 273 0.5793 0.7560 -0.1767 2367 1793 0\n",
        "196 0.6716 -1.3971 -2.2424 -0.0011 63 r add 66 0.6567 0.7126 -0.0558 2368 1794 0\n",
        "1783 0.6716 -1.3972 -2.2424 -0.0003 21 r add 595 0.5318 0.7917 -0.2598 2369 1795 0\n",
        "1821 0.6716 -1.3973 -2.2424 -0.0004 27 r add 607 0.6547 0.7235 -0.0688 2370 1796 0\n",
        "2581 0.6715 -1.3974 -2.2424 -0.0010 12 c add 42 0.5745 0.7560 -0.1815 2372 1797 1"
       ]
      },
      {
       "output_type": "stream",
       "stream": "stdout",
       "text": [
        "\n",
        "686 0.6715 -1.3974 -2.2424 -0.0002 2 r add 229 0.6683 0.8236 -0.1552 2373 1798 0\n",
        "1780 0.6715 -1.3975 -2.2424 -0.0004 20 r add 594 0.6168 0.8079 -0.1911 2379 1799 5"
       ]
      },
      {
       "output_type": "stream",
       "stream": "stdout",
       "text": [
        "\n",
        "2088 0.6715 -1.3977 -2.2424 -0.0002 3 r add 696 0.6994 0.8073 -0.1079 2380 1800 0\n",
        "1497 0.6715 -1.3978 -2.2424 -0.0001 12 r add 499 0.5738 0.7560 -0.1821 2381 1801 0\n",
        "2110 0.6714 -1.3973 -2.2424 -0.0006 3 r add 704 0.6966 0.8073 -0.1107 2386 1802 4"
       ]
      },
      {
       "output_type": "stream",
       "stream": "stdout",
       "text": [
        "\n",
        "51 0.6714 -1.3975 -2.2424 -0.0006 73 r add 17 0.6438 0.7238 -0.0799 2391 1803 4"
       ]
      },
      {
       "output_type": "stream",
       "stream": "stdout",
       "text": [
        "\n",
        "1400 0.6713 -1.3975 -2.2424 -0.0009 28 r add 467 0.6526 0.7292 -0.0766 2392 1804 0\n",
        "348 0.6713 -1.3979 -2.2424 -0.0001 47 r add 116 0.6890 0.7778 -0.0889 2395 1805 2"
       ]
      },
      {
       "output_type": "stream",
       "stream": "stdout",
       "text": [
        "\n",
        "1285 0.6713 -1.3976 -2.2424 -0.0007 27 r add 429 0.6521 0.7235 -0.0714 2396 1806 0\n",
        "1011 0.6712 -1.3977 -2.2424 -0.0006 69 r add 337 0.5800 0.7922 -0.2123 2398 1807 1\n",
        "892 0.6712 -1.3977 -2.2424 -0.0003 46 r add 298 0.5871 0.8210 -0.2340 2399 1808 0\n",
        "962 0.6712 -1.3973 -2.2424 -0.0009 40 r add 321 0.7432 0.8006 -0.0574 2400 1809 0"
       ]
      },
      {
       "output_type": "stream",
       "stream": "stdout",
       "text": [
        "\n",
        "1169 0.6712 -1.3973 -2.2424 -0.0003 15 r add 390 0.4743 0.7972 -0.3229 2401 1810 0\n",
        "310 0.6712 -1.3973 -2.2424 -0.0000 15 r add 104 0.4741 0.7972 -0.3231 2402 1811 0\n",
        "345 0.6712 -1.3973 -2.2424 -0.0000 46 r add 115 0.5867 0.8210 -0.2344 2410 1812 7"
       ]
      },
      {
       "output_type": "stream",
       "stream": "stdout",
       "text": [
        "\n",
        "2370 0.6711 -1.3974 -2.2424 -0.0003 12 r add 790 0.5722 0.7560 -0.1838 2411 1813 0\n",
        "1905 0.6711 -1.3971 -2.2424 -0.0002 38 r add 635 0.6666 0.8126 -0.1460 2412 1814 0\n",
        "105 0.6710 -1.3973 -2.2424 -0.0011 19 r add 35 0.6333 0.7796 -0.1463 2413 1815 0\n",
        "1755 0.6710 -1.3973 -2.2424 -0.0001 7 r add 585 0.5088 0.7664 -0.2576 2414 1816 0\n",
        "2346 0.6710 -1.3976 -2.2424 -0.0007 25 r add 782 0.6834 0.7715 -0.0881 2415 1817 0"
       ]
      },
      {
       "output_type": "stream",
       "stream": "stdout",
       "text": [
        "\n",
        "666 0.6710 -1.3976 -2.2424 -0.0004 68 r add 222 0.5537 0.7635 -0.2098 2416 1818 0\n",
        "956 0.6709 -1.3976 -2.2424 -0.0003 15 r add 319 0.4727 0.7972 -0.3245 2417 1819 0\n",
        "2402 0.6709 -1.3976 -2.2424 -0.0001 14 r add 801 0.6762 0.7902 -0.1140 2418 1820 0\n",
        "972 0.6709 -1.3977 -2.2424 -0.0001 16 r add 324 0.5974 0.7556 -0.1582 2419 1821 0\n",
        "94 0.6709 -1.3978 -2.2424 -0.0003 54 r add 32 0.5744 0.7568 -0.1824 2420 1822 0"
       ]
      },
      {
       "output_type": "stream",
       "stream": "stdout",
       "text": [
        "\n",
        "1590 0.6709 -1.3978 -2.2424 -0.0001 17 r add 530 0.5159 0.7518 -0.2358 2421 1823 0\n",
        "249 0.6709 -1.3979 -2.2424 -0.0001 7 r add 83 0.5073 0.7664 -0.2591 2423 1824 1\n",
        "1417 0.6709 -1.3979 -2.2424 -0.0001 49 r add 473 0.5719 0.8207 -0.2488 2427 1825 3"
       ]
      },
      {
       "output_type": "stream",
       "stream": "stdout",
       "text": [
        "\n",
        "2528 0.6709 -1.3978 -2.2424 -0.0000 44 c add 24 0.7600 0.7666 -0.0067 2448 1826 20"
       ]
      },
      {
       "output_type": "stream",
       "stream": "stdout",
       "text": [
        "\n",
        "844 0.6709 -1.3977 -2.2424 -0.0002 46 r add 282 0.5837 0.8210 -0.2373 2449 1827 0\n",
        "2609 0.6708 -1.3977 -2.2424 -0.0013 71 c add 51 0.6439 0.7861 -0.1422 2450 1828 0\n",
        "1833 0.6707 -1.3977 -2.2424 -0.0008 31 r add 611 0.6106 0.7565 -0.1459 2451 1829 0\n",
        "2193 0.6707 -1.3978 -2.2424 -0.0012 28 r add 731 0.6464 0.7292 -0.0828 2452 1830 0\n",
        "2222 0.6706 -1.3978 -2.2424 -0.0009 9 r add 741 0.6550 0.8086 -0.1536 2462 1831 9"
       ]
      },
      {
       "output_type": "stream",
       "stream": "stdout",
       "text": [
        "\n",
        "2283 0.6705 -1.3983 -2.2424 -0.0017 5 r add 761 0.6721 0.7176 -0.0455 2470 1832 7"
       ]
      },
      {
       "output_type": "stream",
       "stream": "stdout",
       "text": [
        "\n",
        "677 0.6705 -1.3983 -2.2424 -0.0002 2 r add 226 0.6703 0.8236 -0.1532 2471 1833 0\n",
        "2396 0.6704 -1.3982 -2.2424 -0.0004 49 r add 799 0.5679 0.8207 -0.2528 2472 1834 0\n",
        "691 0.6704 -1.3982 -2.2424 -0.0001 54 r add 231 0.5736 0.7568 -0.1832 2474 1835 1"
       ]
      },
      {
       "output_type": "stream",
       "stream": "stdout",
       "text": [
        "\n",
        "1167 0.6704 -1.3983 -2.2424 -0.0005 68 r add 389 0.5501 0.7635 -0.2133 2475 1836 0\n",
        "1166 0.6704 -1.3983 -2.2424 -0.0003 15 r add 389 0.4698 0.7972 -0.3274 2476 1837 0\n",
        "1201 0.6704 -1.3982 -2.2424 -0.0001 21 r add 401 0.5352 0.7917 -0.2565 2477 1838 0\n",
        "1022 0.6703 -1.3984 -2.2424 -0.0004 17 r add 341 0.5121 0.7518 -0.2397 2480 1839 2"
       ]
      },
      {
       "output_type": "stream",
       "stream": "stdout",
       "text": [
        "\n",
        "1164 0.6703 -1.3982 -2.2424 -0.0004 68 r add 388 0.5484 0.7635 -0.2150 2481 1840 0\n",
        "522 0.6703 -1.3985 -2.2424 -0.0008 65 r add 174 0.7209 0.7713 -0.0503 2482 1841 0\n",
        "1812 0.6702 -1.3990 -2.2424 -0.0004 36 r add 604 0.7335 0.7125 0.0209 2483 1842 0\n",
        "2442 0.6702 -1.3991 -2.2424 -0.0000 15 r add 814 0.4696 0.7972 -0.3276 2484 1843 0\n",
        "380 0.6702 -1.3989 -2.2424 -0.0003 14 r add 127 0.6765 0.7902 -0.1138 2485 1844 0"
       ]
      },
      {
       "output_type": "stream",
       "stream": "stdout",
       "text": [
        "\n",
        "2298 0.6701 -1.3991 -2.2424 -0.0007 25 r add 766 0.6829 0.7715 -0.0886 2486 1845 0\n",
        "755 0.6701 -1.3993 -2.2424 -0.0000 14 r add 252 0.6760 0.7902 -0.1142 2487 1846 0\n",
        "1930 0.6701 -1.3996 -2.2424 -0.0003 72 r add 644 0.6645 0.7901 -0.1256 2488 1847 0\n",
        "2319 0.6701 -1.3996 -2.2424 -0.0007 40 r add 773 0.7452 0.8006 -0.0553 2489 1848 0\n",
        "1567 0.6700 -1.3993 -2.2424 -0.0009 58 r add 523 0.6551 0.7575 -0.1024 2491 1849 1"
       ]
      },
      {
       "output_type": "stream",
       "stream": "stdout",
       "text": [
        "\n",
        "1295 0.6700 -1.3994 -2.2424 -0.0005 69 r add 432 0.5737 0.7922 -0.2185 2492 1850 0\n",
        "976 0.6699 -1.3994 -2.2424 -0.0007 20 r add 326 0.6055 0.8079 -0.2025 2493 1851 0\n",
        "1733 0.6699 -1.3994 -2.2424 -0.0002 17 r add 578 0.5110 0.7518 -0.2408 2495 1852 1\n",
        "1355 0.6699 -1.3994 -2.2424 -0.0004 51 r add 452 0.6188 0.7618 -0.1429 2496 1853 0"
       ]
      },
      {
       "output_type": "stream",
       "stream": "stdout",
       "text": [
        "\n",
        "323 0.6699 -1.3997 -2.2424 -0.0002 34 r add 108 0.7084 0.7403 -0.0318 2497 1854 0\n",
        "2318 0.6698 -1.3998 -2.2424 -0.0006 18 r add 773 0.7261 0.8238 -0.0977 2498 1855 0\n",
        "1865 0.6698 -1.3998 -2.2424 -0.0003 21 r add 622 0.5335 0.7917 -0.2581 2499 1856 0\n",
        "728 0.6698 -1.4001 -2.2424 -0.0000 63 r add 243 0.6560 0.7126 -0.0566 2500 1857 0\n",
        "832 0.6697 -1.4004 -2.2424 -0.0008 27 r add 278 0.6475 0.7235 -0.0759 2501 1858 0"
       ]
      },
      {
       "output_type": "stream",
       "stream": "stdout",
       "text": [
        "\n",
        "24 0.6697 -1.3998 -2.2424 -0.0016 57 r add 8 0.6679 0.7415 -0.0737 2502 1859 0\n",
        "2131 0.6696 -1.3999 -2.2424 -0.0001 70 r add 711 0.6279 0.7830 -0.1551 2503 1860 0\n",
        "182 0.6696 -1.3997 -2.2424 -0.0002 70 r add 61 0.6273 0.7830 -0.1557 2504 1861 0\n",
        "957 0.6696 -1.3996 -2.2424 -0.0003 21 r add 319 0.5323 0.7917 -0.2594 2505 1862 0"
       ]
      },
      {
       "output_type": "stream",
       "stream": "stdout",
       "text": [
        "\n",
        "1652 0.6696 -1.3995 -2.2424 -0.0001 15 r add 551 0.4691 0.7972 -0.3281 2506 1863 0\n",
        "197 0.6696 -1.3996 -2.2424 -0.0000 15 r add 66 0.4688 0.7972 -0.3285 2507 1864 0\n",
        "773 0.6696 -1.3997 -2.2424 -0.0005 69 r add 258 0.5709 0.7922 -0.2214 2508 1865 0\n",
        "2019 0.6695 -1.3996 -2.2424 -0.0007 3 r add 673 0.6909 0.8073 -0.1165 2509 1866 0\n",
        "1647 0.6695 -1.3997 -2.2424 -0.0003 46 r add 549 0.5845 0.8210 -0.2365 2510 1867 0"
       ]
      },
      {
       "output_type": "stream",
       "stream": "stdout",
       "text": [
        "\n",
        "1880 0.6695 -1.3998 -2.2424 -0.0002 2 r add 627 0.6693 0.8236 -0.1543 2511 1868 0\n",
        "1602 0.6695 -1.3996 -2.2424 -0.0003 20 r add 534 0.6025 0.8079 -0.2055 2515 1869 3\n",
        "512 0.6695 -1.3997 -2.2424 -0.0002 68 r add 171 0.5470 0.7635 -0.2165 2516 1870 0"
       ]
      },
      {
       "output_type": "stream",
       "stream": "stdout",
       "text": [
        "\n",
        "481 0.6694 -1.3999 -2.2424 -0.0006 47 r add 161 0.6854 0.7778 -0.0924 2517 1871 0\n",
        "864 0.6694 -1.3999 -2.2424 -0.0002 15 r add 288 0.4669 0.7972 -0.3303 2518 1872 0\n",
        "2099 0.6693 -1.4001 -2.2424 -0.0010 22 r add 700 0.6268 0.7106 -0.0839 2519 1873 0\n",
        "62 0.6693 -1.4000 -2.2424 -0.0004 12 r add 21 0.5700 0.7560 -0.1860 2520 1874 0\n",
        "1797 0.6693 -1.4001 -2.2424 -0.0004 69 r add 599 0.5688 0.7922 -0.2235 2521 1875 0"
       ]
      },
      {
       "output_type": "stream",
       "stream": "stdout",
       "text": [
        "\n",
        "2595 0.6693 -1.4000 -2.2424 -0.0001 30 c add 46 0.6275 0.7714 -0.1438 2523 1876 1\n",
        "515 0.6692 -1.4002 -2.2424 -0.0011 58 r add 172 0.6491 0.7575 -0.1084 2524 1877 0\n",
        "1673 0.6692 -1.4002 -2.2424 -0.0003 22 r add 558 0.6254 0.7106 -0.0853 2526 1878 1"
       ]
      },
      {
       "output_type": "stream",
       "stream": "stdout",
       "text": [
        "\n",
        "2252 0.6691 -1.4000 -2.2424 -0.0006 17 r add 751 0.5082 0.7518 -0.2435 2527 1879 0\n",
        "1131 0.6691 -1.4001 -2.2424 -0.0000 2 r add 377 0.6689 0.8236 -0.1547 2528 1880 0\n",
        "1640 0.6691 -1.4001 -2.2424 -0.0001 15 r add 547 0.4664 0.7972 -0.3309 2529 1881 0\n",
        "585 0.6691 -1.4006 -2.2424 -0.0002 34 r add 195 0.7043 0.7403 -0.0360 2531 1882 1\n",
        "95 0.6691 -1.4008 -2.2424 -0.0002 2 r add 32 0.6677 0.8236 -0.1558 2532 1883 0"
       ]
      },
      {
       "output_type": "stream",
       "stream": "stdout",
       "text": [
        "\n",
        "2157 0.6691 -1.4008 -2.2424 -0.0002 7 r add 719 0.5006 0.7664 -0.2658 2533 1884 0\n",
        "1800 0.6690 -1.4009 -2.2424 -0.0001 7 r add 600 0.4999 0.7664 -0.2664 2534 1885 0\n",
        "1399 0.6690 -1.4009 -2.2424 -0.0003 53 r add 467 0.6708 0.8447 -0.1739 2535 1886 0\n",
        "2412 0.6690 -1.4009 -2.2424 -0.0003 21 r add 804 0.5311 0.7917 -0.2605 2536 1887 0"
       ]
      },
      {
       "output_type": "stream",
       "stream": "stdout",
       "text": [
        "\n",
        "2090 0.6690 -1.4007 -2.2424 -0.0003 16 r add 697 0.5964 0.7556 -0.1592 2537 1888 0\n",
        "2488 0.6690 -1.4007 -2.2424 -0.0004 55 c add 11 0.7506 0.7978 -0.0473 2538 1889 0\n",
        "2251 0.6690 -1.4005 -2.2424 -0.0002 15 r add 751 0.4651 0.7972 -0.3322 2552 1890 13"
       ]
      },
      {
       "output_type": "stream",
       "stream": "stdout",
       "text": [
        "\n",
        "159 0.6689 -1.4002 -2.2424 -0.0004 18 r add 53 0.7233 0.8238 -0.1005 2555 1891 2\n",
        "468 0.6689 -1.4005 -2.2424 -0.0010 67 r add 156 0.6770 0.7233 -0.0464 2558 1892 2"
       ]
      },
      {
       "output_type": "stream",
       "stream": "stdout",
       "text": [
        "\n",
        "716 0.6689 -1.4006 -2.2424 -0.0002 40 r add 239 0.7460 0.8006 -0.0545 2559 1893 0\n",
        "1491 0.6688 -1.4003 -2.2424 -0.0007 72 r add 497 0.6604 0.7901 -0.1298 2573 1894 13"
       ]
      },
      {
       "output_type": "stream",
       "stream": "stdout",
       "text": [
        "\n",
        "1625 0.6688 -1.4000 -2.2424 -0.0008 47 r add 542 0.6818 0.7778 -0.0960 2574 1895 0\n",
        "1710 0.6687 -1.4004 -2.2424 -0.0008 56 r add 570 0.7167 0.7623 -0.0456 2575 1896 0\n",
        "2474 0.6687 -1.4007 -2.2424 -0.0005 40 c add 6 0.7428 0.8006 -0.0578 2577 1897 1\n",
        "363 0.6686 -1.4008 -2.2424 -0.0004 31 r add 121 0.6086 0.7565 -0.1479 2578 1898 0\n",
        "2553 0.6685 -1.4008 -2.2424 -0.0014 45 c add 32 0.7293 0.7364 -0.0071 2579 1899 0\n",
        "761 0.6685 -1.4011 -2.2424 -0.0011 22 r add 254 0.6194 0.7106 -0.0913 2580 1900 0"
       ]
      },
      {
       "output_type": "stream",
       "stream": "stdout",
       "text": [
        "\n",
        "1449 0.6684 -1.4011 -2.2424 -0.0002 46 r add 483 0.5835 0.8210 -0.2375 2581 1901 0\n",
        "2539 0.6684 -1.4011 -2.2424 -0.0007 66 c remove 28 0.6265 0.7471 -0.1207 2582 1902 0\n",
        "2027 0.6683 -1.4014 -2.2424 -0.0007 28 r add 676 0.6548 0.7292 -0.0744 2583 1903 0\n",
        "2544 0.6683 -1.4014 -2.2424 -0.0010 71 c remove 29 0.6323 0.7861 -0.1538 2584 1904 0\n",
        "2097 0.6682 -1.4010 -2.2424 -0.0006 31 r add 699 0.6034 0.7565 -0.1531 2586 1905 1\n",
        "2533 0.6681 -1.4012 -2.2424 -0.0016 64 c add 26 0.6931 0.8345 -0.1414 2601 1906 14"
       ]
      },
      {
       "output_type": "stream",
       "stream": "stdout",
       "text": [
        "\n",
        "903 0.6681 -1.4018 -2.2424 -0.0008 25 r add 301 0.6772 0.7715 -0.0943 2610 1907 8"
       ]
      },
      {
       "output_type": "stream",
       "stream": "stdout",
       "text": [
        "\n",
        "581 0.6680 -1.4022 -2.2424 -0.0005 26 r add 194 0.6925 0.7351 -0.0426 2612 1908 1\n",
        "1148 0.6680 -1.4022 -2.2424 -0.0002 12 r add 383 0.5726 0.7560 -0.1834 2613 1909 0\n",
        "2592 0.6678 -1.4024 -2.2424 -0.0022 28 c add 45 0.6405 0.7292 -0.0887 2617 1910 3"
       ]
      },
      {
       "output_type": "stream",
       "stream": "stdout",
       "text": [
        "\n",
        "1121 0.6678 -1.4024 -2.2424 -0.0001 64 r add 374 0.6924 0.8345 -0.1420 2618 1911 0\n",
        "1503 0.6678 -1.4028 -2.2424 -0.0007 57 r add 501 0.6637 0.7415 -0.0779 2619 1912 0\n",
        "578 0.6678 -1.4029 -2.2424 -0.0002 25 r add 193 0.6806 0.7715 -0.0909 2621 1913 1\n",
        "1529 0.6677 -1.4032 -2.2424 -0.0002 51 r add 510 0.6166 0.7618 -0.1452 2626 1914 4"
       ]
      },
      {
       "output_type": "stream",
       "stream": "stdout",
       "text": [
        "\n"
       ]
      },
      {
       "output_type": "stream",
       "stream": "stderr",
       "text": [
        "WARNING: RESEEDING BICLUSTER 2 (97)\n",
        "WARNING: RESEEDING BICLUSTER 7 (130)\n"
       ]
      },
      {
       "output_type": "stream",
       "stream": "stdout",
       "text": [
        "IN HERE: MOT 1 1 50\n"
       ]
      },
      {
       "output_type": "stream",
       "stream": "stderr",
       "text": [
        "WARNING: RESEEDING BICLUSTER 12 (117)\n",
        "WARNING: RESEEDING BICLUSTER 15 (147)\n",
        "WARNING: RESEEDING BICLUSTER 16 (85)\n",
        "WARNING: RESEEDING BICLUSTER 17 (94)\n",
        "WARNING: RESEEDING BICLUSTER 21 (124)\n",
        "WARNING: RESEEDING BICLUSTER 30 (81)\n",
        "WARNING: RESEEDING BICLUSTER 46 (117)\n",
        "WARNING: RESEEDING BICLUSTER 49 (145)\n",
        "WARNING: RESEEDING BICLUSTER 53 (113)\n",
        "WARNING: RESEEDING BICLUSTER 54 (127)\n",
        "WARNING: RESEEDING BICLUSTER 70 (170)\n"
       ]
      },
      {
       "output_type": "stream",
       "stream": "stdout",
       "text": [
        "IN HERE: MOT 1 2 82\n"
       ]
      },
      {
       "output_type": "stream",
       "stream": "stdout",
       "text": [
        "IN HERE: MOT 1 3 49\n"
       ]
      },
      {
       "output_type": "stream",
       "stream": "stdout",
       "text": [
        "IN HERE: MOT 1 5 32\n"
       ]
      },
      {
       "output_type": "stream",
       "stream": "stdout",
       "text": [
        "IN HERE: MOT 1 7 82\n"
       ]
      },
      {
       "output_type": "stream",
       "stream": "stdout",
       "text": [
        "IN HERE: MOT 1 8 25\n"
       ]
      },
      {
       "output_type": "stream",
       "stream": "stdout",
       "text": [
        "IN HERE: MOT 1 9 60\n"
       ]
      },
      {
       "output_type": "stream",
       "stream": "stdout",
       "text": [
        "IN HERE: MOT 1 10 70\n"
       ]
      },
      {
       "output_type": "stream",
       "stream": "stdout",
       "text": [
        "IN HERE: MOT 1 12 89\n"
       ]
      },
      {
       "output_type": "stream",
       "stream": "stdout",
       "text": [
        "IN HERE: MOT 1 14 63\n"
       ]
      },
      {
       "output_type": "stream",
       "stream": "stdout",
       "text": [
        "IN HERE: MOT 1 15 95\n"
       ]
      },
      {
       "output_type": "stream",
       "stream": "stdout",
       "text": [
        "IN HERE: MOT 1 16 79\n"
       ]
      },
      {
       "output_type": "stream",
       "stream": "stdout",
       "text": [
        "IN HERE: MOT 1 17 79\n"
       ]
      },
      {
       "output_type": "stream",
       "stream": "stdout",
       "text": [
        "IN HERE: MOT 1 18 36\n"
       ]
      },
      {
       "output_type": "stream",
       "stream": "stdout",
       "text": [
        "IN HERE: MOT 1 19 53\n"
       ]
      },
      {
       "output_type": "stream",
       "stream": "stdout",
       "text": [
        "IN HERE: MOT 1 20 60\n"
       ]
      },
      {
       "output_type": "stream",
       "stream": "stdout",
       "text": [
        "IN HERE: MOT 1 21 87\n"
       ]
      },
      {
       "output_type": "stream",
       "stream": "stdout",
       "text": [
        "IN HERE: MOT 1 22 38\n"
       ]
      },
      {
       "output_type": "stream",
       "stream": "stdout",
       "text": [
        "IN HERE: MOT 1 23 23\n"
       ]
      },
      {
       "output_type": "stream",
       "stream": "stdout",
       "text": [
        "IN HERE: MOT 1 25 44\n"
       ]
      },
      {
       "output_type": "stream",
       "stream": "stdout",
       "text": [
        "IN HERE: MOT 1 26 31\n"
       ]
      },
      {
       "output_type": "stream",
       "stream": "stdout",
       "text": [
        "IN HERE: MOT 1 27 51\n"
       ]
      },
      {
       "output_type": "stream",
       "stream": "stdout",
       "text": [
        "IN HERE: MOT 1 28 43\n"
       ]
      },
      {
       "output_type": "stream",
       "stream": "stdout",
       "text": [
        "IN HERE: MOT 1 29 23\n"
       ]
      },
      {
       "output_type": "stream",
       "stream": "stdout",
       "text": [
        "IN HERE: MOT 1 30 79\n"
       ]
      },
      {
       "output_type": "stream",
       "stream": "stdout",
       "text": [
        "IN HERE: MOT 1 31 56\n"
       ]
      },
      {
       "output_type": "stream",
       "stream": "stdout",
       "text": [
        "IN HERE: MOT 1 32 24\n"
       ]
      },
      {
       "output_type": "stream",
       "stream": "stdout",
       "text": [
        "IN HERE: MOT 1 33 29\n"
       ]
      },
      {
       "output_type": "stream",
       "stream": "stdout",
       "text": [
        "IN HERE: MOT 1 34 30\n"
       ]
      },
      {
       "output_type": "stream",
       "stream": "stdout",
       "text": [
        "IN HERE: MOT 1 36 24\n"
       ]
      },
      {
       "output_type": "stream",
       "stream": "stdout",
       "text": [
        "IN HERE: MOT 1 38 53\n"
       ]
      },
      {
       "output_type": "stream",
       "stream": "stdout",
       "text": [
        "IN HERE: MOT 1 39 77\n"
       ]
      },
      {
       "output_type": "stream",
       "stream": "stdout",
       "text": [
        "IN HERE: MOT 1 40 55\n"
       ]
      },
      {
       "output_type": "stream",
       "stream": "stdout",
       "text": [
        "IN HERE: MOT 1 41 36\n"
       ]
      },
      {
       "output_type": "stream",
       "stream": "stdout",
       "text": [
        "IN HERE: MOT 1 42 23\n"
       ]
      },
      {
       "output_type": "stream",
       "stream": "stdout",
       "text": [
        "IN HERE: MOT 1 46 83\n"
       ]
      },
      {
       "output_type": "stream",
       "stream": "stdout",
       "text": [
        "IN HERE: MOT 1 47 43\n"
       ]
      },
      {
       "output_type": "stream",
       "stream": "stdout",
       "text": [
        "IN HERE: MOT 1 48 28\n"
       ]
      },
      {
       "output_type": "stream",
       "stream": "stdout",
       "text": [
        "IN HERE: MOT 1 49 96\n"
       ]
      },
      {
       "output_type": "stream",
       "stream": "stdout",
       "text": [
        "IN HERE: MOT 1 50 25\n"
       ]
      },
      {
       "output_type": "stream",
       "stream": "stdout",
       "text": [
        "IN HERE: MOT 1 51 77\n"
       ]
      },
      {
       "output_type": "stream",
       "stream": "stdout",
       "text": [
        "IN HERE: MOT 1 53 82\n"
       ]
      },
      {
       "output_type": "stream",
       "stream": "stdout",
       "text": [
        "IN HERE: MOT 1 54 88\n"
       ]
      },
      {
       "output_type": "stream",
       "stream": "stdout",
       "text": [
        "IN HERE: MOT 1 55 29\n"
       ]
      },
      {
       "output_type": "stream",
       "stream": "stdout",
       "text": [
        "IN HERE: MOT 1 56 30\n"
       ]
      },
      {
       "output_type": "stream",
       "stream": "stdout",
       "text": [
        "IN HERE: MOT 1 57 34\n"
       ]
      },
      {
       "output_type": "stream",
       "stream": "stdout",
       "text": [
        "IN HERE: MOT 1 58 41\n"
       ]
      },
      {
       "output_type": "stream",
       "stream": "stdout",
       "text": [
        "IN HERE: MOT 1 61 28\n"
       ]
      },
      {
       "output_type": "stream",
       "stream": "stdout",
       "text": [
        "IN HERE: MOT 1 63 37\n"
       ]
      },
      {
       "output_type": "stream",
       "stream": "stdout",
       "text": [
        "IN HERE: MOT 1 64 72\n"
       ]
      },
      {
       "output_type": "stream",
       "stream": "stdout",
       "text": [
        "IN HERE: MOT 1 65 37\n"
       ]
      },
      {
       "output_type": "stream",
       "stream": "stdout",
       "text": [
        "IN HERE: MOT 1 66 54\n"
       ]
      },
      {
       "output_type": "stream",
       "stream": "stdout",
       "text": [
        "IN HERE: MOT 1 67 29\n"
       ]
      },
      {
       "output_type": "stream",
       "stream": "stdout",
       "text": [
        "IN HERE: MOT 1 68 74\n"
       ]
      },
      {
       "output_type": "stream",
       "stream": "stdout",
       "text": [
        "IN HERE: MOT 1 69 80\n"
       ]
      },
      {
       "output_type": "stream",
       "stream": "stdout",
       "text": [
        "IN HERE: MOT 1 70 108\n"
       ]
      },
      {
       "output_type": "stream",
       "stream": "stdout",
       "text": [
        "IN HERE: MOT 1 71 76\n"
       ]
      },
      {
       "output_type": "stream",
       "stream": "stdout",
       "text": [
        "IN HERE: MOT 1 72 46\n"
       ]
      },
      {
       "output_type": "stream",
       "stream": "stdout",
       "text": [
        "IN HERE: MOT 1 73 32\n"
       ]
      },
      {
       "output_type": "stream",
       "stream": "stdout",
       "text": [
        "IN HERE: MOT 1 74 23\n"
       ]
      },
      {
       "output_type": "stream",
       "stream": "stderr",
       "text": [
        "WARNING: RESEEDING BICLUSTER 2 (82)\n",
        "WARNING: RESEEDING BICLUSTER 7 (83)\n"
       ]
      },
      {
       "output_type": "stream",
       "stream": "stderr",
       "text": [
        "WARNING: RESEEDING BICLUSTER 12 (90)\n",
        "WARNING: RESEEDING BICLUSTER 15 (95)\n",
        "WARNING: RESEEDING BICLUSTER 21 (87)\n",
        "WARNING: RESEEDING BICLUSTER 46 (85)\n",
        "WARNING: RESEEDING BICLUSTER 49 (96)\n",
        "WARNING: RESEEDING BICLUSTER 53 (82)\n",
        "WARNING: RESEEDING BICLUSTER 54 (89)\n",
        "WARNING: RESEEDING BICLUSTER 70 (109)\n"
       ]
      },
      {
       "output_type": "stream",
       "stream": "stdout",
       "text": [
        "ITER: 11"
       ]
      },
      {
       "output_type": "stream",
       "stream": "stdout",
       "text": [
        "\n",
        "r0: 1.000; n0: -0.090; m0: 1.180; c0: 0.239; v0: 0.130, g0: 0.109\n",
        "N_MOVES: 2628\n",
        "N_IMPROVEMENTS: 1914\n"
       ]
      },
      {
       "ename": "LoadError",
       "evalue": "startTime not defined\nwhile loading In[27], in expression starting on line 2",
       "output_type": "pyerr",
       "traceback": [
        "startTime not defined\nwhile loading In[27], in expression starting on line 2",
        "",
        " in print_cluster_stats at /home/dreiss/scratch/julia/junkey/funcs.jl:326",
        " in do_floc at /home/dreiss/scratch/julia/junkey/floc.jl:314"
       ]
      }
     ],
     "prompt_number": 27
    },
    {
     "cell_type": "code",
     "collapsed": false,
     "input": [
      "startTime = time()\n",
      "stats_df = DataFrame()\n",
      "stats_df = print_cluster_stats(clusters)"
     ],
     "language": "python",
     "metadata": {},
     "outputs": [
      {
       "output_type": "stream",
       "stream": "stdout",
       "text": [
        "ROWS: 2"
       ]
      },
      {
       "output_type": "stream",
       "stream": "stdout",
       "text": [
        "0.0 +/- 0.0\n",
        "COLS: 28.0 +/- 0.0\n",
        "MEAN RESID: 0.758843 +/- 0.03848758\n",
        "MEAN STRING DENS: -1.5284164 +/- 0.21262841\n",
        "MEAN MEME LOG10(P-VAL): -1.6265069 +/- 0.0\n",
        "CLUSTS PER ROW: "
       ]
      },
      {
       "output_type": "stream",
       "stream": "stdout",
       "text": [
        "2.153515 +/- 1.1196878\n",
        "CLUSTS PER COL: 36.224136 +/- 6.288511\n"
       ]
      },
      {
       "html": [
        "<table class=\"data-frame\"><tr><th></th><th>iter</th><th>time</th><th>mem_used</th><th>r0</th><th>n0</th><th>m0</th><th>c0</th><th>v0</th><th>ROWS</th><th>COLS</th><th>RESID</th><th>STRING_DENS</th><th>MEME_PVAL</th><th>CLUSTS_PER_ROW</th><th>CLUSTS_PER_COL</th></tr><tr><th>1</th><td>11</td><td>0.004292702674865723</td><td>0</td><td>1.0</td><td>-0.09</td><td>1.18</td><td>0.2394736842105263</td><td>0.13</td><td>20.0</td><td>28.0</td><td>0.758843</td><td>-1.5284164</td><td>-1.6265069</td><td>2.153515</td><td>36.224136</td></tr></table>"
       ],
       "metadata": {},
       "output_type": "pyout",
       "prompt_number": 28,
       "text": [
        "1x15 DataFrame\n",
        "| Row | iter | time      | mem_used | r0  | n0    | m0   | c0       | v0   |\n",
        "|-----|------|-----------|----------|-----|-------|------|----------|------|\n",
        "| 1   | 11   | 0.0042927 | 0        | 1.0 | -0.09 | 1.18 | 0.239474 | 0.13 |\n",
        "\n",
        "| Row | ROWS | COLS | RESID    | STRING_DENS | MEME_PVAL | CLUSTS_PER_ROW |\n",
        "|-----|------|------|----------|-------------|-----------|----------------|\n",
        "| 1   | 20.0 | 28.0 | 0.758843 | -1.52842    | -1.62651  | 2.15352        |\n",
        "\n",
        "| Row | CLUSTS_PER_COL |\n",
        "|-----|----------------|\n",
        "| 1   | 36.2241        |"
       ]
      }
     ],
     "prompt_number": 28
    },
    {
     "cell_type": "code",
     "collapsed": false,
     "input": [
      "run_junkey() ## Note this function can be run like this to restart from current iter"
     ],
     "language": "python",
     "metadata": {},
     "outputs": [
      {
       "output_type": "stream",
       "stream": "stdout",
       "text": [
        "1 "
       ]
      },
      {
       "output_type": "stream",
       "stream": "stdout",
       "text": [
        "1277 5256\n",
        "6x10 DataFrame"
       ]
      },
      {
       "output_type": "stream",
       "stream": "stdout",
       "text": [
        "\n",
        "| Row | row_col_ind | is_in | is_row_col | k | score      | score_n    |\n",
        "|-----|-------------|-------|------------|---|------------|------------|\n",
        "| 1   | 433         | false | 'r'        | 1 | 0.326722   | 0.0292308  |\n",
        "| 2   | 434         | false | 'r'        | 1 | 0.109191   | 0.0941896  |\n",
        "| 3   | 431         | false | 'r'        | 1 | 0.138805   | 0.0188011  |\n",
        "| 4   | 722         | false | 'r'        | 1 | -0.0400068 | 0.0638602  |\n",
        "| 5   | 432         | true  | 'r'        | 1 | 0.41921    | -0.0211893 |\n",
        "| 6   | 139         | false | 'r'        | 1 | 0.169079   | 0.00361007 |\n",
        "\n",
        "| Row | score_m   | score_v | score_g | combined |\n",
        "|-----|-----------|---------|---------|----------|\n",
        "| 1   | -0.284749 | -0.4    | 0.7     | -26.7118 |\n",
        "| 2   | -0.284749 | -0.4    | -1.3    | -27.3062 |\n",
        "| 3   | -0.284749 | -0.4    | 1.7     | -26.9494 |\n",
        "| 4   | -0.109019 | -0.4    | -1.3    | -10.854  |\n",
        "| 5   | -0.284749 | 0.4     | -2.7    | -26.1026 |\n",
        "| 6   | -0.101653 | -0.4    | 1.7     | -9.53153 |\n",
        "6x10 DataFrame\n",
        "| Row | row_col_ind | is_in | is_row_col | k  | score      | score_n   |\n",
        "|-----|-------------|-------|------------|----|------------|-----------|\n",
        "| 1   | 21          | false | 'c'        | 59 | -0.172407  | NaN       |\n",
        "| 2   | 25          | true  | 'c'        | 10 | -0.130297  | NaN       |\n",
        "| 3   | 54          | false | 'c'        | 48 | -0.209557  | NaN       |\n",
        "| 4   | 137         | false | 'r'        | 70 | -0.375419  | 0.0348701 |\n",
        "| 5   | 13          | true  | 'c'        | 2  | -0.0729274 | NaN       |\n",
        "| 6   | 26          | false | 'c'        | 64 | -0.257553  | NaN       |\n",
        "\n",
        "| Row | score_m | score_v    | score_g | combined  |\n",
        "|-----|---------|------------|---------|-----------|\n",
        "| 1   | NaN     | 0.0357143  | NaN     | -0.282189 |\n",
        "| 2   | NaN     | -0.0357143 | NaN     | -0.267671 |\n",
        "| 3   | NaN     | 0.0357143  | NaN     | -0.349671 |\n",
        "| 4   | 0.0     | -0.4       | -1.3    | -1.03039  |\n",
        "| 5   | NaN     | -0.0357143 | NaN     | -0.163459 |\n",
        "| 6   | NaN     | 0.0357143  | NaN     | -0.436854 |\n",
        "1294 0.7589 -1.5248 -2.2433 -0.0013 1 r remove 432 0.6620 0.6613 0.0006 5 1 4"
       ]
      },
      {
       "output_type": "stream",
       "stream": "stdout",
       "text": [
        "\n",
        "259 0.7588 -1.5249 -2.2696 -0.0024 1 r add 87 0.6548 0.6613 -0.0065 8 2 2"
       ]
      },
      {
       "output_type": "stream",
       "stream": "stdout",
       "text": [
        "\n",
        "2041 0.7588 -1.5195 -2.4117 -0.0010 70 r add 681 0.7704 0.7830 -0.0126 19 3 10"
       ]
      },
      {
       "output_type": "stream",
       "stream": "stdout",
       "text": [
        "\n",
        "2350 0.7588 -1.5190 -2.3903 -0.0007 1 r remove 784 0.6669 0.6613 0.0056 20 4 0\n",
        "2272 0.7587 -1.5191 -2.3737 -0.0012 1 r add 758 0.6634 0.6613 0.0021 21 5 0\n",
        "1657 0.7587 -1.5175 -2.3737 -0.0011 49 r add 553 0.8194 0.8207 -0.0013 22 6 0\n",
        "423 0.7587 -1.5170 -2.3737 -0.0015 49 r add 141 0.8159 0.8207 -0.0048 23 7 0\n",
        "250 0.7586 -1.5174 -2.3964 -0.0012 1 r add 84 0.6595 0.6613 -0.0018 24 8 0"
       ]
      },
      {
       "output_type": "stream",
       "stream": "stdout",
       "text": [
        "\n",
        "256 0.7586 -1.5171 -2.4178 -0.0021 1 r add 86 0.6540 0.6613 -0.0074 25 9 0\n",
        "1452 0.7585 -1.5165 -2.4178 -0.0010 55 r add 484 0.7956 0.7978 -0.0022 26 10 0\n",
        "2042 0.7584 -1.5150 -2.4178 -0.0028 12 r add 681 0.7499 0.7560 -0.0061 27 11 0\n",
        "2226 0.7585 -1.5130 -2.4178 -0.0003 9 r add 742 0.8101 0.8086 0.0014 28 12 0\n",
        "2074 0.7584 -1.5121 -2.4178 -0.0024 16 r add 692 0.7504 0.7556 -0.0052 30 13 1"
       ]
      },
      {
       "output_type": "stream",
       "stream": "stdout",
       "text": [
        "\n",
        "1341 0.7583 -1.5116 -2.4178 -0.0023 49 r add 447 0.8099 0.8207 -0.0108 31 14 0\n",
        "2395 0.7582 -1.5095 -2.4178 -0.0031 71 r add 799 0.7799 0.7861 -0.0062 32 15 0\n",
        "1593 0.7581 -1.5094 -2.4178 -0.0039 15 r add 531 0.7861 0.7972 -0.0111 33 16 0\n",
        "1039 0.7581 -1.5097 -2.4086 -0.0000 1 r add 347 0.6534 0.6613 -0.0079 34 17 0\n",
        "480 0.7580 -1.5095 -2.4086 -0.0008 65 r add 160 0.7681 0.7713 -0.0032 36 18 1"
       ]
      },
      {
       "output_type": "stream",
       "stream": "stdout",
       "text": [
        "\n",
        "1781 0.7580 -1.5097 -2.4086 -0.0009 19 r add 594 0.7766 0.7796 -0.0030 37 19 0\n",
        "1585 0.7579 -1.5102 -2.4086 -0.0012 49 r add 529 0.8059 0.8207 -0.0148 38 20 0\n",
        "873 0.7578 -1.5108 -2.4086 -0.0026 12 r add 291 0.7418 0.7560 -0.0142 39 21 0\n",
        "2443 0.7577 -1.5111 -2.4086 -0.0023 15 r add 815 0.7791 0.7972 -0.0181 40 22 0\n",
        "112 0.7577 -1.5116 -2.4086 -0.0006 10 r add 38 0.7846 0.7869 -0.0023 41 23 0\n",
        "945 0.7577 -1.5104 -2.4086 -0.0002 16 r add 315 0.7514 0.7556 -0.0042 42 24 0"
       ]
      },
      {
       "output_type": "stream",
       "stream": "stdout",
       "text": [
        "\n",
        "1286 0.7577 -1.5093 -2.4086 -0.0021 53 r add 429 0.8407 0.8447 -0.0040 44 25 1\n",
        "1713 0.7576 -1.5084 -2.4086 -0.0017 2 r add 571 0.8211 0.8236 -0.0025 45 26 0\n",
        "2302 0.7576 -1.5046 -2.4086 -0.0028 7 r add 768 0.7630 0.7664 -0.0033 46 27 0\n",
        "1150 0.7574 -1.5049 -2.4086 -0.0034 15 r add 384 0.7691 0.7972 -0.0281 47 28 0"
       ]
      },
      {
       "output_type": "stream",
       "stream": "stdout",
       "text": [
        "\n",
        "1366 0.7574 -1.5021 -2.4086 -0.0034 49 r add 456 0.7996 0.8207 -0.0211 48 29 0\n",
        "1408 0.7573 -1.5026 -2.4086 -0.0016 54 r add 470 0.7512 0.7568 -0.0056 49 30 0\n",
        "768 0.7572 -1.5027 -2.4086 -0.0027 17 r add 256 0.7442 0.7518 -0.0076 50 31 0\n",
        "1113 0.7571 -1.5021 -2.4086 -0.0027 14 r add 371 0.7834 0.7902 -0.0069 51 32 0\n",
        "1891 0.7569 -1.5006 -2.4086 -0.0046 14 r add 631 0.7723 0.7902 -0.0180 52 33 0\n",
        "1144 0.7569 -1.5005 -2.3985 -0.0007 1 r add 382 0.6517 0.6613 -0.0096 53 34 0"
       ]
      },
      {
       "output_type": "stream",
       "stream": "stdout",
       "text": [
        "\n",
        "1802 0.7568 -1.4998 -2.3812 -0.0023 49 r add 601 0.7929 0.8207 -0.0279 55 35 1\n",
        "1888 0.7568 -1.4989 -2.3812 -0.0023 69 r add 630 0.7870 0.7922 -0.0053 56 36 0\n",
        "1476 0.7567 -1.4985 -2.3812 -0.0035 15 r add 492 0.7598 0.7972 -0.0374 57 37 0\n",
        "1531 0.7566 -1.4971 -2.3812 -0.0015 39 r add 511 0.7983 0.8007 -0.0024 58 38 0"
       ]
      },
      {
       "output_type": "stream",
       "stream": "stdout",
       "text": [
        "\n",
        "922 0.7565 -1.4976 -2.3812 -0.0022 53 r add 308 0.8339 0.8447 -0.0108 59 39 0\n",
        "787 0.7564 -1.4977 -2.3812 -0.0029 7 r add 263 0.7546 0.7664 -0.0117 60 40 0\n",
        "1083 0.7563 -1.4978 -2.3812 -0.0023 41 r add 361 0.7478 0.7513 -0.0035 61 41 0\n",
        "2060 0.7564 -1.4951 -2.3749 -0.0007 10 r add 687 0.7837 0.7869 -0.0032 64 42 2"
       ]
      },
      {
       "output_type": "stream",
       "stream": "stdout",
       "text": [
        "\n",
        "327 0.7562 -1.4954 -2.3749 -0.0042 15 r add 109 0.7477 0.7972 -0.0495 65 43 0\n",
        "536 0.7561 -1.4960 -2.3749 -0.0033 20 r add 179 0.7980 0.8079 -0.0099 66 44 0\n",
        "1769 0.7560 -1.4933 -2.3749 -0.0036 66 r add 590 0.7404 0.7471 -0.0068 67 45 0\n",
        "923 0.7559 -1.4938 -2.3749 -0.0021 64 r add 308 0.8276 0.8345 -0.0069 68 46 0\n",
        "1178 0.7559 -1.4940 -2.3749 -0.0002 36 r add 393 0.7118 0.7125 -0.0007 69 47 0"
       ]
      },
      {
       "output_type": "stream",
       "stream": "stdout",
       "text": [
        "\n",
        "774 0.7558 -1.4940 -2.3749 -0.0012 15 r add 258 0.7407 0.7972 -0.0565 71 48 1\n",
        "1627 0.7558 -1.4934 -2.3749 -0.0004 17 r add 543 0.7374 0.7518 -0.0144 73 49 1\n",
        "1119 0.7559 -1.4911 -2.3749 -0.0001 14 r add 373 0.7681 0.7902 -0.0222 76 50 2"
       ]
      },
      {
       "output_type": "stream",
       "stream": "stdout",
       "text": [
        "\n",
        "2234 0.7558 -1.4917 -2.3749 -0.0008 21 r add 745 0.7888 0.7917 -0.0029 77 51 0\n",
        "2104 0.7558 -1.4909 -2.3749 -0.0017 70 r add 702 0.7695 0.7830 -0.0135 78 52 0\n",
        "1957 0.7556 -1.4904 -2.3749 -0.0036 53 r add 653 0.8245 0.8447 -0.0202 79 53 0\n",
        "2295 0.7555 -1.4907 -2.3749 -0.0030 9 r add 765 0.8014 0.8086 -0.0072 80 54 0\n",
        "117 0.7555 -1.4913 -2.3749 -0.0017 71 r add 39 0.7745 0.7861 -0.0116 81 55 0"
       ]
      },
      {
       "output_type": "stream",
       "stream": "stdout",
       "text": [
        "\n",
        "1175 0.7553 -1.4917 -2.3749 -0.0029 46 r add 392 0.8127 0.8210 -0.0083 82 56 0\n",
        "733 0.7553 -1.4923 -2.3749 -0.0011 27 r add 245 0.7197 0.7235 -0.0038 83 57 0\n",
        "364 0.7553 -1.4923 -2.3749 -0.0009 64 r add 122 0.8248 0.8345 -0.0096 85 58 1\n",
        "2260 0.7552 -1.4922 -2.3749 -0.0007 39 r add 754 0.7965 0.8007 -0.0042 86 59 0"
       ]
      },
      {
       "output_type": "stream",
       "stream": "stdout",
       "text": [
        "\n",
        "1001 0.7552 -1.4909 -2.3749 -0.0014 27 r add 334 0.7174 0.7235 -0.0061 87 60 0\n",
        "1295 0.7552 -1.4913 -2.3749 -0.0007 69 r add 432 0.7844 0.7922 -0.0079 88 61 0\n",
        "1385 0.7551 -1.4915 -2.3749 -0.0018 39 r add 462 0.7914 0.8007 -0.0094 89 62 0\n",
        "437 0.7550 -1.4911 -2.3749 -0.0023 54 r add 146 0.7458 0.7568 -0.0110 90 63 0\n",
        "1004 0.7550 -1.4893 -2.3749 -0.0028 27 r add 335 0.7121 0.7235 -0.0113 91 64 0"
       ]
      },
      {
       "output_type": "stream",
       "stream": "stdout",
       "text": [
        "\n",
        "1798 0.7548 -1.4894 -2.3749 -0.0034 15 r add 600 0.7312 0.7972 -0.0660 92 65 0\n",
        "1822 0.7548 -1.4899 -2.3749 -0.0010 10 r add 608 0.7805 0.7869 -0.0065 93 66 0\n",
        "1411 0.7548 -1.4897 -2.3749 -0.0007 70 r add 471 0.7677 0.7830 -0.0153 94 67 0\n",
        "1581 0.7546 -1.4893 -2.3749 -0.0038 49 r add 527 0.7829 0.8207 -0.0378 95 68 0\n",
        "1826 0.7545 -1.4885 -2.3749 -0.0033 38 r add 609 0.8047 0.8126 -0.0079 96 69 0"
       ]
      },
      {
       "output_type": "stream",
       "stream": "stdout",
       "text": [
        "\n",
        "9 0.7544 -1.4888 -2.3749 -0.0025 38 r add 3 0.7977 0.8126 -0.0150 97 70 0\n",
        "2318 0.7543 -1.4881 -2.3749 -0.0028 18 r add 773 0.8170 0.8238 -0.0069 98 71 0\n",
        "1413 0.7543 -1.4871 -2.3749 -0.0021 54 r add 471 0.7414 0.7568 -0.0154 99 72 0\n",
        "772 0.7542 -1.4867 -2.3749 -0.0033 49 r add 258 0.7746 0.8207 -0.0461 100 73 0\n",
        "1344 0.7541 -1.4862 -2.3749 -0.0027 41 r add 448 0.7413 0.7513 -0.0101 101 74 0"
       ]
      },
      {
       "output_type": "stream",
       "stream": "stdout",
       "text": [
        "\n",
        "1486 0.7540 -1.4867 -2.3749 -0.0021 21 r add 496 0.7825 0.7917 -0.0091 102 75 0\n",
        "758 0.7539 -1.4872 -2.3749 -0.0019 41 r add 253 0.7357 0.7513 -0.0157 103 76 0\n",
        "292 0.7539 -1.4868 -2.3749 -0.0022 38 r add 98 0.7923 0.8126 -0.0204 104 77 0\n",
        "1612 0.7538 -1.4868 -2.3749 -0.0021 21 r add 538 0.7769 0.7917 -0.0147 105 78 0"
       ]
      },
      {
       "output_type": "stream",
       "stream": "stdout",
       "text": [
        "\n",
        "556 0.7537 -1.4873 -2.3749 -0.0010 70 r add 186 0.7645 0.7830 -0.0185 106 79 0\n",
        "965 0.7537 -1.4879 -2.3749 -0.0007 51 r add 322 0.7591 0.7618 -0.0026 107 80 0\n",
        "127 0.7536 -1.4862 -2.3749 -0.0031 31 r add 43 0.7502 0.7565 -0.0063 108 81 0\n",
        "1538 0.7535 -1.4852 -2.3749 -0.0047 3 r add 513 0.7961 0.8073 -0.0112 109 82 0\n",
        "1828 0.7534 -1.4855 -2.3749 -0.0015 3 r add 610 0.7919 0.8073 -0.0155 110 83 0"
       ]
      },
      {
       "output_type": "stream",
       "stream": "stdout",
       "text": [
        "\n",
        "1832 0.7533 -1.4843 -2.3749 -0.0032 38 r add 611 0.7852 0.8126 -0.0274 111 84 0\n",
        "1465 0.7531 -1.4848 -2.3749 -0.0046 17 r add 489 0.7246 0.7518 -0.0271 112 85 0\n",
        "2059 0.7530 -1.4837 -2.3749 -0.0036 16 r add 687 0.7433 0.7556 -0.0124 113 86 0\n",
        "1170 0.7529 -1.4831 -2.3749 -0.0044 49 r add 390 0.7637 0.8207 -0.0570 114 87 0\n",
        "1914 0.7527 -1.4826 -2.3749 -0.0055 46 r add 638 0.7990 0.8210 -0.0221 115 88 0"
       ]
      },
      {
       "output_type": "stream",
       "stream": "stdout",
       "text": [
        "\n",
        "502 0.7527 -1.4825 -2.3915 -0.0000 1 r remove 168 0.6550 0.6613 -0.0064 116 89 0\n",
        "594 0.7527 -1.4827 -2.3915 -0.0013 21 r add 198 0.7733 0.7917 -0.0184 117 90 0\n",
        "1934 0.7526 -1.4830 -2.3915 -0.0030 49 r add 645 0.7555 0.8207 -0.0652 118 91 0\n",
        "2175 0.7524 -1.4822 -2.3915 -0.0036 69 r add 725 0.7759 0.7922 -0.0164 119 92 0"
       ]
      },
      {
       "output_type": "stream",
       "stream": "stdout",
       "text": [
        "\n",
        "539 0.7524 -1.4825 -2.3915 -0.0004 53 r add 180 0.8231 0.8447 -0.0216 120 93 0\n",
        "1079 0.7523 -1.4830 -2.3915 -0.0019 39 r add 360 0.7859 0.8007 -0.0148 121 94 0\n",
        "1128 0.7522 -1.4833 -2.3915 -0.0028 30 r add 376 0.7639 0.7714 -0.0074 122 95 0\n",
        "171 0.7522 -1.4838 -2.3915 -0.0008 2 r add 57 0.8222 0.8236 -0.0013 123 96 0\n",
        "60 0.7522 -1.4825 -2.3915 -0.0020 39 r add 20 0.7821 0.8007 -0.0186 124 97 0"
       ]
      },
      {
       "output_type": "stream",
       "stream": "stdout",
       "text": [
        "\n",
        "46 0.7521 -1.4830 -2.3915 -0.0011 51 r add 16 0.7556 0.7618 -0.0061 125 98 0\n",
        "1233 0.7520 -1.4835 -2.3915 -0.0032 15 r add 411 0.7224 0.7972 -0.0748 126 99 0\n",
        "1583 0.7520 -1.4826 -2.3915 -0.0016 68 r add 528 0.7602 0.7635 -0.0032 127 100 0\n",
        "39 0.7519 -1.4831 -2.3915 -0.0009 7 r add 13 0.7516 0.7664 -0.0148 128 101 0\n",
        "588 0.7519 -1.4826 -2.3915 -0.0020 9 r add 196 0.7967 0.8086 -0.0119 129 102 0"
       ]
      },
      {
       "output_type": "stream",
       "stream": "stdout",
       "text": [
        "\n",
        "732 0.7518 -1.4822 -2.3915 -0.0030 25 r add 244 0.7643 0.7715 -0.0072 130 103 0\n",
        "1684 0.7517 -1.4827 -2.3915 -0.0011 12 r add 562 0.7384 0.7560 -0.0176 131 104 0\n",
        "40 0.7517 -1.4832 -2.3915 -0.0010 21 r add 14 0.7700 0.7917 -0.0216 132 105 0\n",
        "1744 0.7516 -1.4835 -2.3915 -0.0008 49 r add 582 0.7530 0.8207 -0.0677 133 106 0\n",
        "2357 0.7516 -1.4841 -2.3915 -0.0018 40 r add 786 0.8019 0.8006 0.0013 134 107 0"
       ]
      },
      {
       "output_type": "stream",
       "stream": "stdout",
       "text": [
        "\n",
        "2438 0.7515 -1.4840 -2.3915 -0.0012 36 r add 813 0.7087 0.7125 -0.0038 135 108 0\n",
        "1774 0.7514 -1.4832 -2.3915 -0.0038 7 r add 592 0.7427 0.7664 -0.0237 136 109 0\n",
        "1646 0.7513 -1.4836 -2.3915 -0.0028 15 r add 549 0.7147 0.7972 -0.0825 137 110 0\n",
        "1637 0.7512 -1.4835 -2.3915 -0.0034 15 r add 546 0.7061 0.7972 -0.0912 138 111 0\n",
        "1028 0.7511 -1.4831 -2.3915 -0.0036 46 r add 343 0.7901 0.8210 -0.0309 139 112 0"
       ]
      },
      {
       "output_type": "stream",
       "stream": "stdout",
       "text": [
        "\n",
        "77 0.7510 -1.4836 -2.3915 -0.0013 41 r add 26 0.7318 0.7513 -0.0195 140 113 0\n",
        "284 0.7509 -1.4841 -2.3915 -0.0043 46 r add 95 0.7783 0.8210 -0.0427 141 114 0\n",
        "2375 0.7507 -1.4846 -2.3915 -0.0030 31 r add 792 0.7419 0.7565 -0.0146 142 115 0\n",
        "1630 0.7507 -1.4848 -2.3842 -0.0003 1 r add 544 0.6539 0.6613 -0.0074 143 116 0\n",
        "2291 0.7506 -1.4848 -2.3842 -0.0029 14 r add 764 0.7607 0.7902 -0.0295 144 117 0"
       ]
      },
      {
       "output_type": "stream",
       "stream": "stdout",
       "text": [
        "\n",
        "1467 0.7505 -1.4853 -2.3842 -0.0031 46 r add 489 0.7699 0.8210 -0.0512 145 118 0\n",
        "1102 0.7504 -1.4858 -2.3842 -0.0025 2 r add 368 0.8154 0.8236 -0.0082 146 119 0\n",
        "667 0.7504 -1.4859 -2.3842 -0.0019 15 r add 223 0.7011 0.7972 -0.0961 147 120 0\n",
        "1917 0.7503 -1.4865 -2.3842 -0.0013 32 r add 639 0.7481 0.7521 -0.0040 148 121 0"
       ]
      },
      {
       "output_type": "stream",
       "stream": "stdout",
       "text": [
        "\n",
        "440 0.7502 -1.4861 -2.3842 -0.0041 72 r add 147 0.7800 0.7901 -0.0102 149 122 0\n",
        "1490 0.7501 -1.4859 -2.3842 -0.0030 54 r add 497 0.7340 0.7568 -0.0228 150 123 0\n",
        "573 0.7500 -1.4851 -2.3842 -0.0028 7 r add 191 0.7364 0.7664 -0.0299 151 124 0\n",
        "1231 0.7499 -1.4855 -2.3842 -0.0020 7 r add 411 0.7308 0.7664 -0.0356 152 125 0\n",
        "101 0.7498 -1.4860 -2.3842 -0.0019 2 r add 34 0.8100 0.8236 -0.0136 153 126 0"
       ]
      },
      {
       "output_type": "stream",
       "stream": "stdout",
       "text": [
        "\n",
        "1251 0.7498 -1.4860 -2.3842 -0.0021 38 r add 417 0.7798 0.8126 -0.0328 154 127 0\n",
        "1048 0.7496 -1.4861 -2.3842 -0.0045 54 r add 350 0.7223 0.7568 -0.0345 155 128 0\n",
        "1750 0.7496 -1.4858 -2.3842 -0.0020 71 r add 584 0.7698 0.7861 -0.0163 156 129 0\n",
        "36 0.7495 -1.4861 -2.3842 -0.0020 58 r add 12 0.7518 0.7575 -0.0057 157 130 0\n",
        "622 0.7494 -1.4834 -2.3842 -0.0031 57 r add 208 0.7368 0.7415 -0.0047 158 131 0"
       ]
      },
      {
       "output_type": "stream",
       "stream": "stdout",
       "text": [
        "\n",
        "885 0.7493 -1.4833 -2.3842 -0.0036 70 r add 295 0.7554 0.7830 -0.0276 159 132 0\n",
        "882 0.7493 -1.4830 -2.3842 -0.0001 39 r add 294 0.7822 0.8007 -0.0185 160 133 0"
       ]
      },
      {
       "output_type": "stream",
       "stream": "stdout",
       "text": [
        "\n",
        "705 0.7493 -1.4836 -2.3842 -0.0004 66 r add 235 0.7387 0.7471 -0.0084 161 134 0\n",
        "949 0.7492 -1.4829 -2.3842 -0.0018 16 r add 317 0.7394 0.7556 -0.0162 162 135 0\n",
        "870 0.7492 -1.4830 -2.3842 -0.0013 72 r add 290 0.7767 0.7901 -0.0134 163 136 0\n",
        "706 0.7491 -1.4831 -2.3842 -0.0019 54 r add 236 0.7174 0.7568 -0.0394 164 137 0\n",
        "970 0.7491 -1.4830 -2.3842 -0.0006 53 r add 324 0.8217 0.8447 -0.0230 165 138 0"
       ]
      },
      {
       "output_type": "stream",
       "stream": "stdout",
       "text": [
        "\n",
        "839 0.7490 -1.4831 -2.3842 -0.0027 70 r add 280 0.7484 0.7830 -0.0346 166 139 0\n",
        "279 0.7490 -1.4817 -2.3842 -0.0017 70 r add 93 0.7457 0.7830 -0.0373 167 140 0\n",
        "116 0.7489 -1.4821 -2.3842 -0.0004 16 r add 39 0.7377 0.7556 -0.0179 168 141 0\n",
        "1010 0.7488 -1.4820 -2.3842 -0.0033 7 r add 337 0.7226 0.7664 -0.0438 169 142 0"
       ]
      },
      {
       "output_type": "stream",
       "stream": "stdout",
       "text": [
        "\n",
        "810 0.7487 -1.4825 -2.3842 -0.0025 21 r add 270 0.7632 0.7917 -0.0284 170 143 0\n",
        "1570 0.7486 -1.4826 -2.3842 -0.0029 15 r add 524 0.6935 0.7972 -0.1038 171 144 0\n",
        "2336 0.7485 -1.4826 -2.3842 -0.0031 46 r add 779 0.7618 0.8210 -0.0592 172 145 0\n",
        "879 0.7484 -1.4825 -2.3842 -0.0034 73 r add 293 0.7152 0.7238 -0.0086 173 146 0\n",
        "1090 0.7484 -1.4834 -2.3842 -0.0014 58 r add 364 0.7458 0.7575 -0.0116 175 147 1"
       ]
      },
      {
       "output_type": "stream",
       "stream": "stdout",
       "text": [
        "\n",
        "1901 0.7483 -1.4836 -2.3842 -0.0019 47 r add 634 0.7727 0.7778 -0.0051 176 148 0\n",
        "1659 0.7482 -1.4830 -2.3842 -0.0043 7 r add 553 0.7123 0.7664 -0.0541 177 149 0\n",
        "1673 0.7481 -1.4830 -2.3842 -0.0013 22 r add 558 0.7073 0.7106 -0.0034 178 150 0\n",
        "2449 0.7481 -1.4833 -2.3842 -0.0010 14 r add 817 0.7578 0.7902 -0.0324 179 151 0\n",
        "910 0.7479 -1.4837 -2.3842 -0.0037 21 r add 304 0.7531 0.7917 -0.0385 180 152 0"
       ]
      },
      {
       "output_type": "stream",
       "stream": "stdout",
       "text": [
        "\n",
        "1676 0.7478 -1.4836 -2.3842 -0.0032 15 r add 559 0.6852 0.7972 -0.1121 181 153 0\n",
        "1902 0.7477 -1.4804 -2.3842 -0.0043 18 r add 634 0.8097 0.8238 -0.0141 182 154 0\n",
        "1906 0.7476 -1.4796 -2.3842 -0.0041 46 r add 636 0.7521 0.8210 -0.0689 183 155 0\n",
        "1483 0.7475 -1.4789 -2.3842 -0.0034 21 r add 495 0.7452 0.7917 -0.0464 184 156 0"
       ]
      },
      {
       "output_type": "stream",
       "stream": "stdout",
       "text": [
        "\n",
        "1027 0.7474 -1.4776 -2.3842 -0.0042 17 r add 343 0.7155 0.7518 -0.0363 185 157 0\n",
        "1645 0.7473 -1.4772 -2.3842 -0.0035 17 r add 549 0.7070 0.7518 -0.0447 186 158 0\n",
        "2274 0.7473 -1.4765 -2.3842 -0.0007 53 r add 758 0.8208 0.8447 -0.0239 187 159 0\n",
        "144 0.7472 -1.4769 -2.3842 -0.0011 33 r add 48 0.7648 0.7680 -0.0032 188 160 0\n",
        "1707 0.7471 -1.4772 -2.3842 -0.0024 39 r add 569 0.7756 0.8007 -0.0251 189 161 0"
       ]
      },
      {
       "output_type": "stream",
       "stream": "stdout",
       "text": [
        "\n",
        "796 0.7470 -1.4777 -2.3842 -0.0031 20 r add 266 0.7895 0.8079 -0.0184 190 162 0\n",
        "2343 0.7470 -1.4772 -2.3842 -0.0018 47 r add 781 0.7687 0.7778 -0.0091 191 163 0\n",
        "2139 0.7468 -1.4767 -2.3842 -0.0033 72 r add 713 0.7684 0.7901 -0.0217 196 164 4"
       ]
      },
      {
       "output_type": "stream",
       "stream": "stdout",
       "text": [
        "\n",
        "239 0.7467 -1.4770 -2.3842 -0.0042 39 r add 80 0.7647 0.8007 -0.0360 197 165 0\n",
        "2106 0.7466 -1.4757 -2.3842 -0.0032 30 r add 702 0.7572 0.7714 -0.0142 198 166 0\n",
        "616 0.7466 -1.4749 -2.3842 -0.0010 70 r add 206 0.7441 0.7830 -0.0389 199 167 0\n",
        "499 0.7466 -1.4750 -2.3683 -0.0002 1 r add 167 0.6533 0.6613 -0.0080 200 168 0"
       ]
      },
      {
       "output_type": "stream",
       "stream": "stdout",
       "text": [
        "\n",
        "1496 0.7465 -1.4755 -2.3683 -0.0023 2 r add 499 0.8037 0.8236 -0.0199 201 169 0\n",
        "2320 0.7464 -1.4748 -2.3683 -0.0024 68 r add 774 0.7550 0.7635 -0.0085 202 170 0\n",
        "2131 0.7464 -1.4751 -2.3683 -0.0010 70 r add 711 0.7411 0.7830 -0.0419 203 171 0\n",
        "959 0.7463 -1.4751 -2.3683 -0.0032 15 r add 320 0.6771 0.7972 -0.1201 204 172 0"
       ]
      },
      {
       "output_type": "stream",
       "stream": "stdout",
       "text": [
        "\n",
        "2165 0.7462 -1.4751 -2.3683 -0.0033 69 r add 722 0.7676 0.7922 -0.0246 205 173 0\n",
        "2265 0.7460 -1.4756 -2.3683 -0.0033 20 r add 755 0.7805 0.8079 -0.0274 206 174 0\n",
        "154 0.7460 -1.4756 -2.3683 -0.0024 49 r add 52 0.7470 0.8207 -0.0737 207 175 0\n",
        "1287 0.7459 -1.4740 -2.3683 -0.0032 51 r add 429 0.7494 0.7618 -0.0123 208 176 0\n",
        "452 0.7458 -1.4739 -2.3683 -0.0030 17 r add 151 0.6995 0.7518 -0.0523 209 177 0"
       ]
      },
      {
       "output_type": "stream",
       "stream": "stdout",
       "text": [
        "\n",
        "1433 0.7457 -1.4728 -2.3683 -0.0040 12 r add 478 0.7296 0.7560 -0.0264 210 178 0\n",
        "129 0.7456 -1.4731 -2.3683 -0.0019 53 r add 43 0.8154 0.8447 -0.0293 211 179 0\n",
        "1987 0.7455 -1.4720 -2.3683 -0.0020 2 r add 663 0.8000 0.8236 -0.0236 212 180 0\n",
        "169 0.7455 -1.4724 -2.3683 -0.0013 53 r add 57 0.8117 0.8447 -0.0330 213 181 0\n",
        "1756 0.7454 -1.4726 -2.3683 -0.0014 12 r add 586 0.7258 0.7560 -0.0302 214 182 0"
       ]
      },
      {
       "output_type": "stream",
       "stream": "stdout",
       "text": [
        "\n",
        "2188 0.7454 -1.4730 -2.3683 -0.0023 51 r add 730 0.7429 0.7618 -0.0188 215 183 0\n",
        "1573 0.7453 -1.4730 -2.3683 -0.0023 49 r add 525 0.7410 0.8207 -0.0797 216 184 0\n",
        "2149 0.7452 -1.4735 -2.3683 -0.0021 12 r add 717 0.7200 0.7560 -0.0360 217 185 0\n",
        "473 0.7452 -1.4728 -2.3683 -0.0017 18 r add 158 0.8063 0.8238 -0.0175 218 186 0"
       ]
      },
      {
       "output_type": "stream",
       "stream": "stdout",
       "text": [
        "\n",
        "1824 0.7451 -1.4722 -2.3683 -0.0021 34 r add 608 0.7358 0.7403 -0.0045 219 187 0\n",
        "2292 0.7450 -1.4720 -2.3683 -0.0024 5 r add 764 0.7156 0.7176 -0.0020 220 188 0\n",
        "2323 0.7449 -1.4719 -2.3683 -0.0022 53 r add 775 0.8063 0.8447 -0.0384 221 189 0\n",
        "236 0.7449 -1.4717 -2.3683 -0.0027 39 r add 79 0.7581 0.8007 -0.0426 222 190 0\n",
        "446 0.7448 -1.4713 -2.3683 -0.0034 20 r add 149 0.7723 0.8079 -0.0356 223 191 0"
       ]
      },
      {
       "output_type": "stream",
       "stream": "stdout",
       "text": [
        "\n",
        "1761 0.7446 -1.4715 -2.3683 -0.0030 49 r add 587 0.7332 0.8207 -0.0875 224 192 0\n",
        "2048 0.7446 -1.4710 -2.3683 -0.0023 69 r add 683 0.7624 0.7922 -0.0299 225 193 0\n",
        "1059 0.7445 -1.4709 -2.3683 -0.0026 39 r add 353 0.7518 0.8007 -0.0490 226 194 0\n",
        "2293 0.7444 -1.4708 -2.3683 -0.0033 69 r add 765 0.7542 0.7922 -0.0381 227 195 0"
       ]
      },
      {
       "output_type": "stream",
       "stream": "stdout",
       "text": [
        "\n",
        "2371 0.7443 -1.4705 -2.3683 -0.0025 21 r add 791 0.7294 0.7917 -0.0623 228 196 0\n",
        "1105 0.7442 -1.4702 -2.3683 -0.0023 16 r add 369 0.7323 0.7556 -0.0233 229 197 0\n",
        "1373 0.7442 -1.4695 -2.3683 -0.0016 38 r add 458 0.7767 0.8126 -0.0359 230 198 0\n",
        "1163 0.7441 -1.4683 -2.3683 -0.0024 68 r add 388 0.7502 0.7635 -0.0132 231 199 0\n",
        "2278 0.7441 -1.4685 -2.3683 -0.0014 54 r add 760 0.7151 0.7568 -0.0417 232 200 0"
       ]
      },
      {
       "output_type": "stream",
       "stream": "stdout",
       "text": [
        "\n",
        "1644 0.7439 -1.4689 -2.3683 -0.0037 46 r add 548 0.7477 0.8210 -0.0733 233 201 0\n",
        "268 0.7439 -1.4692 -2.3683 -0.0018 46 r add 90 0.7430 0.8210 -0.0781 234 202 0\n",
        "1588 0.7438 -1.4687 -2.3683 -0.0027 68 r add 530 0.7439 0.7635 -0.0195 235 203 0\n",
        "55 0.7437 -1.4690 -2.3683 -0.0027 54 r add 19 0.7079 0.7568 -0.0489 236 204 0"
       ]
      },
      {
       "output_type": "stream",
       "stream": "stdout",
       "text": [
        "\n",
        "1123 0.7437 -1.4694 -2.3683 -0.0008 51 r add 375 0.7405 0.7618 -0.0213 237 205 0\n",
        "2368 0.7436 -1.4703 -2.3683 -0.0004 70 r add 790 0.7372 0.7830 -0.0458 239 206 1\n",
        "2554 0.7435 -1.4703 -2.3683 -0.0036 68 c add 33 0.7349 0.7635 -0.0286 240 207 0\n",
        "1242 0.7435 -1.4707 -2.3683 -0.0019 17 r add 414 0.6943 0.7518 -0.0575 241 208 0"
       ]
      },
      {
       "output_type": "stream",
       "stream": "stdout",
       "text": [
        "\n",
        "1857 0.7434 -1.4707 -2.3683 -0.0019 38 r add 619 0.7719 0.8126 -0.0407 242 209 0\n",
        "1365 0.7433 -1.4711 -2.3683 -0.0016 38 r add 455 0.7676 0.8126 -0.0451 243 210 0\n",
        "1661 0.7433 -1.4709 -2.3683 -0.0025 49 r add 554 0.7270 0.8207 -0.0937 244 211 0\n",
        "1103 0.7432 -1.4713 -2.3683 -0.0029 54 r add 368 0.7003 0.7568 -0.0565 245 212 0"
       ]
      },
      {
       "output_type": "stream",
       "stream": "stdout",
       "text": [
        "\n",
        "2388 0.7431 -1.4713 -2.3683 -0.0022 17 r add 796 0.6887 0.7518 -0.0631 246 213 0\n",
        "341 0.7429 -1.4703 -2.3683 -0.0043 9 r add 114 0.7871 0.8086 -0.0215 247 214 0\n",
        "1378 0.7429 -1.4708 -2.3683 -0.0014 19 r add 460 0.7724 0.7796 -0.0072 248 215 0\n",
        "1544 0.7429 -1.4707 -2.3683 -0.0008 12 r add 515 0.7181 0.7560 -0.0379 249 216 0\n",
        "1157 0.7428 -1.4704 -2.3683 -0.0010 17 r add 386 0.6864 0.7518 -0.0654 250 217 0"
       ]
      },
      {
       "output_type": "stream",
       "stream": "stdout",
       "text": [
        "\n",
        "1285 0.7428 -1.4693 -2.3683 -0.0011 27 r add 429 0.7125 0.7235 -0.0109 251 218 0\n",
        "1080 0.7427 -1.4697 -2.3683 -0.0020 70 r add 360 0.7317 0.7830 -0.0513 252 219 0\n",
        "2286 0.7426 -1.4696 -2.3683 -0.0039 5 r add 762 0.7059 0.7176 -0.0117 253 220 0\n",
        "1541 0.7425 -1.4687 -2.3683 -0.0030 49 r add 514 0.7204 0.8207 -0.1003 254 221 0\n",
        "598 0.7425 -1.4682 -2.3683 -0.0010 10 r add 200 0.7833 0.7869 -0.0036 255 222 0"
       ]
      },
      {
       "output_type": "stream",
       "stream": "stdout",
       "text": [
        "\n",
        "287 0.7424 -1.4688 -2.3683 -0.0020 33 r add 96 0.7590 0.7680 -0.0090 256 223 0\n",
        "1387 0.7423 -1.4692 -2.3683 -0.0030 53 r add 463 0.7983 0.8447 -0.0464 257 224 0\n",
        "1299 0.7422 -1.4689 -2.3683 -0.0029 15 r add 433 0.6701 0.7972 -0.1271 258 225 0\n",
        "1478 0.7422 -1.4690 -2.3683 -0.0011 71 r add 493 0.7669 0.7861 -0.0192 259 226 0"
       ]
      },
      {
       "output_type": "stream",
       "stream": "stdout",
       "text": [
        "\n",
        "2090 0.7421 -1.4682 -2.3683 -0.0017 16 r add 697 0.7288 0.7556 -0.0268 260 227 0\n",
        "51 0.7420 -1.4687 -2.3683 -0.0029 73 r add 17 0.7073 0.7238 -0.0165 261 228 0\n",
        "962 0.7420 -1.4676 -2.3683 -0.0026 40 r add 321 0.7966 0.8006 -0.0040 262 229 0\n",
        "1448 0.7419 -1.4676 -2.3683 -0.0030 15 r add 483 0.6624 0.7972 -0.1348 263 230 0"
       ]
      },
      {
       "output_type": "stream",
       "stream": "stdout",
       "text": [
        "\n",
        "1711 0.7418 -1.4676 -2.3683 -0.0024 53 r add 571 0.7922 0.8447 -0.0525 264 231 0\n",
        "1234 0.7417 -1.4674 -2.3683 -0.0020 46 r add 412 0.7382 0.8210 -0.0828 265 232 0\n",
        "1772 0.7417 -1.4668 -2.3683 -0.0018 67 r add 591 0.7195 0.7233 -0.0039 266 233 0\n",
        "1457 0.7416 -1.4670 -2.3683 -0.0015 53 r add 486 0.7883 0.8447 -0.0564 267 234 0\n",
        "730 0.7415 -1.4668 -2.3683 -0.0025 53 r add 244 0.7822 0.8447 -0.0625 268 235 0"
       ]
      },
      {
       "output_type": "stream",
       "stream": "stdout",
       "text": [
        "\n",
        "1668 0.7415 -1.4672 -2.3683 -0.0016 30 r add 556 0.7525 0.7714 -0.0188 269 236 0\n",
        "102 0.7413 -1.4676 -2.3683 -0.0033 12 r add 34 0.7095 0.7560 -0.0465 270 237 0\n",
        "1574 0.7413 -1.4675 -2.3683 -0.0011 71 r add 525 0.7643 0.7861 -0.0217 271 238 0\n",
        "731 0.7412 -1.4674 -2.3683 -0.0024 16 r add 244 0.7228 0.7556 -0.0328 272 239 0\n",
        "283 0.7411 -1.4677 -2.3683 -0.0036 21 r add 95 0.7199 0.7917 -0.0717 273 240 0"
       ]
      },
      {
       "output_type": "stream",
       "stream": "stdout",
       "text": [
        "\n",
        "776 0.7410 -1.4670 -2.3683 -0.0021 71 r add 259 0.7598 0.7861 -0.0263 274 241 0\n",
        "1469 0.7410 -1.4674 -2.3683 -0.0019 68 r add 490 0.7297 0.7635 -0.0338 275 242 0\n",
        "1649 0.7409 -1.4671 -2.3683 -0.0033 46 r add 550 0.7300 0.8210 -0.0910 276 243 0\n",
        "2157 0.7408 -1.4675 -2.3683 -0.0025 7 r add 719 0.7055 0.7664 -0.0609 277 244 0"
       ]
      },
      {
       "output_type": "stream",
       "stream": "stdout",
       "text": [
        "\n",
        "1883 0.7407 -1.4677 -2.3683 -0.0032 53 r add 628 0.7737 0.8447 -0.0710 278 245 0\n",
        "650 0.7406 -1.4660 -2.3683 -0.0029 23 r add 217 0.7435 0.7490 -0.0055 279 246 0\n",
        "1908 0.7405 -1.4662 -2.3683 -0.0035 21 r add 636 0.7108 0.7917 -0.0808 280 247 0\n",
        "1491 0.7404 -1.4657 -2.3683 -0.0029 72 r add 497 0.7617 0.7901 -0.0284 281 248 0\n",
        "669 0.7403 -1.4659 -2.3683 -0.0028 67 r add 223 0.7122 0.7233 -0.0112 282 249 0"
       ]
      },
      {
       "output_type": "stream",
       "stream": "stdout",
       "text": [
        "\n",
        "422 0.7402 -1.4652 -2.3683 -0.0032 71 r add 141 0.7525 0.7861 -0.0336 283 250 0\n",
        "2401 0.7401 -1.4649 -2.3683 -0.0024 21 r add 801 0.7052 0.7917 -0.0865 284 251 0\n",
        "668 0.7401 -1.4653 -2.3683 -0.0009 21 r add 223 0.7024 0.7917 -0.0892 285 252 0\n",
        "1549 0.7401 -1.4650 -2.3683 -0.0005 70 r add 517 0.7308 0.7830 -0.0523 286 253 0"
       ]
      },
      {
       "output_type": "stream",
       "stream": "stdout",
       "text": [
        "\n",
        "1542 0.7400 -1.4621 -2.3683 -0.0033 3 r add 514 0.7869 0.8073 -0.0205 287 254 0\n",
        "736 0.7399 -1.4624 -2.3683 -0.0028 7 r add 246 0.6980 0.7664 -0.0684 288 255 0\n",
        "1841 0.7398 -1.4619 -2.3683 -0.0017 27 r add 614 0.7088 0.7235 -0.0146 289 256 0\n",
        "1109 0.7398 -1.4624 -2.3683 -0.0020 69 r add 370 0.7485 0.7922 -0.0438 290 257 0\n",
        "1430 0.7397 -1.4621 -2.3683 -0.0019 12 r add 477 0.7049 0.7560 -0.0511 291 258 0"
       ]
      },
      {
       "output_type": "stream",
       "stream": "stdout",
       "text": [
        "\n",
        "1748 0.7397 -1.4621 -2.3683 -0.0006 31 r add 583 0.7403 0.7565 -0.0162 292 259 0\n",
        "1619 0.7396 -1.4596 -2.3683 -0.0034 26 r add 540 0.7295 0.7351 -0.0056 293 260 0\n",
        "2037 0.7395 -1.4584 -2.3683 -0.0045 50 r add 679 0.7355 0.7457 -0.0102 294 261 0\n",
        "800 0.7394 -1.4587 -2.3683 -0.0010 49 r add 267 0.7175 0.8207 -0.1033 295 262 0\n",
        "2094 0.7394 -1.4584 -2.3683 -0.0021 38 r add 698 0.7625 0.8126 -0.0502 296 263 0"
       ]
      },
      {
       "output_type": "stream",
       "stream": "stdout",
       "text": [
        "\n",
        "881 0.7392 -1.4585 -2.3683 -0.0045 51 r add 294 0.7290 0.7618 -0.0327 297 264 0\n",
        "170 0.7392 -1.4588 -2.3683 -0.0016 70 r add 57 0.7265 0.7830 -0.0565 298 265 0\n",
        "620 0.7391 -1.4583 -2.3683 -0.0029 12 r add 207 0.6980 0.7560 -0.0580 299 266 0"
       ]
      },
      {
       "output_type": "stream",
       "stream": "stdout",
       "text": [
        "\n",
        "2197 0.7390 -1.4587 -2.3683 -0.0008 16 r add 733 0.7203 0.7556 -0.0353 300 267 0\n",
        "218 0.7390 -1.4591 -2.3683 -0.0019 49 r add 73 0.7125 0.8207 -0.1082 302 268 1\n",
        "1507 0.7389 -1.4594 -2.3683 -0.0007 54 r add 503 0.6980 0.7568 -0.0588 303 269 0"
       ]
      },
      {
       "output_type": "stream",
       "stream": "stdout",
       "text": [
        "\n",
        "1031 0.7389 -1.4595 -2.3683 -0.0000 39 r add 344 0.7516 0.8007 -0.0491 304 270 0\n",
        "619 0.7389 -1.4590 -2.3683 -0.0025 70 r add 207 0.7207 0.7830 -0.0623 305 271 0\n",
        "1025 0.7388 -1.4586 -2.3683 -0.0031 7 r add 342 0.6904 0.7664 -0.0760 306 272 0\n",
        "1768 0.7387 -1.4566 -2.3683 -0.0026 71 r add 590 0.7467 0.7861 -0.0393 308 273 1"
       ]
      },
      {
       "output_type": "stream",
       "stream": "stdout",
       "text": [
        "\n",
        "2154 0.7386 -1.4570 -2.3683 -0.0028 12 r add 718 0.6903 0.7560 -0.0657 309 274 0\n",
        "775 0.7385 -1.4566 -2.3683 -0.0030 49 r add 259 0.7050 0.8207 -0.1157 310 275 0\n",
        "1539 0.7385 -1.4568 -2.3683 -0.0010 71 r add 513 0.7439 0.7861 -0.0422 311 276 0\n",
        "2427 0.7384 -1.4566 -2.3683 -0.0014 49 r add 809 0.7018 0.8207 -0.1189 312 277 0"
       ]
      },
      {
       "output_type": "stream",
       "stream": "stdout",
       "text": [
        "\n",
        "663 0.7383 -1.4560 -2.3683 -0.0025 17 r add 221 0.6805 0.7518 -0.0713 313 278 0\n",
        "1899 0.7382 -1.4547 -2.3683 -0.0035 61 r add 633 0.7357 0.7434 -0.0077 314 279 0\n",
        "153 0.7381 -1.4540 -2.3683 -0.0032 16 r add 51 0.7129 0.7556 -0.0427 315 280 0\n",
        "659 0.7381 -1.4539 -2.3683 -0.0005 49 r add 220 0.7005 0.8207 -0.1202 316 281 0"
       ]
      },
      {
       "output_type": "stream",
       "stream": "stdout",
       "text": [
        "\n",
        "2476 0.7381 -1.4539 -2.3683 -0.0003 5 c add 7 0.7050 0.7176 -0.0126 317 282 0\n",
        "527 0.7381 -1.4542 -2.3683 -0.0014 19 r add 176 0.7685 0.7796 -0.0111 318 283 0\n",
        "185 0.7380 -1.4547 -2.3683 -0.0014 57 r add 62 0.7326 0.7415 -0.0089 319 284 0\n",
        "967 0.7379 -1.4549 -2.3683 -0.0024 18 r add 323 0.7980 0.8238 -0.0259 321 285 1\n",
        "808 0.7378 -1.4554 -2.3683 -0.0030 68 r add 270 0.7214 0.7635 -0.0420 322 286 0"
       ]
      },
      {
       "output_type": "stream",
       "stream": "stdout",
       "text": [
        "\n",
        "251 0.7377 -1.4557 -2.3683 -0.0029 46 r add 84 0.7220 0.8210 -0.0991 323 287 0\n",
        "2513 0.7376 -1.4557 -2.3683 -0.0019 59 c add 19 0.6606 0.6656 -0.0050 324 288 0\n",
        "2497 0.7376 -1.4557 -2.3683 -0.0011 32 c remove 14 0.7452 0.7521 -0.0069 325 289 0\n",
        "26 0.7375 -1.4555 -2.3683 -0.0015 19 r add 9 0.7578 0.7796 -0.0218 327 290 1\n",
        "2442 0.7375 -1.4554 -2.3683 -0.0025 15 r add 814 0.6559 0.7972 -0.1413 328 291 0"
       ]
      },
      {
       "output_type": "stream",
       "stream": "stdout",
       "text": [
        "\n",
        "1160 0.7374 -1.4549 -2.3683 -0.0025 17 r add 387 0.6745 0.7518 -0.0772 329 292 0\n",
        "121 0.7373 -1.4551 -2.3683 -0.0013 70 r add 41 0.7191 0.7830 -0.0639 330 293 0\n",
        "1919 0.7373 -1.4556 -2.3683 -0.0004 15 r add 640 0.6533 0.7972 -0.1439 332 294 1"
       ]
      },
      {
       "output_type": "stream",
       "stream": "stdout",
       "text": [
        "\n",
        "1669 0.7372 -1.4556 -2.3683 -0.0018 15 r add 557 0.6485 0.7972 -0.1487 333 295 0\n",
        "2575 0.7372 -1.4556 -2.3683 -0.0019 48 c remove 40 0.7403 0.7454 -0.0050 334 296 0\n",
        "2623 0.7371 -1.4555 -2.3683 -0.0028 49 c add 56 0.6928 0.8207 -0.1279 336 297 1\n",
        "1854 0.7371 -1.4560 -2.3683 -0.0006 40 r add 618 0.7945 0.8006 -0.0061 337 298 0"
       ]
      },
      {
       "output_type": "stream",
       "stream": "stdout",
       "text": [
        "\n",
        "2211 0.7370 -1.4556 -2.3683 -0.0015 15 r add 737 0.6449 0.7972 -0.1523 338 299 0\n",
        "1313 0.7369 -1.4547 -2.3683 -0.0037 57 r add 438 0.7208 0.7415 -0.0207 340 300 1\n",
        "47 0.7369 -1.4548 -2.3683 -0.0001 70 r add 16 0.7202 0.7830 -0.0628 341 301 0"
       ]
      },
      {
       "output_type": "stream",
       "stream": "stdout",
       "text": [
        "\n",
        "2365 0.7368 -1.4551 -2.3683 -0.0013 64 r add 789 0.8210 0.8345 -0.0134 342 302 0\n",
        "574 0.7368 -1.4553 -2.3683 -0.0017 12 r add 192 0.6928 0.7560 -0.0632 343 303 0\n",
        "2559 0.7367 -1.4553 -2.3683 -0.0010 68 c add 34 0.7187 0.7635 -0.0448 344 304 0\n",
        "104 0.7366 -1.4555 -2.3683 -0.0028 12 r add 35 0.6850 0.7560 -0.0710 345 305 0\n",
        "2422 0.7366 -1.4549 -2.3683 -0.0011 64 r add 808 0.8188 0.8345 -0.0156 346 306 0"
       ]
      },
      {
       "output_type": "stream",
       "stream": "stdout",
       "text": [
        "\n",
        "1964 0.7366 -1.4554 -2.3683 -0.0007 40 r add 655 0.7921 0.8006 -0.0085 347 307 0\n",
        "1026 0.7365 -1.4551 -2.3683 -0.0033 17 r add 342 0.6660 0.7518 -0.0858 348 308 0\n",
        "1522 0.7364 -1.4555 -2.3683 -0.0017 54 r add 508 0.6929 0.7568 -0.0639 349 309 0\n",
        "2136 0.7363 -1.4552 -2.3683 -0.0017 12 r add 712 0.6808 0.7560 -0.0751 350 310 0"
       ]
      },
      {
       "output_type": "stream",
       "stream": "stdout",
       "text": [
        "\n",
        "1993 0.7363 -1.4555 -2.3683 -0.0008 49 r add 665 0.6902 0.8207 -0.1305 351 311 0\n",
        "1800 0.7362 -1.4556 -2.3683 -0.0023 7 r add 600 0.6839 0.7664 -0.0824 352 312 0\n",
        "2185 0.7361 -1.4550 -2.3683 -0.0023 9 r add 729 0.7817 0.8086 -0.0270 353 313 0\n",
        "1132 0.7361 -1.4554 -2.3683 -0.0014 16 r add 378 0.7087 0.7556 -0.0470 354 314 0"
       ]
      },
      {
       "output_type": "stream",
       "stream": "stdout",
       "text": [
        "\n",
        "1944 0.7360 -1.4557 -2.3683 -0.0018 21 r add 648 0.6971 0.7917 -0.0946 355 315 0\n",
        "1130 0.7360 -1.4561 -2.3683 -0.0010 53 r add 377 0.7706 0.8447 -0.0741 356 316 0\n",
        "2047 0.7359 -1.4553 -2.3683 -0.0019 16 r add 683 0.7044 0.7556 -0.0512 357 317 0\n",
        "1288 0.7358 -1.4553 -2.3683 -0.0021 70 r add 430 0.7145 0.7830 -0.0685 358 318 0"
       ]
      },
      {
       "output_type": "stream",
       "stream": "stdout",
       "text": [
        "\n",
        "166 0.7358 -1.4549 -2.3683 -0.0015 54 r add 56 0.6894 0.7568 -0.0674 359 319 0\n",
        "131 0.7357 -1.4546 -2.3683 -0.0014 53 r add 44 0.7672 0.8447 -0.0775 360 320 0\n",
        "1167 0.7356 -1.4552 -2.3683 -0.0026 68 r add 389 0.7114 0.7635 -0.0521 363 321 2"
       ]
      },
      {
       "output_type": "stream",
       "stream": "stdout",
       "text": [
        "\n",
        "834 0.7355 -1.4557 -2.3683 -0.0026 20 r add 278 0.7649 0.8079 -0.0431 364 322 0\n",
        "1650 0.7354 -1.4551 -2.3683 -0.0029 17 r add 550 0.6588 0.7518 -0.0930 365 323 0\n",
        "1825 0.7354 -1.4553 -2.3683 -0.0012 10 r add 609 0.7798 0.7869 -0.0071 366 324 0\n",
        "1843 0.7353 -1.4558 -2.3683 -0.0018 28 r add 615 0.7236 0.7292 -0.0056 367 325 0\n",
        "1260 0.7352 -1.4562 -2.3683 -0.0036 47 r add 420 0.7585 0.7778 -0.0194 368 326 0"
       ]
      },
      {
       "output_type": "stream",
       "stream": "stdout",
       "text": [
        "\n",
        "606 0.7352 -1.4559 -2.3683 -0.0002 39 r add 202 0.7546 0.8007 -0.0461 369 327 0\n",
        "2321 0.7351 -1.4548 -2.3683 -0.0030 21 r add 774 0.6905 0.7917 -0.1012 370 328 0\n",
        "1608 0.7351 -1.4541 -2.3683 -0.0013 38 r add 536 0.7599 0.8126 -0.0528 371 329 0\n",
        "2184 0.7349 -1.4541 -2.3683 -0.0035 68 r add 728 0.7020 0.7635 -0.0614 372 330 0"
       ]
      },
      {
       "output_type": "stream",
       "stream": "stdout",
       "text": [
        "\n",
        "1500 0.7349 -1.4543 -2.3683 -0.0021 70 r add 500 0.7085 0.7830 -0.0745 373 331 0\n",
        "1349 0.7349 -1.4547 -2.3683 -0.0002 66 r add 450 0.7354 0.7471 -0.0117 375 332 1\n",
        "2527 0.7348 -1.4547 -2.3683 -0.0003 59 c remove 24 0.6598 0.6656 -0.0057 376 333 0\n",
        "1307 0.7348 -1.4545 -2.3683 -0.0008 51 r add 436 0.7271 0.7618 -0.0346 377 334 0"
       ]
      },
      {
       "output_type": "stream",
       "stream": "stdout",
       "text": [
        "\n",
        "1203 0.7347 -1.4540 -2.3683 -0.0036 65 r add 401 0.7591 0.7713 -0.0122 378 335 0\n",
        "373 0.7346 -1.4537 -2.3683 -0.0022 38 r add 125 0.7524 0.8126 -0.0602 380 336 1\n",
        "2410 0.7345 -1.4532 -2.3683 -0.0025 68 r add 804 0.6959 0.7635 -0.0676 381 337 0\n",
        "2329 0.7344 -1.4536 -2.3683 -0.0025 54 r add 777 0.6822 0.7568 -0.0746 382 338 0"
       ]
      },
      {
       "output_type": "stream",
       "stream": "stdout",
       "text": [
        "\n",
        "1100 0.7344 -1.4535 -2.3683 -0.0013 22 r add 367 0.7037 0.7106 -0.0069 383 339 0\n",
        "694 0.7344 -1.4536 -2.3683 -0.0010 54 r add 232 0.6794 0.7568 -0.0774 384 340 0\n",
        "2454 0.7343 -1.4538 -2.3683 -0.0005 16 r add 818 0.7027 0.7556 -0.0529 385 341 0\n",
        "2478 0.7342 -1.4538 -2.3683 -0.0031 53 c add 7 0.7589 0.8447 -0.0859 386 342 0\n",
        "94 0.7342 -1.4541 -2.3683 -0.0019 54 r add 32 0.6738 0.7568 -0.0830 387 343 0"
       ]
      },
      {
       "output_type": "stream",
       "stream": "stdout",
       "text": [
        "\n",
        "45 0.7341 -1.4544 -2.3683 -0.0018 65 r add 15 0.7539 0.7713 -0.0174 388 344 0\n",
        "1 0.7340 -1.4543 -2.3683 -0.0012 70 r add 1 0.7055 0.7830 -0.0775 389 345 0\n",
        "1147 0.7340 -1.4543 -2.3683 -0.0021 54 r add 383 0.6682 0.7568 -0.0886 390 346 0"
       ]
      },
      {
       "output_type": "stream",
       "stream": "stdout",
       "text": [
        "\n",
        "257 0.7339 -1.4541 -2.3683 -0.0031 57 r add 86 0.7120 0.7415 -0.0295 394 347 3\n",
        "2562 0.7337 -1.4541 -2.3683 -0.0054 1 c remove 35 0.6384 0.6613 -0.0229 395 348 0\n",
        "470 0.7336 -1.4540 -2.3683 -0.0015 49 r add 157 0.6861 0.8207 -0.1346 396 349 0\n",
        "1309 0.7335 -1.4540 -2.3683 -0.0018 70 r add 437 0.7016 0.7830 -0.0814 397 350 0"
       ]
      },
      {
       "output_type": "stream",
       "stream": "stdout",
       "text": [
        "\n",
        "2186 0.7335 -1.4536 -2.3683 -0.0024 21 r add 729 0.6843 0.7917 -0.1074 398 351 0\n",
        "344 0.7334 -1.4534 -2.3683 -0.0027 21 r add 115 0.6672 0.7917 -0.1245 401 352 2"
       ]
      },
      {
       "output_type": "stream",
       "stream": "stdout",
       "text": [
        "\n",
        "291 0.7334 -1.4527 -2.3683 -0.0005 69 r add 97 0.7438 0.7922 -0.0484 403 353 1\n",
        "549 0.7333 -1.4532 -2.3683 -0.0010 64 r add 183 0.8154 0.8345 -0.0190 404 354 0"
       ]
      },
      {
       "output_type": "stream",
       "stream": "stdout",
       "text": [
        "\n",
        "1445 0.7332 -1.4528 -2.3683 -0.0022 15 r add 482 0.6391 0.7972 -0.1581 405 355 0\n",
        "209 0.7331 -1.4532 -2.3683 -0.0021 68 r add 70 0.6894 0.7635 -0.0741 406 356 0\n",
        "1988 0.7331 -1.4532 -2.3683 -0.0013 3 r add 663 0.7831 0.8073 -0.0242 407 357 0\n",
        "2088 0.7330 -1.4540 -2.3683 -0.0021 3 r add 696 0.7761 0.8073 -0.0313 409 358 1"
       ]
      },
      {
       "output_type": "stream",
       "stream": "stdout",
       "text": [
        "\n",
        "2063 0.7329 -1.4535 -2.3683 -0.0031 16 r add 688 0.6946 0.7556 -0.0610 410 359 0\n",
        "226 0.7328 -1.4542 -2.3683 -0.0020 64 r add 76 0.8074 0.8345 -0.0271 412 360 1\n",
        "952 0.7328 -1.4545 -2.3683 -0.0003 16 r add 318 0.6933 0.7556 -0.0623 413 361 0"
       ]
      },
      {
       "output_type": "stream",
       "stream": "stdout",
       "text": [
        "\n",
        "299 0.7328 -1.4543 -2.3683 -0.0001 3 r add 100 0.7737 0.8073 -0.0337 416 362 2\n",
        "1276 0.7327 -1.4535 -2.3683 -0.0029 46 r add 426 0.7090 0.8210 -0.1121 417 363 0\n",
        "2012 0.7326 -1.4533 -2.3683 -0.0017 14 r add 671 0.7533 0.7902 -0.0369 418 364 0"
       ]
      },
      {
       "output_type": "stream",
       "stream": "stdout",
       "text": [
        "\n",
        "294 0.7326 -1.4531 -2.3683 -0.0007 2 r add 98 0.7914 0.8236 -0.0322 419 365 0\n",
        "542 0.7325 -1.4530 -2.3683 -0.0024 49 r add 181 0.6797 0.8207 -0.1410 420 366 0\n",
        "512 0.7325 -1.4534 -2.3683 -0.0011 68 r add 171 0.6857 0.7635 -0.0778 421 367 0\n",
        "1044 0.7324 -1.4531 -2.3683 -0.0013 2 r add 348 0.7881 0.8236 -0.0354 422 368 0"
       ]
      },
      {
       "output_type": "stream",
       "stream": "stdout",
       "text": [
        "\n",
        "2517 0.7324 -1.4531 -2.3683 -0.0003 5 c add 20 0.7043 0.7176 -0.0133 423 369 0\n",
        "1540 0.7323 -1.4524 -2.3683 -0.0024 17 r add 514 0.6531 0.7518 -0.0987 424 370 0\n",
        "1918 0.7323 -1.4528 -2.3553 -0.0023 1 r add 640 0.6315 0.6613 -0.0298 425 371 0\n",
        "855 0.7322 -1.4525 -2.3553 -0.0027 17 r add 285 0.6457 0.7518 -0.1061 426 372 0\n",
        "741 0.7321 -1.4528 -2.3553 -0.0006 49 r add 247 0.6777 0.8207 -0.1430 427 373 0"
       ]
      },
      {
       "output_type": "stream",
       "stream": "stdout",
       "text": [
        "\n",
        "2327 0.7321 -1.4533 -2.3553 -0.0009 28 r add 776 0.7223 0.7292 -0.0069 428 374 0\n",
        "1610 0.7320 -1.4532 -2.3553 -0.0016 9 r add 537 0.7773 0.8086 -0.0313 429 375 0"
       ]
      },
      {
       "output_type": "stream",
       "stream": "stdout",
       "text": [
        "\n",
        "1754 0.7319 -1.4532 -2.3553 -0.0023 17 r add 585 0.6392 0.7518 -0.1126 430 376 0\n",
        "1237 0.7319 -1.4535 -2.3553 -0.0014 54 r add 413 0.6680 0.7568 -0.0888 431 377 0\n",
        "115 0.7318 -1.4536 -2.3553 -0.0009 10 r add 39 0.7771 0.7869 -0.0098 432 378 0\n",
        "1084 0.7318 -1.4541 -2.3553 -0.0018 51 r add 362 0.7214 0.7618 -0.0403 433 379 0"
       ]
      },
      {
       "output_type": "stream",
       "stream": "stdout",
       "text": [
        "\n",
        "215 0.7317 -1.4541 -2.3553 -0.0006 49 r add 72 0.6747 0.8207 -0.1460 435 380 1\n",
        "1716 0.7317 -1.4539 -2.3553 -0.0020 72 r add 572 0.7562 0.7901 -0.0340 436 381 0\n",
        "1262 0.7317 -1.4532 -2.3553 -0.0008 57 r add 421 0.7108 0.7415 -0.0307 437 382 0\n",
        "336 0.7316 -1.4532 -2.3553 -0.0026 19 r add 112 0.7504 0.7796 -0.0292 438 383 0"
       ]
      },
      {
       "output_type": "stream",
       "stream": "stdout",
       "text": [
        "\n",
        "533 0.7315 -1.4526 -2.3553 -0.0019 9 r add 178 0.7725 0.8086 -0.0361 439 384 0\n",
        "155 0.7314 -1.4529 -2.3553 -0.0017 69 r add 52 0.7385 0.7922 -0.0538 440 385 0\n",
        "836 0.7313 -1.4532 -2.3553 -0.0032 69 r add 279 0.7289 0.7922 -0.0634 441 386 0\n",
        "525 0.7313 -1.4535 -2.3553 -0.0002 17 r add 175 0.6382 0.7518 -0.1135 442 387 0"
       ]
      },
      {
       "output_type": "stream",
       "stream": "stdout",
       "text": [
        "\n",
        "876 0.7313 -1.4536 -2.3553 -0.0004 47 r add 292 0.7648 0.7778 -0.0130 443 388 0\n",
        "1905 0.7313 -1.4531 -2.3553 -0.0002 38 r add 635 0.7622 0.8126 -0.0504 444 389 0\n",
        "1428 0.7311 -1.4528 -2.3553 -0.0032 31 r add 476 0.7315 0.7565 -0.0250 445 390 0\n",
        "2301 0.7311 -1.4523 -2.3553 -0.0013 49 r add 767 0.6715 0.8207 -0.1492 446 391 0\n",
        "972 0.7310 -1.4526 -2.3553 -0.0014 16 r add 324 0.6888 0.7556 -0.0668 447 392 0"
       ]
      },
      {
       "output_type": "stream",
       "stream": "stdout",
       "text": [
        "\n",
        "1981 0.7310 -1.4525 -2.3553 -0.0003 3 r add 661 0.7681 0.8073 -0.0393 449 393 1\n",
        "757 0.7309 -1.4529 -2.3553 -0.0030 46 r add 253 0.7001 0.8210 -0.1209 450 394 0\n",
        "1302 0.7309 -1.4516 -2.3553 -0.0022 74 r add 434 0.7516 0.7564 -0.0047 451 395 0"
       ]
      },
      {
       "output_type": "stream",
       "stream": "stdout",
       "text": [
        "\n",
        "849 0.7308 -1.4509 -2.3553 -0.0026 71 r add 283 0.7373 0.7861 -0.0488 452 396 0\n",
        "1416 0.7307 -1.4511 -2.3553 -0.0004 49 r add 472 0.6751 0.8207 -0.1456 453 397 0\n",
        "1997 0.7306 -1.4509 -2.3553 -0.0034 71 r add 666 0.7279 0.7861 -0.0582 454 398 0\n",
        "801 0.7306 -1.4514 -2.3553 -0.0011 66 r add 267 0.7316 0.7471 -0.0155 455 399 0\n",
        "1000 0.7306 -1.4518 -2.3553 -0.0002 72 r add 334 0.7550 0.7901 -0.0352 456 400 0"
       ]
      },
      {
       "output_type": "stream",
       "stream": "stdout",
       "text": [
        "\n",
        "126 0.7305 -1.4508 -2.3553 -0.0021 31 r add 42 0.7270 0.7565 -0.0296 457 401 0\n",
        "2223 0.7304 -1.4503 -2.3553 -0.0030 46 r add 741 0.6922 0.8210 -0.1289 458 402 0\n",
        "1642 0.7303 -1.4501 -2.3553 -0.0023 17 r add 548 0.6320 0.7518 -0.1197 459 403 0\n",
        "1289 0.7303 -1.4500 -2.3553 -0.0011 12 r add 430 0.6778 0.7560 -0.0781 460 404 0"
       ]
      },
      {
       "output_type": "stream",
       "stream": "stdout",
       "text": [
        "\n",
        "550 0.7302 -1.4496 -2.3553 -0.0020 15 r add 184 0.6339 0.7972 -0.1634 461 405 0\n",
        "1816 0.7302 -1.4493 -2.3553 -0.0007 70 r add 606 0.6975 0.7830 -0.0855 462 406 0\n",
        "2072 0.7301 -1.4488 -2.3553 -0.0016 66 r add 691 0.7276 0.7471 -0.0196 463 407 0\n",
        "1224 0.7300 -1.4490 -2.3553 -0.0029 51 r add 408 0.7128 0.7618 -0.0490 464 408 0"
       ]
      },
      {
       "output_type": "stream",
       "stream": "stdout",
       "text": [
        "\n",
        "2255 0.7300 -1.4485 -2.3553 -0.0017 22 r add 752 0.6994 0.7106 -0.0112 465 409 0\n",
        "1492 0.7299 -1.4486 -2.3553 -0.0005 54 r add 498 0.6663 0.7568 -0.0905 466 410 0\n",
        "1616 0.7299 -1.4475 -2.3553 -0.0009 30 r add 539 0.7515 0.7714 -0.0199 467 411 0\n",
        "217 0.7298 -1.4469 -2.3553 -0.0027 71 r add 73 0.7208 0.7861 -0.0653 468 412 0"
       ]
      },
      {
       "output_type": "stream",
       "stream": "stdout",
       "text": [
        "\n",
        "688 0.7297 -1.4470 -2.3553 -0.0019 54 r add 230 0.6606 0.7568 -0.0962 469 413 0\n",
        "1829 0.7297 -1.4471 -2.3553 -0.0003 14 r add 610 0.7522 0.7902 -0.0380 470 414 0\n",
        "193 0.7297 -1.4473 -2.3553 -0.0018 54 r add 65 0.6551 0.7568 -0.1017 471 415 0"
       ]
      },
      {
       "output_type": "stream",
       "stream": "stdout",
       "text": [
        "\n",
        "1909 0.7296 -1.4477 -2.3553 -0.0019 20 r add 637 0.7586 0.8079 -0.0494 473 416 1\n",
        "468 0.7295 -1.4477 -2.3553 -0.0024 67 r add 156 0.7050 0.7233 -0.0184 474 417 0\n",
        "2328 0.7294 -1.4477 -2.3553 -0.0010 27 r add 776 0.7067 0.7235 -0.0168 476 418 1"
       ]
      },
      {
       "output_type": "stream",
       "stream": "stdout",
       "text": [
        "\n",
        "2385 0.7294 -1.4479 -2.3553 -0.0023 7 r add 795 0.6837 0.7664 -0.0827 477 419 0\n",
        "888 0.7293 -1.4481 -2.3553 -0.0012 21 r add 296 0.6634 0.7917 -0.1282 478 420 0\n",
        "2053 0.7292 -1.4475 -2.3553 -0.0018 16 r add 685 0.6842 0.7556 -0.0715 479 421 0\n",
        "1176 0.7291 -1.4469 -2.3553 -0.0036 41 r add 392 0.7221 0.7513 -0.0292 480 422 0"
       ]
      },
      {
       "output_type": "stream",
       "stream": "stdout",
       "text": [
        "\n",
        "14 0.7291 -1.4455 -2.3553 -0.0021 22 r add 5 0.6950 0.7106 -0.0157 481 423 0\n",
        "1421 0.7290 -1.4456 -2.3553 -0.0018 12 r add 474 0.6724 0.7560 -0.0836 482 424 0\n",
        "1839 0.7288 -1.4460 -2.3553 -0.0042 58 r add 613 0.7328 0.7575 -0.0247 483 425 0\n",
        "1395 0.7287 -1.4462 -2.3553 -0.0016 40 r add 465 0.7871 0.8006 -0.0134 484 426 0"
       ]
      },
      {
       "output_type": "stream",
       "stream": "stdout",
       "text": [
        "\n",
        "1730 0.7287 -1.4462 -2.3553 -0.0008 47 r add 577 0.7624 0.7778 -0.0154 485 427 0\n",
        "1714 0.7286 -1.4462 -2.3553 -0.0016 54 r add 572 0.6505 0.7568 -0.1063 486 428 0\n",
        "1454 0.7286 -1.4464 -2.3553 -0.0008 53 r add 485 0.7565 0.8447 -0.0882 487 429 0\n",
        "987 0.7286 -1.4469 -2.3553 -0.0011 23 r add 329 0.7394 0.7490 -0.0096 488 430 0"
       ]
      },
      {
       "output_type": "stream",
       "stream": "stdout",
       "text": [
        "\n",
        "275 0.7284 -1.4464 -2.3553 -0.0031 53 r add 92 0.7481 0.8447 -0.0966 489 431 0\n",
        "1364 0.7284 -1.4469 -2.3553 -0.0007 10 r add 455 0.7746 0.7869 -0.0124 490 432 0\n",
        "1159 0.7284 -1.4467 -2.3553 -0.0012 49 r add 387 0.6719 0.8207 -0.1488 491 433 0\n",
        "2359 0.7283 -1.4470 -2.3553 -0.0011 21 r add 787 0.6597 0.7917 -0.1320 492 434 0"
       ]
      },
      {
       "output_type": "stream",
       "stream": "stdout",
       "text": [
        "\n",
        "2143 0.7282 -1.4468 -2.3553 -0.0028 14 r add 715 0.7443 0.7902 -0.0459 493 435 0\n",
        "195 0.7281 -1.4470 -2.3553 -0.0022 2 r add 65 0.7814 0.8236 -0.0421 494 436 0\n",
        "1959 0.7281 -1.4455 -2.3553 -0.0020 28 r add 653 0.7183 0.7292 -0.0109 495 437 0\n",
        "319 0.7280 -1.4459 -2.3553 -0.0015 2 r add 107 0.7766 0.8236 -0.0470 496 438 0\n",
        "2333 0.7279 -1.4457 -2.3553 -0.0025 46 r add 778 0.6852 0.8210 -0.1359 497 439 0"
       ]
      },
      {
       "output_type": "stream",
       "stream": "stdout",
       "text": [
        "\n",
        "1381 0.7278 -1.4461 -2.3553 -0.0014 3 r add 461 0.7633 0.8073 -0.0441 498 440 0\n",
        "2137 0.7278 -1.4460 -2.3553 -0.0010 53 r add 713 0.7452 0.8447 -0.0995 499 441 0\n",
        "1474 0.7277 -1.4454 -2.3553 -0.0026 7 r add 492 0.6763 0.7664 -0.0900 504 442 4"
       ]
      },
      {
       "output_type": "stream",
       "stream": "stdout",
       "text": [
        "\n",
        "2312 0.7276 -1.4457 -2.3553 -0.0022 17 r add 771 0.6251 0.7518 -0.1267 505 443 0\n",
        "1534 0.7275 -1.4443 -2.3553 -0.0031 3 r add 512 0.7561 0.8073 -0.0512 506 444 0\n",
        "756 0.7275 -1.4443 -2.3553 -0.0005 15 r add 252 0.6321 0.7972 -0.1651 507 445 0\n",
        "1112 0.7275 -1.4442 -2.3553 -0.0011 46 r add 371 0.6820 0.8210 -0.1390 508 446 0"
       ]
      },
      {
       "output_type": "stream",
       "stream": "stdout",
       "text": [
        "\n",
        "1625 0.7273 -1.4445 -2.3553 -0.0031 47 r add 542 0.7528 0.7778 -0.0250 509 447 0\n",
        "1689 0.7273 -1.4450 -2.3553 -0.0009 70 r add 563 0.6945 0.7830 -0.0885 511 448 1\n",
        "157 0.7272 -1.4443 -2.3553 -0.0033 40 r add 53 0.7783 0.8006 -0.0222 512 449 0\n",
        "1942 0.7271 -1.4445 -2.3553 -0.0025 15 r add 648 0.6243 0.7972 -0.1729 513 450 0"
       ]
      },
      {
       "output_type": "stream",
       "stream": "stdout",
       "text": [
        "\n",
        "1094 0.7270 -1.4449 -2.3553 -0.0007 40 r add 365 0.7748 0.8006 -0.0258 515 451 1\n",
        "1912 0.7270 -1.4440 -2.3553 -0.0013 61 r add 638 0.7334 0.7434 -0.0100 517 452 1"
       ]
      },
      {
       "output_type": "stream",
       "stream": "stdout",
       "text": [
        "\n",
        "924 0.7270 -1.4441 -2.3553 -0.0007 55 r add 308 0.7990 0.7978 0.0012 518 453 0\n",
        "2434 0.7269 -1.4443 -2.3553 -0.0020 21 r add 812 0.6534 0.7917 -0.1383 519 454 0\n",
        "58 0.7269 -1.4441 -2.3553 -0.0003 70 r add 20 0.6937 0.7830 -0.0893 520 455 0\n",
        "980 0.7268 -1.4445 -2.3553 -0.0026 72 r add 327 0.7468 0.7901 -0.0433 521 456 0\n",
        "1292 0.7267 -1.4448 -2.3553 -0.0016 71 r add 431 0.7153 0.7861 -0.0708 522 457 0"
       ]
      },
      {
       "output_type": "stream",
       "stream": "stdout",
       "text": [
        "\n",
        "130 0.7266 -1.4445 -2.3553 -0.0017 38 r add 44 0.7574 0.8126 -0.0552 523 458 0\n",
        "1228 0.7266 -1.4451 -2.3553 -0.0011 65 r add 410 0.7478 0.7713 -0.0235 526 459 2\n",
        "150 0.7266 -1.4446 -2.3553 -0.0009 54 r add 50 0.6487 0.7568 -0.1081 527 460 0\n",
        "1172 0.7265 -1.4449 -2.3553 -0.0009 53 r add 391 0.7421 0.8447 -0.1026 528 461 0"
       ]
      },
      {
       "output_type": "stream",
       "stream": "stdout",
       "text": [
        "\n",
        "2412 0.7264 -1.4448 -2.3553 -0.0027 21 r add 804 0.6453 0.7917 -0.1463 529 462 0\n",
        "235 0.7263 -1.4451 -2.3553 -0.0014 53 r add 79 0.7376 0.8447 -0.1071 530 463 0\n",
        "944 0.7263 -1.4440 -2.3553 -0.0025 66 r add 315 0.7214 0.7471 -0.0257 531 464 0"
       ]
      },
      {
       "output_type": "stream",
       "stream": "stdout",
       "text": [
        "\n",
        "854 0.7262 -1.4436 -2.3553 -0.0016 49 r add 285 0.6675 0.8207 -0.1532 532 465 0\n",
        "1166 0.7261 -1.4438 -2.3553 -0.0022 15 r add 389 0.6175 0.7972 -0.1798 533 466 0\n",
        "2429 0.7261 -1.4441 -2.3553 -0.0007 17 r add 810 0.6225 0.7518 -0.1292 534 467 0\n",
        "1950 0.7260 -1.4440 -2.3553 -0.0012 15 r add 650 0.6138 0.7972 -0.1834 535 468 0"
       ]
      },
      {
       "output_type": "stream",
       "stream": "stdout",
       "text": [
        "\n",
        "520 0.7260 -1.4445 -2.3553 -0.0010 30 r add 174 0.7477 0.7714 -0.0237 536 469 0\n",
        "2183 0.7259 -1.4438 -2.3553 -0.0021 7 r add 728 0.6710 0.7664 -0.0954 537 470 0\n",
        "313 0.7258 -1.4437 -2.3553 -0.0021 3 r add 105 0.7498 0.8073 -0.0575 538 471 0\n",
        "571 0.7257 -1.4435 -2.3553 -0.0021 49 r add 191 0.6614 0.8207 -0.1593 539 472 0"
       ]
      },
      {
       "output_type": "stream",
       "stream": "stdout",
       "text": [
        "\n",
        "992 0.7257 -1.4437 -2.3553 -0.0003 70 r add 331 0.6926 0.7830 -0.0904 540 473 0\n",
        "2284 0.7257 -1.4439 -2.3553 -0.0008 49 r add 762 0.6587 0.8207 -0.1620 541 474 0\n",
        "1186 0.7256 -1.4439 -2.3553 -0.0016 68 r add 396 0.6808 0.7635 -0.0826 542 475 0\n",
        "1215 0.7255 -1.4436 -2.3553 -0.0022 41 r add 405 0.7160 0.7513 -0.0354 543 476 0"
       ]
      },
      {
       "output_type": "stream",
       "stream": "stdout",
       "text": [
        "\n",
        "928 0.7255 -1.4439 -2.3553 -0.0009 30 r add 310 0.7446 0.7714 -0.0268 544 477 0\n",
        "2396 0.7254 -1.4435 -2.3553 -0.0018 49 r add 799 0.6537 0.8207 -0.1670 545 478 0\n",
        "1197 0.7253 -1.4431 -2.3553 -0.0025 8 r add 399 0.7401 0.7473 -0.0072 546 479 0\n",
        "2153 0.7253 -1.4433 -2.3553 -0.0010 70 r add 718 0.6894 0.7830 -0.0936 547 480 0"
       ]
      },
      {
       "output_type": "stream",
       "stream": "stdout",
       "text": [
        "\n",
        "1230 0.7253 -1.4438 -2.3553 -0.0006 9 r add 410 0.7701 0.8086 -0.0385 548 481 0\n",
        "1379 0.7252 -1.4440 -2.3553 -0.0003 54 r add 460 0.6472 0.7568 -0.1095 549 482 0\n",
        "1603 0.7252 -1.4443 -2.3553 -0.0009 3 r add 535 0.7467 0.8073 -0.0607 550 483 0\n",
        "2288 0.7251 -1.4444 -2.3553 -0.0024 3 r add 763 0.7394 0.8073 -0.0680 551 484 0"
       ]
      },
      {
       "output_type": "stream",
       "stream": "stdout",
       "text": [
        "\n",
        "852 0.7250 -1.4440 -2.3553 -0.0025 71 r add 284 0.7081 0.7861 -0.0780 552 485 0\n",
        "1221 0.7250 -1.4436 -2.3553 -0.0010 54 r add 407 0.6446 0.7568 -0.1122 553 486 0\n",
        "1705 0.7250 -1.4437 -2.3553 -0.0007 70 r add 569 0.6873 0.7830 -0.0957 554 487 0\n",
        "1069 0.7249 -1.4434 -2.3553 -0.0012 70 r add 357 0.6841 0.7830 -0.0989 555 488 0\n",
        "2277 0.7248 -1.4428 -2.3553 -0.0023 39 r add 759 0.7483 0.8007 -0.0524 556 489 0"
       ]
      },
      {
       "output_type": "stream",
       "stream": "stdout",
       "text": [
        "\n",
        "325 0.7248 -1.4430 -2.3553 -0.0016 71 r add 109 0.7029 0.7861 -0.0832 557 490 0\n",
        "509 0.7247 -1.4428 -2.3553 -0.0010 53 r add 170 0.7348 0.8447 -0.1099 558 491 0\n",
        "2416 0.7246 -1.4432 -2.3553 -0.0028 51 r add 806 0.7037 0.7618 -0.0580 559 492 0\n",
        "1666 0.7246 -1.4435 -2.3553 -0.0001 39 r add 556 0.7477 0.8007 -0.0530 560 493 0"
       ]
      },
      {
       "output_type": "stream",
       "stream": "stdout",
       "text": [
        "\n",
        "2447 0.7245 -1.4434 -2.3553 -0.0024 47 r add 816 0.7454 0.7778 -0.0324 561 494 0\n",
        "81 0.7244 -1.4438 -2.3553 -0.0019 7 r add 27 0.6648 0.7664 -0.1016 562 495 0\n",
        "856 0.7243 -1.4440 -2.3553 -0.0019 68 r add 286 0.6748 0.7635 -0.0887 563 496 0\n",
        "1652 0.7243 -1.4436 -2.3553 -0.0016 15 r add 551 0.6095 0.7972 -0.1877 564 497 0"
       ]
      },
      {
       "output_type": "stream",
       "stream": "stdout",
       "text": [
        "\n",
        "2089 0.7243 -1.4426 -2.3553 -0.0003 10 r add 697 0.7751 0.7869 -0.0119 565 498 0\n",
        "1464 0.7242 -1.4430 -2.3553 -0.0011 72 r add 488 0.7428 0.7901 -0.0474 566 499 0\n",
        "1968 0.7241 -1.4424 -2.3553 -0.0021 47 r add 656 0.7399 0.7778 -0.0379 567 500 0\n",
        "264 0.7240 -1.4413 -2.3553 -0.0031 57 r add 88 0.7025 0.7415 -0.0390 568 501 0\n",
        "2134 0.7239 -1.4403 -2.3553 -0.0037 20 r add 712 0.7402 0.8079 -0.0677 569 502 0"
       ]
      },
      {
       "output_type": "stream",
       "stream": "stdout",
       "text": [
        "\n",
        "577 0.7239 -1.4400 -2.3553 -0.0010 20 r add 193 0.7376 0.8079 -0.0704 570 503 0\n",
        "2404 0.7238 -1.4404 -2.3553 -0.0016 65 r add 802 0.7423 0.7713 -0.0290 571 504 0\n",
        "2332 0.7237 -1.4396 -2.3553 -0.0019 18 r add 778 0.7934 0.8238 -0.0304 572 505 0\n",
        "2237 0.7236 -1.4392 -2.3553 -0.0027 68 r add 746 0.6671 0.7635 -0.0964 573 506 0"
       ]
      },
      {
       "output_type": "stream",
       "stream": "stdout",
       "text": [
        "\n",
        "544 0.7236 -1.4391 -2.3553 -0.0019 7 r add 182 0.6589 0.7664 -0.1074 574 507 0\n",
        "2271 0.7235 -1.4390 -2.3553 -0.0009 54 r add 757 0.6421 0.7568 -0.1147 575 508 0\n",
        "2187 0.7235 -1.4382 -2.3553 -0.0017 7 r add 729 0.6547 0.7664 -0.1116 576 509 0\n",
        "1833 0.7234 -1.4382 -2.3553 -0.0017 31 r add 611 0.7216 0.7565 -0.0349 577 510 0"
       ]
      },
      {
       "output_type": "stream",
       "stream": "stdout",
       "text": [
        "\n",
        "2451 0.7233 -1.4382 -2.3553 -0.0023 47 r add 817 0.7327 0.7778 -0.0451 579 511 1\n",
        "1834 0.7232 -1.4382 -2.3553 -0.0023 38 r add 612 0.7501 0.8126 -0.0625 580 512 0\n",
        "199 0.7232 -1.4384 -2.3553 -0.0003 21 r add 67 0.6435 0.7917 -0.1481 583 513 2"
       ]
      },
      {
       "output_type": "stream",
       "stream": "stdout",
       "text": [
        "\n",
        "1868 0.7231 -1.4387 -2.3553 -0.0009 34 r add 623 0.7327 0.7403 -0.0076 584 514 0\n",
        "2509 0.7231 -1.4387 -2.3553 -0.0017 73 c remove 18 0.7021 0.7238 -0.0217 585 515 0\n",
        "1212 0.7230 -1.4387 -2.3553 -0.0010 7 r add 404 0.6519 0.7664 -0.1145 586 516 0\n",
        "897 0.7230 -1.4385 -2.3553 -0.0015 57 r add 299 0.6982 0.7415 -0.0433 587 517 0\n",
        "713 0.7229 -1.4386 -2.3553 -0.0014 7 r add 238 0.6476 0.7664 -0.1188 588 518 0"
       ]
      },
      {
       "output_type": "stream",
       "stream": "stdout",
       "text": [
        "\n",
        "32 0.7229 -1.4385 -2.3553 -0.0016 9 r add 11 0.7653 0.8086 -0.0433 589 519 0\n",
        "1405 0.7228 -1.4387 -2.3553 -0.0015 16 r add 469 0.6790 0.7556 -0.0766 590 520 0\n",
        "2020 0.7227 -1.4387 -2.3553 -0.0021 30 r add 674 0.7380 0.7714 -0.0334 591 521 0\n",
        "1304 0.7227 -1.4372 -2.3553 -0.0008 51 r add 435 0.7033 0.7618 -0.0585 592 522 0"
       ]
      },
      {
       "output_type": "stream",
       "stream": "stdout",
       "text": [
        "\n",
        "1767 0.7227 -1.4370 -2.3553 -0.0007 49 r add 589 0.6518 0.8207 -0.1689 593 523 0\n",
        "263 0.7226 -1.4365 -2.3553 -0.0013 2 r add 88 0.7716 0.8236 -0.0519 595 524 1\n",
        "2579 0.7226 -1.4365 -2.3553 -0.0007 2 c add 41 0.7694 0.8236 -0.0542 596 525 0\n",
        "1053 0.7225 -1.4368 -2.3553 -0.0013 12 r add 351 0.6677 0.7560 -0.0882 597 526 0"
       ]
      },
      {
       "output_type": "stream",
       "stream": "stdout",
       "text": [
        "\n",
        "864 0.7224 -1.4365 -2.3553 -0.0027 7 r add 288 0.6397 0.7664 -0.1267 598 527 0\n",
        "751 0.7224 -1.4367 -2.3553 -0.0016 7 r add 251 0.6341 0.7664 -0.1322 599 528 0\n",
        "1118 0.7223 -1.4369 -2.3553 -0.0020 47 r add 373 0.7260 0.7778 -0.0518 600 529 0"
       ]
      },
      {
       "output_type": "stream",
       "stream": "stdout",
       "text": [
        "\n",
        "957 0.7222 -1.4363 -2.3553 -0.0017 21 r add 319 0.6391 0.7917 -0.1526 601 530 0\n",
        "2406 0.7221 -1.4363 -2.3553 -0.0018 30 r add 802 0.7324 0.7714 -0.0390 602 531 0\n",
        "2112 0.7221 -1.4363 -2.3553 -0.0019 10 r add 704 0.7691 0.7869 -0.0178 603 532 0\n",
        "1189 0.7220 -1.4365 -2.3553 -0.0013 46 r add 397 0.6786 0.8210 -0.1424 604 533 0"
       ]
      },
      {
       "output_type": "stream",
       "stream": "stdout",
       "text": [
        "\n",
        "750 0.7220 -1.4366 -2.3553 -0.0001 49 r add 250 0.6513 0.8207 -0.1694 605 534 0\n",
        "372 0.7220 -1.4371 -2.3553 -0.0002 34 r add 124 0.7314 0.7403 -0.0089 606 535 0\n",
        "1275 0.7219 -1.4368 -2.3553 -0.0011 15 r add 425 0.6066 0.7972 -0.1906 607 536 0\n",
        "946 0.7219 -1.4370 -2.3553 -0.0011 49 r add 316 0.6475 0.8207 -0.1732 608 537 0\n",
        "887 0.7219 -1.4372 -2.3553 -0.0002 15 r add 296 0.6024 0.7972 -0.1948 610 538 1"
       ]
      },
      {
       "output_type": "stream",
       "stream": "stdout",
       "text": [
        "\n",
        "1638 0.7218 -1.4374 -2.3553 -0.0017 21 r add 546 0.6334 0.7917 -0.1582 611 539 0\n",
        "458 0.7218 -1.4369 -2.3553 -0.0010 64 r add 153 0.8046 0.8345 -0.0298 613 540 1\n",
        "1116 0.7217 -1.4362 -2.3553 -0.0025 41 r add 372 0.7091 0.7513 -0.0422 614 541 0\n",
        "2334 0.7216 -1.4363 -2.3553 -0.0025 41 r add 778 0.7011 0.7513 -0.0503 615 542 0"
       ]
      },
      {
       "output_type": "stream",
       "stream": "stdout",
       "text": [
        "\n",
        "1995 0.7214 -1.4366 -2.3553 -0.0030 66 r add 665 0.7114 0.7471 -0.0358 616 543 0\n",
        "1586 0.7213 -1.4370 -2.3553 -0.0019 69 r add 529 0.7221 0.7922 -0.0701 617 544 0\n",
        "80 0.7213 -1.4376 -2.3553 -0.0006 41 r add 27 0.6948 0.7513 -0.0565 622 545 4"
       ]
      },
      {
       "output_type": "stream",
       "stream": "stdout",
       "text": [
        "\n",
        "1782 0.7213 -1.4378 -2.3553 -0.0003 54 r add 594 0.6399 0.7568 -0.1169 623 546 0\n",
        "1511 0.7212 -1.4381 -2.3553 -0.0007 2 r add 504 0.7707 0.8236 -0.0528 624 547 0\n",
        "229 0.7212 -1.4384 -2.3553 -0.0001 27 r add 77 0.7058 0.7235 -0.0177 626 548 1"
       ]
      },
      {
       "output_type": "stream",
       "stream": "stdout",
       "text": [
        "\n",
        "1755 0.7212 -1.4385 -2.3553 -0.0012 7 r add 585 0.6300 0.7664 -0.1364 627 549 0\n",
        "764 0.7211 -1.4386 -2.3553 -0.0013 49 r add 255 0.6447 0.8207 -0.1760 628 550 0\n",
        "1005 0.7211 -1.4382 -2.3553 -0.0011 54 r add 335 0.6369 0.7568 -0.1199 629 551 0\n",
        "2069 0.7210 -1.4377 -2.3553 -0.0024 16 r add 690 0.6720 0.7556 -0.0836 630 552 0"
       ]
      },
      {
       "output_type": "stream",
       "stream": "stdout",
       "text": [
        "\n",
        "2061 0.7209 -1.4372 -2.3553 -0.0016 71 r add 687 0.6986 0.7861 -0.0875 631 553 0\n",
        "474 0.7209 -1.4369 -2.3553 -0.0004 21 r add 158 0.6326 0.7917 -0.1590 632 554 0\n",
        "1354 0.7209 -1.4362 -2.3553 -0.0013 54 r add 452 0.6337 0.7568 -0.1231 633 555 0\n",
        "308 0.7209 -1.4361 -2.3553 -0.0005 16 r add 103 0.6705 0.7556 -0.0851 634 556 0"
       ]
      },
      {
       "output_type": "stream",
       "stream": "stdout",
       "text": [
        "\n",
        "191 0.7208 -1.4351 -2.3553 -0.0026 2 r add 64 0.7638 0.8236 -0.0597 635 557 0\n",
        "1266 0.7208 -1.4347 -2.3553 -0.0005 9 r add 422 0.7643 0.8086 -0.0443 636 558 0\n",
        "917 0.7207 -1.4353 -2.3553 -0.0002 17 r add 306 0.6199 0.7518 -0.1319 640 559 3"
       ]
      },
      {
       "output_type": "stream",
       "stream": "stdout",
       "text": [
        "\n",
        "1808 0.7207 -1.4354 -2.3553 -0.0012 70 r add 603 0.6801 0.7830 -0.1029 641 560 0\n",
        "1777 0.7207 -1.4354 -2.3553 -0.0005 49 r add 593 0.6430 0.8207 -0.1777 642 561 0\n",
        "1551 0.7206 -1.4354 -2.3553 -0.0006 38 r add 517 0.7458 0.8126 -0.0669 645 562 2"
       ]
      },
      {
       "output_type": "stream",
       "stream": "stdout",
       "text": [
        "\n",
        "1209 0.7206 -1.4356 -2.3553 -0.0004 17 r add 403 0.6183 0.7518 -0.1335 646 563 0\n",
        "1335 0.7206 -1.4357 -2.3553 -0.0012 71 r add 445 0.7058 0.7861 -0.0803 647 564 0\n",
        "183 0.7205 -1.4353 -2.3553 -0.0014 12 r add 61 0.6640 0.7560 -0.0920 648 565 0"
       ]
      },
      {
       "output_type": "stream",
       "stream": "stdout",
       "text": [
        "\n",
        "52 0.7204 -1.4358 -2.3553 -0.0015 19 r add 18 0.7420 0.7796 -0.0376 649 566 0\n",
        "1528 0.7204 -1.4359 -2.3553 -0.0004 54 r add 510 0.6323 0.7568 -0.1245 650 567 0\n",
        "488 0.7204 -1.4356 -2.3553 -0.0009 2 r add 163 0.7597 0.8236 -0.0639 652 568 1"
       ]
      },
      {
       "output_type": "stream",
       "stream": "stdout",
       "text": [
        "\n",
        "654 0.7203 -1.4360 -2.3553 -0.0024 19 r add 218 0.7336 0.7796 -0.0460 653 569 0\n",
        "883 0.7202 -1.4359 -2.3553 -0.0020 38 r add 295 0.7394 0.8126 -0.0732 654 570 0\n",
        "213 0.7201 -1.4353 -2.3553 -0.0021 7 r add 71 0.6242 0.7664 -0.1422 655 571 0\n",
        "1972 0.7200 -1.4354 -2.3553 -0.0016 68 r add 658 0.6616 0.7635 -0.1018 656 572 0"
       ]
      },
      {
       "output_type": "stream",
       "stream": "stdout",
       "text": [
        "\n",
        "1876 0.7200 -1.4356 -2.3553 -0.0013 68 r add 626 0.6572 0.7635 -0.1063 657 573 0\n",
        "240 0.7198 -1.4357 -2.3553 -0.0031 48 r add 80 0.7300 0.7454 -0.0153 658 574 0\n",
        "2602 0.7197 -1.4357 -2.3553 -0.0022 18 c add 49 0.7864 0.8238 -0.0374 659 575 0\n",
        "1849 0.7197 -1.4358 -2.3553 -0.0011 54 r add 617 0.6286 0.7568 -0.1282 660 576 0"
       ]
      },
      {
       "output_type": "stream",
       "stream": "stdout",
       "text": [
        "\n",
        "1078 0.7196 -1.4359 -2.3553 -0.0026 30 r add 360 0.7237 0.7714 -0.0477 661 577 0\n",
        "1757 0.7196 -1.4357 -2.3553 -0.0007 26 r add 586 0.7275 0.7351 -0.0076 662 578 0\n",
        "15 0.7195 -1.4357 -2.3553 -0.0006 12 r add 5 0.6621 0.7560 -0.0939 663 579 0\n",
        "1626 0.7195 -1.4357 -2.3553 -0.0013 14 r add 542 0.7436 0.7902 -0.0466 664 580 0"
       ]
      },
      {
       "output_type": "stream",
       "stream": "stdout",
       "text": [
        "\n",
        "2146 0.7194 -1.4357 -2.3553 -0.0010 54 r add 716 0.6254 0.7568 -0.1314 665 581 0\n",
        "936 0.7194 -1.4360 -2.3553 -0.0013 39 r add 312 0.7473 0.8007 -0.0535 666 582 0\n",
        "1976 0.7193 -1.4352 -2.3553 -0.0008 2 r add 659 0.7584 0.8236 -0.0651 667 583 0\n",
        "2231 0.7193 -1.4351 -2.3553 -0.0012 31 r add 744 0.7160 0.7565 -0.0405 671 584 3"
       ]
      },
      {
       "output_type": "stream",
       "stream": "stdout",
       "text": [
        "\n",
        "2182 0.7192 -1.4349 -2.3553 -0.0017 9 r add 728 0.7593 0.8086 -0.0494 672 585 0\n",
        "2093 0.7191 -1.4347 -2.3497 -0.0020 31 r add 698 0.7075 0.7565 -0.0490 674 586 1\n",
        "807 0.7191 -1.4348 -2.3497 -0.0013 17 r add 269 0.6137 0.7518 -0.1380 675 587 0"
       ]
      },
      {
       "output_type": "stream",
       "stream": "stdout",
       "text": [
        "\n",
        "504 0.7190 -1.4345 -2.3497 -0.0019 74 r add 168 0.7461 0.7564 -0.0103 676 588 0\n",
        "1651 0.7189 -1.4344 -2.3497 -0.0018 68 r add 551 0.6514 0.7635 -0.1121 677 589 0\n",
        "958 0.7189 -1.4344 -2.3497 -0.0011 7 r add 320 0.6279 0.7664 -0.1385 678 590 0"
       ]
      },
      {
       "output_type": "stream",
       "stream": "stdout",
       "text": [
        "\n",
        "2407 0.7188 -1.4341 -2.3497 -0.0019 15 r add 803 0.5967 0.7972 -0.2006 679 591 0\n",
        "2008 0.7187 -1.4339 -2.3497 -0.0025 14 r add 670 0.7359 0.7902 -0.0544 681 592 1\n",
        "1012 0.7186 -1.4340 -2.3497 -0.0013 15 r add 338 0.5923 0.7972 -0.2049 682 593 0"
       ]
      },
      {
       "output_type": "stream",
       "stream": "stdout",
       "text": [
        "\n",
        "1402 0.7186 -1.4343 -2.3497 -0.0009 21 r add 468 0.6291 0.7917 -0.1625 683 594 0\n",
        "370 0.7186 -1.4347 -2.3497 -0.0003 10 r add 124 0.7675 0.7869 -0.0195 684 595 0\n",
        "1505 0.7185 -1.4350 -2.3497 -0.0009 2 r add 502 0.7525 0.8236 -0.0711 685 596 0\n",
        "2066 0.7184 -1.4331 -2.3497 -0.0034 66 r add 689 0.7032 0.7471 -0.0440 686 597 0"
       ]
      },
      {
       "output_type": "stream",
       "stream": "stdout",
       "text": [
        "\n",
        "347 0.7184 -1.4333 -2.3497 -0.0008 12 r add 116 0.6593 0.7560 -0.0967 687 598 0\n",
        "513 0.7183 -1.4334 -2.3497 -0.0010 17 r add 171 0.6104 0.7518 -0.1414 688 599 0\n",
        "2593 0.7182 -1.4334 -2.3497 -0.0023 18 c add 46 0.7788 0.8238 -0.0451 689 600 0\n",
        "901 0.7182 -1.4333 -2.3497 -0.0014 53 r add 301 0.7302 0.8447 -0.1145 690 601 0\n",
        "2316 0.7182 -1.4334 -2.3497 -0.0003 49 r add 772 0.6435 0.8207 -0.1772 691 602 0"
       ]
      },
      {
       "output_type": "stream",
       "stream": "stdout",
       "text": [
        "\n",
        "2034 0.7182 -1.4317 -2.3497 -0.0011 50 r add 678 0.7267 0.7457 -0.0190 694 603 2\n",
        "1724 0.7181 -1.4311 -2.3497 -0.0017 66 r add 575 0.6983 0.7471 -0.0489 695 604 0\n",
        "639 0.7180 -1.4311 -2.3497 -0.0017 31 r add 213 0.7019 0.7565 -0.0546 696 605 0"
       ]
      },
      {
       "output_type": "stream",
       "stream": "stdout",
       "text": [
        "\n",
        "2141 0.7180 -1.4312 -2.3497 -0.0011 71 r add 714 0.7020 0.7861 -0.0841 698 606 1\n",
        "1406 0.7179 -1.4314 -2.3497 -0.0016 53 r add 469 0.7246 0.8447 -0.1201 699 607 0\n",
        "806 0.7178 -1.4316 -2.3497 -0.0012 69 r add 269 0.7211 0.7922 -0.0712 700 608 0"
       ]
      },
      {
       "output_type": "stream",
       "stream": "stdout",
       "text": [
        "\n",
        "1104 0.7178 -1.4320 -2.3497 -0.0003 19 r add 368 0.7321 0.7796 -0.0475 701 609 0\n",
        "368 0.7177 -1.4310 -2.3497 -0.0024 64 r add 123 0.7989 0.8345 -0.0356 702 610 0\n",
        "161 0.7177 -1.4312 -2.3497 -0.0003 15 r add 54 0.5912 0.7972 -0.2061 703 611 0\n",
        "1425 0.7177 -1.4312 -2.3497 -0.0001 70 r add 475 0.6800 0.7830 -0.1030 704 612 0"
       ]
      },
      {
       "output_type": "stream",
       "stream": "stdout",
       "text": [
        "\n",
        "2213 0.7176 -1.4315 -2.3497 -0.0027 67 r add 738 0.6958 0.7233 -0.0276 705 613 0\n",
        "581 0.7175 -1.4322 -2.3497 -0.0012 26 r add 194 0.7216 0.7351 -0.0135 707 614 1\n",
        "393 0.7174 -1.4323 -2.3497 -0.0023 9 r add 131 0.7518 0.8086 -0.0568 709 615 1"
       ]
      },
      {
       "output_type": "stream",
       "stream": "stdout",
       "text": [
        "\n",
        "329 0.7173 -1.4309 -2.3497 -0.0035 25 r add 110 0.7551 0.7715 -0.0164 710 616 0\n",
        "1312 0.7172 -1.4309 -2.3497 -0.0012 53 r add 438 0.7208 0.8447 -0.1239 711 617 0\n",
        "2403 0.7172 -1.4307 -2.3497 -0.0013 63 r add 801 0.7090 0.7126 -0.0036 712 618 0\n",
        "2033 0.7171 -1.4302 -2.3497 -0.0014 16 r add 678 0.6668 0.7556 -0.0888 713 619 0"
       ]
      },
      {
       "output_type": "stream",
       "stream": "stdout",
       "text": [
        "\n",
        "2299 0.7171 -1.4297 -2.3497 -0.0001 68 r add 767 0.6443 0.7635 -0.1191 715 620 1\n",
        "1643 0.7171 -1.4298 -2.3497 -0.0013 21 r add 548 0.6248 0.7917 -0.1669 716 621 0"
       ]
      },
      {
       "output_type": "stream",
       "stream": "stdout",
       "text": [
        "\n",
        "430 0.7170 -1.4294 -2.3497 -0.0011 46 r add 144 0.6735 0.8210 -0.1475 717 622 0\n",
        "1536 0.7170 -1.4289 -2.3497 -0.0004 71 r add 512 0.7087 0.7861 -0.0774 718 623 0\n",
        "1779 0.7170 -1.4291 -2.3497 -0.0010 21 r add 593 0.6214 0.7917 -0.1703 719 624 0\n",
        "703 0.7170 -1.4292 -2.3497 -0.0006 49 r add 235 0.6413 0.8207 -0.1794 720 625 0"
       ]
      },
      {
       "output_type": "stream",
       "stream": "stdout",
       "text": [
        "\n",
        "258 0.7169 -1.4289 -2.3497 -0.0012 2 r add 86 0.7490 0.8236 -0.0746 721 626 0\n",
        "2049 0.7169 -1.4281 -2.3497 -0.0019 10 r add 683 0.7624 0.7869 -0.0245 722 627 0\n",
        "673 0.7168 -1.4284 -2.3497 -0.0005 2 r add 225 0.7471 0.8236 -0.0765 723 628 0"
       ]
      },
      {
       "output_type": "stream",
       "stream": "stdout",
       "text": [
        "\n",
        "500 0.7168 -1.4285 -2.3497 -0.0014 64 r add 167 0.7939 0.8345 -0.0405 726 629 2\n",
        "420 0.7167 -1.4279 -2.3497 -0.0007 40 r add 140 0.7699 0.8006 -0.0306 727 630 0"
       ]
      },
      {
       "output_type": "stream",
       "stream": "stdout",
       "text": [
        "\n",
        "722 0.7167 -1.4276 -2.3497 -0.0010 54 r add 241 0.6195 0.7568 -0.1373 728 631 0\n",
        "2308 0.7166 -1.4269 -2.3497 -0.0017 7 r add 770 0.6243 0.7664 -0.1420 729 632 0\n",
        "1720 0.7166 -1.4268 -2.3497 -0.0017 53 r add 574 0.7154 0.8447 -0.1293 730 633 0\n",
        "2502 0.7165 -1.4268 -2.3497 -0.0006 6 c remove 15 0.7321 0.7339 -0.0018 731 634 0\n",
        "580 0.7165 -1.4272 -2.3497 -0.0014 40 r add 194 0.7648 0.8006 -0.0358 732 635 0\n",
        "178 0.7164 -1.4265 -2.3497 -0.0016 30 r add 60 0.7196 0.7714 -0.0518 733 636 0"
       ]
      },
      {
       "output_type": "stream",
       "stream": "stdout",
       "text": [
        "\n",
        "844 0.7164 -1.4262 -2.3497 -0.0015 46 r add 282 0.6689 0.8210 -0.1521 734 637 0\n",
        "1319 0.7163 -1.4263 -2.3497 -0.0013 54 r add 440 0.6152 0.7568 -0.1416 735 638 0\n",
        "186 0.7162 -1.4267 -2.3497 -0.0021 19 r add 62 0.7246 0.7796 -0.0550 736 639 0\n",
        "1932 0.7162 -1.4269 -2.3497 -0.0010 2 r add 644 0.7434 0.8236 -0.0801 737 640 0\n",
        "2595 0.7160 -1.4269 -2.3497 -0.0032 30 c add 46 0.7090 0.7714 -0.0624 738 641 0\n",
        "996 0.7160 -1.4272 -2.3497 -0.0005 58 r add 332 0.7308 0.7575 -0.0267 739 642 0"
       ]
      },
      {
       "output_type": "stream",
       "stream": "stdout",
       "text": [
        "\n",
        "2413 0.7159 -1.4271 -2.3497 -0.0014 51 r add 805 0.6990 0.7618 -0.0628 740 643 0\n",
        "1697 0.7159 -1.4268 -2.3497 -0.0013 70 r add 566 0.6750 0.7830 -0.1081 741 644 0\n",
        "2140 0.7158 -1.4269 -2.3497 -0.0010 10 r add 714 0.7590 0.7869 -0.0279 742 645 0\n",
        "410 0.7158 -1.4266 -2.3497 -0.0006 12 r add 137 0.6577 0.7560 -0.0982 743 646 0"
       ]
      },
      {
       "output_type": "stream",
       "stream": "stdout",
       "text": [
        "\n",
        "2269 0.7158 -1.4267 -2.3388 -0.0004 1 r add 757 0.6325 0.6613 -0.0289 744 647 0\n",
        "2035 0.7157 -1.4264 -2.3337 -0.0015 16 r add 679 0.6611 0.7556 -0.0945 746 648 1"
       ]
      },
      {
       "output_type": "stream",
       "stream": "stdout",
       "text": [
        "\n",
        "189 0.7157 -1.4257 -2.3337 -0.0018 57 r add 63 0.6933 0.7415 -0.0482 747 649 0\n",
        "1436 0.7157 -1.4257 -2.3337 -0.0002 15 r add 479 0.5904 0.7972 -0.2068 748 650 0\n",
        "1429 0.7156 -1.4260 -2.3337 -0.0004 30 r add 477 0.7073 0.7714 -0.0640 749 651 0\n",
        "2386 0.7156 -1.4260 -2.3337 -0.0012 15 r add 796 0.5863 0.7972 -0.2109 750 652 0\n",
        "2200 0.7156 -1.4259 -2.3337 -0.0003 70 r add 734 0.6716 0.7830 -0.1114 752 653 1"
       ]
      },
      {
       "output_type": "stream",
       "stream": "stdout",
       "text": [
        "\n",
        "689 0.7155 -1.4261 -2.3337 -0.0007 2 r add 230 0.7397 0.8236 -0.0839 754 654 1\n",
        "317 0.7154 -1.4250 -2.3337 -0.0029 3 r add 106 0.7316 0.8073 -0.0758 755 655 0\n",
        "261 0.7154 -1.4240 -2.3337 -0.0017 57 r add 87 0.6891 0.7415 -0.0524 756 656 0"
       ]
      },
      {
       "output_type": "stream",
       "stream": "stdout",
       "text": [
        "\n",
        "1272 0.7153 -1.4234 -2.3337 -0.0024 28 r add 424 0.7112 0.7292 -0.0180 757 657 0\n",
        "200 0.7153 -1.4237 -2.3337 -0.0005 68 r add 67 0.6423 0.7635 -0.1211 758 658 0\n",
        "1582 0.7152 -1.4236 -2.3337 -0.0011 49 r add 528 0.6377 0.8207 -0.1830 760 659 1"
       ]
      },
      {
       "output_type": "stream",
       "stream": "stdout",
       "text": [
        "\n",
        "1181 0.7151 -1.4238 -2.3337 -0.0017 21 r add 394 0.6154 0.7917 -0.1762 761 660 0\n",
        "840 0.7150 -1.4241 -2.3337 -0.0018 30 r add 280 0.7006 0.7714 -0.0707 762 661 0\n",
        "1873 0.7150 -1.4242 -2.3337 -0.0007 68 r add 625 0.6398 0.7635 -0.1237 763 662 0\n",
        "1015 0.7150 -1.4242 -2.3337 -0.0009 49 r add 339 0.6347 0.8207 -0.1860 764 663 0\n",
        "380 0.7149 -1.4242 -2.3337 -0.0011 14 r add 127 0.7325 0.7902 -0.0578 765 664 0"
       ]
      },
      {
       "output_type": "stream",
       "stream": "stdout",
       "text": [
        "\n",
        "2051 0.7149 -1.4237 -2.3337 -0.0011 38 r add 684 0.7364 0.8126 -0.0762 766 665 0\n",
        "1519 0.7149 -1.4238 -2.3337 -0.0000 54 r add 507 0.6150 0.7568 -0.1418 767 666 0\n",
        "1963 0.7148 -1.4239 -2.3337 -0.0020 51 r add 655 0.6920 0.7618 -0.0698 768 667 0\n",
        "1245 0.7148 -1.4238 -2.3337 -0.0009 3 r add 415 0.7287 0.8073 -0.0787 769 668 0"
       ]
      },
      {
       "output_type": "stream",
       "stream": "stdout",
       "text": [
        "\n",
        "1813 0.7147 -1.4241 -2.3337 -0.0017 46 r add 605 0.6628 0.8210 -0.1582 770 669 0\n",
        "1320 0.7146 -1.4242 -2.3337 -0.0017 2 r add 440 0.7336 0.8236 -0.0899 771 670 0\n",
        "1889 0.7145 -1.4238 -2.3337 -0.0013 16 r add 630 0.6562 0.7556 -0.0994 773 671 1\n",
        "966 0.7145 -1.4238 -2.3337 -0.0010 20 r add 322 0.7341 0.8079 -0.0738 774 672 0"
       ]
      },
      {
       "output_type": "stream",
       "stream": "stdout",
       "text": [
        "\n",
        "2024 0.7145 -1.4242 -2.3337 -0.0003 65 r add 675 0.7406 0.7713 -0.0307 775 673 0\n",
        "1219 0.7144 -1.4241 -2.3337 -0.0013 27 r add 407 0.7015 0.7235 -0.0220 776 674 0\n",
        "1489 0.7143 -1.4238 -2.3337 -0.0023 20 r add 497 0.7270 0.8079 -0.0810 777 675 0\n",
        "241 0.7143 -1.4238 -2.3337 -0.0011 31 r add 81 0.6983 0.7565 -0.0582 778 676 0"
       ]
      },
      {
       "output_type": "stream",
       "stream": "stdout",
       "text": [
        "\n",
        "2233 0.7142 -1.4240 -2.3337 -0.0013 46 r add 745 0.6581 0.8210 -0.1629 779 677 0\n",
        "2038 0.7141 -1.4236 -2.3337 -0.0019 16 r add 680 0.6505 0.7556 -0.1051 780 678 0\n",
        "643 0.7140 -1.4234 -2.3337 -0.0023 64 r add 215 0.7864 0.8345 -0.0481 781 679 0\n",
        "1640 0.7140 -1.4234 -2.3337 -0.0009 15 r add 547 0.5832 0.7972 -0.2140 782 680 0\n",
        "679 0.7140 -1.4234 -2.3337 -0.0001 54 r add 227 0.6146 0.7568 -0.1422 783 681 0"
       ]
      },
      {
       "output_type": "stream",
       "stream": "stdout",
       "text": [
        "\n",
        "1136 0.7140 -1.4237 -2.3337 -0.0005 16 r add 379 0.6485 0.7556 -0.1071 784 682 0\n",
        "1939 0.7139 -1.4237 -2.3337 -0.0013 15 r add 647 0.5789 0.7972 -0.2183 785 683 0\n",
        "1778 0.7139 -1.4237 -2.3337 -0.0009 7 r add 593 0.6214 0.7664 -0.1450 786 684 0\n",
        "1261 0.7138 -1.4236 -2.3337 -0.0008 54 r add 421 0.6120 0.7568 -0.1448 787 685 0\n",
        "2263 0.7138 -1.4240 -2.3337 -0.0011 30 r add 755 0.6963 0.7714 -0.0751 788 686 0"
       ]
      },
      {
       "output_type": "stream",
       "stream": "stdout",
       "text": [
        "\n",
        "1898 0.7137 -1.4229 -2.3337 -0.0018 26 r add 633 0.7172 0.7351 -0.0180 789 687 0\n",
        "2445 0.7136 -1.4230 -2.3337 -0.0013 7 r add 815 0.6167 0.7664 -0.1496 790 688 0\n",
        "777 0.7136 -1.4231 -2.3337 -0.0010 66 r add 259 0.6947 0.7471 -0.0525 791 689 0\n",
        "1556 0.7136 -1.4234 -2.3337 -0.0005 34 r add 519 0.7281 0.7403 -0.0122 792 690 0"
       ]
      },
      {
       "output_type": "stream",
       "stream": "stdout",
       "text": [
        "\n",
        "1117 0.7135 -1.4229 -2.3337 -0.0012 56 r add 373 0.7599 0.7623 -0.0024 793 691 0\n",
        "1331 0.7134 -1.4233 -2.3337 -0.0020 69 r add 444 0.7138 0.7922 -0.0784 794 692 0\n",
        "1620 0.7134 -1.4227 -2.3337 -0.0018 69 r add 540 0.7083 0.7922 -0.0839 795 693 0\n",
        "59 0.7133 -1.4224 -2.3337 -0.0015 51 r add 20 0.6876 0.7618 -0.0742 796 694 0"
       ]
      },
      {
       "output_type": "stream",
       "stream": "stdout",
       "text": [
        "\n",
        "2300 0.7132 -1.4220 -2.3337 -0.0024 14 r add 767 0.7247 0.7902 -0.0656 797 695 0\n",
        "395 0.7131 -1.4217 -2.3337 -0.0011 49 r add 132 0.6316 0.8207 -0.1891 798 696 0\n",
        "365 0.7131 -1.4219 -2.3337 -0.0000 7 r add 122 0.6164 0.7664 -0.1499 799 697 0\n",
        "1858 0.7131 -1.4218 -2.3337 -0.0014 58 r add 620 0.7258 0.7575 -0.0317 801 698 1"
       ]
      }
     ]
    },
    {
     "cell_type": "code",
     "collapsed": false,
     "input": [],
     "language": "python",
     "metadata": {},
     "outputs": []
    }
   ],
   "metadata": {}
  }
 ]
}
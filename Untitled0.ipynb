{
 "metadata": {
  "language": "Julia",
  "name": "",
  "signature": "sha256:826e1bf2746489f02d8a7e0b7d1c58dead27940d63e4cd510026fb6570c46825"
 },
 "nbformat": 3,
 "nbformat_minor": 0,
 "worksheets": [
  {
   "cells": [
    {
     "cell_type": "code",
     "collapsed": true,
     "input": [
      "using DataFrames\n",
      "include( \"util.jl\" )\n",
      "include( \"NamedMatrix.jl\" )\n",
      "include( \"Bicluster.jl\" )\n",
      "include( \"funcs.jl\" );\n",
      "include( \"scores.jl\" )\n",
      "include( \"init.jl\" )\n",
      "include( \"sequence.jl\" )\n",
      "include( \"floc.jl\" )\n",
      "include( \"meme.jl\" );"
     ],
     "language": "python",
     "metadata": {},
     "outputs": [],
     "prompt_number": 1
    },
    {
     "cell_type": "code",
     "collapsed": false,
     "input": [
      "iter = 1\n",
      "require( \"./params.jl\" )"
     ],
     "language": "python",
     "metadata": {},
     "outputs": [
      {
       "output_type": "stream",
       "stream": "stdout",
       "text": [
        "[-150"
       ]
      },
      {
       "output_type": "stream",
       "stream": "stdout",
       "text": [
        " 10][-250 20][6 24]\n"
       ]
      }
     ],
     "prompt_number": 2
    },
    {
     "cell_type": "code",
     "collapsed": false,
     "input": [
      "ratios = load_ratios( ratios_file );"
     ],
     "language": "python",
     "metadata": {},
     "outputs": [
      {
       "output_type": "stream",
       "stream": "stdout",
       "text": [
        "./Hpy/ratios.tsv\n"
       ]
      },
      {
       "output_type": "stream",
       "stream": "stdout",
       "text": [
        "("
       ]
      },
      {
       "output_type": "stream",
       "stream": "stdout",
       "text": [
        "819,57)\n",
        "("
       ]
      },
      {
       "output_type": "stream",
       "stream": "stdout",
       "text": [
        "819,57)\n"
       ]
      }
     ],
     "prompt_number": 4
    },
    {
     "cell_type": "code",
     "collapsed": false,
     "input": [
      "genome_seqs = load_genome(organism);"
     ],
     "language": "python",
     "metadata": {},
     "outputs": [
      {
       "output_type": "stream",
       "stream": "stdout",
       "text": [
        "(1"
       ]
      },
      {
       "output_type": "stream",
       "stream": "stdout",
       "text": [
        ",3)\n"
       ]
      }
     ],
     "prompt_number": 5
    },
    {
     "cell_type": "code",
     "collapsed": false,
     "input": [
      "anno = load_annos(organism);"
     ],
     "language": "python",
     "metadata": {},
     "outputs": [],
     "prompt_number": 6
    },
    {
     "cell_type": "code",
     "collapsed": false,
     "input": [
      "string_net = load_string_net(organism);"
     ],
     "language": "python",
     "metadata": {},
     "outputs": [
      {
       "output_type": "stream",
       "stream": "stdout",
       "text": [
        "(198156"
       ]
      },
      {
       "output_type": "stream",
       "stream": "stdout",
       "text": [
        ",3)\n"
       ]
      }
     ],
     "prompt_number": 7
    },
    {
     "cell_type": "code",
     "collapsed": false,
     "input": [
      "op_table = load_op_table(organism);"
     ],
     "language": "python",
     "metadata": {},
     "outputs": [],
     "prompt_number": 8
    },
    {
     "cell_type": "code",
     "collapsed": false,
     "input": [
      "all_genes = Dict{ASCIIString,Int64}()\n",
      "for i=keys(ratios.rnames) all_genes[i] = ratios.rnames[i]; end\n",
      "for i=anno[:sysName].data if get( all_genes, i, 0 ) == 0 all_genes[i] = length(all_genes)+1; end; end\n",
      "for i=1:size(string_net,1)\n",
      "    if get( all_genes, string_net[i,1], 0 ) == 0 all_genes[string_net[i,1]] = length(all_genes)+1; end\n",
      "    if get( all_genes, string_net[i,2], 0 ) == 0 all_genes[string_net[i,2]] = length(all_genes)+1; end\n",
      "end\n",
      "if size(op_table,1) > 0\n",
      "    for i=op_table[:SysName1].data if get( all_genes, i, 0 ) == 0 all_genes[i] = length(all_genes)+1; end; end\n",
      "    for i=op_table[:SysName2].data if get( all_genes, i, 0 ) == 0 all_genes[i] = length(all_genes)+1; end; end\n",
      "end\n",
      "println(length(all_genes))"
     ],
     "language": "python",
     "metadata": {},
     "outputs": [
      {
       "output_type": "stream",
       "stream": "stdout",
       "text": [
        "1634\n"
       ]
      }
     ],
     "prompt_number": 9
    },
    {
     "cell_type": "code",
     "collapsed": false,
     "input": [
      "gene_regex = get_regex(collect(keys(all_genes)))"
     ],
     "language": "python",
     "metadata": {},
     "outputs": [
      {
       "metadata": {},
       "output_type": "pyout",
       "prompt_number": 10,
       "text": [
        "\"HP[tr01][6275083149][6725081349][6725083194]m?\""
       ]
      }
     ],
     "prompt_number": 10
    },
    {
     "cell_type": "code",
     "collapsed": false,
     "input": [
      "all_seqs_scan = get_sequences(anno[:sysName].data,anno,genome_seqs,true,op_table,distance_scan,false); \n",
      "all_seqs_scan = all_seqs_scan[ find(all_seqs_scan[:,1].!=\"\"), : ]\n",
      "all_seqs_scan = filter_sequences( all_seqs_scan, distance_scan )\n",
      "\n",
      "allSeqs_fname = \"./$(organism)/allSeqs.fst\"\n",
      "writeFasta( all_seqs_scan, allSeqs_fname ) ## NOTE all_seqs_scan are not used from here on"
     ],
     "language": "python",
     "metadata": {},
     "outputs": [],
     "prompt_number": 11
    },
    {
     "cell_type": "code",
     "collapsed": false,
     "input": [
      "## TODO: remove 'N's from k-mers in counts\n",
      "all_bgCounts = getBgCounts( all_seqs_scan[:seq].data );\n",
      "all_bgFreqs = getBgFreqs( all_bgCounts );  ## TODO: bgFreqs are currently not used in MEME-ing OR MAST-ing."
     ],
     "language": "python",
     "metadata": {},
     "outputs": [
      {
       "metadata": {},
       "output_type": "pyout",
       "prompt_number": 12,
       "text": [
        "Dict{ASCIIString,Float64} with 8900 entries:\n",
        "  \"GGTTTG\" => 0.0004296127941461792\n",
        "  \"TGTTT\"  => 0.002765907997892203\n",
        "  \"GCTGT\"  => 0.0004210991377822572\n",
        "  \"CGATAT\" => 0.00014320426471539307\n",
        "  \"NNNACT\" => 3.580106617884827e-5\n",
        "  \"GGAATT\" => 0.0004145994438131138\n",
        "  \"CACT\"   => 0.0023543921908456096\n",
        "  \"CCGGTT\" => 4.850467030682669e-5\n",
        "  \"RTATA\"  => 2.3010881846024986e-6\n",
        "  \"GAGCAC\" => 4.273030479410922e-5\n",
        "  \"CAGCAG\" => 1.7323096538152387e-5\n",
        "  \"TGACGA\" => 4.273030479410922e-5\n",
        "  \"NATGT\"  => 5.752720461506247e-6\n",
        "  \"ATTTAA\" => 0.0015047996526141708\n",
        "  \"CAACAA\" => 0.00045617487550467955\n",
        "  \"GTTAC\"  => 0.0005257986501816709\n",
        "  \"TAGACT\" => 9.700934061365338e-5\n",
        "  \"ACCCAT\" => 0.00022520025499598103\n",
        "  \"CAAAN\"  => 4.257013141514622e-5\n",
        "  \"GGTCGC\" => 2.771695446104382e-5\n",
        "  \"CCGAC\"  => 7.93875423687862e-5\n",
        "  \"ATTTTT\" => 0.003076581945175864\n",
        "  \"AGCANN\" => 9.23898482034794e-6\n",
        "  \"CCCTTA\" => 0.00047234309894028843\n",
        "  \"NGGTGC\" => 1.1548731025434925e-6\n",
        "  \u22ee        => \u22ee"
       ]
      }
     ],
     "prompt_number": 12
    },
    {
     "cell_type": "code",
     "collapsed": false,
     "input": [
      "reload(\"init.jl\")\n",
      "(ratios, genome_seqs, anno, op_table, string_net, allSeqs_fname, all_bgFreqs, all_genes) = junkey_init(organism, k_clust);"
     ],
     "language": "python",
     "metadata": {},
     "outputs": [
      {
       "output_type": "stream",
       "stream": "stdout",
       "text": [
        "Hpy\n"
       ]
      },
      {
       "output_type": "stream",
       "stream": "stdout",
       "text": [
        "./Hpy/ratios.tsv\n",
        "("
       ]
      },
      {
       "output_type": "stream",
       "stream": "stdout",
       "text": [
        "819,57)\n",
        "("
       ]
      },
      {
       "output_type": "stream",
       "stream": "stdout",
       "text": [
        "819,57)\n"
       ]
      },
      {
       "output_type": "stream",
       "stream": "stdout",
       "text": [
        "("
       ]
      },
      {
       "output_type": "stream",
       "stream": "stdout",
       "text": [
        "1,3)\n"
       ]
      },
      {
       "output_type": "stream",
       "stream": "stdout",
       "text": [
        "("
       ]
      },
      {
       "output_type": "stream",
       "stream": "stdout",
       "text": [
        "198156,3)\n",
        "1634"
       ]
      },
      {
       "output_type": "stream",
       "stream": "stdout",
       "text": [
        "\n",
        "HP[tr01][6275083149][6725081349][6725083194]m?\n"
       ]
      }
     ],
     "prompt_number": 3
    },
    {
     "cell_type": "code",
     "collapsed": false,
     "input": [
      "junkey_code = load_junkey_code(\".\");"
     ],
     "language": "python",
     "metadata": {},
     "outputs": [],
     "prompt_number": 14
    },
    {
     "cell_type": "code",
     "collapsed": false,
     "input": [
      "using Distributions\n",
      "clusters = init_biclusters( ratios, k_clust, \"random\" );"
     ],
     "language": "python",
     "metadata": {},
     "outputs": [],
     "prompt_number": 4
    },
    {
     "cell_type": "code",
     "collapsed": true,
     "input": [
      "clust=clusters[1]\n",
      "resid = bicluster_residue( clust, ratios )\n",
      "println(resid)\n",
      "x=ratios\n",
      "x.x[ 1:size(x.x,1), clust.cols ]\n",
      "get_cluster_expr_rowcol_scores(clust,ratios)\n",
      "iter=10\n",
      "network=string_net\n",
      "net=sub(network,findin(network[:x1],clust.rows))\n",
      "get_cluster_network_row_scores( clust, string_net )\n",
      "reload(\"./meme.jl\")\n",
      "b=clust\n",
      "seqs = get_sequences( rownames(ratios)[b.rows] ) \n",
      "seqs = filter_sequences( seqs, distance_search )\n",
      "meme_out = do_meme(seqs,2,true)\n",
      "println(\"HERE1\")\n",
      "mast_out = do_mast(meme_out,allSeqs_fname,false,true)\n",
      "\n",
      "println(\"HEREXXX\")\n",
      "reload(\"./scores.jl\")\n",
      "clust=re_meme_bicluster(clust)\n",
      "println(\"HEREYYY\")\n",
      "clust=fill_cluster_scores(clust,true)\n",
      "clust.scores_m"
     ],
     "language": "python",
     "metadata": {},
     "outputs": [
      {
       "output_type": "stream",
       "stream": "stdout",
       "text": [
        "0.6613406501370903"
       ]
      },
      {
       "output_type": "stream",
       "stream": "stdout",
       "text": [
        "\n"
       ]
      },
      {
       "output_type": "stream",
       "stream": "stdout",
       "text": [
        "`"
       ]
      },
      {
       "output_type": "stream",
       "stream": "stdout",
       "text": [
        "./progs/meme /tmp/tmp9LqsfL -time 600 -dna -revcomp -maxsize 9999999 -nmotifs 2 -evt 999999 -minw 6 -maxw 24 -mod zoops -nostatus -text`\n"
       ]
      },
      {
       "output_type": "stream",
       "stream": "stdout",
       "text": [
        "HERE1\n"
       ]
      },
      {
       "output_type": "stream",
       "stream": "stdout",
       "text": [
        "`"
       ]
      },
      {
       "output_type": "stream",
       "stream": "stdout",
       "text": [
        "./progs/mast /tmp/tmprLtIvZ ./Hpy/allSeqs.fst -nostatus -stdout -text -brief -ev 999999 -mev 999999 -mt 0.99 -seqp -remcorr`\n"
       ]
      },
      {
       "output_type": "stream",
       "stream": "stdout",
       "text": [
        "HEREXXX\n"
       ]
      },
      {
       "output_type": "stream",
       "stream": "stdout",
       "text": [
        "IN HERE: MOT 2 1 19\n"
       ]
      },
      {
       "output_type": "stream",
       "stream": "stdout",
       "text": [
        "HEREYYY\n"
       ]
      },
      {
       "metadata": {},
       "output_type": "pyout",
       "prompt_number": 5,
       "text": [
        "819-element Array{Float32,1}:\n",
        " 0.0804389\n",
        " 0.0804389\n",
        " 0.0804389\n",
        " 0.0761241\n",
        " 0.0761241\n",
        " 0.0782763\n",
        " 0.0791097\n",
        " 0.0802115\n",
        " 0.0802115\n",
        " 0.0802115\n",
        " 0.0802115\n",
        " 0.0464851\n",
        " 0.0464851\n",
        " \u22ee        \n",
        " 0.0605419\n",
        " 0.0634979\n",
        " 0.0634979\n",
        " 0.0634979\n",
        " 0.0638891\n",
        " 0.0638891\n",
        " 0.0805966\n",
        " 0.0805966\n",
        " 0.0806639\n",
        " 0.0806639\n",
        " 0.0813253\n",
        " 0.0770688"
       ]
      }
     ],
     "prompt_number": 5
    },
    {
     "cell_type": "code",
     "collapsed": true,
     "input": [
      "clusters = fill_all_cluster_scores( clusters, true, true );"
     ],
     "language": "python",
     "metadata": {},
     "outputs": [
      {
       "output_type": "stream",
       "stream": "stdout",
       "text": [
        "1 "
       ]
      },
      {
       "output_type": "stream",
       "stream": "stdout",
       "text": [
        "20 28\n",
        "2 20 28\n",
        "3"
       ]
      },
      {
       "output_type": "stream",
       "stream": "stdout",
       "text": [
        " 20 28\n",
        "4 20 28\n",
        "5"
       ]
      },
      {
       "output_type": "stream",
       "stream": "stdout",
       "text": [
        " 20 28\n",
        "6 20 28\n",
        "7"
       ]
      },
      {
       "output_type": "stream",
       "stream": "stdout",
       "text": [
        " 20 28\n",
        "8 20 28\n",
        "9"
       ]
      },
      {
       "output_type": "stream",
       "stream": "stdout",
       "text": [
        " 20 28\n",
        "10 20 28\n",
        "11"
       ]
      },
      {
       "output_type": "stream",
       "stream": "stdout",
       "text": [
        " 20 28\n",
        "12 20 28\n",
        "13"
       ]
      },
      {
       "output_type": "stream",
       "stream": "stdout",
       "text": [
        " 20 28\n",
        "14 20 28\n",
        "15"
       ]
      },
      {
       "output_type": "stream",
       "stream": "stdout",
       "text": [
        " 20 28\n",
        "16 20 28\n",
        "17"
       ]
      },
      {
       "output_type": "stream",
       "stream": "stdout",
       "text": [
        " 20 28\n",
        "18 20 28\n",
        "19"
       ]
      },
      {
       "output_type": "stream",
       "stream": "stdout",
       "text": [
        " 20 28\n",
        "20 20 28\n",
        "21"
       ]
      },
      {
       "output_type": "stream",
       "stream": "stdout",
       "text": [
        " 20 28\n",
        "22 20 28\n",
        "23"
       ]
      },
      {
       "output_type": "stream",
       "stream": "stdout",
       "text": [
        " 20 28\n",
        "24 20 28\n",
        "25"
       ]
      },
      {
       "output_type": "stream",
       "stream": "stdout",
       "text": [
        " 20 28\n",
        "26 20 28\n",
        "27"
       ]
      },
      {
       "output_type": "stream",
       "stream": "stdout",
       "text": [
        " 20 28\n",
        "28 20 28\n",
        "29"
       ]
      },
      {
       "output_type": "stream",
       "stream": "stdout",
       "text": [
        " 20 28\n",
        "30 20 28\n",
        "31"
       ]
      },
      {
       "output_type": "stream",
       "stream": "stdout",
       "text": [
        " 20 28\n",
        "32 20 28\n",
        "33"
       ]
      },
      {
       "output_type": "stream",
       "stream": "stdout",
       "text": [
        " 20 28\n",
        "34 20 28\n",
        "35"
       ]
      },
      {
       "output_type": "stream",
       "stream": "stdout",
       "text": [
        " 20 28\n",
        "36 20 28\n",
        "37"
       ]
      },
      {
       "output_type": "stream",
       "stream": "stdout",
       "text": [
        " 20 28\n",
        "38 20 28\n",
        "39"
       ]
      },
      {
       "output_type": "stream",
       "stream": "stdout",
       "text": [
        " 20 28\n",
        "40 20 28\n",
        "41"
       ]
      },
      {
       "output_type": "stream",
       "stream": "stdout",
       "text": [
        " 20 28\n",
        "42 20 28\n",
        "43"
       ]
      },
      {
       "output_type": "stream",
       "stream": "stdout",
       "text": [
        " 20 28\n",
        "44 20 28\n",
        "45"
       ]
      },
      {
       "output_type": "stream",
       "stream": "stdout",
       "text": [
        " 20 28\n",
        "46 20 28\n",
        "47"
       ]
      },
      {
       "output_type": "stream",
       "stream": "stdout",
       "text": [
        " 20 28\n",
        "48 20 28\n",
        "49"
       ]
      },
      {
       "output_type": "stream",
       "stream": "stdout",
       "text": [
        " 20 28\n",
        "50 20 28\n",
        "51"
       ]
      },
      {
       "output_type": "stream",
       "stream": "stdout",
       "text": [
        " 20 28\n",
        "52 20 28\n",
        "53"
       ]
      },
      {
       "output_type": "stream",
       "stream": "stdout",
       "text": [
        " 20 28\n",
        "54 20 28\n",
        "55"
       ]
      },
      {
       "output_type": "stream",
       "stream": "stdout",
       "text": [
        " 20 28\n",
        "56 20 28\n",
        "57"
       ]
      },
      {
       "output_type": "stream",
       "stream": "stdout",
       "text": [
        " 20 28\n",
        "58 20 28\n",
        "59"
       ]
      },
      {
       "output_type": "stream",
       "stream": "stdout",
       "text": [
        " 20 28\n",
        "60 20 28\n",
        "61"
       ]
      },
      {
       "output_type": "stream",
       "stream": "stdout",
       "text": [
        " 20 28\n",
        "62 20 28\n",
        "63"
       ]
      },
      {
       "output_type": "stream",
       "stream": "stdout",
       "text": [
        " 20 28\n",
        "64 20 28\n",
        "65"
       ]
      },
      {
       "output_type": "stream",
       "stream": "stdout",
       "text": [
        " 20 28\n",
        "66 20 28\n",
        "67"
       ]
      },
      {
       "output_type": "stream",
       "stream": "stdout",
       "text": [
        " 20 28\n",
        "68 20 28\n",
        "69"
       ]
      },
      {
       "output_type": "stream",
       "stream": "stdout",
       "text": [
        " 20 28\n",
        "70 20 28\n",
        "71"
       ]
      },
      {
       "output_type": "stream",
       "stream": "stdout",
       "text": [
        " 20 28\n",
        "72 20 28\n",
        "73"
       ]
      },
      {
       "output_type": "stream",
       "stream": "stdout",
       "text": [
        " 20 28\n",
        "74 20 28\n",
        "75"
       ]
      },
      {
       "output_type": "stream",
       "stream": "stdout",
       "text": [
        " 20 28\n"
       ]
      }
     ],
     "prompt_number": 6
    },
    {
     "cell_type": "code",
     "collapsed": true,
     "input": [
      "reload(\"./floc.jl\")\n",
      "reload(\"./scores.jl\")\n",
      "reload(\"./funcs.jl\")\n",
      "scores=get_floc_scores_all(clusters)\n",
      "#println(head(scores))\n",
      "#dfs_r = sub( scores, scores[:is_row_col] .== 'r' )\n",
      "#tmp = groupby( dfs_r, :row_col_ind ) ## Cool!\n",
      "get_floc_scores_best(scores)"
     ],
     "language": "python",
     "metadata": {},
     "outputs": [
      {
       "html": [
        "<table class=\"data-frame\"><tr><th></th><th>row_col_ind</th><th>is_in</th><th>is_row_col</th><th>k</th><th>score</th><th>score_n</th><th>score_m</th><th>score_v</th><th>score_g</th><th>combined</th></tr><tr><th>1</th><td>1</td><td>false</td><td>r</td><td>70</td><td>-0.6940823</td><td>0.067355365</td><td>0.0</td><td>-0.4</td><td>0.7</td><td>-1.5188026</td></tr><tr><th>2</th><td>1</td><td>false</td><td>r</td><td>30</td><td>-0.5298759</td><td>0.07880445</td><td>0.0</td><td>-0.4</td><td>0.7</td><td>-1.2733456</td></tr><tr><th>3</th><td>1</td><td>false</td><td>r</td><td>51</td><td>-0.49572122</td><td>0.078586146</td><td>0.0</td><td>-0.4</td><td>0.7</td><td>-1.2167885</td></tr><tr><th>4</th><td>2</td><td>false</td><td>r</td><td>70</td><td>-0.611005</td><td>0.023964403</td><td>0.0</td><td>-0.4</td><td>-0.3</td><td>-1.3442211</td></tr><tr><th>5</th><td>2</td><td>false</td><td>r</td><td>12</td><td>-0.580262</td><td>0.027592584</td><td>0.0</td><td>-0.4</td><td>-0.3</td><td>-1.3014086</td></tr><tr><th>6</th><td>2</td><td>false</td><td>r</td><td>30</td><td>-0.43815073</td><td>0.102544256</td><td>0.0</td><td>-0.4</td><td>-0.3</td><td>-1.2266474</td></tr><tr><th>7</th><td>3</td><td>false</td><td>r</td><td>14</td><td>-0.5235981</td><td>0.0042914557</td><td>0.0</td><td>-0.4</td><td>-0.3</td><td>-1.1590266</td></tr><tr><th>8</th><td>3</td><td>false</td><td>r</td><td>10</td><td>-0.41211188</td><td>-0.02118932</td><td>0.0</td><td>-0.4</td><td>-0.3</td><td>-0.9219923</td></tr><tr><th>9</th><td>3</td><td>false</td><td>r</td><td>38</td><td>-0.38988733</td><td>-0.0075563765</td><td>0.0</td><td>-0.4</td><td>-0.3</td><td>-0.91434604</td></tr><tr><th>10</th><td>4</td><td>false</td><td>r</td><td>70</td><td>-0.53381306</td><td>0.0055858153</td><td>0.0</td><td>-0.4</td><td>1.7</td><td>-1.0711378</td></tr><tr><th>11</th><td>4</td><td>false</td><td>r</td><td>54</td><td>-0.51113075</td><td>-0.002441078</td><td>0.0</td><td>-0.4</td><td>1.7</td><td>-1.0168954</td></tr><tr><th>12</th><td>4</td><td>false</td><td>r</td><td>12</td><td>-0.34393305</td><td>0.045227937</td><td>0.0</td><td>-0.4</td><td>1.7</td><td>-0.8431873</td></tr><tr><th>13</th><td>5</td><td>false</td><td>r</td><td>54</td><td>-0.56397074</td><td>-0.006616393</td><td>0.0</td><td>-0.4</td><td>-1.3</td><td>-1.2559496</td></tr><tr><th>14</th><td>5</td><td>false</td><td>r</td><td>22</td><td>-0.3198685</td><td>0.08412038</td><td>0.0</td><td>-0.4</td><td>-1.3</td><td>-1.0470902</td></tr><tr><th>15</th><td>5</td><td>false</td><td>r</td><td>12</td><td>-0.35799208</td><td>0.01619535</td><td>0.0</td><td>-0.4</td><td>-1.3</td><td>-0.9659364</td></tr><tr><th>16</th><td>6</td><td>false</td><td>r</td><td>49</td><td>-0.44009823</td><td>-0.021189272</td><td>0.0</td><td>-0.4</td><td>-0.3</td><td>-0.96795654</td></tr><tr><th>17</th><td>6</td><td>false</td><td>r</td><td>63</td><td>-0.29952613</td><td>-0.021189297</td><td>0.0</td><td>-0.4</td><td>-0.3</td><td>-0.73708355</td></tr><tr><th>18</th><td>6</td><td>false</td><td>r</td><td>66</td><td>-0.2871487</td><td>-0.0211893</td><td>0.0</td><td>-0.4</td><td>-0.3</td><td>-0.7167551</td></tr><tr><th>19</th><td>7</td><td>false</td><td>r</td><td>66</td><td>-0.52530396</td><td>-0.0211893</td><td>0.0</td><td>-0.4</td><td>-0.3</td><td>-1.1078969</td></tr><tr><th>20</th><td>7</td><td>false</td><td>r</td><td>25</td><td>-0.48597047</td><td>-0.02118929</td><td>0.0</td><td>-0.4</td><td>-0.3</td><td>-1.0432963</td></tr><tr><th>21</th><td>7</td><td>false</td><td>r</td><td>53</td><td>-0.4747846</td><td>-0.021189287</td><td>0.0</td><td>-0.4</td><td>-0.3</td><td>-1.0249249</td></tr><tr><th>22</th><td>8</td><td>false</td><td>r</td><td>54</td><td>-0.5541848</td><td>0.029284898</td><td>0.0</td><td>-0.4</td><td>1.7</td><td>-1.1547564</td></tr><tr><th>23</th><td>8</td><td>false</td><td>r</td><td>2</td><td>-0.37723482</td><td>0.13417503</td><td>0.0</td><td>-0.4</td><td>1.7</td><td>-1.0861431</td></tr><tr><th>24</th><td>8</td><td>false</td><td>r</td><td>57</td><td>-0.364494</td><td>0.11231976</td><td>0.0</td><td>-0.4</td><td>1.7</td><td>-1.0189599</td></tr><tr><th>25</th><td>9</td><td>false</td><td>r</td><td>12</td><td>-0.43745476</td><td>0.00030748162</td><td>0.0</td><td>-0.4</td><td>1.7</td><td>-0.9017088</td></tr><tr><th>26</th><td>9</td><td>false</td><td>r</td><td>19</td><td>-0.35702768</td><td>0.013420029</td><td>0.0</td><td>-0.4</td><td>1.7</td><td>-0.7973703</td></tr><tr><th>27</th><td>9</td><td>false</td><td>r</td><td>70</td><td>-0.28916776</td><td>0.063585036</td><td>0.0</td><td>-0.4</td><td>1.7</td><td>-0.7920956</td></tr><tr><th>28</th><td>10</td><td>false</td><td>r</td><td>56</td><td>-0.4125387</td><td>0.043604836</td><td>0.0</td><td>-0.4</td><td>2.7</td><td>-0.8987258</td></tr><tr><th>29</th><td>10</td><td>false</td><td>r</td><td>9</td><td>-0.33384606</td><td>0.070771486</td><td>0.0</td><td>-0.4</td><td>2.7</td><td>-0.82698226</td></tr><tr><th>30</th><td>10</td><td>false</td><td>r</td><td>64</td><td>-0.34614804</td><td>0.04752087</td><td>0.0</td><td>-0.4</td><td>2.7</td><td>-0.79797554</td></tr><tr><th>&vellip;</th><td>&vellip;</td><td>&vellip;</td><td>&vellip;</td><td>&vellip;</td><td>&vellip;</td><td>&vellip;</td><td>&vellip;</td><td>&vellip;</td><td>&vellip;</td><td>&vellip;</td></tr></table>"
       ],
       "metadata": {},
       "output_type": "pyout",
       "prompt_number": 31,
       "text": [
        "2628x10 DataFrame\n",
        "| Row  | row_col_ind | is_in | is_row_col | k  | score     | score_n     |\n",
        "|------|-------------|-------|------------|----|-----------|-------------|\n",
        "| 1    | 1           | false | 'r'        | 70 | -0.694082 | 0.0673554   |\n",
        "| 2    | 1           | false | 'r'        | 30 | -0.529876 | 0.0788044   |\n",
        "| 3    | 1           | false | 'r'        | 51 | -0.495721 | 0.0785861   |\n",
        "| 4    | 2           | false | 'r'        | 70 | -0.611005 | 0.0239644   |\n",
        "| 5    | 2           | false | 'r'        | 12 | -0.580262 | 0.0275926   |\n",
        "| 6    | 2           | false | 'r'        | 30 | -0.438151 | 0.102544    |\n",
        "| 7    | 3           | false | 'r'        | 14 | -0.523598 | 0.00429146  |\n",
        "| 8    | 3           | false | 'r'        | 10 | -0.412112 | -0.0211893  |\n",
        "| 9    | 3           | false | 'r'        | 38 | -0.389887 | -0.00755638 |\n",
        "| 10   | 4           | false | 'r'        | 70 | -0.533813 | 0.00558582  |\n",
        "| 11   | 4           | false | 'r'        | 54 | -0.511131 | -0.00244108 |\n",
        "\u22ee\n",
        "| 2617 | 54          | false | 'c'        | 39 | -0.297876 | NaN         |\n",
        "| 2618 | 54          | false | 'c'        | 56 | -0.245361 | NaN         |\n",
        "| 2619 | 54          | false | 'c'        | 48 | -0.209557 | NaN         |\n",
        "| 2620 | 55          | true  | 'c'        | 23 | -0.298735 | NaN         |\n",
        "| 2621 | 55          | true  | 'c'        | 26 | -0.203415 | NaN         |\n",
        "| 2622 | 55          | true  | 'c'        | 64 | -0.165324 | NaN         |\n",
        "| 2623 | 56          | false | 'c'        | 49 | -0.267711 | NaN         |\n",
        "| 2624 | 56          | false | 'c'        | 71 | -0.249203 | NaN         |\n",
        "| 2625 | 56          | false | 'c'        | 39 | -0.221575 | NaN         |\n",
        "| 2626 | 57          | false | 'c'        | 56 | -0.349574 | NaN         |\n",
        "| 2627 | 57          | false | 'c'        | 71 | -0.334673 | NaN         |\n",
        "| 2628 | 57          | false | 'c'        | 12 | -0.307325 | NaN         |\n",
        "\n",
        "| Row  | score_m | score_v    | score_g | combined  |\n",
        "|------|---------|------------|---------|-----------|\n",
        "| 1    | 0.0     | -0.4       | 0.7     | -1.5188   |\n",
        "| 2    | 0.0     | -0.4       | 0.7     | -1.27335  |\n",
        "| 3    | 0.0     | -0.4       | 0.7     | -1.21679  |\n",
        "| 4    | 0.0     | -0.4       | -0.3    | -1.34422  |\n",
        "| 5    | 0.0     | -0.4       | -0.3    | -1.30141  |\n",
        "| 6    | 0.0     | -0.4       | -0.3    | -1.22665  |\n",
        "| 7    | 0.0     | -0.4       | -0.3    | -1.15903  |\n",
        "| 8    | 0.0     | -0.4       | -0.3    | -0.921992 |\n",
        "| 9    | 0.0     | -0.4       | -0.3    | -0.914346 |\n",
        "| 10   | 0.0     | -0.4       | 1.7     | -1.07114  |\n",
        "| 11   | 0.0     | -0.4       | 1.7     | -1.0169   |\n",
        "\u22ee\n",
        "| 2617 | NaN     | 0.0357143  | NaN     | -0.509231 |\n",
        "| 2618 | NaN     | 0.0357143  | NaN     | -0.413868 |\n",
        "| 2619 | NaN     | 0.0357143  | NaN     | -0.348849 |\n",
        "| 2620 | NaN     | -0.0357143 | NaN     | -0.574176 |\n",
        "| 2621 | NaN     | -0.0357143 | NaN     | -0.401082 |\n",
        "| 2622 | NaN     | -0.0357143 | NaN     | -0.33191  |\n",
        "| 2623 | NaN     | 0.0357143  | NaN     | -0.454453 |\n",
        "| 2624 | NaN     | 0.0357143  | NaN     | -0.420845 |\n",
        "| 2625 | NaN     | 0.0357143  | NaN     | -0.370673 |\n",
        "| 2626 | NaN     | 0.0357143  | NaN     | -0.603111 |\n",
        "| 2627 | NaN     | 0.0357143  | NaN     | -0.576052 |\n",
        "| 2628 | NaN     | 0.0357143  | NaN     | -0.52639  |"
       ]
      }
     ],
     "prompt_number": 31
    },
    {
     "cell_type": "code",
     "collapsed": true,
     "input": [
      "reload(\"funcs.jl\")\n",
      "(clusters, n_improvements) = update_all_clusters( clusters );"
     ],
     "language": "python",
     "metadata": {},
     "outputs": [
      {
       "output_type": "stream",
       "stream": "stdout",
       "text": [
        "1 "
       ]
      },
      {
       "output_type": "stream",
       "stream": "stdout",
       "text": [
        "1289 5256\n",
        "6x10 DataFrame"
       ]
      },
      {
       "output_type": "stream",
       "stream": "stdout",
       "text": [
        "\n",
        "| Row | row_col_ind | is_in | is_row_col | k  | score     | score_n    |\n",
        "|-----|-------------|-------|------------|----|-----------|------------|\n",
        "| 1   | 14          | false | 'r'        | 74 | -0.07524  | 0.00233133 |\n",
        "| 2   | 82          | true  | 'r'        | 35 | -0.284645 | 0.0452303  |\n",
        "| 3   | 19          | true  | 'r'        | 42 | 0.367273  | -0.0143353 |\n",
        "| 4   | 17          | true  | 'r'        | 42 | 0.246272  | -0.0118586 |\n",
        "| 5   | 248         | true  | 'r'        | 61 | -0.22086  | 0.00841681 |\n",
        "| 6   | 12          | true  | 'r'        | 74 | -0.146911 | -0.0177288 |\n",
        "\n",
        "| Row | score_m   | score_v | score_g | combined |\n",
        "|-----|-----------|---------|---------|----------|\n",
        "| 1   | -0.186752 | 0.4     | 1.7     | -5.88775 |\n",
        "| 2   | -0.113491 | 0.2     | -3.7    | -4.64328 |\n",
        "| 3   | -0.237025 | -0.2    | -2.7    | -6.26983 |\n",
        "| 4   | -0.237025 | -0.2    | -3.7    | -6.6647  |\n",
        "| 5   | -0.13307  | -1.0    | -3.7    | -4.91169 |\n",
        "| 6   | -0.186752 | -0.4    | -3.7    | -6.21899 |\n",
        "6x10 DataFrame\n",
        "| Row | row_col_ind | is_in | is_row_col | k  | score      | score_n     |\n",
        "|-----|-------------|-------|------------|----|------------|-------------|\n",
        "| 1   | 168         | false | 'r'        | 32 | -0.0972075 | 0.00635955  |\n",
        "| 2   | 310         | false | 'r'        | 17 | 0.0634462  | -0.00467164 |\n",
        "| 3   | 216         | false | 'r'        | 4  | -0.0762762 | -0.0211893  |\n",
        "| 4   | 457         | false | 'r'        | 4  | 0.100516   | -0.0211893  |\n",
        "| 5   | 194         | true  | 'r'        | 21 | 0.0227477  | -0.00546289 |\n",
        "| 6   | 194         | true  | 'r'        | 7  | 0.040829   | -0.00532884 |\n",
        "\n",
        "| Row | score_m    | score_v | score_g | combined   |\n",
        "|-----|------------|---------|---------|------------|\n",
        "| 1   | 0.0074383  | 0.4     | 2.7     | 0.0313573  |\n",
        "| 2   | -0.0129043 | 11.4    | 2.7     | 0.088934   |\n",
        "| 3   | 0.0        | -0.4    | 2.7     | -0.0229528 |\n",
        "| 4   | 0.0        | -0.4    | 1.7     | 0.44314    |\n",
        "| 5   | 0.0177991  | -11.4   | -5.7    | 0.239149   |\n",
        "| 6   | 0.0117538  | -11.8   | -5.7    | 0.0982179  |\n",
        "40 0.6653 -1.3990 -1.8001 -0.0090 74 r add 14 0.7363 0.7369 -0.0007 1 1 0\n"
       ]
      },
      {
       "output_type": "stream",
       "stream": "stderr",
       "text": [
        "WARNING: RESEEDING BICLUSTER 7 (81)\n",
        "WARNING: RESEEDING BICLUSTER 15 (81)\n"
       ]
      },
      {
       "output_type": "stream",
       "stream": "stdout",
       "text": [
        "IN HERE: MOT 1 1 50\n"
       ]
      },
      {
       "output_type": "stream",
       "stream": "stderr",
       "text": [
        "WARNING: RESEEDING BICLUSTER 49 (82)\n",
        "WARNING: RESEEDING BICLUSTER 70 (84)\n"
       ]
      },
      {
       "output_type": "stream",
       "stream": "stdout",
       "text": [
        "IN HERE: MOT 1 28 44\n"
       ]
      },
      {
       "output_type": "stream",
       "stream": "stdout",
       "text": [
        "IN HERE: MOT 1 35 21\n"
       ]
      },
      {
       "output_type": "stream",
       "stream": "stdout",
       "text": [
        "IN HERE: MOT 1 41 36\n"
       ]
      },
      {
       "output_type": "stream",
       "stream": "stdout",
       "text": [
        "IN HERE: MOT 1 42 23\n"
       ]
      },
      {
       "output_type": "stream",
       "stream": "stdout",
       "text": [
        "IN HERE: MOT 1 50 25\n"
       ]
      },
      {
       "output_type": "stream",
       "stream": "stdout",
       "text": [
        "IN HERE: MOT 1 56 30\n"
       ]
      },
      {
       "output_type": "stream",
       "stream": "stdout",
       "text": [
        "IN HERE: MOT 1 61 27\n"
       ]
      },
      {
       "output_type": "stream",
       "stream": "stdout",
       "text": [
        "IN HERE: MOT 1 65 36\n"
       ]
      },
      {
       "output_type": "stream",
       "stream": "stdout",
       "text": [
        "IN HERE: MOT 1 73 33\n"
       ]
      },
      {
       "output_type": "stream",
       "stream": "stdout",
       "text": [
        "IN HERE: MOT 1 74 24\n"
       ]
      }
     ],
     "prompt_number": 33
    },
    {
     "cell_type": "code",
     "collapsed": false,
     "input": [
      "startTime = time()\n",
      "stats_df = DataFrame()\n",
      "stats_df = print_cluster_stats(clusters)"
     ],
     "language": "python",
     "metadata": {},
     "outputs": [
      {
       "output_type": "stream",
       "stream": "stdout",
       "text": [
        "ROWS: 45"
       ]
      },
      {
       "output_type": "stream",
       "stream": "stdout",
       "text": [
        ".306667 +/- 22.701931\n",
        "COLS: 27.973333 +/- 1.7003447\n",
        "MEAN RESID: 0.66527504 +/- 0.07014833\n",
        "MEAN STRING DENS: -1.3990048 +/- 0.21269746\n",
        "MEAN MEME LOG10(P-VAL): -1.8000621 +/- 0.42172194\n",
        "CLUSTS PER ROW: 4.145122 +/- 1.140726\n",
        "CLUSTS PER COL: 36.189655 +/- 6.2476854\n"
       ]
      },
      {
       "html": [
        "<table class=\"data-frame\"><tr><th></th><th>iter</th><th>time</th><th>mem_used</th><th>r0</th><th>n0</th><th>m0</th><th>c0</th><th>v0</th><th>ROWS</th><th>COLS</th><th>RESID</th><th>STRING_DENS</th><th>MEME_PVAL</th><th>CLUSTS_PER_ROW</th><th>CLUSTS_PER_COL</th></tr><tr><th>1</th><td>14</td><td>0.0034340858459472657</td><td>0</td><td>1.0</td><td>-0.117</td><td>1.234</td><td>0.2394736842105263</td><td>0.139</td><td>45.306667</td><td>27.973333</td><td>0.66527504</td><td>-1.3990048</td><td>-1.8000621</td><td>4.145122</td><td>36.189655</td></tr></table>"
       ],
       "metadata": {},
       "output_type": "pyout",
       "prompt_number": 34,
       "text": [
        "1x15 DataFrame\n",
        "| Row | iter | time       | mem_used | r0  | n0     | m0    | c0       | v0    |\n",
        "|-----|------|------------|----------|-----|--------|-------|----------|-------|\n",
        "| 1   | 14   | 0.00343409 | 0        | 1.0 | -0.117 | 1.234 | 0.239474 | 0.139 |\n",
        "\n",
        "| Row | ROWS    | COLS    | RESID    | STRING_DENS | MEME_PVAL |\n",
        "|-----|---------|---------|----------|-------------|-----------|\n",
        "| 1   | 45.3067 | 27.9733 | 0.665275 | -1.399      | -1.80006  |\n",
        "\n",
        "| Row | CLUSTS_PER_ROW | CLUSTS_PER_COL |\n",
        "|-----|----------------|----------------|\n",
        "| 1   | 4.14512        | 36.1897        |"
       ]
      }
     ],
     "prompt_number": 34
    },
    {
     "cell_type": "code",
     "collapsed": false,
     "input": [
      "reload(\"./funcs.jl\")\n",
      "reload(\"./floc.jl\")\n",
      "run_junkey() ## Note this function can be run like this to restart from current iter"
     ],
     "language": "python",
     "metadata": {},
     "outputs": [
      {
       "output_type": "stream",
       "stream": "stdout",
       "text": [
        "1 "
       ]
      },
      {
       "output_type": "stream",
       "stream": "stdout",
       "text": [
        "1332 5256\n",
        "436 0.6648 -1.3905 -1.7435 -0.0067 42 r add 146 0.6418 0.6355 0.0063 5 1 4"
       ]
      },
      {
       "output_type": "stream",
       "stream": "stdout",
       "text": [
        "\n",
        "7 0.6649 -1.3915 -1.7442 -0.0009 50 r add 3 0.6991 0.6967 0.0024 20 2 14"
       ]
      },
      {
       "output_type": "stream",
       "stream": "stdout",
       "text": [
        "\n",
        "1309 0.6649 -1.3914 -1.7464 -0.0075 65 r add 437 0.7327 0.7297 0.0030 21 3 0\n",
        "445 0.6648 -1.3919 -1.7467 -0.0020 42 r add 149 0.6446 0.6355 0.0091 23 4 1\n",
        "85 0.6645 -1.3885 -1.7460 -0.0042 67 r add 29 0.6654 0.6691 -0.0037 34 5 10"
       ]
      },
      {
       "output_type": "stream",
       "stream": "stdout",
       "text": [
        "\n",
        "1705 0.6645 -1.3884 -1.7475 -0.0064 29 r add 569 0.7041 0.7079 -0.0038 35 6 0\n",
        "232 0.6648 -1.3881 -1.7491 -0.0022 28 r add 78 0.6470 0.6468 0.0002 68 7 32"
       ]
      },
      {
       "output_type": "stream",
       "stream": "stdout",
       "text": [
        "\n",
        "1760 0.6647 -1.3879 -1.7501 -0.0046 26 r add 587 0.6832 0.6941 -0.0109 69 8 0\n"
       ]
      },
      {
       "output_type": "stream",
       "stream": "stdout",
       "text": [
        "IN HERE: MOT 1 1 49\n"
       ]
      },
      {
       "output_type": "stream",
       "stream": "stdout",
       "text": [
        "IN HERE: MOT 1 8 22\n"
       ]
      },
      {
       "output_type": "stream",
       "stream": "stdout",
       "text": [
        "IN HERE: MOT 1 18 38\n"
       ]
      },
      {
       "output_type": "stream",
       "stream": "stdout",
       "text": [
        "IN HERE: MOT 1 19 51\n"
       ]
      },
      {
       "output_type": "stream",
       "stream": "stdout",
       "text": [
        "IN HERE: MOT 1 20 58\n"
       ]
      }
     ]
    },
    {
     "cell_type": "code",
     "collapsed": false,
     "input": [],
     "language": "python",
     "metadata": {},
     "outputs": []
    }
   ],
   "metadata": {}
  }
 ]
}